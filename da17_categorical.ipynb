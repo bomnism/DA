{
  "nbformat": 4,
  "nbformat_minor": 0,
  "metadata": {
    "colab": {
      "name": "da17_categorical.ipynb",
      "provenance": [],
      "collapsed_sections": [],
      "authorship_tag": "ABX9TyPbFSYbzYiC3H/20yQnyajD",
      "include_colab_link": true
    },
    "kernelspec": {
      "name": "python3",
      "display_name": "Python 3"
    },
    "language_info": {
      "name": "python"
    }
  },
  "cells": [
    {
      "cell_type": "markdown",
      "metadata": {
        "id": "view-in-github",
        "colab_type": "text"
      },
      "source": [
        "<a href=\"https://colab.research.google.com/github/bomnism/DA/blob/main/da17_categorical.ipynb\" target=\"_parent\"><img src=\"https://colab.research.google.com/assets/colab-badge.svg\" alt=\"Open In Colab\"/></a>"
      ]
    },
    {
      "cell_type": "markdown",
      "metadata": {
        "id": "sDLjobO1Z416"
      },
      "source": [
        "# Categorical Data"
      ]
    },
    {
      "cell_type": "code",
      "metadata": {
        "id": "bpoRuV8WZ9f2"
      },
      "source": [
        "import numpy as np\n",
        "import pandas as pd"
      ],
      "execution_count": 10,
      "outputs": []
    },
    {
      "cell_type": "code",
      "metadata": {
        "id": "Q7jStOvdZWhA"
      },
      "source": [
        "movie_rating = pd.DataFrame({'user_id' : np.arange(1, 1_000_001),\n",
        "                                                        'gender' : ['M'] * 500_000 + ['F'] * 500_000, \n",
        "                                                        'rating' : np.random.randint(1, 6, size = 1_000_000)})"
      ],
      "execution_count": 11,
      "outputs": []
    },
    {
      "cell_type": "code",
      "metadata": {
        "colab": {
          "base_uri": "https://localhost:8080/",
          "height": 419
        },
        "id": "KEz-H2KkaPlx",
        "outputId": "d6cb5a42-7f98-4707-b96e-db86b19f2a42"
      },
      "source": [
        "movie_rating"
      ],
      "execution_count": 12,
      "outputs": [
        {
          "output_type": "execute_result",
          "data": {
            "text/html": [
              "<div>\n",
              "<style scoped>\n",
              "    .dataframe tbody tr th:only-of-type {\n",
              "        vertical-align: middle;\n",
              "    }\n",
              "\n",
              "    .dataframe tbody tr th {\n",
              "        vertical-align: top;\n",
              "    }\n",
              "\n",
              "    .dataframe thead th {\n",
              "        text-align: right;\n",
              "    }\n",
              "</style>\n",
              "<table border=\"1\" class=\"dataframe\">\n",
              "  <thead>\n",
              "    <tr style=\"text-align: right;\">\n",
              "      <th></th>\n",
              "      <th>user_id</th>\n",
              "      <th>gender</th>\n",
              "      <th>rating</th>\n",
              "    </tr>\n",
              "  </thead>\n",
              "  <tbody>\n",
              "    <tr>\n",
              "      <th>0</th>\n",
              "      <td>1</td>\n",
              "      <td>M</td>\n",
              "      <td>5</td>\n",
              "    </tr>\n",
              "    <tr>\n",
              "      <th>1</th>\n",
              "      <td>2</td>\n",
              "      <td>M</td>\n",
              "      <td>5</td>\n",
              "    </tr>\n",
              "    <tr>\n",
              "      <th>2</th>\n",
              "      <td>3</td>\n",
              "      <td>M</td>\n",
              "      <td>3</td>\n",
              "    </tr>\n",
              "    <tr>\n",
              "      <th>3</th>\n",
              "      <td>4</td>\n",
              "      <td>M</td>\n",
              "      <td>1</td>\n",
              "    </tr>\n",
              "    <tr>\n",
              "      <th>4</th>\n",
              "      <td>5</td>\n",
              "      <td>M</td>\n",
              "      <td>1</td>\n",
              "    </tr>\n",
              "    <tr>\n",
              "      <th>...</th>\n",
              "      <td>...</td>\n",
              "      <td>...</td>\n",
              "      <td>...</td>\n",
              "    </tr>\n",
              "    <tr>\n",
              "      <th>999995</th>\n",
              "      <td>999996</td>\n",
              "      <td>F</td>\n",
              "      <td>1</td>\n",
              "    </tr>\n",
              "    <tr>\n",
              "      <th>999996</th>\n",
              "      <td>999997</td>\n",
              "      <td>F</td>\n",
              "      <td>3</td>\n",
              "    </tr>\n",
              "    <tr>\n",
              "      <th>999997</th>\n",
              "      <td>999998</td>\n",
              "      <td>F</td>\n",
              "      <td>1</td>\n",
              "    </tr>\n",
              "    <tr>\n",
              "      <th>999998</th>\n",
              "      <td>999999</td>\n",
              "      <td>F</td>\n",
              "      <td>2</td>\n",
              "    </tr>\n",
              "    <tr>\n",
              "      <th>999999</th>\n",
              "      <td>1000000</td>\n",
              "      <td>F</td>\n",
              "      <td>1</td>\n",
              "    </tr>\n",
              "  </tbody>\n",
              "</table>\n",
              "<p>1000000 rows × 3 columns</p>\n",
              "</div>"
            ],
            "text/plain": [
              "        user_id gender  rating\n",
              "0             1      M       5\n",
              "1             2      M       5\n",
              "2             3      M       3\n",
              "3             4      M       1\n",
              "4             5      M       1\n",
              "...         ...    ...     ...\n",
              "999995   999996      F       1\n",
              "999996   999997      F       3\n",
              "999997   999998      F       1\n",
              "999998   999999      F       2\n",
              "999999  1000000      F       1\n",
              "\n",
              "[1000000 rows x 3 columns]"
            ]
          },
          "metadata": {},
          "execution_count": 12
        }
      ]
    },
    {
      "cell_type": "code",
      "metadata": {
        "colab": {
          "base_uri": "https://localhost:8080/"
        },
        "id": "USaL_Fhtau-Q",
        "outputId": "386af48c-8a0b-4562-832d-ecc0c84c4e50"
      },
      "source": [
        "movie_rating.info()\n",
        "#> gender 컬럼의 타입은 object(문자열)\n",
        "#> rating 컬럼의 타입은 int64(정수)\n",
        "#> memory usage : 22.9+ MB"
      ],
      "execution_count": 13,
      "outputs": [
        {
          "output_type": "stream",
          "text": [
            "<class 'pandas.core.frame.DataFrame'>\n",
            "RangeIndex: 1000000 entries, 0 to 999999\n",
            "Data columns (total 3 columns):\n",
            " #   Column   Non-Null Count    Dtype \n",
            "---  ------   --------------    ----- \n",
            " 0   user_id  1000000 non-null  int64 \n",
            " 1   gender   1000000 non-null  object\n",
            " 2   rating   1000000 non-null  int64 \n",
            "dtypes: int64(2), object(1)\n",
            "memory usage: 22.9+ MB\n"
          ],
          "name": "stdout"
        }
      ]
    },
    {
      "cell_type": "code",
      "metadata": {
        "colab": {
          "base_uri": "https://localhost:8080/"
        },
        "id": "V-xtEXh2a6pH",
        "outputId": "ece7e424-fd84-4294-aa7a-6bd4e918fbbe"
      },
      "source": [
        "movie_rating['gender'].value_counts()"
      ],
      "execution_count": 14,
      "outputs": [
        {
          "output_type": "execute_result",
          "data": {
            "text/plain": [
              "M    500000\n",
              "F    500000\n",
              "Name: gender, dtype: int64"
            ]
          },
          "metadata": {},
          "execution_count": 14
        }
      ]
    },
    {
      "cell_type": "code",
      "metadata": {
        "colab": {
          "base_uri": "https://localhost:8080/"
        },
        "id": "RTKHH__MbaTt",
        "outputId": "46a418ec-3ebf-4476-e577-c1c97cc7a213"
      },
      "source": [
        "movie_rating['rating'].value_counts()"
      ],
      "execution_count": 15,
      "outputs": [
        {
          "output_type": "execute_result",
          "data": {
            "text/plain": [
              "4    200559\n",
              "2    200544\n",
              "3    200109\n",
              "1    199622\n",
              "5    199166\n",
              "Name: rating, dtype: int64"
            ]
          },
          "metadata": {},
          "execution_count": 15
        }
      ]
    },
    {
      "cell_type": "code",
      "metadata": {
        "id": "bPXKOkj7beVj"
      },
      "source": [
        "# gender 컬럼의 타입 object에서 category 타입으로 변환 \n",
        "movie_rating['gender'] = movie_rating['gender'].astype('category')"
      ],
      "execution_count": 16,
      "outputs": []
    },
    {
      "cell_type": "code",
      "metadata": {
        "colab": {
          "base_uri": "https://localhost:8080/"
        },
        "id": "4vOTxZMac2X2",
        "outputId": "c720cdb5-154f-4fb4-8d98-88cb04d819e1"
      },
      "source": [
        "movie_rating.info()\n",
        "# memory usage: 16.2 MB"
      ],
      "execution_count": 17,
      "outputs": [
        {
          "output_type": "stream",
          "text": [
            "<class 'pandas.core.frame.DataFrame'>\n",
            "RangeIndex: 1000000 entries, 0 to 999999\n",
            "Data columns (total 3 columns):\n",
            " #   Column   Non-Null Count    Dtype   \n",
            "---  ------   --------------    -----   \n",
            " 0   user_id  1000000 non-null  int64   \n",
            " 1   gender   1000000 non-null  category\n",
            " 2   rating   1000000 non-null  int64   \n",
            "dtypes: category(1), int64(2)\n",
            "memory usage: 16.2 MB\n"
          ],
          "name": "stdout"
        }
      ]
    },
    {
      "cell_type": "code",
      "metadata": {
        "id": "W6WNNQERc4ja"
      },
      "source": [
        "#  rating 컬럼의 타입을 int64에서 category 타입으로 변환 \n",
        "movie_rating['rating'] = movie_rating['rating'].astype('category')"
      ],
      "execution_count": 18,
      "outputs": []
    },
    {
      "cell_type": "code",
      "metadata": {
        "colab": {
          "base_uri": "https://localhost:8080/"
        },
        "id": "pj8PpCkXdD2m",
        "outputId": "2745233c-808d-4774-99b8-02aa8bb77fae"
      },
      "source": [
        "movie_rating.info()\n",
        "# memory usage: 9.5 MB"
      ],
      "execution_count": 19,
      "outputs": [
        {
          "output_type": "stream",
          "text": [
            "<class 'pandas.core.frame.DataFrame'>\n",
            "RangeIndex: 1000000 entries, 0 to 999999\n",
            "Data columns (total 3 columns):\n",
            " #   Column   Non-Null Count    Dtype   \n",
            "---  ------   --------------    -----   \n",
            " 0   user_id  1000000 non-null  int64   \n",
            " 1   gender   1000000 non-null  category\n",
            " 2   rating   1000000 non-null  category\n",
            "dtypes: category(2), int64(1)\n",
            "memory usage: 9.5 MB\n"
          ],
          "name": "stdout"
        }
      ]
    },
    {
      "cell_type": "markdown",
      "metadata": {
        "id": "QgoaxQxpecWp"
      },
      "source": [
        "# 연속형 변수에서 파생된 카테고리 변수 생성 "
      ]
    },
    {
      "cell_type": "code",
      "metadata": {
        "id": "62DjH2W1ee9B"
      },
      "source": [
        "df = pd.DataFrame({'id': np.arange(1, 11), \n",
        "                                    'age': np.random.randint(10, 90, size=10)})"
      ],
      "execution_count": 20,
      "outputs": []
    },
    {
      "cell_type": "code",
      "metadata": {
        "colab": {
          "base_uri": "https://localhost:8080/",
          "height": 359
        },
        "id": "UBWKwG5ge0S8",
        "outputId": "5d490728-f30c-490f-c845-9bc3b4c26e06"
      },
      "source": [
        "df"
      ],
      "execution_count": 21,
      "outputs": [
        {
          "output_type": "execute_result",
          "data": {
            "text/html": [
              "<div>\n",
              "<style scoped>\n",
              "    .dataframe tbody tr th:only-of-type {\n",
              "        vertical-align: middle;\n",
              "    }\n",
              "\n",
              "    .dataframe tbody tr th {\n",
              "        vertical-align: top;\n",
              "    }\n",
              "\n",
              "    .dataframe thead th {\n",
              "        text-align: right;\n",
              "    }\n",
              "</style>\n",
              "<table border=\"1\" class=\"dataframe\">\n",
              "  <thead>\n",
              "    <tr style=\"text-align: right;\">\n",
              "      <th></th>\n",
              "      <th>id</th>\n",
              "      <th>age</th>\n",
              "    </tr>\n",
              "  </thead>\n",
              "  <tbody>\n",
              "    <tr>\n",
              "      <th>0</th>\n",
              "      <td>1</td>\n",
              "      <td>71</td>\n",
              "    </tr>\n",
              "    <tr>\n",
              "      <th>1</th>\n",
              "      <td>2</td>\n",
              "      <td>61</td>\n",
              "    </tr>\n",
              "    <tr>\n",
              "      <th>2</th>\n",
              "      <td>3</td>\n",
              "      <td>49</td>\n",
              "    </tr>\n",
              "    <tr>\n",
              "      <th>3</th>\n",
              "      <td>4</td>\n",
              "      <td>58</td>\n",
              "    </tr>\n",
              "    <tr>\n",
              "      <th>4</th>\n",
              "      <td>5</td>\n",
              "      <td>13</td>\n",
              "    </tr>\n",
              "    <tr>\n",
              "      <th>5</th>\n",
              "      <td>6</td>\n",
              "      <td>16</td>\n",
              "    </tr>\n",
              "    <tr>\n",
              "      <th>6</th>\n",
              "      <td>7</td>\n",
              "      <td>16</td>\n",
              "    </tr>\n",
              "    <tr>\n",
              "      <th>7</th>\n",
              "      <td>8</td>\n",
              "      <td>82</td>\n",
              "    </tr>\n",
              "    <tr>\n",
              "      <th>8</th>\n",
              "      <td>9</td>\n",
              "      <td>51</td>\n",
              "    </tr>\n",
              "    <tr>\n",
              "      <th>9</th>\n",
              "      <td>10</td>\n",
              "      <td>74</td>\n",
              "    </tr>\n",
              "  </tbody>\n",
              "</table>\n",
              "</div>"
            ],
            "text/plain": [
              "   id  age\n",
              "0   1   71\n",
              "1   2   61\n",
              "2   3   49\n",
              "3   4   58\n",
              "4   5   13\n",
              "5   6   16\n",
              "6   7   16\n",
              "7   8   82\n",
              "8   9   51\n",
              "9  10   74"
            ]
          },
          "metadata": {},
          "execution_count": 21
        }
      ]
    },
    {
      "cell_type": "code",
      "metadata": {
        "id": "ANEn4zple02h"
      },
      "source": [
        "df['ages'] = pd.cut(x=df['age'], bins=np.arange(10, 100, 10), right=False)\n",
        "# bins: 구간의 경계값들로 이루어진 배열\n",
        "# right: 구간의 오른쪽 경계를 포함할 지 말 지를 결정. 기본값은 True."
      ],
      "execution_count": 22,
      "outputs": []
    },
    {
      "cell_type": "code",
      "metadata": {
        "colab": {
          "base_uri": "https://localhost:8080/"
        },
        "id": "pmBM31aT3D8n",
        "outputId": "3c98b2b2-73b5-44e3-a874-3e5354c8567e"
      },
      "source": [
        "\n",
        "df.groupby('ages').size()  # df['ages'].value_counts()"
      ],
      "execution_count": 23,
      "outputs": [
        {
          "output_type": "execute_result",
          "data": {
            "text/plain": [
              "ages\n",
              "[10, 20)    3\n",
              "[20, 30)    0\n",
              "[30, 40)    0\n",
              "[40, 50)    1\n",
              "[50, 60)    2\n",
              "[60, 70)    1\n",
              "[70, 80)    2\n",
              "[80, 90)    1\n",
              "dtype: int64"
            ]
          },
          "metadata": {},
          "execution_count": 23
        }
      ]
    },
    {
      "cell_type": "markdown",
      "metadata": {
        "id": "i_NtAz5q3ajY"
      },
      "source": [
        "\n",
        "pd.cut() 함수에서 bins 파라미터의 구간 경계값들은 일정한 간격일 필요는 없다."
      ]
    },
    {
      "cell_type": "code",
      "metadata": {
        "colab": {
          "base_uri": "https://localhost:8080/",
          "height": 359
        },
        "id": "ARyQo7kI3YQh",
        "outputId": "3e033607-2b94-40f0-940c-4c7db7391a1b"
      },
      "source": [
        "df['age_level'] = pd.cut(x=df['age'],\n",
        "                         bins=[0, 20, 60, 100],\n",
        "                         labels=['young', 'middle', 'old'])\n",
        "#> bins: 구간의 경계값들로 이루어진 배열(리스트)\n",
        "#> labels: 구간의 레이블(이름)\n",
        "df"
      ],
      "execution_count": 24,
      "outputs": [
        {
          "output_type": "execute_result",
          "data": {
            "text/html": [
              "<div>\n",
              "<style scoped>\n",
              "    .dataframe tbody tr th:only-of-type {\n",
              "        vertical-align: middle;\n",
              "    }\n",
              "\n",
              "    .dataframe tbody tr th {\n",
              "        vertical-align: top;\n",
              "    }\n",
              "\n",
              "    .dataframe thead th {\n",
              "        text-align: right;\n",
              "    }\n",
              "</style>\n",
              "<table border=\"1\" class=\"dataframe\">\n",
              "  <thead>\n",
              "    <tr style=\"text-align: right;\">\n",
              "      <th></th>\n",
              "      <th>id</th>\n",
              "      <th>age</th>\n",
              "      <th>ages</th>\n",
              "      <th>age_level</th>\n",
              "    </tr>\n",
              "  </thead>\n",
              "  <tbody>\n",
              "    <tr>\n",
              "      <th>0</th>\n",
              "      <td>1</td>\n",
              "      <td>71</td>\n",
              "      <td>[70, 80)</td>\n",
              "      <td>old</td>\n",
              "    </tr>\n",
              "    <tr>\n",
              "      <th>1</th>\n",
              "      <td>2</td>\n",
              "      <td>61</td>\n",
              "      <td>[60, 70)</td>\n",
              "      <td>old</td>\n",
              "    </tr>\n",
              "    <tr>\n",
              "      <th>2</th>\n",
              "      <td>3</td>\n",
              "      <td>49</td>\n",
              "      <td>[40, 50)</td>\n",
              "      <td>middle</td>\n",
              "    </tr>\n",
              "    <tr>\n",
              "      <th>3</th>\n",
              "      <td>4</td>\n",
              "      <td>58</td>\n",
              "      <td>[50, 60)</td>\n",
              "      <td>middle</td>\n",
              "    </tr>\n",
              "    <tr>\n",
              "      <th>4</th>\n",
              "      <td>5</td>\n",
              "      <td>13</td>\n",
              "      <td>[10, 20)</td>\n",
              "      <td>young</td>\n",
              "    </tr>\n",
              "    <tr>\n",
              "      <th>5</th>\n",
              "      <td>6</td>\n",
              "      <td>16</td>\n",
              "      <td>[10, 20)</td>\n",
              "      <td>young</td>\n",
              "    </tr>\n",
              "    <tr>\n",
              "      <th>6</th>\n",
              "      <td>7</td>\n",
              "      <td>16</td>\n",
              "      <td>[10, 20)</td>\n",
              "      <td>young</td>\n",
              "    </tr>\n",
              "    <tr>\n",
              "      <th>7</th>\n",
              "      <td>8</td>\n",
              "      <td>82</td>\n",
              "      <td>[80, 90)</td>\n",
              "      <td>old</td>\n",
              "    </tr>\n",
              "    <tr>\n",
              "      <th>8</th>\n",
              "      <td>9</td>\n",
              "      <td>51</td>\n",
              "      <td>[50, 60)</td>\n",
              "      <td>middle</td>\n",
              "    </tr>\n",
              "    <tr>\n",
              "      <th>9</th>\n",
              "      <td>10</td>\n",
              "      <td>74</td>\n",
              "      <td>[70, 80)</td>\n",
              "      <td>old</td>\n",
              "    </tr>\n",
              "  </tbody>\n",
              "</table>\n",
              "</div>"
            ],
            "text/plain": [
              "   id  age      ages age_level\n",
              "0   1   71  [70, 80)       old\n",
              "1   2   61  [60, 70)       old\n",
              "2   3   49  [40, 50)    middle\n",
              "3   4   58  [50, 60)    middle\n",
              "4   5   13  [10, 20)     young\n",
              "5   6   16  [10, 20)     young\n",
              "6   7   16  [10, 20)     young\n",
              "7   8   82  [80, 90)       old\n",
              "8   9   51  [50, 60)    middle\n",
              "9  10   74  [70, 80)       old"
            ]
          },
          "metadata": {},
          "execution_count": 24
        }
      ]
    },
    {
      "cell_type": "code",
      "metadata": {
        "colab": {
          "base_uri": "https://localhost:8080/"
        },
        "id": "scq2sgrr3eFo",
        "outputId": "2b1fb4f5-0a9a-4dd9-83b3-bf243700d181"
      },
      "source": [
        "df.info()"
      ],
      "execution_count": 25,
      "outputs": [
        {
          "output_type": "stream",
          "text": [
            "<class 'pandas.core.frame.DataFrame'>\n",
            "RangeIndex: 10 entries, 0 to 9\n",
            "Data columns (total 4 columns):\n",
            " #   Column     Non-Null Count  Dtype   \n",
            "---  ------     --------------  -----   \n",
            " 0   id         10 non-null     int64   \n",
            " 1   age        10 non-null     int64   \n",
            " 2   ages       10 non-null     category\n",
            " 3   age_level  10 non-null     category\n",
            "dtypes: category(2), int64(2)\n",
            "memory usage: 860.0 bytes\n"
          ],
          "name": "stdout"
        }
      ]
    },
    {
      "cell_type": "code",
      "metadata": {
        "colab": {
          "base_uri": "https://localhost:8080/"
        },
        "id": "dRrbsPbR4TPC",
        "outputId": "0a7b22c2-082c-4b3b-aa98-41ef59a47a0b"
      },
      "source": [
        "df.groupby('age_level').size()"
      ],
      "execution_count": 27,
      "outputs": [
        {
          "output_type": "execute_result",
          "data": {
            "text/plain": [
              "age_level\n",
              "young     3\n",
              "middle    3\n",
              "old       4\n",
              "dtype: int64"
            ]
          },
          "metadata": {},
          "execution_count": 27
        }
      ]
    },
    {
      "cell_type": "code",
      "metadata": {
        "colab": {
          "base_uri": "https://localhost:8080/"
        },
        "id": "WSZnPL1m4Xlp",
        "outputId": "39bcf827-40f3-4773-bd1c-52728a83c198"
      },
      "source": [
        "df.groupby('age_level')['age'].mean()"
      ],
      "execution_count": 28,
      "outputs": [
        {
          "output_type": "execute_result",
          "data": {
            "text/plain": [
              "age_level\n",
              "young     15.000000\n",
              "middle    52.666667\n",
              "old       72.000000\n",
              "Name: age, dtype: float64"
            ]
          },
          "metadata": {},
          "execution_count": 28
        }
      ]
    }
  ]
}