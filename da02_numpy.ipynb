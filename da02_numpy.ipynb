{
  "nbformat": 4,
  "nbformat_minor": 0,
  "metadata": {
    "colab": {
      "name": "da02_numpy.ipynb",
      "provenance": [],
      "collapsed_sections": [],
      "authorship_tag": "ABX9TyMSJL5E32ZmmuZWrVRk5NwZ",
      "include_colab_link": true
    },
    "kernelspec": {
      "name": "python3",
      "display_name": "Python 3"
    },
    "language_info": {
      "name": "python"
    }
  },
  "cells": [
    {
      "cell_type": "markdown",
      "metadata": {
        "id": "view-in-github",
        "colab_type": "text"
      },
      "source": [
        "<a href=\"https://colab.research.google.com/github/bomnism/DA/blob/main/da02_numpy.ipynb\" target=\"_parent\"><img src=\"https://colab.research.google.com/assets/colab-badge.svg\" alt=\"Open In Colab\"/></a>"
      ]
    },
    {
      "cell_type": "code",
      "metadata": {
        "id": "e4MLjUQaDnTt"
      },
      "source": [
        "import numpy as np"
      ],
      "execution_count": null,
      "outputs": []
    },
    {
      "cell_type": "markdown",
      "metadata": {
        "id": "2kWKs6qhD-4k"
      },
      "source": [
        "# Array Indexing "
      ]
    },
    {
      "cell_type": "code",
      "metadata": {
        "colab": {
          "base_uri": "https://localhost:8080/"
        },
        "id": "jSNjaWfsDzGz",
        "outputId": "a3e6c27d-ae35-44d9-8b5e-d1eee9ab6290"
      },
      "source": [
        "arr = np.arange(10)\n",
        "print(arr)"
      ],
      "execution_count": null,
      "outputs": [
        {
          "output_type": "stream",
          "text": [
            "[0 1 2 3 4 5 6 7 8 9]\n"
          ],
          "name": "stdout"
        }
      ]
    },
    {
      "cell_type": "code",
      "metadata": {
        "colab": {
          "base_uri": "https://localhost:8080/"
        },
        "id": "xzyzjav2EQmG",
        "outputId": "77f1861a-26c4-498a-9354-b3d23cb9563f"
      },
      "source": [
        "# indexing: 인덱스를 사용해서 배열의 원소 참조\n",
        "print(arr[0])   # 시작 인덱스는 0\n",
        "print(arr[9])   # 배열의 마지막 인덱스는 원소개수 -1\n",
        "print(arr[-1])"
      ],
      "execution_count": null,
      "outputs": [
        {
          "output_type": "stream",
          "text": [
            "0\n",
            "9\n",
            "9\n"
          ],
          "name": "stdout"
        }
      ]
    },
    {
      "cell_type": "code",
      "metadata": {
        "colab": {
          "base_uri": "https://localhost:8080/"
        },
        "id": "GobtFN1rEuLI",
        "outputId": "025ada83-314f-4cfe-885c-ae4bd7a7000f"
      },
      "source": [
        "# slicing: [start, end) 범위의 원소들로 이루어진 부분집합(배열)\n",
        "print(arr[0:5])     # 시작 인덱스 0은 생략 가능\n",
        "print(arr[5:])       # 끝 인덱스가 생략되면 배열의 끝까지 slicing\n",
        "print(arr[-3:])\n",
        "print(arr[5:])"
      ],
      "execution_count": null,
      "outputs": [
        {
          "output_type": "stream",
          "text": [
            "[0 1 2 3 4]\n",
            "[5 6 7 8 9]\n",
            "[7 8 9]\n",
            "[5 6 7 8 9]\n"
          ],
          "name": "stdout"
        }
      ]
    },
    {
      "cell_type": "markdown",
      "metadata": {
        "id": "zFuHUyUSFxhU"
      },
      "source": [
        "## fancy indexing\n",
        "\n",
        "* 배열과 비슷한 객체(ndarray, list, tuple, ...)를 사용해서 indexing하는 방법\n",
        "* fancy indexing의 결과는 ndarray!"
      ]
    },
    {
      "cell_type": "code",
      "metadata": {
        "colab": {
          "base_uri": "https://localhost:8080/"
        },
        "id": "IvpMdrw8Fv8-",
        "outputId": "7e77b8be-bf97-46ba-d374-1c7b178661c4"
      },
      "source": [
        "np.random.seed(1)\n",
        "arr = np.random.randint(100, size=10)\n",
        "print(arr)"
      ],
      "execution_count": null,
      "outputs": [
        {
          "output_type": "stream",
          "text": [
            "[37 12 72  9 75  5 79 64 16  1]\n"
          ],
          "name": "stdout"
        }
      ]
    },
    {
      "cell_type": "code",
      "metadata": {
        "colab": {
          "base_uri": "https://localhost:8080/"
        },
        "id": "2QnQ122HF2F4",
        "outputId": "60fe9c8b-87ed-40d3-e3ca-1a218529a753"
      },
      "source": [
        "print(arr[[1, 3, 5]])"
      ],
      "execution_count": null,
      "outputs": [
        {
          "output_type": "stream",
          "text": [
            "[12  9  5]\n"
          ],
          "name": "stdout"
        }
      ]
    },
    {
      "cell_type": "code",
      "metadata": {
        "colab": {
          "base_uri": "https://localhost:8080/"
        },
        "id": "xQ_qRhwHGj5E",
        "outputId": "838585c8-84cf-4167-b14c-306cf992271f"
      },
      "source": [
        "print(arr[1])        # indexing: 원소 하나를 참조 \n",
        "print(arr[[1]])     # fancy indexing: 원소 하나를 갖는 ndarray"
      ],
      "execution_count": null,
      "outputs": [
        {
          "output_type": "stream",
          "text": [
            "12\n",
            "[12]\n"
          ],
          "name": "stdout"
        }
      ]
    },
    {
      "cell_type": "markdown",
      "metadata": {
        "id": "kT5X9gmaHR29"
      },
      "source": [
        "## boolean indexing\n",
        "\n",
        "* 논릿값(True, False)들의 배열(리스트, 튜플)을 사용한 fancy indexing\n",
        "* 조건을 만족하는 원소들로 이루어진 부분집합 ndarray를 생성 \n"
      ]
    },
    {
      "cell_type": "code",
      "metadata": {
        "colab": {
          "base_uri": "https://localhost:8080/"
        },
        "id": "AH0Yw_gZG4WY",
        "outputId": "af0b126c-c2a8-4428-a4cd-7df3ad7db633"
      },
      "source": [
        "bools = np.array([True, False] * 5)\n",
        "print(bools)\n",
        "print(arr)\n",
        "print(arr[bools])"
      ],
      "execution_count": null,
      "outputs": [
        {
          "output_type": "stream",
          "text": [
            "[ True False  True False  True False  True False  True False]\n",
            "[37 12 72  9 75  5 79 64 16  1]\n",
            "[37 72 75 79 16]\n"
          ],
          "name": "stdout"
        }
      ]
    },
    {
      "cell_type": "code",
      "metadata": {
        "colab": {
          "base_uri": "https://localhost:8080/"
        },
        "id": "j9Xy7cyuIh8h",
        "outputId": "3e4e6928-02ee-4edc-d473-fe617bc4519a"
      },
      "source": [
        "# arr의 원소들 중 짝수들로만 이루어진 ndarray\n",
        "print(arr)\n",
        "print(arr % 2 == 0)   # element-wise 연산 \n",
        "print(arr[arr % 2 == 0])"
      ],
      "execution_count": null,
      "outputs": [
        {
          "output_type": "stream",
          "text": [
            "[37 12 72  9 75  5 79 64 16  1]\n",
            "[False  True  True False False False False  True  True False]\n",
            "[12 72 64 16]\n"
          ],
          "name": "stdout"
        }
      ]
    },
    {
      "cell_type": "code",
      "metadata": {
        "colab": {
          "base_uri": "https://localhost:8080/"
        },
        "id": "5BovMh2iI2DO",
        "outputId": "41f8a448-a12d-4c9c-f486-ca4b6be1e0f2"
      },
      "source": [
        "# arr 원소들 중 홀수들로만 이루어진 ndarray\n",
        "arr[arr % 2 == 1]\n"
      ],
      "execution_count": null,
      "outputs": [
        {
          "output_type": "execute_result",
          "data": {
            "text/plain": [
              "array([37,  9, 75,  5, 79,  1])"
            ]
          },
          "metadata": {
            "tags": []
          },
          "execution_count": 32
        }
      ]
    },
    {
      "cell_type": "markdown",
      "metadata": {
        "id": "HL1TSFSxKpUt"
      },
      "source": [
        "# 통계 함수 / 메서드\n",
        "\n",
        "* 함수: `np.function_name(ndarry)`\n",
        "* 매서드: `np.ndarray.method_name()`"
      ]
    },
    {
      "cell_type": "code",
      "metadata": {
        "colab": {
          "base_uri": "https://localhost:8080/"
        },
        "id": "vPoB7bpdJry6",
        "outputId": "723d7eb7-dc0e-4dd8-f48f-d34dadc5d969"
      },
      "source": [
        "print(arr)\n",
        "print(np.sum(arr))    # 함수\n",
        "print(arr.sum())        # 메서드"
      ],
      "execution_count": null,
      "outputs": [
        {
          "output_type": "stream",
          "text": [
            "[37 12 72  9 75  5 79 64 16  1]\n",
            "370\n",
            "370\n"
          ],
          "name": "stdout"
        }
      ]
    },
    {
      "cell_type": "code",
      "metadata": {
        "colab": {
          "base_uri": "https://localhost:8080/"
        },
        "id": "keP041khLLub",
        "outputId": "53ac79a9-1d91-47be-fef1-5da483d09f58"
      },
      "source": [
        "#numpy.org\n",
        "print('평균:', np.mean(arr), arr.mean())\n",
        "print('분산:', np.var(arr), arr.var())    # variance\n",
        "print('표준편차:', np.std(arr), arr.std()) # standard deviation\n",
        "print('최댓값:', np.max(arr), arr.max())\n",
        "print('최솟값:', np.min(arr), arr.min())\n",
        "print('중앙값:', np.median(arr))        # 메서드는 제공되지 않음!  "
      ],
      "execution_count": null,
      "outputs": [
        {
          "output_type": "stream",
          "text": [
            "평균: 37.0 37.0\n",
            "분산: 933.2 933.2\n",
            "표준편차: 30.548322376196047 30.548322376196047\n",
            "최댓값: 79 79\n",
            "최솟값: 1 1\n",
            "중앙값: 26.5\n"
          ],
          "name": "stdout"
        }
      ]
    },
    {
      "cell_type": "code",
      "metadata": {
        "colab": {
          "base_uri": "https://localhost:8080/"
        },
        "id": "ZNYoQYydRtVy",
        "outputId": "64d02512-a2db-4e9e-89b6-674dc42bf3a2"
      },
      "source": [
        "# np.max()와 np.maximum() 차이점 \n",
        "# np.max(array) : array의 최댓값을 리턴\n",
        "# np.maximum(a1, a2): 배열(과 비슷한 객체) a1, a2의 같은 인덱스에 있는 원소들끼리 비교, 최댓값들로 이루어진 배열\n",
        "\n",
        "np.random.seed(42)\n",
        "arr1 = np.random.randint(100, size=10)\n",
        "arr2 = np.random.randint(100, size=10)\n",
        "print(arr1)\n",
        "print(arr2)\n",
        "\n",
        "maxima = np.maximum(arr1, arr2)\n",
        "print(maxima)"
      ],
      "execution_count": null,
      "outputs": [
        {
          "output_type": "stream",
          "text": [
            "[51 92 14 71 60 20 82 86 74 74]\n",
            "[87 99 23  2 21 52  1 87 29 37]\n",
            "[87 99 23 71 60 52 82 87 74 74]\n"
          ],
          "name": "stdout"
        }
      ]
    },
    {
      "cell_type": "code",
      "metadata": {
        "colab": {
          "base_uri": "https://localhost:8080/"
        },
        "id": "4C71YuLjSRTI",
        "outputId": "8f600a3b-eb98-4f31-bca0-f7ee34d27cd3"
      },
      "source": [
        "# np.argmax(array), np.ndarray.argmax() : 배열의 최댓값의 인덱스를 리턴\n",
        "# np.armin(array), np.ndarray.argmin() : 배열의 최솟값의 인덱스를 리턴\n",
        "print(arr)\n",
        "print(np.argmax(arr))\n",
        "print(np.argmin(arr))"
      ],
      "execution_count": null,
      "outputs": [
        {
          "output_type": "stream",
          "text": [
            "[37 12 72  9 75  5 79 64 16  1]\n",
            "6\n",
            "9\n"
          ],
          "name": "stdout"
        }
      ]
    },
    {
      "cell_type": "markdown",
      "metadata": {
        "id": "kHO2_WxHVEeS"
      },
      "source": [
        "0 이상 100 미만의 정수 난수 10개로 이루어진 1차원 배열을 생성. \n",
        "\n",
        "배열에서 평균보다 큰 값들로 이루어진 배열을 만들고 출력. "
      ]
    },
    {
      "cell_type": "code",
      "metadata": {
        "colab": {
          "base_uri": "https://localhost:8080/"
        },
        "id": "kZHpQRB7VDE1",
        "outputId": "bf68eb8e-7ae3-4b4a-dfa0-5fc83cc4820d"
      },
      "source": [
        "np.random.seed(0)\n",
        "arr3 = np.random.randint(100, size=10)\n",
        "print(arr3)\n",
        "print('평균:', np.mean(arr3))\n",
        "\n",
        "bigger_than_mean = arr3[arr3 > np.mean(arr3)]\n",
        "print(bigger_than_mean)"
      ],
      "execution_count": null,
      "outputs": [
        {
          "output_type": "stream",
          "text": [
            "[44 47 64 67 67  9 83 21 36 87]\n",
            "평균: 52.5\n",
            "[64 67 67 83 87]\n"
          ],
          "name": "stdout"
        }
      ]
    },
    {
      "cell_type": "markdown",
      "metadata": {
        "id": "SMSgk9RKWnyf"
      },
      "source": [
        "## 2차원 배열 에서의 통계 함수/메서드"
      ]
    },
    {
      "cell_type": "code",
      "metadata": {
        "colab": {
          "base_uri": "https://localhost:8080/"
        },
        "id": "Mj896Bj2Wu7x",
        "outputId": "49b3c1ca-b183-47df-afb1-899d018e7225"
      },
      "source": [
        "np.random.seed(2)\n",
        "arr = np.random.randint(100, size=(3, 4))\n",
        "print(arr)"
      ],
      "execution_count": null,
      "outputs": [
        {
          "output_type": "stream",
          "text": [
            "[[40 15 72 22]\n",
            " [43 82 75  7]\n",
            " [34 49 95 75]]\n"
          ],
          "name": "stdout"
        }
      ]
    },
    {
      "cell_type": "code",
      "metadata": {
        "colab": {
          "base_uri": "https://localhost:8080/"
        },
        "id": "J7fYHyxOW7SF",
        "outputId": "a4b8e694-09a1-451a-d3cf-6970fa0e90c9"
      },
      "source": [
        "# 2차원 배열의 모든 원소들의 합\n",
        "np.sum(arr)     #arr.sum()"
      ],
      "execution_count": null,
      "outputs": [
        {
          "output_type": "execute_result",
          "data": {
            "text/plain": [
              "609"
            ]
          },
          "metadata": {
            "tags": []
          },
          "execution_count": 61
        }
      ]
    },
    {
      "cell_type": "code",
      "metadata": {
        "colab": {
          "base_uri": "https://localhost:8080/"
        },
        "id": "fTNP-49QXW_I",
        "outputId": "bfa853f5-95d3-49e2-ffc8-9ef889d82e56"
      },
      "source": [
        "np.sum(arr, axis=0)     # row index가 증가하는 방향으로 sum 계산 \n",
        "#> (4, ) shape의 1차원 배열"
      ],
      "execution_count": null,
      "outputs": [
        {
          "output_type": "execute_result",
          "data": {
            "text/plain": [
              "array([117, 146, 242, 104])"
            ]
          },
          "metadata": {
            "tags": []
          },
          "execution_count": 62
        }
      ]
    },
    {
      "cell_type": "code",
      "metadata": {
        "colab": {
          "base_uri": "https://localhost:8080/"
        },
        "id": "H0FAT-lLY5X2",
        "outputId": "6451b326-e3e0-4b18-9d19-f5be5c61eb84"
      },
      "source": [
        "np.sum(arr, axis=1)     # column index가 증가하는 방향으로 sum 계산\n",
        "#> (3, )shape의 1차원 배열"
      ],
      "execution_count": null,
      "outputs": [
        {
          "output_type": "execute_result",
          "data": {
            "text/plain": [
              "array([149, 207, 253])"
            ]
          },
          "metadata": {
            "tags": []
          },
          "execution_count": 63
        }
      ]
    },
    {
      "cell_type": "code",
      "metadata": {
        "colab": {
          "base_uri": "https://localhost:8080/"
        },
        "id": "G07ZDaBVZFdo",
        "outputId": "fec58398-5adc-421f-c340-6196d109be9f"
      },
      "source": [
        "arr.sum(axis=0, keepdims=True)    #> (1, 4) shape 2차원 array(배열)"
      ],
      "execution_count": null,
      "outputs": [
        {
          "output_type": "execute_result",
          "data": {
            "text/plain": [
              "array([[117, 146, 242, 104]])"
            ]
          },
          "metadata": {
            "tags": []
          },
          "execution_count": 65
        }
      ]
    },
    {
      "cell_type": "code",
      "metadata": {
        "colab": {
          "base_uri": "https://localhost:8080/"
        },
        "id": "EtzRlRXQZ16E",
        "outputId": "cd9f3edb-85af-4ed0-a007-cc864a19a154"
      },
      "source": [
        "arr.sum(axis=1, keepdims=True)    #> (3, 1) shape 2차원 array(배열)"
      ],
      "execution_count": null,
      "outputs": [
        {
          "output_type": "execute_result",
          "data": {
            "text/plain": [
              "array([[149],\n",
              "       [207],\n",
              "       [253]])"
            ]
          },
          "metadata": {
            "tags": []
          },
          "execution_count": 66
        }
      ]
    }
  ]
}