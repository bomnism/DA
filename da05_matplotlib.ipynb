{
  "nbformat": 4,
  "nbformat_minor": 0,
  "metadata": {
    "colab": {
      "name": "da05_matplotlib.ipynb",
      "provenance": [],
      "collapsed_sections": [],
      "authorship_tag": "ABX9TyNtqSRFmzfnWclcHYNUuuhW",
      "include_colab_link": true
    },
    "kernelspec": {
      "name": "python3",
      "display_name": "Python 3"
    },
    "language_info": {
      "name": "python"
    }
  },
  "cells": [
    {
      "cell_type": "markdown",
      "metadata": {
        "id": "view-in-github",
        "colab_type": "text"
      },
      "source": [
        "<a href=\"https://colab.research.google.com/github/bomnism/DA/blob/main/da05_matplotlib.ipynb\" target=\"_parent\"><img src=\"https://colab.research.google.com/assets/colab-badge.svg\" alt=\"Open In Colab\"/></a>"
      ]
    },
    {
      "cell_type": "code",
      "metadata": {
        "id": "pGcwqLreY24h"
      },
      "source": [
        "import matplotlib.pyplot as plt          # 시각화 모듈\n",
        "import pandas as pd                            # Series, DataFrame 기능 \n",
        "import seaborn as sns                        # 시각화 모듈, 예제 데이터 셋 \n",
        "import numpy as np"
      ],
      "execution_count": 1,
      "outputs": []
    },
    {
      "cell_type": "markdown",
      "metadata": {
        "id": "2EpXMVv1Zd_5"
      },
      "source": [
        "# 데이터 셋"
      ]
    },
    {
      "cell_type": "code",
      "metadata": {
        "id": "iJaN87yuZUsX"
      },
      "source": [
        "tips = sns.load_dataset('tips')"
      ],
      "execution_count": null,
      "outputs": []
    },
    {
      "cell_type": "code",
      "metadata": {
        "colab": {
          "base_uri": "https://localhost:8080/",
          "height": 206
        },
        "id": "3_7TCKbJZjED",
        "outputId": "0f9f10d1-11fb-4a93-893a-526217aa80f6"
      },
      "source": [
        "tips.head()         # tips.iloc[:5],    tips.loc[:4]"
      ],
      "execution_count": null,
      "outputs": [
        {
          "output_type": "execute_result",
          "data": {
            "text/html": [
              "<div>\n",
              "<style scoped>\n",
              "    .dataframe tbody tr th:only-of-type {\n",
              "        vertical-align: middle;\n",
              "    }\n",
              "\n",
              "    .dataframe tbody tr th {\n",
              "        vertical-align: top;\n",
              "    }\n",
              "\n",
              "    .dataframe thead th {\n",
              "        text-align: right;\n",
              "    }\n",
              "</style>\n",
              "<table border=\"1\" class=\"dataframe\">\n",
              "  <thead>\n",
              "    <tr style=\"text-align: right;\">\n",
              "      <th></th>\n",
              "      <th>total_bill</th>\n",
              "      <th>tip</th>\n",
              "      <th>sex</th>\n",
              "      <th>smoker</th>\n",
              "      <th>day</th>\n",
              "      <th>time</th>\n",
              "      <th>size</th>\n",
              "    </tr>\n",
              "  </thead>\n",
              "  <tbody>\n",
              "    <tr>\n",
              "      <th>0</th>\n",
              "      <td>16.99</td>\n",
              "      <td>1.01</td>\n",
              "      <td>Female</td>\n",
              "      <td>No</td>\n",
              "      <td>Sun</td>\n",
              "      <td>Dinner</td>\n",
              "      <td>2</td>\n",
              "    </tr>\n",
              "    <tr>\n",
              "      <th>1</th>\n",
              "      <td>10.34</td>\n",
              "      <td>1.66</td>\n",
              "      <td>Male</td>\n",
              "      <td>No</td>\n",
              "      <td>Sun</td>\n",
              "      <td>Dinner</td>\n",
              "      <td>3</td>\n",
              "    </tr>\n",
              "    <tr>\n",
              "      <th>2</th>\n",
              "      <td>21.01</td>\n",
              "      <td>3.50</td>\n",
              "      <td>Male</td>\n",
              "      <td>No</td>\n",
              "      <td>Sun</td>\n",
              "      <td>Dinner</td>\n",
              "      <td>3</td>\n",
              "    </tr>\n",
              "    <tr>\n",
              "      <th>3</th>\n",
              "      <td>23.68</td>\n",
              "      <td>3.31</td>\n",
              "      <td>Male</td>\n",
              "      <td>No</td>\n",
              "      <td>Sun</td>\n",
              "      <td>Dinner</td>\n",
              "      <td>2</td>\n",
              "    </tr>\n",
              "    <tr>\n",
              "      <th>4</th>\n",
              "      <td>24.59</td>\n",
              "      <td>3.61</td>\n",
              "      <td>Female</td>\n",
              "      <td>No</td>\n",
              "      <td>Sun</td>\n",
              "      <td>Dinner</td>\n",
              "      <td>4</td>\n",
              "    </tr>\n",
              "  </tbody>\n",
              "</table>\n",
              "</div>"
            ],
            "text/plain": [
              "   total_bill   tip     sex smoker  day    time  size\n",
              "0       16.99  1.01  Female     No  Sun  Dinner     2\n",
              "1       10.34  1.66    Male     No  Sun  Dinner     3\n",
              "2       21.01  3.50    Male     No  Sun  Dinner     3\n",
              "3       23.68  3.31    Male     No  Sun  Dinner     2\n",
              "4       24.59  3.61  Female     No  Sun  Dinner     4"
            ]
          },
          "metadata": {
            "tags": []
          },
          "execution_count": 6
        }
      ]
    },
    {
      "cell_type": "code",
      "metadata": {
        "colab": {
          "base_uri": "https://localhost:8080/"
        },
        "id": "zYjyTVBMZnfE",
        "outputId": "62b9aa14-3c92-44c5-d5e6-cd493eb26f6f"
      },
      "source": [
        "tips.shape"
      ],
      "execution_count": null,
      "outputs": [
        {
          "output_type": "execute_result",
          "data": {
            "text/plain": [
              "(244, 7)"
            ]
          },
          "metadata": {
            "tags": []
          },
          "execution_count": 7
        }
      ]
    },
    {
      "cell_type": "code",
      "metadata": {
        "colab": {
          "base_uri": "https://localhost:8080/",
          "height": 300
        },
        "id": "6raNariwaGit",
        "outputId": "8a0d53f1-2556-4ea8-e950-4bba1f9c7005"
      },
      "source": [
        "tips.describe()   # 숫자 타입 변수들의 기술통계량 요약"
      ],
      "execution_count": null,
      "outputs": [
        {
          "output_type": "execute_result",
          "data": {
            "text/html": [
              "<div>\n",
              "<style scoped>\n",
              "    .dataframe tbody tr th:only-of-type {\n",
              "        vertical-align: middle;\n",
              "    }\n",
              "\n",
              "    .dataframe tbody tr th {\n",
              "        vertical-align: top;\n",
              "    }\n",
              "\n",
              "    .dataframe thead th {\n",
              "        text-align: right;\n",
              "    }\n",
              "</style>\n",
              "<table border=\"1\" class=\"dataframe\">\n",
              "  <thead>\n",
              "    <tr style=\"text-align: right;\">\n",
              "      <th></th>\n",
              "      <th>total_bill</th>\n",
              "      <th>tip</th>\n",
              "      <th>size</th>\n",
              "    </tr>\n",
              "  </thead>\n",
              "  <tbody>\n",
              "    <tr>\n",
              "      <th>count</th>\n",
              "      <td>244.000000</td>\n",
              "      <td>244.000000</td>\n",
              "      <td>244.000000</td>\n",
              "    </tr>\n",
              "    <tr>\n",
              "      <th>mean</th>\n",
              "      <td>19.785943</td>\n",
              "      <td>2.998279</td>\n",
              "      <td>2.569672</td>\n",
              "    </tr>\n",
              "    <tr>\n",
              "      <th>std</th>\n",
              "      <td>8.902412</td>\n",
              "      <td>1.383638</td>\n",
              "      <td>0.951100</td>\n",
              "    </tr>\n",
              "    <tr>\n",
              "      <th>min</th>\n",
              "      <td>3.070000</td>\n",
              "      <td>1.000000</td>\n",
              "      <td>1.000000</td>\n",
              "    </tr>\n",
              "    <tr>\n",
              "      <th>25%</th>\n",
              "      <td>13.347500</td>\n",
              "      <td>2.000000</td>\n",
              "      <td>2.000000</td>\n",
              "    </tr>\n",
              "    <tr>\n",
              "      <th>50%</th>\n",
              "      <td>17.795000</td>\n",
              "      <td>2.900000</td>\n",
              "      <td>2.000000</td>\n",
              "    </tr>\n",
              "    <tr>\n",
              "      <th>75%</th>\n",
              "      <td>24.127500</td>\n",
              "      <td>3.562500</td>\n",
              "      <td>3.000000</td>\n",
              "    </tr>\n",
              "    <tr>\n",
              "      <th>max</th>\n",
              "      <td>50.810000</td>\n",
              "      <td>10.000000</td>\n",
              "      <td>6.000000</td>\n",
              "    </tr>\n",
              "  </tbody>\n",
              "</table>\n",
              "</div>"
            ],
            "text/plain": [
              "       total_bill         tip        size\n",
              "count  244.000000  244.000000  244.000000\n",
              "mean    19.785943    2.998279    2.569672\n",
              "std      8.902412    1.383638    0.951100\n",
              "min      3.070000    1.000000    1.000000\n",
              "25%     13.347500    2.000000    2.000000\n",
              "50%     17.795000    2.900000    2.000000\n",
              "75%     24.127500    3.562500    3.000000\n",
              "max     50.810000   10.000000    6.000000"
            ]
          },
          "metadata": {
            "tags": []
          },
          "execution_count": 8
        }
      ]
    },
    {
      "cell_type": "markdown",
      "metadata": {
        "id": "nZkCixdcacut"
      },
      "source": [
        "# matplotlib.pyplot 모듈을 사용한 시각화 "
      ]
    },
    {
      "cell_type": "code",
      "metadata": {
        "colab": {
          "base_uri": "https://localhost:8080/",
          "height": 295
        },
        "id": "ecL67jIhaJ1V",
        "outputId": "2d82df8c-aaf1-4f9d-f04a-6b0032c7eead"
      },
      "source": [
        "# 1. figure 객체 생성\n",
        "fig = plt.figure( )\n",
        "\n",
        "# 2. figure 객체에 subplot을 생성해서 추가 \n",
        "axis = fig.add_subplot(1, 1, 1)                 # figure라는 객체를 어떻게 나눌 것이냐 (1, 1, 1)로 표현_ row, column, index\n",
        "#axis = fig.add_subplot(111)\n",
        "# nrows=1 (figure에서 행의 개수)\n",
        "# ncols=1 (figure에서 열의 개수 )\n",
        "# index=1 (생성된 subplot의 인덱스)\n",
        "\n",
        "# 3. subplot에 그래프를 그림\n",
        "axis.hist(x=tips['total_bill'])     # histogram\n",
        "\n",
        "# 4. 그래프 옵션\n",
        "axis.set_title('Histogram of total bill')\n",
        "axis.set_xlabel('Total bill')\n",
        "axis.set_ylabel('Counts')\n",
        "\n",
        "# 5. 그래프 보여주기 \n",
        "plt.show( )"
      ],
      "execution_count": null,
      "outputs": [
        {
          "output_type": "display_data",
          "data": {
            "image/png": "[encoded data removed]",
            "text/plain": [
              "<Figure size 432x288 with 1 Axes>"
            ]
          },
          "metadata": {
            "tags": [],
            "needs_background": "light"
          }
        }
      ]
    },
    {
      "cell_type": "code",
      "metadata": {
        "colab": {
          "base_uri": "https://localhost:8080/",
          "height": 499
        },
        "id": "I6lGo_xSe5HF",
        "outputId": "1e23a657-33b5-4558-9789-0d98eb15c59e"
      },
      "source": [
        "# 1. figure 생성\n",
        "fig = plt.figure(figsize=(8, 8))      # figure 크기 지정 가능 \n",
        "\n",
        "# 2. subplot 생성, 추가 \n",
        "axis1 = fig.add_subplot(2, 1, 1)   # 행이 2개이고, 열이 1개인 figure에서 첫번째 subplot\n",
        "axis2 = fig.add_subplot(2, 1, 2)   # 행이 2개이고 열이 1개인 figure에서 두번째 subplot\n",
        "\n",
        "# 3. 각 subplot에 그래프를 그림\n",
        "axis1.hist(x=tips['total_bill'])\n",
        "axis2.scatter(x=tips['total_bill'], y=tips['tip'])\n",
        "\n",
        "# 4. 그래프 옵션\n",
        "axis1.set_title('Histogram of total bill')\n",
        "axis2.set_title('Tip ~ Total bill')\n",
        "\n",
        "# 5. 그래프 보여주기\n",
        "plt.show( )"
      ],
      "execution_count": null,
      "outputs": [
        {
          "output_type": "display_data",
          "data": {
            "image/png": "[encoded data removed]",
            "text/plain": [
              "<Figure size 576x576 with 2 Axes>"
            ]
          },
          "metadata": {
            "tags": [],
            "needs_background": "light"
          }
        }
      ]
    },
    {
      "cell_type": "markdown",
      "metadata": {
        "id": "Ea_a4Tw-kuvR"
      },
      "source": [
        "figure에 행이 1개이고, 열이 2개가 되도록 subplot을 추가하고 시각화"
      ]
    },
    {
      "cell_type": "code",
      "metadata": {
        "colab": {
          "base_uri": "https://localhost:8080/",
          "height": 281
        },
        "id": "aVkgdZAUf646",
        "outputId": "7240b15b-54c5-4c81-f861-8715163ddd61"
      },
      "source": [
        "fig = plt.figure(figsize=(10, 4))\n",
        "\n",
        "axis1 = fig.add_subplot(121)        # fig.add_subplot(1, 2, 1)\n",
        "axis2 = fig.add_subplot(122)        # fig.add_subplot(1, 2, 2)\n",
        "\n",
        "axis1.hist(x=tips['total_bill'])\n",
        "axis2.scatter(x=tips['total_bill'], y=tips['tip'])\n",
        "\n",
        "axis1.set_title('Histogram of total bill')\n",
        "axis2.set_title('Tip ~ Total Bill')\n",
        "\n",
        "plt.show()"
      ],
      "execution_count": null,
      "outputs": [
        {
          "output_type": "display_data",
          "data": {
            "image/png": "[encoded data removed]",
            "text/plain": [
              "<Figure size 720x288 with 2 Axes>"
            ]
          },
          "metadata": {
            "tags": [],
            "needs_background": "light"
          }
        }
      ]
    },
    {
      "cell_type": "markdown",
      "metadata": {
        "id": "NGaAoiNrnMcM"
      },
      "source": [
        "`figure()호출`과 `add_subplot()호출`을 하나의 함수 호출로 수행"
      ]
    },
    {
      "cell_type": "code",
      "metadata": {
        "colab": {
          "base_uri": "https://localhost:8080/",
          "height": 281
        },
        "id": "YU-YKqjCnVls",
        "outputId": "28e93786-c101-4c84-dad9-c46b9fc3c510"
      },
      "source": [
        "# figure 객체 생성 + subplot을 추가 \n",
        "fig, ax = plt.subplots()\n",
        "#> fig: figure 객체\n",
        "#> ax: Subplot 객체\n",
        "\n",
        "# subplot 객체의 메서드를 사용해서 그래프를 그림\n",
        "ax.hist(x=tips['total_bill'])\n",
        "\n",
        "# 그래프 옵션\n",
        "ax.set_title('Histogram of total bill')\n",
        "\n",
        "plt.show()"
      ],
      "execution_count": null,
      "outputs": [
        {
          "output_type": "display_data",
          "data": {
            "image/png": "[encoded data removed]",
            "text/plain": [
              "<Figure size 432x288 with 1 Axes>"
            ]
          },
          "metadata": {
            "tags": [],
            "needs_background": "light"
          }
        }
      ]
    },
    {
      "cell_type": "code",
      "metadata": {
        "colab": {
          "base_uri": "https://localhost:8080/",
          "height": 265
        },
        "id": "KNwPSE7snydU",
        "outputId": "39e8ef31-a985-4727-b204-a82a80eb6d59"
      },
      "source": [
        "fig, ax = plt.subplots(nrows=1, ncols=2)\n",
        "#> fig: figure 객체\n",
        "#> ax: Subplot 들의 배열(ndarray)\n",
        "\n",
        "ax[0].hist(x=tips['total_bill'])\n",
        "ax[1].hist(x=tips['tip'])\n",
        "#print(type(ax))    # array\n",
        "\n",
        "plt.show()"
      ],
      "execution_count": null,
      "outputs": [
        {
          "output_type": "display_data",
          "data": {
            "image/png": "[encoded data removed]",
            "text/plain": [
              "<Figure size 432x288 with 2 Axes>"
            ]
          },
          "metadata": {
            "tags": [],
            "needs_background": "light"
          }
        }
      ]
    },
    {
      "cell_type": "markdown",
      "metadata": {
        "id": "3bC6S12MrBn3"
      },
      "source": [
        "1개의 figure 객체에 subplot이 1개만 잇는 경우에는, matplotlib.pyloot 모듈의 top-level함수들(plot, scater, hist, boxplot, ....)을 사용할 수 있음."
      ]
    },
    {
      "cell_type": "code",
      "metadata": {
        "colab": {
          "base_uri": "https://localhost:8080/",
          "height": 295
        },
        "id": "Jc6DxDKJrTHD",
        "outputId": "91e73b6b-6b3f-4ef4-a00d-d53ee2706068"
      },
      "source": [
        "# figure 객체 생성, subplot 1개를 추가, 히스토그램 그림.\n",
        "plt.hist(x=tips['total_bill'])\n",
        "# 그래프 옵션들\n",
        "plt.title('Histogram of total bill')\n",
        "plt.xlabel('Total bill')\n",
        "plt.ylabel('Count')\n",
        "# 그래프 보여주기\n",
        "plt.show()"
      ],
      "execution_count": null,
      "outputs": [
        {
          "output_type": "display_data",
          "data": {
            "image/png": "[encoded data removed]",
            "text/plain": [
              "<Figure size 432x288 with 1 Axes>"
            ]
          },
          "metadata": {
            "tags": [],
            "needs_background": "light"
          }
        }
      ]
    },
    {
      "cell_type": "markdown",
      "metadata": {
        "id": "lcUV90xXsi22"
      },
      "source": [
        "# Box Plot\n",
        "숫자 타입 변수의 기술 통계량 (최솟값, 최댓값, 중앙값, 25%, 75%) 시각화"
      ]
    },
    {
      "cell_type": "code",
      "metadata": {
        "colab": {
          "base_uri": "https://localhost:8080/",
          "height": 283
        },
        "id": "Y-z3SX_lsyUa",
        "outputId": "beac36cd-58ae-4858-b02d-0eb75832276c"
      },
      "source": [
        "plt.boxplot(x = tips['total_bill'], labels=['Total bill'])\n",
        "plt.show"
      ],
      "execution_count": null,
      "outputs": [
        {
          "output_type": "execute_result",
          "data": {
            "text/plain": [
              "<function matplotlib.pyplot.show>"
            ]
          },
          "metadata": {
            "tags": []
          },
          "execution_count": 15
        },
        {
          "output_type": "display_data",
          "data": {
            "image/png": "[encoded data removed]",
            "text/plain": [
              "<Figure size 432x288 with 1 Axes>"
            ]
          },
          "metadata": {
            "tags": [],
            "needs_background": "light"
          }
        }
      ]
    },
    {
      "cell_type": "code",
      "metadata": {
        "colab": {
          "base_uri": "https://localhost:8080/",
          "height": 265
        },
        "id": "Tn0k1MfYtWc1",
        "outputId": "501489a2-2024-4490-a574-6cce7fd2e340"
      },
      "source": [
        "# total_bill, tip의 box plot\n",
        "plt.boxplot(x=[tips['total_bill'], tips['tip']], labels=['Total bill', 'Tips'])\n",
        "plt.show()"
      ],
      "execution_count": null,
      "outputs": [
        {
          "output_type": "display_data",
          "data": {
            "image/png": "[encoded data removed]",
            "text/plain": [
              "<Figure size 432x288 with 1 Axes>"
            ]
          },
          "metadata": {
            "tags": [],
            "needs_background": "light"
          }
        }
      ]
    },
    {
      "cell_type": "markdown",
      "metadata": {
        "id": "Il0dHIIqyJd1"
      },
      "source": [
        "성별 tip의 기술 통계량을 출력하고, box plot "
      ]
    },
    {
      "cell_type": "code",
      "metadata": {
        "colab": {
          "base_uri": "https://localhost:8080/"
        },
        "id": "VQa2POtwycMu",
        "outputId": "7ad1495c-fc77-4d07-fb6e-af05c2f9a225"
      },
      "source": [
        "male_tip = tips[tips['sex'] == 'Male']['tip']\n",
        "male_tip"
      ],
      "execution_count": null,
      "outputs": [
        {
          "output_type": "execute_result",
          "data": {
            "text/plain": [
              "1      1.66\n",
              "2      3.50\n",
              "3      3.31\n",
              "5      4.71\n",
              "6      2.00\n",
              "       ... \n",
              "236    1.00\n",
              "237    1.17\n",
              "239    5.92\n",
              "241    2.00\n",
              "242    1.75\n",
              "Name: tip, Length: 157, dtype: float64"
            ]
          },
          "metadata": {
            "tags": []
          },
          "execution_count": 17
        }
      ]
    },
    {
      "cell_type": "code",
      "metadata": {
        "colab": {
          "base_uri": "https://localhost:8080/"
        },
        "id": "vpeNcsLmy1Gt",
        "outputId": "28cc611d-b91a-4c74-c56a-e29cf5c56f06"
      },
      "source": [
        "male_tip.describe()"
      ],
      "execution_count": null,
      "outputs": [
        {
          "output_type": "execute_result",
          "data": {
            "text/plain": [
              "count    157.000000\n",
              "mean       3.089618\n",
              "std        1.489102\n",
              "min        1.000000\n",
              "25%        2.000000\n",
              "50%        3.000000\n",
              "75%        3.760000\n",
              "max       10.000000\n",
              "Name: tip, dtype: float64"
            ]
          },
          "metadata": {
            "tags": []
          },
          "execution_count": 18
        }
      ]
    },
    {
      "cell_type": "code",
      "metadata": {
        "colab": {
          "base_uri": "https://localhost:8080/"
        },
        "id": "1rBHOCDe0UM6",
        "outputId": "553dd29f-d724-4831-edcb-8b25570ba2de"
      },
      "source": [
        "female_tip = tips[tips['sex'] == 'Female']['tip']\n",
        "female_tip"
      ],
      "execution_count": null,
      "outputs": [
        {
          "output_type": "execute_result",
          "data": {
            "text/plain": [
              "0      1.01\n",
              "4      3.61\n",
              "11     5.00\n",
              "14     3.02\n",
              "16     1.67\n",
              "       ... \n",
              "226    2.00\n",
              "229    2.88\n",
              "238    4.67\n",
              "240    2.00\n",
              "243    3.00\n",
              "Name: tip, Length: 87, dtype: float64"
            ]
          },
          "metadata": {
            "tags": []
          },
          "execution_count": 19
        }
      ]
    },
    {
      "cell_type": "code",
      "metadata": {
        "colab": {
          "base_uri": "https://localhost:8080/"
        },
        "id": "Y4kjhEp50fKc",
        "outputId": "9c61daaa-df22-4681-a615-4a69f601e183"
      },
      "source": [
        "female_tip.describe()"
      ],
      "execution_count": null,
      "outputs": [
        {
          "output_type": "execute_result",
          "data": {
            "text/plain": [
              "count    87.000000\n",
              "mean      2.833448\n",
              "std       1.159495\n",
              "min       1.000000\n",
              "25%       2.000000\n",
              "50%       2.750000\n",
              "75%       3.500000\n",
              "max       6.500000\n",
              "Name: tip, dtype: float64"
            ]
          },
          "metadata": {
            "tags": []
          },
          "execution_count": 20
        }
      ]
    },
    {
      "cell_type": "code",
      "metadata": {
        "colab": {
          "base_uri": "https://localhost:8080/",
          "height": 320
        },
        "id": "msSdkcoX0pBf",
        "outputId": "231f09bc-c6f5-4b0f-e48f-6451a451d78d"
      },
      "source": [
        "plt.boxplot(x=[male_tip, female_tip], labels=['Male', 'Female'])\n",
        "plt.show()"
      ],
      "execution_count": null,
      "outputs": [
        {
          "output_type": "stream",
          "text": [
            "/usr/local/lib/python3.7/dist-packages/numpy/core/_asarray.py:83: VisibleDeprecationWarning: Creating an ndarray from ragged nested sequences (which is a list-or-tuple of lists-or-tuples-or ndarrays with different lengths or shapes) is deprecated. If you meant to do this, you must specify 'dtype=object' when creating the ndarray\n",
            "  return array(a, dtype, copy=False, order=order)\n"
          ],
          "name": "stderr"
        },
        {
          "output_type": "display_data",
          "data": {
            "image/png": "[encoded data removed]",
            "text/plain": [
              "<Figure size 432x288 with 1 Axes>"
            ]
          },
          "metadata": {
            "tags": [],
            "needs_background": "light"
          }
        }
      ]
    },
    {
      "cell_type": "code",
      "metadata": {
        "id": "SFDNL4V31hmy"
      },
      "source": [
        "import numpy as np"
      ],
      "execution_count": null,
      "outputs": []
    },
    {
      "cell_type": "code",
      "metadata": {
        "colab": {
          "base_uri": "https://localhost:8080/",
          "height": 265
        },
        "id": "x_H8eOHi1mzT",
        "outputId": "b6a6ee9e-d3a1-471e-e404-ab56df4b6b0c"
      },
      "source": [
        "# VisibleDeprecationWarning\n",
        "tip_by_gender = np.array([male_tip, female_tip], dtype='object')\n",
        "plt.boxplot(x=tip_by_gender, labels=['Male', 'Female'])\n",
        "plt.show()"
      ],
      "execution_count": null,
      "outputs": [
        {
          "output_type": "display_data",
          "data": {
            "image/png": "[encoded data removed]",
            "text/plain": [
              "<Figure size 432x288 with 1 Axes>"
            ]
          },
          "metadata": {
            "tags": [],
            "needs_background": "light"
          }
        }
      ]
    },
    {
      "cell_type": "markdown",
      "metadata": {
        "id": "0YoulO6gzGZM"
      },
      "source": [
        "시간별 tip의 기술 통계량을 출력하고, box plot을 그림"
      ]
    },
    {
      "cell_type": "code",
      "metadata": {
        "colab": {
          "base_uri": "https://localhost:8080/"
        },
        "id": "rMr-_qA0zFDH",
        "outputId": "bf0e4b21-3af0-4eee-b80f-6d2ea7e86756"
      },
      "source": [
        "tips['time'].unique()"
      ],
      "execution_count": null,
      "outputs": [
        {
          "output_type": "execute_result",
          "data": {
            "text/plain": [
              "['Dinner', 'Lunch']\n",
              "Categories (2, object): ['Dinner', 'Lunch']"
            ]
          },
          "metadata": {
            "tags": []
          },
          "execution_count": 24
        }
      ]
    },
    {
      "cell_type": "code",
      "metadata": {
        "colab": {
          "base_uri": "https://localhost:8080/"
        },
        "id": "qAD6ul732Vmr",
        "outputId": "8e748d16-575c-43c0-df21-5304df1b831c"
      },
      "source": [
        "dinner_tip = tips[tips['time'] == 'Dinner']['tip']\n",
        "dinner_tip"
      ],
      "execution_count": null,
      "outputs": [
        {
          "output_type": "execute_result",
          "data": {
            "text/plain": [
              "0      1.01\n",
              "1      1.66\n",
              "2      3.50\n",
              "3      3.31\n",
              "4      3.61\n",
              "       ... \n",
              "239    5.92\n",
              "240    2.00\n",
              "241    2.00\n",
              "242    1.75\n",
              "243    3.00\n",
              "Name: tip, Length: 176, dtype: float64"
            ]
          },
          "metadata": {
            "tags": []
          },
          "execution_count": 25
        }
      ]
    },
    {
      "cell_type": "code",
      "metadata": {
        "colab": {
          "base_uri": "https://localhost:8080/"
        },
        "id": "3Sni8R302pJY",
        "outputId": "93ac8a2e-bca4-4958-a54b-fd9830a8220e"
      },
      "source": [
        "lunch_tip = tips[tips['time'] == 'Lunch']['tip']\n",
        "lunch_tip"
      ],
      "execution_count": null,
      "outputs": [
        {
          "output_type": "execute_result",
          "data": {
            "text/plain": [
              "77     4.00\n",
              "78     3.00\n",
              "79     2.71\n",
              "80     3.00\n",
              "81     3.40\n",
              "       ... \n",
              "222    1.92\n",
              "223    3.00\n",
              "224    1.58\n",
              "225    2.50\n",
              "226    2.00\n",
              "Name: tip, Length: 68, dtype: float64"
            ]
          },
          "metadata": {
            "tags": []
          },
          "execution_count": 26
        }
      ]
    },
    {
      "cell_type": "code",
      "metadata": {
        "colab": {
          "base_uri": "https://localhost:8080/"
        },
        "id": "woElqlE32xJ2",
        "outputId": "c4ca9cf9-1b96-489e-e1a0-4a097d3c668a"
      },
      "source": [
        "dinner_tip.describe()"
      ],
      "execution_count": null,
      "outputs": [
        {
          "output_type": "execute_result",
          "data": {
            "text/plain": [
              "count    176.000000\n",
              "mean       3.102670\n",
              "std        1.436243\n",
              "min        1.000000\n",
              "25%        2.000000\n",
              "50%        3.000000\n",
              "75%        3.687500\n",
              "max       10.000000\n",
              "Name: tip, dtype: float64"
            ]
          },
          "metadata": {
            "tags": []
          },
          "execution_count": 27
        }
      ]
    },
    {
      "cell_type": "code",
      "metadata": {
        "colab": {
          "base_uri": "https://localhost:8080/"
        },
        "id": "HrTyglaZ21fW",
        "outputId": "32b77b6d-6da6-47a9-a76a-3211020ac7ac"
      },
      "source": [
        "lunch_tip.describe()"
      ],
      "execution_count": null,
      "outputs": [
        {
          "output_type": "execute_result",
          "data": {
            "text/plain": [
              "count    68.000000\n",
              "mean      2.728088\n",
              "std       1.205345\n",
              "min       1.250000\n",
              "25%       2.000000\n",
              "50%       2.250000\n",
              "75%       3.287500\n",
              "max       6.700000\n",
              "Name: tip, dtype: float64"
            ]
          },
          "metadata": {
            "tags": []
          },
          "execution_count": 28
        }
      ]
    },
    {
      "cell_type": "code",
      "metadata": {
        "colab": {
          "base_uri": "https://localhost:8080/",
          "height": 265
        },
        "id": "6hnFiYQa3RSb",
        "outputId": "1cb6d135-8215-47a1-9a89-9feb53a35ea4"
      },
      "source": [
        "plt.boxplot(x=np.array([lunch_tip, dinner_tip], dtype = 'object'), \n",
        "                        labels=['Lunch', 'Dinner'])\n",
        "\n",
        "plt.show()"
      ],
      "execution_count": null,
      "outputs": [
        {
          "output_type": "display_data",
          "data": {
            "image/png": "[encoded data removed]",
            "text/plain": [
              "<Figure size 432x288 with 1 Axes>"
            ]
          },
          "metadata": {
            "tags": [],
            "needs_background": "light"
          }
        }
      ]
    },
    {
      "cell_type": "markdown",
      "metadata": {
        "id": "pveJ4alU3ygI"
      },
      "source": [
        "요일별 tip의 box plot 시각화 "
      ]
    },
    {
      "cell_type": "code",
      "metadata": {
        "colab": {
          "base_uri": "https://localhost:8080/"
        },
        "id": "Gn-2WUr631yD",
        "outputId": "293f225c-049b-4122-ee09-22ee48812307"
      },
      "source": [
        "tips['day'].unique()"
      ],
      "execution_count": null,
      "outputs": [
        {
          "output_type": "execute_result",
          "data": {
            "text/plain": [
              "['Sun', 'Sat', 'Thur', 'Fri']\n",
              "Categories (4, object): ['Sun', 'Sat', 'Thur', 'Fri']"
            ]
          },
          "metadata": {
            "tags": []
          },
          "execution_count": 30
        }
      ]
    },
    {
      "cell_type": "code",
      "metadata": {
        "id": "lVSUhsk54PGJ"
      },
      "source": [
        "Sun_tip = tips[tips['day'] == 'Sun']['tip']\n",
        "Sat_tip = tips[tips['day'] == 'Sat']['tip']\n",
        "Thur_tip = tips[tips['day'] == 'Thur']['tip']\n",
        "Fri_tip = tips[tips['day'] == 'Fri']['tip']"
      ],
      "execution_count": null,
      "outputs": []
    },
    {
      "cell_type": "code",
      "metadata": {
        "colab": {
          "base_uri": "https://localhost:8080/",
          "height": 265
        },
        "id": "l_CNZ6Oq5IbJ",
        "outputId": "e9b244f1-7688-4f57-fc6e-cb8e5b57c262"
      },
      "source": [
        "plt.boxplot(x=np.array([Sun_tip, Sat_tip, Thur_tip, Fri_tip], dtype = 'object'), \n",
        "                        labels=['Sun', 'Sat', 'Thur', 'Fri'])\n",
        "\n",
        "plt.show()"
      ],
      "execution_count": null,
      "outputs": [
        {
          "output_type": "display_data",
          "data": {
            "image/png": "[encoded data removed]",
            "text/plain": [
              "<Figure size 432x288 with 1 Axes>"
            ]
          },
          "metadata": {
            "tags": [],
            "needs_background": "light"
          }
        }
      ]
    },
    {
      "cell_type": "code",
      "metadata": {
        "colab": {
          "base_uri": "https://localhost:8080/"
        },
        "id": "pAdzfca8LKnc",
        "outputId": "a90b3494-2f17-4b4d-f94c-22849841d922"
      },
      "source": [
        "days = tips['day'].unique()\n",
        "days"
      ],
      "execution_count": null,
      "outputs": [
        {
          "output_type": "execute_result",
          "data": {
            "text/plain": [
              "['Sun', 'Sat', 'Thur', 'Fri']\n",
              "Categories (4, object): ['Sun', 'Sat', 'Thur', 'Fri']"
            ]
          },
          "metadata": {
            "tags": []
          },
          "execution_count": 33
        }
      ]
    },
    {
      "cell_type": "code",
      "metadata": {
        "colab": {
          "base_uri": "https://localhost:8080/",
          "height": 265
        },
        "id": "rXPgxr0SLEJw",
        "outputId": "dfb28e2e-273d-4eb8-ff60-3ae9521a71cc"
      },
      "source": [
        "tip_by_day = []  # 요일별 tip을 저장하기 위한 empty list\n",
        "\n",
        "for d in days:\n",
        "    # 해당 요일의 tip 컬럼을 리스트에 추가\n",
        "    tip_by_day.append(tips[tips['day'] == d]['tip'])\n",
        "\n",
        "# 리스트를 Series를 원소로 갖는 ndarray로 변환\n",
        "tip_by_day = np.array(tip_by_day, dtype='object')\n",
        "\n",
        "# boxplot\n",
        "plt.boxplot(x=tip_by_day, labels=days)\n",
        "plt.show()"
      ],
      "execution_count": null,
      "outputs": [
        {
          "output_type": "display_data",
          "data": {
            "image/png": "[encoded data removed]",
            "text/plain": [
              "<Figure size 432x288 with 1 Axes>"
            ]
          },
          "metadata": {
            "tags": [],
            "needs_background": "light"
          }
        }
      ]
    },
    {
      "cell_type": "markdown",
      "metadata": {
        "id": "qlzKp1jHOBZ5"
      },
      "source": [
        "# Histogram\n",
        "연속형 자료를 구간으로 나눠서 구간 안에 포함되는 자료의 수를 막대로 표현한 그래프. "
      ]
    },
    {
      "cell_type": "code",
      "metadata": {
        "colab": {
          "base_uri": "https://localhost:8080/",
          "height": 265
        },
        "id": "WyIp3Fk_PWP3",
        "outputId": "9d92ab3f-d327-4cad-dc86-e2b4472f8f00"
      },
      "source": [
        "plt.hist(x=tips['total_bill'], bins=10, edgecolor='black', color='white')\n",
        "# bins=막대 개수, 구간\n",
        "# color=막대를 채우는 색깔\n",
        "# edgecolor = 막대의 테두리 색깔 \n",
        "plt.grid()\n",
        "plt.show()"
      ],
      "execution_count": null,
      "outputs": [
        {
          "output_type": "display_data",
          "data": {
            "image/png": "[encoded data removed]",
            "text/plain": [
              "<Figure size 432x288 with 1 Axes>"
            ]
          },
          "metadata": {
            "tags": [],
            "needs_background": "light"
          }
        }
      ]
    },
    {
      "cell_type": "markdown",
      "metadata": {
        "id": "5wdxQ0VvPrKL"
      },
      "source": [
        "tip의 히스토그램 그리기"
      ]
    },
    {
      "cell_type": "code",
      "metadata": {
        "colab": {
          "base_uri": "https://localhost:8080/",
          "height": 279
        },
        "id": "QNX4RJYwPyVB",
        "outputId": "4719cf9f-e305-44f7-c330-42615ad1188b"
      },
      "source": [
        "plt.hist(x=tips['tip'], bins=10, edgecolor='blue', color='orange')\n",
        "# bins=막대 개수, 구간\n",
        "# color=막대를 채우는 색깔\n",
        "# edgecolor = 막대의 테두리 색깔 \n",
        "plt.grid()\n",
        "plt.xlabel('Tip')\n",
        "plt.ylabel('Count')\n",
        "plt.show()"
      ],
      "execution_count": null,
      "outputs": [
        {
          "output_type": "display_data",
          "data": {
            "image/png": "[encoded data removed]",
            "text/plain": [
              "<Figure size 432x288 with 1 Axes>"
            ]
          },
          "metadata": {
            "tags": [],
            "needs_background": "light"
          }
        }
      ]
    },
    {
      "cell_type": "markdown",
      "metadata": {
        "id": "aI8i7VDQQse9"
      },
      "source": [
        "# Bar Plot\n",
        "카테고리 타입 변수의 빈도수를 막대로 표현한 그래프. "
      ]
    },
    {
      "cell_type": "code",
      "metadata": {
        "colab": {
          "base_uri": "https://localhost:8080/",
          "height": 423
        },
        "id": "QPG-KIJsQwYn",
        "outputId": "1481bc55-294e-4745-bd9a-cf88bd209379"
      },
      "source": [
        "tips"
      ],
      "execution_count": null,
      "outputs": [
        {
          "output_type": "execute_result",
          "data": {
            "text/html": [
              "<div>\n",
              "<style scoped>\n",
              "    .dataframe tbody tr th:only-of-type {\n",
              "        vertical-align: middle;\n",
              "    }\n",
              "\n",
              "    .dataframe tbody tr th {\n",
              "        vertical-align: top;\n",
              "    }\n",
              "\n",
              "    .dataframe thead th {\n",
              "        text-align: right;\n",
              "    }\n",
              "</style>\n",
              "<table border=\"1\" class=\"dataframe\">\n",
              "  <thead>\n",
              "    <tr style=\"text-align: right;\">\n",
              "      <th></th>\n",
              "      <th>total_bill</th>\n",
              "      <th>tip</th>\n",
              "      <th>sex</th>\n",
              "      <th>smoker</th>\n",
              "      <th>day</th>\n",
              "      <th>time</th>\n",
              "      <th>size</th>\n",
              "    </tr>\n",
              "  </thead>\n",
              "  <tbody>\n",
              "    <tr>\n",
              "      <th>0</th>\n",
              "      <td>16.99</td>\n",
              "      <td>1.01</td>\n",
              "      <td>Female</td>\n",
              "      <td>No</td>\n",
              "      <td>Sun</td>\n",
              "      <td>Dinner</td>\n",
              "      <td>2</td>\n",
              "    </tr>\n",
              "    <tr>\n",
              "      <th>1</th>\n",
              "      <td>10.34</td>\n",
              "      <td>1.66</td>\n",
              "      <td>Male</td>\n",
              "      <td>No</td>\n",
              "      <td>Sun</td>\n",
              "      <td>Dinner</td>\n",
              "      <td>3</td>\n",
              "    </tr>\n",
              "    <tr>\n",
              "      <th>2</th>\n",
              "      <td>21.01</td>\n",
              "      <td>3.50</td>\n",
              "      <td>Male</td>\n",
              "      <td>No</td>\n",
              "      <td>Sun</td>\n",
              "      <td>Dinner</td>\n",
              "      <td>3</td>\n",
              "    </tr>\n",
              "    <tr>\n",
              "      <th>3</th>\n",
              "      <td>23.68</td>\n",
              "      <td>3.31</td>\n",
              "      <td>Male</td>\n",
              "      <td>No</td>\n",
              "      <td>Sun</td>\n",
              "      <td>Dinner</td>\n",
              "      <td>2</td>\n",
              "    </tr>\n",
              "    <tr>\n",
              "      <th>4</th>\n",
              "      <td>24.59</td>\n",
              "      <td>3.61</td>\n",
              "      <td>Female</td>\n",
              "      <td>No</td>\n",
              "      <td>Sun</td>\n",
              "      <td>Dinner</td>\n",
              "      <td>4</td>\n",
              "    </tr>\n",
              "    <tr>\n",
              "      <th>...</th>\n",
              "      <td>...</td>\n",
              "      <td>...</td>\n",
              "      <td>...</td>\n",
              "      <td>...</td>\n",
              "      <td>...</td>\n",
              "      <td>...</td>\n",
              "      <td>...</td>\n",
              "    </tr>\n",
              "    <tr>\n",
              "      <th>239</th>\n",
              "      <td>29.03</td>\n",
              "      <td>5.92</td>\n",
              "      <td>Male</td>\n",
              "      <td>No</td>\n",
              "      <td>Sat</td>\n",
              "      <td>Dinner</td>\n",
              "      <td>3</td>\n",
              "    </tr>\n",
              "    <tr>\n",
              "      <th>240</th>\n",
              "      <td>27.18</td>\n",
              "      <td>2.00</td>\n",
              "      <td>Female</td>\n",
              "      <td>Yes</td>\n",
              "      <td>Sat</td>\n",
              "      <td>Dinner</td>\n",
              "      <td>2</td>\n",
              "    </tr>\n",
              "    <tr>\n",
              "      <th>241</th>\n",
              "      <td>22.67</td>\n",
              "      <td>2.00</td>\n",
              "      <td>Male</td>\n",
              "      <td>Yes</td>\n",
              "      <td>Sat</td>\n",
              "      <td>Dinner</td>\n",
              "      <td>2</td>\n",
              "    </tr>\n",
              "    <tr>\n",
              "      <th>242</th>\n",
              "      <td>17.82</td>\n",
              "      <td>1.75</td>\n",
              "      <td>Male</td>\n",
              "      <td>No</td>\n",
              "      <td>Sat</td>\n",
              "      <td>Dinner</td>\n",
              "      <td>2</td>\n",
              "    </tr>\n",
              "    <tr>\n",
              "      <th>243</th>\n",
              "      <td>18.78</td>\n",
              "      <td>3.00</td>\n",
              "      <td>Female</td>\n",
              "      <td>No</td>\n",
              "      <td>Thur</td>\n",
              "      <td>Dinner</td>\n",
              "      <td>2</td>\n",
              "    </tr>\n",
              "  </tbody>\n",
              "</table>\n",
              "<p>244 rows × 7 columns</p>\n",
              "</div>"
            ],
            "text/plain": [
              "     total_bill   tip     sex smoker   day    time  size\n",
              "0         16.99  1.01  Female     No   Sun  Dinner     2\n",
              "1         10.34  1.66    Male     No   Sun  Dinner     3\n",
              "2         21.01  3.50    Male     No   Sun  Dinner     3\n",
              "3         23.68  3.31    Male     No   Sun  Dinner     2\n",
              "4         24.59  3.61  Female     No   Sun  Dinner     4\n",
              "..          ...   ...     ...    ...   ...     ...   ...\n",
              "239       29.03  5.92    Male     No   Sat  Dinner     3\n",
              "240       27.18  2.00  Female    Yes   Sat  Dinner     2\n",
              "241       22.67  2.00    Male    Yes   Sat  Dinner     2\n",
              "242       17.82  1.75    Male     No   Sat  Dinner     2\n",
              "243       18.78  3.00  Female     No  Thur  Dinner     2\n",
              "\n",
              "[244 rows x 7 columns]"
            ]
          },
          "metadata": {
            "tags": []
          },
          "execution_count": 37
        }
      ]
    },
    {
      "cell_type": "code",
      "metadata": {
        "colab": {
          "base_uri": "https://localhost:8080/"
        },
        "id": "24qwVszKQxN2",
        "outputId": "0fb10c44-5f13-4b8c-d5e2-89d82e88524c"
      },
      "source": [
        "#  남성/여성 숫자\n",
        "gender_counts = tips['sex'].value_counts()\n",
        "gender_counts     #> Series"
      ],
      "execution_count": null,
      "outputs": [
        {
          "output_type": "execute_result",
          "data": {
            "text/plain": [
              "Male      157\n",
              "Female     87\n",
              "Name: sex, dtype: int64"
            ]
          },
          "metadata": {
            "tags": []
          },
          "execution_count": 38
        }
      ]
    },
    {
      "cell_type": "code",
      "metadata": {
        "colab": {
          "base_uri": "https://localhost:8080/"
        },
        "id": "vl1u5tvrRetI",
        "outputId": "908996ac-371d-4546-d51c-066a752624f1"
      },
      "source": [
        "gender_counts.index"
      ],
      "execution_count": null,
      "outputs": [
        {
          "output_type": "execute_result",
          "data": {
            "text/plain": [
              "CategoricalIndex(['Male', 'Female'], categories=['Male', 'Female'], ordered=False, dtype='category')"
            ]
          },
          "metadata": {
            "tags": []
          },
          "execution_count": 39
        }
      ]
    },
    {
      "cell_type": "code",
      "metadata": {
        "colab": {
          "base_uri": "https://localhost:8080/"
        },
        "id": "0PijtIDeRNGB",
        "outputId": "3d2e3faa-a2b3-4751-b0a5-0ea0d5d68729"
      },
      "source": [
        "gender_counts.values"
      ],
      "execution_count": null,
      "outputs": [
        {
          "output_type": "execute_result",
          "data": {
            "text/plain": [
              "array([157,  87])"
            ]
          },
          "metadata": {
            "tags": []
          },
          "execution_count": 40
        }
      ]
    },
    {
      "cell_type": "code",
      "metadata": {
        "colab": {
          "base_uri": "https://localhost:8080/",
          "height": 265
        },
        "id": "iF4h7K6wRmRb",
        "outputId": "150ed983-0ab6-4e9d-8f03-8e67507a4f7b"
      },
      "source": [
        "plt.bar(x=gender_counts.index, height=gender_counts.values, width=0.4)\n",
        "plt.show()"
      ],
      "execution_count": null,
      "outputs": [
        {
          "output_type": "display_data",
          "data": {
            "image/png": "[encoded data removed]",
            "text/plain": [
              "<Figure size 432x288 with 1 Axes>"
            ]
          },
          "metadata": {
            "tags": [],
            "needs_background": "light"
          }
        }
      ]
    },
    {
      "cell_type": "markdown",
      "metadata": {
        "id": "vKKlRH-eSKxq"
      },
      "source": [
        "가로 막대 그래프(horizental bar plot)"
      ]
    },
    {
      "cell_type": "code",
      "metadata": {
        "colab": {
          "base_uri": "https://localhost:8080/",
          "height": 283
        },
        "id": "aZaWJy5BSLmt",
        "outputId": "79321178-13e8-4235-8c1f-87d9b8d0debb"
      },
      "source": [
        "plt.barh(y = gender_counts.index, width = gender_counts.values, height = 0.3)"
      ],
      "execution_count": null,
      "outputs": [
        {
          "output_type": "execute_result",
          "data": {
            "text/plain": [
              "<BarContainer object of 2 artists>"
            ]
          },
          "metadata": {
            "tags": []
          },
          "execution_count": 42
        },
        {
          "output_type": "display_data",
          "data": {
            "image/png": "[encoded data removed]",
            "text/plain": [
              "<Figure size 432x288 with 1 Axes>"
            ]
          },
          "metadata": {
            "tags": [],
            "needs_background": "light"
          }
        }
      ]
    },
    {
      "cell_type": "markdown",
      "metadata": {
        "id": "XfD4yBJ2S0sf"
      },
      "source": [
        "size의 막대 그래프 "
      ]
    },
    {
      "cell_type": "code",
      "metadata": {
        "colab": {
          "base_uri": "https://localhost:8080/"
        },
        "id": "18EbJfDCSuUT",
        "outputId": "b4b1a4fa-7f81-4f67-f2ad-ad1480c5970d"
      },
      "source": [
        "size_counts = tips['size'].value_counts()\n",
        "size_counts     #> Series"
      ],
      "execution_count": null,
      "outputs": [
        {
          "output_type": "execute_result",
          "data": {
            "text/plain": [
              "2    156\n",
              "3     38\n",
              "4     37\n",
              "5      5\n",
              "6      4\n",
              "1      4\n",
              "Name: size, dtype: int64"
            ]
          },
          "metadata": {
            "tags": []
          },
          "execution_count": 43
        }
      ]
    },
    {
      "cell_type": "code",
      "metadata": {
        "colab": {
          "base_uri": "https://localhost:8080/",
          "height": 265
        },
        "id": "cbqISbkATGue",
        "outputId": "2048f089-cf96-4501-bd7a-05d7e69436db"
      },
      "source": [
        "plt.bar(x=size_counts.index, height=size_counts.values, width = 0.5)\n",
        "plt.show()"
      ],
      "execution_count": null,
      "outputs": [
        {
          "output_type": "display_data",
          "data": {
            "image/png": "[encoded data removed]",
            "text/plain": [
              "<Figure size 432x288 with 1 Axes>"
            ]
          },
          "metadata": {
            "tags": [],
            "needs_background": "light"
          }
        }
      ]
    },
    {
      "cell_type": "code",
      "metadata": {
        "colab": {
          "base_uri": "https://localhost:8080/",
          "height": 283
        },
        "id": "sqYIvlppTLFR",
        "outputId": "3250e4aa-1782-4bb2-97ab-d250e6157d7f"
      },
      "source": [
        "plt.barh(y = size_counts.index, width = size_counts.values, height = 0.4)\n",
        "plt.barh"
      ],
      "execution_count": null,
      "outputs": [
        {
          "output_type": "execute_result",
          "data": {
            "text/plain": [
              "<function matplotlib.pyplot.barh>"
            ]
          },
          "metadata": {
            "tags": []
          },
          "execution_count": 45
        },
        {
          "output_type": "display_data",
          "data": {
            "image/png": "[encoded data removed]",
            "text/plain": [
              "<Figure size 432x288 with 1 Axes>"
            ]
          },
          "metadata": {
            "tags": [],
            "needs_background": "light"
          }
        }
      ]
    },
    {
      "cell_type": "markdown",
      "metadata": {
        "id": "Zoh_ojtMT6Ex"
      },
      "source": [
        "* figure에 4개의 subplot(2 rows, 2columns)을 추가 \n",
        "* 남성/여성 빈도수, 흡연자/비흡연자 빈도수, 요일별 빈도수, Lunch/Dinner 빈도수 막대 그래프 "
      ]
    },
    {
      "cell_type": "code",
      "metadata": {
        "id": "TWGz0Qw_VO8X"
      },
      "source": [
        "gender_counts = tips['sex'].value_counts()  # 성별 빈도수\n",
        "smoker_counts = tips['smoker'].value_counts()  # 흡연 여부 빈도수\n",
        "day_counts = tips['day'].value_counts()  # 요일 빈도수\n",
        "time_counts = tips['time'].value_counts()  # Lunch/Dinner 빈도수"
      ],
      "execution_count": null,
      "outputs": []
    },
    {
      "cell_type": "code",
      "metadata": {
        "colab": {
          "base_uri": "https://localhost:8080/",
          "height": 517
        },
        "id": "xtd3cJT9Zuda",
        "outputId": "a157fd1b-3257-43a1-c20f-9287e0e0c472"
      },
      "source": [
        "fig, ax = plt.subplots(nrows=2, ncols=2, figsize=(8, 8))\n",
        "\n",
        "ax[0, 0].bar(x=gender_counts.index, height=gender_counts.values)\n",
        "ax[0, 0].set_title('gender')\n",
        "ax[0, 1].bar(x=smoker_counts.index, height=smoker_counts.values)\n",
        "ax[0, 1].set_title('smoker')\n",
        "ax[1, 0].bar(x=day_counts.index, height=day_counts.values)\n",
        "ax[1, 0].set_title('day')\n",
        "ax[1, 1].bar(x=time_counts.index, height=time_counts.values)\n",
        "ax[1, 1].set_title('time')"
      ],
      "execution_count": null,
      "outputs": [
        {
          "output_type": "execute_result",
          "data": {
            "text/plain": [
              "Text(0.5, 1.0, 'time')"
            ]
          },
          "metadata": {
            "tags": []
          },
          "execution_count": 47
        },
        {
          "output_type": "display_data",
          "data": {
            "image/png": "[encoded data removed]",
            "text/plain": [
              "<Figure size 576x576 with 4 Axes>"
            ]
          },
          "metadata": {
            "tags": [],
            "needs_background": "light"
          }
        }
      ]
    },
    {
      "cell_type": "markdown",
      "metadata": {
        "id": "9akhu9HZbfat"
      },
      "source": [
        "## 산점도 그래프(scatter plot)\n",
        "두 변수 사이의 상관관계"
      ]
    },
    {
      "cell_type": "code",
      "metadata": {
        "colab": {
          "base_uri": "https://localhost:8080/",
          "height": 279
        },
        "id": "1isCKN0ybhVR",
        "outputId": "b37edbf8-3d5e-4f2e-95ef-a4f07aedc47f"
      },
      "source": [
        "plt.scatter(x=tips['total_bill'], y =tips['tip'],\n",
        "                    alpha=0.4, marker='^', s=60, color='purple')\n",
        "# alpha : 불투명도(0.0: 투명 ~ 1.0: 완전불투명)\n",
        "# marker: 점의 모양()\n",
        "# s: 점의 크기 (size)\n",
        "# color: 점의 색깔\n",
        "plt.grid()\n",
        "plt.xlabel('Total bill')\n",
        "plt.ylabel('Tip')\n",
        "plt.show()"
      ],
      "execution_count": null,
      "outputs": [
        {
          "output_type": "display_data",
          "data": {
            "image/png": "[encoded data removed]",
            "text/plain": [
              "<Figure size 432x288 with 1 Axes>"
            ]
          },
          "metadata": {
            "tags": [],
            "needs_background": "light"
          }
        }
      ]
    },
    {
      "cell_type": "markdown",
      "metadata": {
        "id": "VO8T9D3tenFN"
      },
      "source": [
        "# 선그래프 "
      ]
    },
    {
      "cell_type": "code",
      "metadata": {
        "colab": {
          "base_uri": "https://localhost:8080/",
          "height": 363
        },
        "id": "aPqvbdGddDpf",
        "outputId": "1a301f79-cb16-42b6-c394-4251b780839c"
      },
      "source": [
        "np.random.seed(1)\n",
        "df = pd.DataFrame({'x1' : np.arange(10),\n",
        "                                    'x2' : np.random.rand(10)})\n",
        "\n",
        "df"
      ],
      "execution_count": null,
      "outputs": [
        {
          "output_type": "execute_result",
          "data": {
            "text/html": [
              "<div>\n",
              "<style scoped>\n",
              "    .dataframe tbody tr th:only-of-type {\n",
              "        vertical-align: middle;\n",
              "    }\n",
              "\n",
              "    .dataframe tbody tr th {\n",
              "        vertical-align: top;\n",
              "    }\n",
              "\n",
              "    .dataframe thead th {\n",
              "        text-align: right;\n",
              "    }\n",
              "</style>\n",
              "<table border=\"1\" class=\"dataframe\">\n",
              "  <thead>\n",
              "    <tr style=\"text-align: right;\">\n",
              "      <th></th>\n",
              "      <th>x1</th>\n",
              "      <th>x2</th>\n",
              "    </tr>\n",
              "  </thead>\n",
              "  <tbody>\n",
              "    <tr>\n",
              "      <th>0</th>\n",
              "      <td>0</td>\n",
              "      <td>0.417022</td>\n",
              "    </tr>\n",
              "    <tr>\n",
              "      <th>1</th>\n",
              "      <td>1</td>\n",
              "      <td>0.720324</td>\n",
              "    </tr>\n",
              "    <tr>\n",
              "      <th>2</th>\n",
              "      <td>2</td>\n",
              "      <td>0.000114</td>\n",
              "    </tr>\n",
              "    <tr>\n",
              "      <th>3</th>\n",
              "      <td>3</td>\n",
              "      <td>0.302333</td>\n",
              "    </tr>\n",
              "    <tr>\n",
              "      <th>4</th>\n",
              "      <td>4</td>\n",
              "      <td>0.146756</td>\n",
              "    </tr>\n",
              "    <tr>\n",
              "      <th>5</th>\n",
              "      <td>5</td>\n",
              "      <td>0.092339</td>\n",
              "    </tr>\n",
              "    <tr>\n",
              "      <th>6</th>\n",
              "      <td>6</td>\n",
              "      <td>0.186260</td>\n",
              "    </tr>\n",
              "    <tr>\n",
              "      <th>7</th>\n",
              "      <td>7</td>\n",
              "      <td>0.345561</td>\n",
              "    </tr>\n",
              "    <tr>\n",
              "      <th>8</th>\n",
              "      <td>8</td>\n",
              "      <td>0.396767</td>\n",
              "    </tr>\n",
              "    <tr>\n",
              "      <th>9</th>\n",
              "      <td>9</td>\n",
              "      <td>0.538817</td>\n",
              "    </tr>\n",
              "  </tbody>\n",
              "</table>\n",
              "</div>"
            ],
            "text/plain": [
              "   x1        x2\n",
              "0   0  0.417022\n",
              "1   1  0.720324\n",
              "2   2  0.000114\n",
              "3   3  0.302333\n",
              "4   4  0.146756\n",
              "5   5  0.092339\n",
              "6   6  0.186260\n",
              "7   7  0.345561\n",
              "8   8  0.396767\n",
              "9   9  0.538817"
            ]
          },
          "metadata": {
            "tags": []
          },
          "execution_count": 49
        }
      ]
    },
    {
      "cell_type": "code",
      "metadata": {
        "colab": {
          "base_uri": "https://localhost:8080/",
          "height": 265
        },
        "id": "BwIyVg73fCHX",
        "outputId": "1518327e-f9e3-45a2-ff65-dc305e2a6d49"
      },
      "source": [
        "plt.plot(df['x1'], df['x2'])\n",
        "plt.grid()\n",
        "plt.show()"
      ],
      "execution_count": null,
      "outputs": [
        {
          "output_type": "display_data",
          "data": {
            "image/png": "[encoded data removed]",
            "text/plain": [
              "<Figure size 432x288 with 1 Axes>"
            ]
          },
          "metadata": {
            "tags": [],
            "needs_background": "light"
          }
        }
      ]
    },
    {
      "cell_type": "code",
      "metadata": {
        "colab": {
          "base_uri": "https://localhost:8080/",
          "height": 265
        },
        "id": "XK2RuhH4f8cN",
        "outputId": "a04b4a9a-e1ca-40b3-ca93-13e5001ffed1"
      },
      "source": [
        "plt.plot(df['x1'], df['x2'], 'bo:')\n",
        "# 'bo-': format string. color, marker, linestyle을 설정\n",
        "# color: b, g, r, k, ...\n",
        "# marker: o, s, v, ^...\n",
        "# linestyle: -, --, :, ...\n",
        "plt.show()"
      ],
      "execution_count": null,
      "outputs": [
        {
          "output_type": "display_data",
          "data": {
            "image/png": "[encoded data removed]",
            "text/plain": [
              "<Figure size 432x288 with 1 Axes>"
            ]
          },
          "metadata": {
            "tags": [],
            "needs_background": "light"
          }
        }
      ]
    },
    {
      "cell_type": "code",
      "metadata": {
        "colab": {
          "base_uri": "https://localhost:8080/",
          "height": 265
        },
        "id": "bpRbSYQlhFkN",
        "outputId": "1614ff5e-0dc9-4324-a0d5-e459b07b6ae6"
      },
      "source": [
        "plt.plot(df['x1'], df['x2'], color='green', marker='^', linestyle='dotted')\n",
        "plt.show()"
      ],
      "execution_count": null,
      "outputs": [
        {
          "output_type": "display_data",
          "data": {
            "image/png": "[encoded data removed]",
            "text/plain": [
              "<Figure size 432x288 with 1 Axes>"
            ]
          },
          "metadata": {
            "tags": [],
            "needs_background": "light"
          }
        }
      ]
    },
    {
      "cell_type": "markdown",
      "metadata": {
        "id": "r8H6poKXhr-a"
      },
      "source": [
        "plot 함수에서 `linestyle=''`로 설정하면 `scatter` 함수와 동일"
      ]
    },
    {
      "cell_type": "code",
      "metadata": {
        "colab": {
          "base_uri": "https://localhost:8080/",
          "height": 265
        },
        "id": "txfFiGprhwEs",
        "outputId": "4ced9d81-b71b-4475-d556-a0616fc1eb1c"
      },
      "source": [
        "plt.plot(df['x1'], df['x2'], 'bo')   # linestyle='' \n",
        "plt.show()"
      ],
      "execution_count": null,
      "outputs": [
        {
          "output_type": "display_data",
          "data": {
            "image/png": "[encoded data removed]",
            "text/plain": [
              "<Figure size 432x288 with 1 Axes>"
            ]
          },
          "metadata": {
            "tags": [],
            "needs_background": "light"
          }
        }
      ]
    },
    {
      "cell_type": "markdown",
      "metadata": {
        "id": "LtoUmiomiTAU"
      },
      "source": [
        "1개의 plot에 여러개의 선 그래프 그리기 "
      ]
    },
    {
      "cell_type": "code",
      "metadata": {
        "colab": {
          "base_uri": "https://localhost:8080/",
          "height": 363
        },
        "id": "d2nOznsUiXFd",
        "outputId": "c1daf757-68bd-4f11-d1ae-8bc88f842168"
      },
      "source": [
        "np.random.seed(1)\n",
        "df = pd.DataFrame({'y1' : np.random.rand(10),\n",
        "                                    'y2' : np.random.rand(10),\n",
        "                                    'y3' : np.random.rand(10)})\n",
        "\n",
        "df"
      ],
      "execution_count": null,
      "outputs": [
        {
          "output_type": "execute_result",
          "data": {
            "text/html": [
              "<div>\n",
              "<style scoped>\n",
              "    .dataframe tbody tr th:only-of-type {\n",
              "        vertical-align: middle;\n",
              "    }\n",
              "\n",
              "    .dataframe tbody tr th {\n",
              "        vertical-align: top;\n",
              "    }\n",
              "\n",
              "    .dataframe thead th {\n",
              "        text-align: right;\n",
              "    }\n",
              "</style>\n",
              "<table border=\"1\" class=\"dataframe\">\n",
              "  <thead>\n",
              "    <tr style=\"text-align: right;\">\n",
              "      <th></th>\n",
              "      <th>y1</th>\n",
              "      <th>y2</th>\n",
              "      <th>y3</th>\n",
              "    </tr>\n",
              "  </thead>\n",
              "  <tbody>\n",
              "    <tr>\n",
              "      <th>0</th>\n",
              "      <td>0.417022</td>\n",
              "      <td>0.419195</td>\n",
              "      <td>0.800745</td>\n",
              "    </tr>\n",
              "    <tr>\n",
              "      <th>1</th>\n",
              "      <td>0.720324</td>\n",
              "      <td>0.685220</td>\n",
              "      <td>0.968262</td>\n",
              "    </tr>\n",
              "    <tr>\n",
              "      <th>2</th>\n",
              "      <td>0.000114</td>\n",
              "      <td>0.204452</td>\n",
              "      <td>0.313424</td>\n",
              "    </tr>\n",
              "    <tr>\n",
              "      <th>3</th>\n",
              "      <td>0.302333</td>\n",
              "      <td>0.878117</td>\n",
              "      <td>0.692323</td>\n",
              "    </tr>\n",
              "    <tr>\n",
              "      <th>4</th>\n",
              "      <td>0.146756</td>\n",
              "      <td>0.027388</td>\n",
              "      <td>0.876389</td>\n",
              "    </tr>\n",
              "    <tr>\n",
              "      <th>5</th>\n",
              "      <td>0.092339</td>\n",
              "      <td>0.670468</td>\n",
              "      <td>0.894607</td>\n",
              "    </tr>\n",
              "    <tr>\n",
              "      <th>6</th>\n",
              "      <td>0.186260</td>\n",
              "      <td>0.417305</td>\n",
              "      <td>0.085044</td>\n",
              "    </tr>\n",
              "    <tr>\n",
              "      <th>7</th>\n",
              "      <td>0.345561</td>\n",
              "      <td>0.558690</td>\n",
              "      <td>0.039055</td>\n",
              "    </tr>\n",
              "    <tr>\n",
              "      <th>8</th>\n",
              "      <td>0.396767</td>\n",
              "      <td>0.140387</td>\n",
              "      <td>0.169830</td>\n",
              "    </tr>\n",
              "    <tr>\n",
              "      <th>9</th>\n",
              "      <td>0.538817</td>\n",
              "      <td>0.198101</td>\n",
              "      <td>0.878143</td>\n",
              "    </tr>\n",
              "  </tbody>\n",
              "</table>\n",
              "</div>"
            ],
            "text/plain": [
              "         y1        y2        y3\n",
              "0  0.417022  0.419195  0.800745\n",
              "1  0.720324  0.685220  0.968262\n",
              "2  0.000114  0.204452  0.313424\n",
              "3  0.302333  0.878117  0.692323\n",
              "4  0.146756  0.027388  0.876389\n",
              "5  0.092339  0.670468  0.894607\n",
              "6  0.186260  0.417305  0.085044\n",
              "7  0.345561  0.558690  0.039055\n",
              "8  0.396767  0.140387  0.169830\n",
              "9  0.538817  0.198101  0.878143"
            ]
          },
          "metadata": {
            "tags": []
          },
          "execution_count": 54
        }
      ]
    },
    {
      "cell_type": "code",
      "metadata": {
        "colab": {
          "base_uri": "https://localhost:8080/",
          "height": 266
        },
        "id": "DFiaZncRieOC",
        "outputId": "eac60d69-16dd-4cfb-aa69-9a8a3af3253c"
      },
      "source": [
        "plt.plot(df['y1'], label='y1')\n",
        "plt.plot(df['y2'], label='y2')\n",
        "plt.plot(df['y3'], label='y3')\n",
        "\n",
        "plt.legend()\n",
        "plt.show()"
      ],
      "execution_count": null,
      "outputs": [
        {
          "output_type": "display_data",
          "data": {
            "image/png": "[encoded data removed]",
            "text/plain": [
              "<Figure size 432x288 with 1 Axes>"
            ]
          },
          "metadata": {
            "tags": [],
            "needs_background": "light"
          }
        }
      ]
    },
    {
      "cell_type": "markdown",
      "metadata": {
        "id": "WVGbK85DkmN4"
      },
      "source": [
        "# Exercise\n",
        "\n",
        "* seaborn 패키지의 iris예제 데이터 셋을 로드 \n",
        "* DataFrame의 구조 확인 \n",
        "* petal_width ~ petal_length 산점도 그래프 \n",
        "    * species별로 marker의 색깔이 다르게 표현 "
      ]
    },
    {
      "cell_type": "code",
      "metadata": {
        "colab": {
          "base_uri": "https://localhost:8080/",
          "height": 423
        },
        "id": "tJIy4IuCk12g",
        "outputId": "3def23de-fa17-4b87-ffec-ae7532833012"
      },
      "source": [
        "iris = sns.load_dataset('iris')\n",
        "iris"
      ],
      "execution_count": null,
      "outputs": [
        {
          "output_type": "execute_result",
          "data": {
            "text/html": [
              "<div>\n",
              "<style scoped>\n",
              "    .dataframe tbody tr th:only-of-type {\n",
              "        vertical-align: middle;\n",
              "    }\n",
              "\n",
              "    .dataframe tbody tr th {\n",
              "        vertical-align: top;\n",
              "    }\n",
              "\n",
              "    .dataframe thead th {\n",
              "        text-align: right;\n",
              "    }\n",
              "</style>\n",
              "<table border=\"1\" class=\"dataframe\">\n",
              "  <thead>\n",
              "    <tr style=\"text-align: right;\">\n",
              "      <th></th>\n",
              "      <th>sepal_length</th>\n",
              "      <th>sepal_width</th>\n",
              "      <th>petal_length</th>\n",
              "      <th>petal_width</th>\n",
              "      <th>species</th>\n",
              "    </tr>\n",
              "  </thead>\n",
              "  <tbody>\n",
              "    <tr>\n",
              "      <th>0</th>\n",
              "      <td>5.1</td>\n",
              "      <td>3.5</td>\n",
              "      <td>1.4</td>\n",
              "      <td>0.2</td>\n",
              "      <td>setosa</td>\n",
              "    </tr>\n",
              "    <tr>\n",
              "      <th>1</th>\n",
              "      <td>4.9</td>\n",
              "      <td>3.0</td>\n",
              "      <td>1.4</td>\n",
              "      <td>0.2</td>\n",
              "      <td>setosa</td>\n",
              "    </tr>\n",
              "    <tr>\n",
              "      <th>2</th>\n",
              "      <td>4.7</td>\n",
              "      <td>3.2</td>\n",
              "      <td>1.3</td>\n",
              "      <td>0.2</td>\n",
              "      <td>setosa</td>\n",
              "    </tr>\n",
              "    <tr>\n",
              "      <th>3</th>\n",
              "      <td>4.6</td>\n",
              "      <td>3.1</td>\n",
              "      <td>1.5</td>\n",
              "      <td>0.2</td>\n",
              "      <td>setosa</td>\n",
              "    </tr>\n",
              "    <tr>\n",
              "      <th>4</th>\n",
              "      <td>5.0</td>\n",
              "      <td>3.6</td>\n",
              "      <td>1.4</td>\n",
              "      <td>0.2</td>\n",
              "      <td>setosa</td>\n",
              "    </tr>\n",
              "    <tr>\n",
              "      <th>...</th>\n",
              "      <td>...</td>\n",
              "      <td>...</td>\n",
              "      <td>...</td>\n",
              "      <td>...</td>\n",
              "      <td>...</td>\n",
              "    </tr>\n",
              "    <tr>\n",
              "      <th>145</th>\n",
              "      <td>6.7</td>\n",
              "      <td>3.0</td>\n",
              "      <td>5.2</td>\n",
              "      <td>2.3</td>\n",
              "      <td>virginica</td>\n",
              "    </tr>\n",
              "    <tr>\n",
              "      <th>146</th>\n",
              "      <td>6.3</td>\n",
              "      <td>2.5</td>\n",
              "      <td>5.0</td>\n",
              "      <td>1.9</td>\n",
              "      <td>virginica</td>\n",
              "    </tr>\n",
              "    <tr>\n",
              "      <th>147</th>\n",
              "      <td>6.5</td>\n",
              "      <td>3.0</td>\n",
              "      <td>5.2</td>\n",
              "      <td>2.0</td>\n",
              "      <td>virginica</td>\n",
              "    </tr>\n",
              "    <tr>\n",
              "      <th>148</th>\n",
              "      <td>6.2</td>\n",
              "      <td>3.4</td>\n",
              "      <td>5.4</td>\n",
              "      <td>2.3</td>\n",
              "      <td>virginica</td>\n",
              "    </tr>\n",
              "    <tr>\n",
              "      <th>149</th>\n",
              "      <td>5.9</td>\n",
              "      <td>3.0</td>\n",
              "      <td>5.1</td>\n",
              "      <td>1.8</td>\n",
              "      <td>virginica</td>\n",
              "    </tr>\n",
              "  </tbody>\n",
              "</table>\n",
              "<p>150 rows × 5 columns</p>\n",
              "</div>"
            ],
            "text/plain": [
              "     sepal_length  sepal_width  petal_length  petal_width    species\n",
              "0             5.1          3.5           1.4          0.2     setosa\n",
              "1             4.9          3.0           1.4          0.2     setosa\n",
              "2             4.7          3.2           1.3          0.2     setosa\n",
              "3             4.6          3.1           1.5          0.2     setosa\n",
              "4             5.0          3.6           1.4          0.2     setosa\n",
              "..            ...          ...           ...          ...        ...\n",
              "145           6.7          3.0           5.2          2.3  virginica\n",
              "146           6.3          2.5           5.0          1.9  virginica\n",
              "147           6.5          3.0           5.2          2.0  virginica\n",
              "148           6.2          3.4           5.4          2.3  virginica\n",
              "149           5.9          3.0           5.1          1.8  virginica\n",
              "\n",
              "[150 rows x 5 columns]"
            ]
          },
          "metadata": {
            "tags": []
          },
          "execution_count": 56
        }
      ]
    },
    {
      "cell_type": "code",
      "metadata": {
        "id": "PzNrc0UfpPD_"
      },
      "source": [
        "setosa = iris[iris['species'] == 'setosa']\n",
        "versicolor = iris[iris['species'] == 'versicolor']\n",
        "virginica = iris[iris['species'] == 'virginica']"
      ],
      "execution_count": null,
      "outputs": []
    },
    {
      "cell_type": "code",
      "metadata": {
        "colab": {
          "base_uri": "https://localhost:8080/",
          "height": 280
        },
        "id": "OUFgO6lJpfJC",
        "outputId": "822d3d57-dca5-455a-ff8b-a6c5b7ba0260"
      },
      "source": [
        "plt.scatter(setosa['petal_length'], setosa['petal_width'], label = 'setosa')\n",
        "plt.scatter(versicolor['petal_length'], versicolor['petal_width'], label='versicolor')\n",
        "plt.scatter(virginica['petal_length'], virginica['petal_width'], label='virginica')\n",
        "\n",
        "plt.legend()\n",
        "plt.xlabel('petal_length')\n",
        "plt.ylabel('petal_width')\n",
        "plt.show()"
      ],
      "execution_count": null,
      "outputs": [
        {
          "output_type": "display_data",
          "data": {
            "image/png": "[encoded data removed]",
            "text/plain": [
              "<Figure size 432x288 with 1 Axes>"
            ]
          },
          "metadata": {
            "tags": [],
            "needs_background": "light"
          }
        }
      ]
    },
    {
      "cell_type": "code",
      "metadata": {
        "colab": {
          "base_uri": "https://localhost:8080/",
          "height": 265
        },
        "id": "J5ivhRl5qxQ2",
        "outputId": "ba27643b-a44c-4411-e338-f9b3473d0f61"
      },
      "source": [
        "# 반복문 사용 \n",
        "species = iris['species'].unique()\n",
        "for s in species:\n",
        "    subset = iris[iris['species'] == s]\n",
        "    plt.scatter(subset['petal_length'], subset['petal_width'], label = s)\n",
        "\n",
        "plt.legend()\n",
        "plt.show()"
      ],
      "execution_count": null,
      "outputs": [
        {
          "output_type": "display_data",
          "data": {
            "image/png": "[encoded data removed]",
            "text/plain": [
              "<Figure size 432x288 with 1 Axes>"
            ]
          },
          "metadata": {
            "tags": [],
            "needs_background": "light"
          }
        }
      ]
    }
  ]
}