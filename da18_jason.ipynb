{
  "nbformat": 4,
  "nbformat_minor": 0,
  "metadata": {
    "colab": {
      "name": "da18_jason.ipynb",
      "provenance": [],
      "collapsed_sections": [],
      "authorship_tag": "ABX9TyO/7dKx/4eaUeOQThYIkgtp",
      "include_colab_link": true
    },
    "kernelspec": {
      "name": "python3",
      "display_name": "Python 3"
    },
    "language_info": {
      "name": "python"
    }
  },
  "cells": [
    {
      "cell_type": "markdown",
      "metadata": {
        "id": "view-in-github",
        "colab_type": "text"
      },
      "source": [
        "<a href=\"https://colab.research.google.com/github/bomnism/DA/blob/main/da18_jason.ipynb\" target=\"_parent\"><img src=\"https://colab.research.google.com/assets/colab-badge.svg\" alt=\"Open In Colab\"/></a>"
      ]
    },
    {
      "cell_type": "markdown",
      "metadata": {
        "id": "oojFdAA1CxZj"
      },
      "source": [
        "# JSON\n",
        " * JSON(JavaScript Object Notations: 자바 스크립트 객체 표현법 \n",
        " * `{key1: value1, key2: value2, ...}` 형식의 문자열(dict)\n",
        " * Python의 `dict` 클래스 객체의 문자열 표현과 비슷 \n",
        " * `json` 모듈 JSON 형식 문자열(str) <----> dict 타입의 객체(object) \n",
        "    * json.dumps(obj): Python 객체 obj를 JSON 형식의 문자열로 변환(serialize, 직렬화)해서   문자열을 리턴\n",
        "    * json.loads(s): JSON 형식의 문자열 s를 Python 객체로 변환(deserialize, 역직렬화)해서 변환된 파이썬 객체를 리턴. \n",
        "    * json.dump(obj, fp): Python 객체 obj를 JSON형식의 문자열로 변환해서 파일 fp에 씀(write)\n",
        "    * json.load(fp): 파일 fp에서 JSON 형식의 문자열을 읽어서 Python 객체로 변환해서, 변환된 객체를 리턴. "
      ]
    },
    {
      "cell_type": "code",
      "metadata": {
        "id": "u7Fm6ygMByX7"
      },
      "source": [
        "import json     # JSON 읽기/쓰기 기능을 가지고 있는 파이썬 기본 모듈\n",
        "import matplotlib.pyplot as plt\n",
        "import numpy as np\n",
        "import pandas as pd\n",
        "import seaborn as sns"
      ],
      "execution_count": 2,
      "outputs": []
    },
    {
      "cell_type": "code",
      "metadata": {
        "id": "D7MdQ6_5IgiN"
      },
      "source": [
        "# json.dumps(obj): Python object ---> JSON formatted string (Serialize, 직렬화) \n",
        "person = {'name' : '홍길동', \n",
        "                    'age' : 16, \n",
        "                    'phones' : ['02-1111-2222', '010-3333-4444']}"
      ],
      "execution_count": 3,
      "outputs": []
    },
    {
      "cell_type": "code",
      "metadata": {
        "colab": {
          "base_uri": "https://localhost:8080/"
        },
        "id": "HqkzP0LhMwlF",
        "outputId": "559a4d41-377b-4681-bb28-866a59800c6d"
      },
      "source": [
        "person"
      ],
      "execution_count": 4,
      "outputs": [
        {
          "output_type": "execute_result",
          "data": {
            "text/plain": [
              "{'age': 16, 'name': '홍길동', 'phones': ['02-1111-2222', '010-3333-4444']}"
            ]
          },
          "metadata": {},
          "execution_count": 4
        }
      ]
    },
    {
      "cell_type": "code",
      "metadata": {
        "colab": {
          "base_uri": "https://localhost:8080/"
        },
        "id": "TOTfXi2-Mycv",
        "outputId": "9dc14669-0013-46bf-e3e5-c51fd27c9392"
      },
      "source": [
        "type(person)"
      ],
      "execution_count": 5,
      "outputs": [
        {
          "output_type": "execute_result",
          "data": {
            "text/plain": [
              "dict"
            ]
          },
          "metadata": {},
          "execution_count": 5
        }
      ]
    },
    {
      "cell_type": "code",
      "metadata": {
        "colab": {
          "base_uri": "https://localhost:8080/",
          "height": 35
        },
        "id": "XpcVrN3eIg9y",
        "outputId": "e4ca31c3-ca57-4e48-8ae9-cc92739b7b61"
      },
      "source": [
        "person_json = json.dumps(person)\n",
        "person_json"
      ],
      "execution_count": 6,
      "outputs": [
        {
          "output_type": "execute_result",
          "data": {
            "application/vnd.google.colaboratory.intrinsic+json": {
              "type": "string"
            },
            "text/plain": [
              "'{\"name\": \"\\\\ud64d\\\\uae38\\\\ub3d9\", \"age\": 16, \"phones\": [\"02-1111-2222\", \"010-3333-4444\"]}'"
            ]
          },
          "metadata": {},
          "execution_count": 6
        }
      ]
    },
    {
      "cell_type": "code",
      "metadata": {
        "colab": {
          "base_uri": "https://localhost:8080/"
        },
        "id": "aQb6vi-uI0yW",
        "outputId": "6530dadf-6c4e-4ba3-bfca-ef43d9832eea"
      },
      "source": [
        "#  json.loads(s): JSON formatted string ---> Python object ( Deseriablize, 역직렬화)\n",
        "result = json.loads(person_json)\n",
        "result"
      ],
      "execution_count": 7,
      "outputs": [
        {
          "output_type": "execute_result",
          "data": {
            "text/plain": [
              "{'age': 16, 'name': '홍길동', 'phones': ['02-1111-2222', '010-3333-4444']}"
            ]
          },
          "metadata": {},
          "execution_count": 7
        }
      ]
    },
    {
      "cell_type": "code",
      "metadata": {
        "colab": {
          "base_uri": "https://localhost:8080/"
        },
        "id": "myvBIEFUNHv1",
        "outputId": "77cab4f2-420a-4517-ec02-7511372281b6"
      },
      "source": [
        "type(result)"
      ],
      "execution_count": 8,
      "outputs": [
        {
          "output_type": "execute_result",
          "data": {
            "text/plain": [
              "dict"
            ]
          },
          "metadata": {},
          "execution_count": 8
        }
      ]
    },
    {
      "cell_type": "markdown",
      "metadata": {
        "id": "cqbYbX2WOsO-"
      },
      "source": [
        "JSON 쓰기/읽기"
      ]
    },
    {
      "cell_type": "code",
      "metadata": {
        "id": "umzUQFkjNIjD"
      },
      "source": [
        "with open('gildong.json', mode='w') as f :      # 파일을 텍스트 쓰기 모드(wt)로 오픈\n",
        "    f.write(person_json)     # 문자열을 파일에 씀 \n",
        "# with ~ as 구문 종료 후 f.close() 자동 호출됨. "
      ],
      "execution_count": 9,
      "outputs": []
    },
    {
      "cell_type": "code",
      "metadata": {
        "colab": {
          "base_uri": "https://localhost:8080/"
        },
        "id": "By_7aBIgPJpQ",
        "outputId": "f1125d2b-83af-4cb6-990e-042a392c040b"
      },
      "source": [
        "with open('gildong.json', mode='r') as f:       # 파일을 텍스트 읽기(rt) 모드로 오픈 \n",
        "    line = f.readline()    # 파일에서 첫번쨰 줄을 읽음 \n",
        "    print(line)      # 파일에서 읽은 JSON 포맷의 문자열\n",
        "    gildong = json.loads(line)    # string ---> dict : deserialize\n",
        "    print(type(gildong))\n",
        "    print(gildong)"
      ],
      "execution_count": 10,
      "outputs": [
        {
          "output_type": "stream",
          "text": [
            "{\"name\": \"\\ud64d\\uae38\\ub3d9\", \"age\": 16, \"phones\": [\"02-1111-2222\", \"010-3333-4444\"]}\n",
            "<class 'dict'>\n",
            "{'name': '홍길동', 'age': 16, 'phones': ['02-1111-2222', '010-3333-4444']}\n"
          ],
          "name": "stdout"
        }
      ]
    },
    {
      "cell_type": "code",
      "metadata": {
        "id": "XOPIh2-0PtpX"
      },
      "source": [
        "# JSON 포맷의 문자열이 한줄씩 저장된 파일 \n",
        "with open('movies.json', mode='w') as f:\n",
        "    # dict 객체 생성\n",
        "    movie1 = {'mid' : 1, 'title' : '모가디슈', 'genre' : 'action'}\n",
        "    movie2 = {'mid' : 2, 'title' : 'black widow'}\n",
        "    movie3 = {'mid' : 3, 'title' : '씽크홀', 'genre' : 'comedy'}\n",
        "\n",
        "    # dict --->  JSON 포맷의 문자열로 변환\n",
        "    m1_s = json.dumps(movie1)\n",
        "    m2_s = json.dumps(movie2)\n",
        "    m3_s = json.dumps(movie3)\n",
        "    # 3개의 문자열을 한줄씩 파일에 write\n",
        "    f.write(m1_s + '\\n')     #  '\\n' : new line(줄바꿈)\n",
        "    f.write(m2_s + '\\n')\n",
        "    f.write(m3_s + '\\n')"
      ],
      "execution_count": 11,
      "outputs": []
    },
    {
      "cell_type": "code",
      "metadata": {
        "colab": {
          "base_uri": "https://localhost:8080/"
        },
        "id": "HxE3ZONvR40r",
        "outputId": "08c61ce0-87df-48b8-d198-ebf3b8441116"
      },
      "source": [
        "# 파일에서 한줄씩 읽으면서 dict객체로 변환하고 리스트에 추가 \n",
        "movies = []    # 한줄씩 읽은 변환한 객체를 저장할 리스트 \n",
        "with open('movies.json', mode='r') as f:      # 파일을 텍스트 읽기(rt) 모드로 open\n",
        "        for line in f:    # 파일에서 한줄씩 읽으면서 반복 \n",
        "            # print(line)\n",
        "            m = json.loads(line.strip())        # json formatted string ---> dict   / strip : 앞뒤 공백 제거 \n",
        "            movies.append(m)     # dict 객체를 리스트에 추가 \n",
        "\n",
        "movies     #> dict 객체를 아이템으로 갖는 리스트 "
      ],
      "execution_count": 12,
      "outputs": [
        {
          "output_type": "execute_result",
          "data": {
            "text/plain": [
              "[{'genre': 'action', 'mid': 1, 'title': '모가디슈'},\n",
              " {'mid': 2, 'title': 'black widow'},\n",
              " {'genre': 'comedy', 'mid': 3, 'title': '씽크홀'}]"
            ]
          },
          "metadata": {},
          "execution_count": 12
        }
      ]
    },
    {
      "cell_type": "code",
      "metadata": {
        "colab": {
          "base_uri": "https://localhost:8080/"
        },
        "id": "wxM3is-6U__i",
        "outputId": "e0743cdf-cb87-4b05-ffd2-6cbb60da7b1e"
      },
      "source": [
        "# list comprehension\n",
        "with open('movies.json', mode='r') as f: \n",
        "    movies_2= [json.loads(s) for s in f]\n",
        "movies_2"
      ],
      "execution_count": 13,
      "outputs": [
        {
          "output_type": "execute_result",
          "data": {
            "text/plain": [
              "[{'genre': 'action', 'mid': 1, 'title': '모가디슈'},\n",
              " {'mid': 2, 'title': 'black widow'},\n",
              " {'genre': 'comedy', 'mid': 3, 'title': '씽크홀'}]"
            ]
          },
          "metadata": {},
          "execution_count": 13
        }
      ]
    },
    {
      "cell_type": "code",
      "metadata": {
        "id": "tDdmdAuOXHut"
      },
      "source": [
        "movies_df = pd.DataFrame(movies)"
      ],
      "execution_count": 14,
      "outputs": []
    },
    {
      "cell_type": "code",
      "metadata": {
        "colab": {
          "base_uri": "https://localhost:8080/",
          "height": 142
        },
        "id": "rQW4W6iDXfWe",
        "outputId": "88c6be93-6a12-4ec1-b0b8-6104fccbc15a"
      },
      "source": [
        "movies_df"
      ],
      "execution_count": 15,
      "outputs": [
        {
          "output_type": "execute_result",
          "data": {
            "text/html": [
              "<div>\n",
              "<style scoped>\n",
              "    .dataframe tbody tr th:only-of-type {\n",
              "        vertical-align: middle;\n",
              "    }\n",
              "\n",
              "    .dataframe tbody tr th {\n",
              "        vertical-align: top;\n",
              "    }\n",
              "\n",
              "    .dataframe thead th {\n",
              "        text-align: right;\n",
              "    }\n",
              "</style>\n",
              "<table border=\"1\" class=\"dataframe\">\n",
              "  <thead>\n",
              "    <tr style=\"text-align: right;\">\n",
              "      <th></th>\n",
              "      <th>mid</th>\n",
              "      <th>title</th>\n",
              "      <th>genre</th>\n",
              "    </tr>\n",
              "  </thead>\n",
              "  <tbody>\n",
              "    <tr>\n",
              "      <th>0</th>\n",
              "      <td>1</td>\n",
              "      <td>모가디슈</td>\n",
              "      <td>action</td>\n",
              "    </tr>\n",
              "    <tr>\n",
              "      <th>1</th>\n",
              "      <td>2</td>\n",
              "      <td>black widow</td>\n",
              "      <td>NaN</td>\n",
              "    </tr>\n",
              "    <tr>\n",
              "      <th>2</th>\n",
              "      <td>3</td>\n",
              "      <td>씽크홀</td>\n",
              "      <td>comedy</td>\n",
              "    </tr>\n",
              "  </tbody>\n",
              "</table>\n",
              "</div>"
            ],
            "text/plain": [
              "   mid        title   genre\n",
              "0    1         모가디슈  action\n",
              "1    2  black widow     NaN\n",
              "2    3          씽크홀  comedy"
            ]
          },
          "metadata": {},
          "execution_count": 15
        }
      ]
    },
    {
      "cell_type": "markdown",
      "metadata": {
        "id": "pEN1pD4AdRT7"
      },
      "source": [
        "# bitly 데이터셋 \n",
        "\n",
        "* https://github.com/wesm/pydata-book/blob/2nd-edition/datasets/bitly_usagov/example.txt 파일을 다운로드 \n",
        "* 다운로드한 파일을 Colab 세션 저장소에 업로드\n",
        "* 업로드한 파일을 읽기 모드로 오픈 \n",
        "* 파일의 첫번째 줄부터 마지막 줄까지 한줄씩 읽으면서 반복 \n",
        "    * 읽은 JSON 포맷의 문자열을 dict 타입 객체로 변환하고 리스트에 추가 (append) \n",
        "* 파일의 내용이 모두 append된 리스트를 DataFrame으로 생성 \n",
        "* 데이터 분석"
      ]
    },
    {
      "cell_type": "code",
      "metadata": {
        "id": "54EYcnTP7DIF"
      },
      "source": [
        "# 업로드한 파일을 읽고 리스트에 데이터들을 추가\n",
        "with open(file='example.txt', mode='r') as f:\n",
        "    # readline ---> JSON formatted string ---> dict ---> append\n",
        "    records = [json.loads(s.strip()) for s in f]"
      ],
      "execution_count": 27,
      "outputs": []
    },
    {
      "cell_type": "code",
      "metadata": {
        "id": "KsVaIQ6sECf7"
      },
      "source": [
        "df = pd.DataFrame(records)"
      ],
      "execution_count": 29,
      "outputs": []
    },
    {
      "cell_type": "code",
      "metadata": {
        "colab": {
          "base_uri": "https://localhost:8080/"
        },
        "id": "lZdmAXpRXmQC",
        "outputId": "93cff139-d228-436f-d0d1-b6e392fbedc2"
      },
      "source": [
        "df.info()\n",
        "#>JSON(반정형 데이터) 데이터들은 Datarame(정형 데이터)으로 변환하면 보통 NA들이 많이 생기게 됨.\n",
        "#> dict의 key는 DataFrame의 컬럼 이름으로 변환 \n",
        "#> dict의 value는 해당 컬럼의 값으로 변환\n"
      ],
      "execution_count": 30,
      "outputs": [
        {
          "output_type": "stream",
          "text": [
            "<class 'pandas.core.frame.DataFrame'>\n",
            "RangeIndex: 3560 entries, 0 to 3559\n",
            "Data columns (total 18 columns):\n",
            " #   Column       Non-Null Count  Dtype  \n",
            "---  ------       --------------  -----  \n",
            " 0   a            3440 non-null   object \n",
            " 1   c            2919 non-null   object \n",
            " 2   nk           3440 non-null   float64\n",
            " 3   tz           3440 non-null   object \n",
            " 4   gr           2919 non-null   object \n",
            " 5   g            3440 non-null   object \n",
            " 6   h            3440 non-null   object \n",
            " 7   l            3440 non-null   object \n",
            " 8   al           3094 non-null   object \n",
            " 9   hh           3440 non-null   object \n",
            " 10  r            3440 non-null   object \n",
            " 11  u            3440 non-null   object \n",
            " 12  t            3440 non-null   float64\n",
            " 13  hc           3440 non-null   float64\n",
            " 14  cy           2919 non-null   object \n",
            " 15  ll           2919 non-null   object \n",
            " 16  _heartbeat_  120 non-null    float64\n",
            " 17  kw           93 non-null     object \n",
            "dtypes: float64(4), object(14)\n",
            "memory usage: 500.8+ KB\n"
          ],
          "name": "stdout"
        }
      ]
    },
    {
      "cell_type": "markdown",
      "metadata": {
        "id": "I-d6JyHU72qV"
      },
      "source": [
        "## 사용자 접속 지역(시간대, timezone) 분석 \n",
        "\n",
        "* tz에는 몇 개의 시간대? \n",
        "* 사용자가 가장 많이 접속한 지역(시간대)?"
      ]
    },
    {
      "cell_type": "code",
      "metadata": {
        "colab": {
          "base_uri": "https://localhost:8080/"
        },
        "id": "qhFvU9olDpu_",
        "outputId": "7544b01b-f6f8-4b32-f80a-1905695781e8"
      },
      "source": [
        "df['tz']"
      ],
      "execution_count": 31,
      "outputs": [
        {
          "output_type": "execute_result",
          "data": {
            "text/plain": [
              "0          America/New_York\n",
              "1            America/Denver\n",
              "2          America/New_York\n",
              "3         America/Sao_Paulo\n",
              "4          America/New_York\n",
              "               ...         \n",
              "3555       America/New_York\n",
              "3556        America/Chicago\n",
              "3557         America/Denver\n",
              "3558    America/Los_Angeles\n",
              "3559       America/New_York\n",
              "Name: tz, Length: 3560, dtype: object"
            ]
          },
          "metadata": {},
          "execution_count": 31
        }
      ]
    },
    {
      "cell_type": "code",
      "metadata": {
        "id": "X3p49rdjEh9-"
      },
      "source": [
        "df_clean = df.copy()"
      ],
      "execution_count": 37,
      "outputs": []
    },
    {
      "cell_type": "code",
      "metadata": {
        "colab": {
          "base_uri": "https://localhost:8080/"
        },
        "id": "6I6zdGlW8EHs",
        "outputId": "791a6df7-c7f3-455f-d2a7-6ca690b674bf"
      },
      "source": [
        "df['tz'].value_counts()"
      ],
      "execution_count": 34,
      "outputs": [
        {
          "output_type": "execute_result",
          "data": {
            "text/plain": [
              "America/New_York             1251\n",
              "                              521\n",
              "America/Chicago               400\n",
              "America/Los_Angeles           382\n",
              "America/Denver                191\n",
              "                             ... \n",
              "America/Monterrey               1\n",
              "America/Argentina/Cordoba       1\n",
              "America/Lima                    1\n",
              "Europe/Skopje                   1\n",
              "Africa/Lusaka                   1\n",
              "Name: tz, Length: 97, dtype: int64"
            ]
          },
          "metadata": {},
          "execution_count": 34
        }
      ]
    },
    {
      "cell_type": "code",
      "metadata": {
        "id": "E6OEDcAw-CK5"
      },
      "source": [
        "# tz 컬럼의 NA 값들을 'Missng' 문자열로 대체\n",
        "df_clean['tz'] = df_clean['tz'].fillna('Missing')"
      ],
      "execution_count": 38,
      "outputs": []
    },
    {
      "cell_type": "code",
      "metadata": {
        "colab": {
          "base_uri": "https://localhost:8080/"
        },
        "id": "Ix5h-_frEoi_",
        "outputId": "b83d93c1-9680-4490-f7c4-7592469801a3"
      },
      "source": [
        "df_clean['tz'].value_counts()"
      ],
      "execution_count": 39,
      "outputs": [
        {
          "output_type": "execute_result",
          "data": {
            "text/plain": [
              "America/New_York         1251\n",
              "                          521\n",
              "America/Chicago           400\n",
              "America/Los_Angeles       382\n",
              "America/Denver            191\n",
              "                         ... \n",
              "America/La_Paz              1\n",
              "Europe/Volgograd            1\n",
              "America/Monterrey           1\n",
              "Asia/Yekaterinburg          1\n",
              "America/Santo_Domingo       1\n",
              "Name: tz, Length: 98, dtype: int64"
            ]
          },
          "metadata": {},
          "execution_count": 39
        }
      ]
    },
    {
      "cell_type": "code",
      "metadata": {
        "id": "UNMy22h_-X-t"
      },
      "source": [
        "# 데이터 가공(Cleaning) 하기 위한 복사본을 만듦\n",
        "df_claen = df.copy()"
      ],
      "execution_count": 35,
      "outputs": []
    },
    {
      "cell_type": "code",
      "metadata": {
        "id": "bimZo_Bm-hG5"
      },
      "source": [
        "# tz 컬럼의 NA값들을 Missing 문자본을 만듦. \n",
        "df clin.loc[{df_Clean, tz }]f"
      ],
      "execution_count": null,
      "outputs": []
    },
    {
      "cell_type": "code",
      "metadata": {
        "colab": {
          "base_uri": "https://localhost:8080/"
        },
        "id": "aOpwBBK5FF2a",
        "outputId": "46c81070-8c12-44ca-c079-a07e3dc1b67e"
      },
      "source": [
        "# 사용자들이 가장 많이 접속한 시간대(timezone) 상위 10개를 시각화\n",
        "top10_tz = df_clean['tz'].value_counts().head(n=10)\n",
        "top10_tz"
      ],
      "execution_count": 40,
      "outputs": [
        {
          "output_type": "execute_result",
          "data": {
            "text/plain": [
              "America/New_York       1251\n",
              "                        521\n",
              "America/Chicago         400\n",
              "America/Los_Angeles     382\n",
              "America/Denver          191\n",
              "Missing                 120\n",
              "Europe/London            74\n",
              "Asia/Tokyo               37\n",
              "Pacific/Honolulu         36\n",
              "Europe/Madrid            35\n",
              "Name: tz, dtype: int64"
            ]
          },
          "metadata": {},
          "execution_count": 40
        }
      ]
    },
    {
      "cell_type": "code",
      "metadata": {
        "colab": {
          "base_uri": "https://localhost:8080/"
        },
        "id": "C9UznUS_FZ5J",
        "outputId": "278ce468-c52a-494e-daf5-499da53ca474"
      },
      "source": [
        "df_clean['tz'].value_counts().tail(n=10)\n",
        "top10_tz"
      ],
      "execution_count": 41,
      "outputs": [
        {
          "output_type": "execute_result",
          "data": {
            "text/plain": [
              "America/New_York       1251\n",
              "                        521\n",
              "America/Chicago         400\n",
              "America/Los_Angeles     382\n",
              "America/Denver          191\n",
              "Missing                 120\n",
              "Europe/London            74\n",
              "Asia/Tokyo               37\n",
              "Pacific/Honolulu         36\n",
              "Europe/Madrid            35\n",
              "Name: tz, dtype: int64"
            ]
          },
          "metadata": {},
          "execution_count": 41
        }
      ]
    },
    {
      "cell_type": "code",
      "metadata": {
        "colab": {
          "base_uri": "https://localhost:8080/",
          "height": 395
        },
        "id": "JLLDjU2eGdaF",
        "outputId": "2f4db3a1-ed68-4b90-fd5e-82338c128821"
      },
      "source": [
        "# 한국 서울 시간대(Asia/Seoul)가 데이터 프레임에 등장할까? \n",
        "df_clean[df_clean.tz == 'Asia/Seoul']\n",
        "df_clean[df_clean.tz.str.lower().str.contains('seoul')]"
      ],
      "execution_count": 44,
      "outputs": [
        {
          "output_type": "execute_result",
          "data": {
            "text/html": [
              "<div>\n",
              "<style scoped>\n",
              "    .dataframe tbody tr th:only-of-type {\n",
              "        vertical-align: middle;\n",
              "    }\n",
              "\n",
              "    .dataframe tbody tr th {\n",
              "        vertical-align: top;\n",
              "    }\n",
              "\n",
              "    .dataframe thead th {\n",
              "        text-align: right;\n",
              "    }\n",
              "</style>\n",
              "<table border=\"1\" class=\"dataframe\">\n",
              "  <thead>\n",
              "    <tr style=\"text-align: right;\">\n",
              "      <th></th>\n",
              "      <th>a</th>\n",
              "      <th>c</th>\n",
              "      <th>nk</th>\n",
              "      <th>tz</th>\n",
              "      <th>gr</th>\n",
              "      <th>g</th>\n",
              "      <th>h</th>\n",
              "      <th>l</th>\n",
              "      <th>al</th>\n",
              "      <th>hh</th>\n",
              "      <th>r</th>\n",
              "      <th>u</th>\n",
              "      <th>t</th>\n",
              "      <th>hc</th>\n",
              "      <th>cy</th>\n",
              "      <th>ll</th>\n",
              "      <th>_heartbeat_</th>\n",
              "      <th>kw</th>\n",
              "    </tr>\n",
              "  </thead>\n",
              "  <tbody>\n",
              "    <tr>\n",
              "      <th>1428</th>\n",
              "      <td>Mozilla/5.0 (Windows NT 5.1) AppleWebKit/535.1...</td>\n",
              "      <td>KR</td>\n",
              "      <td>1.0</td>\n",
              "      <td>Asia/Seoul</td>\n",
              "      <td>11</td>\n",
              "      <td>y7mqmw</td>\n",
              "      <td>w41aUb</td>\n",
              "      <td>rebroth</td>\n",
              "      <td>en-US,en;q=0.8</td>\n",
              "      <td>1.usa.gov</td>\n",
              "      <td>http://t.co/l16apDbA</td>\n",
              "      <td>http://apod.nasa.gov/apod/ap120314.html</td>\n",
              "      <td>1.331925e+09</td>\n",
              "      <td>1.331739e+09</td>\n",
              "      <td>Seoul</td>\n",
              "      <td>[37.566399, 126.999702]</td>\n",
              "      <td>NaN</td>\n",
              "      <td>NaN</td>\n",
              "    </tr>\n",
              "    <tr>\n",
              "      <th>3154</th>\n",
              "      <td>Mozilla/5.0 (iPad; U; CPU iPhone OS 5_0_1 like...</td>\n",
              "      <td>KR</td>\n",
              "      <td>0.0</td>\n",
              "      <td>Asia/Seoul</td>\n",
              "      <td>11</td>\n",
              "      <td>wcndER</td>\n",
              "      <td>zkpJBR</td>\n",
              "      <td>bnjacobs</td>\n",
              "      <td>ko-kr</td>\n",
              "      <td>1.usa.gov</td>\n",
              "      <td>http://m.facebook.com/l.php?u=http%3A%2F%2F1.u...</td>\n",
              "      <td>http://www.nasa.gov/mission_pages/nustar/main/...</td>\n",
              "      <td>1.331926e+09</td>\n",
              "      <td>1.331923e+09</td>\n",
              "      <td>Seoul</td>\n",
              "      <td>[37.566399, 126.999702]</td>\n",
              "      <td>NaN</td>\n",
              "      <td>NaN</td>\n",
              "    </tr>\n",
              "    <tr>\n",
              "      <th>3175</th>\n",
              "      <td>Mozilla/5.0 (iPad; U; CPU iPhone OS 5_0_1 like...</td>\n",
              "      <td>KR</td>\n",
              "      <td>1.0</td>\n",
              "      <td>Asia/Seoul</td>\n",
              "      <td>11</td>\n",
              "      <td>wcndER</td>\n",
              "      <td>zkpJBR</td>\n",
              "      <td>bnjacobs</td>\n",
              "      <td>ko-kr</td>\n",
              "      <td>1.usa.gov</td>\n",
              "      <td>http://m.facebook.com/l.php?u=http%3A%2F%2F1.u...</td>\n",
              "      <td>http://www.nasa.gov/mission_pages/nustar/main/...</td>\n",
              "      <td>1.331926e+09</td>\n",
              "      <td>1.331923e+09</td>\n",
              "      <td>Seoul</td>\n",
              "      <td>[37.566399, 126.999702]</td>\n",
              "      <td>NaN</td>\n",
              "      <td>NaN</td>\n",
              "    </tr>\n",
              "    <tr>\n",
              "      <th>3496</th>\n",
              "      <td>Mozilla/5.0 (iPhone; CPU iPhone OS 5_0_1 like ...</td>\n",
              "      <td>KR</td>\n",
              "      <td>0.0</td>\n",
              "      <td>Asia/Seoul</td>\n",
              "      <td>11</td>\n",
              "      <td>wQacbF</td>\n",
              "      <td>AsWr9f</td>\n",
              "      <td>addthis</td>\n",
              "      <td>en-us</td>\n",
              "      <td>1.usa.gov</td>\n",
              "      <td>https://twitter.com/whitehouse/status/18067782...</td>\n",
              "      <td>http://www.whitehouse.gov/energy/gasprices#.T2...</td>\n",
              "      <td>1.331927e+09</td>\n",
              "      <td>1.331912e+09</td>\n",
              "      <td>Seoul</td>\n",
              "      <td>[37.566399, 126.999702]</td>\n",
              "      <td>NaN</td>\n",
              "      <td>NaN</td>\n",
              "    </tr>\n",
              "    <tr>\n",
              "      <th>3506</th>\n",
              "      <td>Mozilla/5.0 (iPhone; CPU iPhone OS 5_0_1 like ...</td>\n",
              "      <td>KR</td>\n",
              "      <td>0.0</td>\n",
              "      <td>Asia/Seoul</td>\n",
              "      <td>11</td>\n",
              "      <td>wQacbF</td>\n",
              "      <td>AsWr9f</td>\n",
              "      <td>addthis</td>\n",
              "      <td>en-us</td>\n",
              "      <td>1.usa.gov</td>\n",
              "      <td>direct</td>\n",
              "      <td>http://www.whitehouse.gov/energy/gasprices#.T2...</td>\n",
              "      <td>1.331927e+09</td>\n",
              "      <td>1.331912e+09</td>\n",
              "      <td>Seoul</td>\n",
              "      <td>[37.566399, 126.999702]</td>\n",
              "      <td>NaN</td>\n",
              "      <td>NaN</td>\n",
              "    </tr>\n",
              "  </tbody>\n",
              "</table>\n",
              "</div>"
            ],
            "text/plain": [
              "                                                      a   c  ...  _heartbeat_   kw\n",
              "1428  Mozilla/5.0 (Windows NT 5.1) AppleWebKit/535.1...  KR  ...          NaN  NaN\n",
              "3154  Mozilla/5.0 (iPad; U; CPU iPhone OS 5_0_1 like...  KR  ...          NaN  NaN\n",
              "3175  Mozilla/5.0 (iPad; U; CPU iPhone OS 5_0_1 like...  KR  ...          NaN  NaN\n",
              "3496  Mozilla/5.0 (iPhone; CPU iPhone OS 5_0_1 like ...  KR  ...          NaN  NaN\n",
              "3506  Mozilla/5.0 (iPhone; CPU iPhone OS 5_0_1 like ...  KR  ...          NaN  NaN\n",
              "\n",
              "[5 rows x 18 columns]"
            ]
          },
          "metadata": {},
          "execution_count": 44
        }
      ]
    },
    {
      "cell_type": "markdown",
      "metadata": {
        "id": "JQvV0UNNL1NH"
      },
      "source": [
        "# 사용자 접속 국가(c) 분석\n",
        "* 가장 많이 접속한 국가 상위 10개 시각화 "
      ]
    },
    {
      "cell_type": "code",
      "metadata": {
        "id": "anfw3vLSHL8S"
      },
      "source": [
        "df_clean['c'] = df_clean['c'].fillna('Missing')     #NA를 'Missing'으로 대체 \n",
        "df_clean.loc[df_clean.c == ' ', 'c']  = 'Unknown'  # 빈 문자열(' ')을 'Unknown'으로 대체 "
      ],
      "execution_count": 45,
      "outputs": []
    },
    {
      "cell_type": "code",
      "metadata": {
        "colab": {
          "base_uri": "https://localhost:8080/",
          "height": 49
        },
        "id": "fvxMwUBgMgP-",
        "outputId": "554ed931-690e-46c9-e8ba-fa18b81ec99b"
      },
      "source": [
        "df[df.tz == ' ']"
      ],
      "execution_count": 47,
      "outputs": [
        {
          "output_type": "execute_result",
          "data": {
            "text/html": [
              "<div>\n",
              "<style scoped>\n",
              "    .dataframe tbody tr th:only-of-type {\n",
              "        vertical-align: middle;\n",
              "    }\n",
              "\n",
              "    .dataframe tbody tr th {\n",
              "        vertical-align: top;\n",
              "    }\n",
              "\n",
              "    .dataframe thead th {\n",
              "        text-align: right;\n",
              "    }\n",
              "</style>\n",
              "<table border=\"1\" class=\"dataframe\">\n",
              "  <thead>\n",
              "    <tr style=\"text-align: right;\">\n",
              "      <th></th>\n",
              "      <th>a</th>\n",
              "      <th>c</th>\n",
              "      <th>nk</th>\n",
              "      <th>tz</th>\n",
              "      <th>gr</th>\n",
              "      <th>g</th>\n",
              "      <th>h</th>\n",
              "      <th>l</th>\n",
              "      <th>al</th>\n",
              "      <th>hh</th>\n",
              "      <th>r</th>\n",
              "      <th>u</th>\n",
              "      <th>t</th>\n",
              "      <th>hc</th>\n",
              "      <th>cy</th>\n",
              "      <th>ll</th>\n",
              "      <th>_heartbeat_</th>\n",
              "      <th>kw</th>\n",
              "    </tr>\n",
              "  </thead>\n",
              "  <tbody>\n",
              "  </tbody>\n",
              "</table>\n",
              "</div>"
            ],
            "text/plain": [
              "Empty DataFrame\n",
              "Columns: [a, c, nk, tz, gr, g, h, l, al, hh, r, u, t, hc, cy, ll, _heartbeat_, kw]\n",
              "Index: []"
            ]
          },
          "metadata": {},
          "execution_count": 47
        }
      ]
    },
    {
      "cell_type": "code",
      "metadata": {
        "id": "HIWXjiMmMOaa"
      },
      "source": [
        "top10_country = df_clean['c'].value_counts().head(n=10)"
      ],
      "execution_count": 48,
      "outputs": []
    },
    {
      "cell_type": "code",
      "metadata": {
        "colab": {
          "base_uri": "https://localhost:8080/"
        },
        "id": "KfdmkMyyMSSj",
        "outputId": "baa2074e-29cb-4aac-fdc1-174d9d62bd86"
      },
      "source": [
        "top10_country"
      ],
      "execution_count": 49,
      "outputs": [
        {
          "output_type": "execute_result",
          "data": {
            "text/plain": [
              "US         2305\n",
              "Missing     641\n",
              "GB           74\n",
              "CA           60\n",
              "JP           37\n",
              "ES           37\n",
              "BR           35\n",
              "DE           28\n",
              "IT           27\n",
              "NL           22\n",
              "Name: c, dtype: int64"
            ]
          },
          "metadata": {},
          "execution_count": 49
        }
      ]
    },
    {
      "cell_type": "code",
      "metadata": {
        "colab": {
          "base_uri": "https://localhost:8080/",
          "height": 265
        },
        "id": "4t9M07oRMwfE",
        "outputId": "ec9de78a-2b0a-4225-b1b4-52fb17ba6238"
      },
      "source": [
        "sns.barplot(x=top10_country.values, y = top10_country.index)\n",
        "plt.show()"
      ],
      "execution_count": 50,
      "outputs": [
        {
          "output_type": "display_data",
          "data": {
            "image/png": "[encoded data removed]",
            "text/plain": [
              "<Figure size 432x288 with 1 Axes>"
            ]
          },
          "metadata": {
            "needs_background": "light"
          }
        }
      ]
    },
    {
      "cell_type": "code",
      "metadata": {
        "id": "Y2TuYRcINNdZ"
      },
      "source": [
        "# 미국과 NA(Missing)를 제외한 상위 10개 국가 \n",
        "top10_country2 = df_clean['c'].value_counts().iloc[2:12]"
      ],
      "execution_count": 54,
      "outputs": []
    },
    {
      "cell_type": "code",
      "metadata": {
        "colab": {
          "base_uri": "https://localhost:8080/",
          "height": 282
        },
        "id": "Gk1-TWmoOB3u",
        "outputId": "3bd46235-2759-4b2e-abdb-5352e40578f7"
      },
      "source": [
        "sns.barplot(x = top10_country2.values, y = top10_country2.index)"
      ],
      "execution_count": 55,
      "outputs": [
        {
          "output_type": "execute_result",
          "data": {
            "text/plain": [
              "<matplotlib.axes._subplots.AxesSubplot at 0x7f1e9500c890>"
            ]
          },
          "metadata": {},
          "execution_count": 55
        },
        {
          "output_type": "display_data",
          "data": {
            "image/png": "[encoded data removed]",
            "text/plain": [
              "<Figure size 432x288 with 1 Axes>"
            ]
          },
          "metadata": {
            "needs_background": "light"
          }
        }
      ]
    },
    {
      "cell_type": "markdown",
      "metadata": {
        "id": "jwSZos8dX9Rf"
      },
      "source": [
        "# 사용자 접속 환경(OS)분석\n",
        "    * 데이터프레임의 a컬럼의 문자열을 분석하면 OS정보를 일부 알 수 있음. "
      ]
    },
    {
      "cell_type": "markdown",
      "metadata": {
        "id": "idCggxKUYFmA"
      },
      "source": [
        "NA 처리 방법: \n",
        "    * NA를 다른 값으로 대체 \n",
        "        * 평균값 대체, 중앙값 대체, 특정값(예:0) 대체\n",
        "        * 이전 행의 값으로 대체, 다음 행의 값으로 대체 \n",
        "\n",
        "    * NA가 포함된 행(row)을 삭제\n",
        "        * NA가 많지 않은 경우에(행들에 삭제해도 경향이 많이 바뀌지 않을 때) "
      ]
    },
    {
      "cell_type": "code",
      "metadata": {
        "id": "S4SQxVmZOX1n"
      },
      "source": [
        "# 'a' 컬럼이 NA인 행들을 모두 삭제  'a' 컬럼의 값이 NA가 아닌 행들을 선택\n",
        "df_clean = df_clean[df_clean.a.notnull()]      # isnull 반대개념 "
      ],
      "execution_count": 56,
      "outputs": []
    },
    {
      "cell_type": "markdown",
      "metadata": {
        "id": "qnAjIkZlZVOj"
      },
      "source": [
        "\n",
        "* `pd.Series.isnull()` : \n",
        "        * null(NA)인 위치를 찾아주는 메서드 \n",
        "        * Series의 값이 null(NA)이면 True, 아니면 False 리턴하는 메서드.\n",
        "* `pd.Series.notnull()` : Series의 값이 null(NA)가 아니면 True, null이면 False를 리턴하는 메서드."
      ]
    },
    {
      "cell_type": "code",
      "metadata": {
        "colab": {
          "base_uri": "https://localhost:8080/"
        },
        "id": "K8BqNQHRYzrc",
        "outputId": "3af976db-c996-4cce-f111-22ff29ab2058"
      },
      "source": [
        " df_clean.info()"
      ],
      "execution_count": 57,
      "outputs": [
        {
          "output_type": "stream",
          "text": [
            "<class 'pandas.core.frame.DataFrame'>\n",
            "Int64Index: 3440 entries, 0 to 3559\n",
            "Data columns (total 18 columns):\n",
            " #   Column       Non-Null Count  Dtype  \n",
            "---  ------       --------------  -----  \n",
            " 0   a            3440 non-null   object \n",
            " 1   c            3440 non-null   object \n",
            " 2   nk           3440 non-null   float64\n",
            " 3   tz           3440 non-null   object \n",
            " 4   gr           2919 non-null   object \n",
            " 5   g            3440 non-null   object \n",
            " 6   h            3440 non-null   object \n",
            " 7   l            3440 non-null   object \n",
            " 8   al           3094 non-null   object \n",
            " 9   hh           3440 non-null   object \n",
            " 10  r            3440 non-null   object \n",
            " 11  u            3440 non-null   object \n",
            " 12  t            3440 non-null   float64\n",
            " 13  hc           3440 non-null   float64\n",
            " 14  cy           2919 non-null   object \n",
            " 15  ll           2919 non-null   object \n",
            " 16  _heartbeat_  0 non-null      float64\n",
            " 17  kw           93 non-null     object \n",
            "dtypes: float64(4), object(14)\n",
            "memory usage: 510.6+ KB\n"
          ],
          "name": "stdout"
        }
      ]
    },
    {
      "cell_type": "markdown",
      "metadata": {
        "id": "vKZ_BnzJabPy"
      },
      "source": [
        "## 'os' 파생변수를 추가 \n",
        "\n",
        "* 'a' 컬럼의 문자열이 'Windows'를 포함하면, Windows\n",
        "* 'a' 컬럼의 문자열이 'Windows'를 포함하지 않으면, Other"
      ]
    },
    {
      "cell_type": "code",
      "metadata": {
        "id": "4u9i6kvbZFkz"
      },
      "source": [
        "# 'os' 파생변수를 추가 \n",
        "df_clean['os'] = np.where(df_clean.a.str.contains('Windows'), 'Windows', 'Other')"
      ],
      "execution_count": 59,
      "outputs": []
    },
    {
      "cell_type": "code",
      "metadata": {
        "colab": {
          "base_uri": "https://localhost:8080/",
          "height": 204
        },
        "id": "pWqbgCHha4CV",
        "outputId": "81e1925b-1ff2-4c93-9d91-bb1b328bfd1b"
      },
      "source": [
        "df_clean[['a', 'os']].head()"
      ],
      "execution_count": 60,
      "outputs": [
        {
          "output_type": "execute_result",
          "data": {
            "text/html": [
              "<div>\n",
              "<style scoped>\n",
              "    .dataframe tbody tr th:only-of-type {\n",
              "        vertical-align: middle;\n",
              "    }\n",
              "\n",
              "    .dataframe tbody tr th {\n",
              "        vertical-align: top;\n",
              "    }\n",
              "\n",
              "    .dataframe thead th {\n",
              "        text-align: right;\n",
              "    }\n",
              "</style>\n",
              "<table border=\"1\" class=\"dataframe\">\n",
              "  <thead>\n",
              "    <tr style=\"text-align: right;\">\n",
              "      <th></th>\n",
              "      <th>a</th>\n",
              "      <th>os</th>\n",
              "    </tr>\n",
              "  </thead>\n",
              "  <tbody>\n",
              "    <tr>\n",
              "      <th>0</th>\n",
              "      <td>Mozilla/5.0 (Windows NT 6.1; WOW64) AppleWebKi...</td>\n",
              "      <td>Windows</td>\n",
              "    </tr>\n",
              "    <tr>\n",
              "      <th>1</th>\n",
              "      <td>GoogleMaps/RochesterNY</td>\n",
              "      <td>Other</td>\n",
              "    </tr>\n",
              "    <tr>\n",
              "      <th>2</th>\n",
              "      <td>Mozilla/4.0 (compatible; MSIE 8.0; Windows NT ...</td>\n",
              "      <td>Windows</td>\n",
              "    </tr>\n",
              "    <tr>\n",
              "      <th>3</th>\n",
              "      <td>Mozilla/5.0 (Macintosh; Intel Mac OS X 10_6_8)...</td>\n",
              "      <td>Other</td>\n",
              "    </tr>\n",
              "    <tr>\n",
              "      <th>4</th>\n",
              "      <td>Mozilla/5.0 (Windows NT 6.1; WOW64) AppleWebKi...</td>\n",
              "      <td>Windows</td>\n",
              "    </tr>\n",
              "  </tbody>\n",
              "</table>\n",
              "</div>"
            ],
            "text/plain": [
              "                                                   a       os\n",
              "0  Mozilla/5.0 (Windows NT 6.1; WOW64) AppleWebKi...  Windows\n",
              "1                             GoogleMaps/RochesterNY    Other\n",
              "2  Mozilla/4.0 (compatible; MSIE 8.0; Windows NT ...  Windows\n",
              "3  Mozilla/5.0 (Macintosh; Intel Mac OS X 10_6_8)...    Other\n",
              "4  Mozilla/5.0 (Windows NT 6.1; WOW64) AppleWebKi...  Windows"
            ]
          },
          "metadata": {},
          "execution_count": 60
        }
      ]
    },
    {
      "cell_type": "code",
      "metadata": {
        "colab": {
          "base_uri": "https://localhost:8080/"
        },
        "id": "zIuoiPh5cf_N",
        "outputId": "4e467ef1-d2cf-4833-f0a7-2120115ff657"
      },
      "source": [
        "df_clean['os'].value_counts()"
      ],
      "execution_count": 61,
      "outputs": [
        {
          "output_type": "execute_result",
          "data": {
            "text/plain": [
              "Windows    2246\n",
              "Other      1194\n",
              "Name: os, dtype: int64"
            ]
          },
          "metadata": {},
          "execution_count": 61
        }
      ]
    },
    {
      "cell_type": "markdown",
      "metadata": {
        "id": "yhGGaI53dvvl"
      },
      "source": [
        "## 사용자 시간대(timezone)별, 운영체제(OS)별 빈도수, 상위 10개 시각화 "
      ]
    },
    {
      "cell_type": "code",
      "metadata": {
        "colab": {
          "base_uri": "https://localhost:8080/"
        },
        "id": "K0I0qvimdYyP",
        "outputId": "c20f8cf4-b9ee-4caa-a8af-96423e4e8cf3"
      },
      "source": [
        "df_clean.groupby(['tz', 'os']).size()"
      ],
      "execution_count": 62,
      "outputs": [
        {
          "output_type": "execute_result",
          "data": {
            "text/plain": [
              "tz                 os     \n",
              "                   Other      245\n",
              "                   Windows    276\n",
              "Africa/Cairo       Windows      3\n",
              "Africa/Casablanca  Windows      1\n",
              "Africa/Ceuta       Windows      2\n",
              "                             ... \n",
              "Europe/Warsaw      Windows     15\n",
              "Europe/Zurich      Other        4\n",
              "Pacific/Auckland   Other        3\n",
              "                   Windows      8\n",
              "Pacific/Honolulu   Windows     36\n",
              "Length: 149, dtype: int64"
            ]
          },
          "metadata": {},
          "execution_count": 62
        }
      ]
    },
    {
      "cell_type": "code",
      "metadata": {
        "colab": {
          "base_uri": "https://localhost:8080/",
          "height": 450
        },
        "id": "HnuaAfn5mBpJ",
        "outputId": "690969e4-8fcc-4e7e-b36d-593326df0b06"
      },
      "source": [
        "# unstack: Series에서 인덱스의 값을 컬럼 이름으로 변환. long ---> wide\n",
        "df_clean.groupby(['tz', 'os']).size().unstack()"
      ],
      "execution_count": 64,
      "outputs": [
        {
          "output_type": "execute_result",
          "data": {
            "text/html": [
              "<div>\n",
              "<style scoped>\n",
              "    .dataframe tbody tr th:only-of-type {\n",
              "        vertical-align: middle;\n",
              "    }\n",
              "\n",
              "    .dataframe tbody tr th {\n",
              "        vertical-align: top;\n",
              "    }\n",
              "\n",
              "    .dataframe thead th {\n",
              "        text-align: right;\n",
              "    }\n",
              "</style>\n",
              "<table border=\"1\" class=\"dataframe\">\n",
              "  <thead>\n",
              "    <tr style=\"text-align: right;\">\n",
              "      <th>os</th>\n",
              "      <th>Other</th>\n",
              "      <th>Windows</th>\n",
              "    </tr>\n",
              "    <tr>\n",
              "      <th>tz</th>\n",
              "      <th></th>\n",
              "      <th></th>\n",
              "    </tr>\n",
              "  </thead>\n",
              "  <tbody>\n",
              "    <tr>\n",
              "      <th></th>\n",
              "      <td>245.0</td>\n",
              "      <td>276.0</td>\n",
              "    </tr>\n",
              "    <tr>\n",
              "      <th>Africa/Cairo</th>\n",
              "      <td>NaN</td>\n",
              "      <td>3.0</td>\n",
              "    </tr>\n",
              "    <tr>\n",
              "      <th>Africa/Casablanca</th>\n",
              "      <td>NaN</td>\n",
              "      <td>1.0</td>\n",
              "    </tr>\n",
              "    <tr>\n",
              "      <th>Africa/Ceuta</th>\n",
              "      <td>NaN</td>\n",
              "      <td>2.0</td>\n",
              "    </tr>\n",
              "    <tr>\n",
              "      <th>Africa/Johannesburg</th>\n",
              "      <td>NaN</td>\n",
              "      <td>1.0</td>\n",
              "    </tr>\n",
              "    <tr>\n",
              "      <th>...</th>\n",
              "      <td>...</td>\n",
              "      <td>...</td>\n",
              "    </tr>\n",
              "    <tr>\n",
              "      <th>Europe/Volgograd</th>\n",
              "      <td>NaN</td>\n",
              "      <td>1.0</td>\n",
              "    </tr>\n",
              "    <tr>\n",
              "      <th>Europe/Warsaw</th>\n",
              "      <td>1.0</td>\n",
              "      <td>15.0</td>\n",
              "    </tr>\n",
              "    <tr>\n",
              "      <th>Europe/Zurich</th>\n",
              "      <td>4.0</td>\n",
              "      <td>NaN</td>\n",
              "    </tr>\n",
              "    <tr>\n",
              "      <th>Pacific/Auckland</th>\n",
              "      <td>3.0</td>\n",
              "      <td>8.0</td>\n",
              "    </tr>\n",
              "    <tr>\n",
              "      <th>Pacific/Honolulu</th>\n",
              "      <td>NaN</td>\n",
              "      <td>36.0</td>\n",
              "    </tr>\n",
              "  </tbody>\n",
              "</table>\n",
              "<p>97 rows × 2 columns</p>\n",
              "</div>"
            ],
            "text/plain": [
              "os                   Other  Windows\n",
              "tz                                 \n",
              "                     245.0    276.0\n",
              "Africa/Cairo           NaN      3.0\n",
              "Africa/Casablanca      NaN      1.0\n",
              "Africa/Ceuta           NaN      2.0\n",
              "Africa/Johannesburg    NaN      1.0\n",
              "...                    ...      ...\n",
              "Europe/Volgograd       NaN      1.0\n",
              "Europe/Warsaw          1.0     15.0\n",
              "Europe/Zurich          4.0      NaN\n",
              "Pacific/Auckland       3.0      8.0\n",
              "Pacific/Honolulu       NaN     36.0\n",
              "\n",
              "[97 rows x 2 columns]"
            ]
          },
          "metadata": {},
          "execution_count": 64
        }
      ]
    },
    {
      "cell_type": "code",
      "metadata": {
        "colab": {
          "base_uri": "https://localhost:8080/",
          "height": 450
        },
        "id": "bNxOil-fm47m",
        "outputId": "713223fe-2241-46ff-cf3c-460f88c7e7e0"
      },
      "source": [
        "# unstack 과정에서 NA들이 생기게 됨 ---> NA를 0으로 대체 \n",
        "tz_os_counts = df_clean.groupby(['tz', 'os']).size().unstack().fillna(0)\n",
        "tz_os_counts"
      ],
      "execution_count": 66,
      "outputs": [
        {
          "output_type": "execute_result",
          "data": {
            "text/html": [
              "<div>\n",
              "<style scoped>\n",
              "    .dataframe tbody tr th:only-of-type {\n",
              "        vertical-align: middle;\n",
              "    }\n",
              "\n",
              "    .dataframe tbody tr th {\n",
              "        vertical-align: top;\n",
              "    }\n",
              "\n",
              "    .dataframe thead th {\n",
              "        text-align: right;\n",
              "    }\n",
              "</style>\n",
              "<table border=\"1\" class=\"dataframe\">\n",
              "  <thead>\n",
              "    <tr style=\"text-align: right;\">\n",
              "      <th>os</th>\n",
              "      <th>Other</th>\n",
              "      <th>Windows</th>\n",
              "    </tr>\n",
              "    <tr>\n",
              "      <th>tz</th>\n",
              "      <th></th>\n",
              "      <th></th>\n",
              "    </tr>\n",
              "  </thead>\n",
              "  <tbody>\n",
              "    <tr>\n",
              "      <th></th>\n",
              "      <td>245.0</td>\n",
              "      <td>276.0</td>\n",
              "    </tr>\n",
              "    <tr>\n",
              "      <th>Africa/Cairo</th>\n",
              "      <td>0.0</td>\n",
              "      <td>3.0</td>\n",
              "    </tr>\n",
              "    <tr>\n",
              "      <th>Africa/Casablanca</th>\n",
              "      <td>0.0</td>\n",
              "      <td>1.0</td>\n",
              "    </tr>\n",
              "    <tr>\n",
              "      <th>Africa/Ceuta</th>\n",
              "      <td>0.0</td>\n",
              "      <td>2.0</td>\n",
              "    </tr>\n",
              "    <tr>\n",
              "      <th>Africa/Johannesburg</th>\n",
              "      <td>0.0</td>\n",
              "      <td>1.0</td>\n",
              "    </tr>\n",
              "    <tr>\n",
              "      <th>...</th>\n",
              "      <td>...</td>\n",
              "      <td>...</td>\n",
              "    </tr>\n",
              "    <tr>\n",
              "      <th>Europe/Volgograd</th>\n",
              "      <td>0.0</td>\n",
              "      <td>1.0</td>\n",
              "    </tr>\n",
              "    <tr>\n",
              "      <th>Europe/Warsaw</th>\n",
              "      <td>1.0</td>\n",
              "      <td>15.0</td>\n",
              "    </tr>\n",
              "    <tr>\n",
              "      <th>Europe/Zurich</th>\n",
              "      <td>4.0</td>\n",
              "      <td>0.0</td>\n",
              "    </tr>\n",
              "    <tr>\n",
              "      <th>Pacific/Auckland</th>\n",
              "      <td>3.0</td>\n",
              "      <td>8.0</td>\n",
              "    </tr>\n",
              "    <tr>\n",
              "      <th>Pacific/Honolulu</th>\n",
              "      <td>0.0</td>\n",
              "      <td>36.0</td>\n",
              "    </tr>\n",
              "  </tbody>\n",
              "</table>\n",
              "<p>97 rows × 2 columns</p>\n",
              "</div>"
            ],
            "text/plain": [
              "os                   Other  Windows\n",
              "tz                                 \n",
              "                     245.0    276.0\n",
              "Africa/Cairo           0.0      3.0\n",
              "Africa/Casablanca      0.0      1.0\n",
              "Africa/Ceuta           0.0      2.0\n",
              "Africa/Johannesburg    0.0      1.0\n",
              "...                    ...      ...\n",
              "Europe/Volgograd       0.0      1.0\n",
              "Europe/Warsaw          1.0     15.0\n",
              "Europe/Zurich          4.0      0.0\n",
              "Pacific/Auckland       3.0      8.0\n",
              "Pacific/Honolulu       0.0     36.0\n",
              "\n",
              "[97 rows x 2 columns]"
            ]
          },
          "metadata": {},
          "execution_count": 66
        }
      ]
    },
    {
      "cell_type": "code",
      "metadata": {
        "colab": {
          "base_uri": "https://localhost:8080/",
          "height": 450
        },
        "id": "X85OflBXpB9P",
        "outputId": "f1eb0e3a-90c0-49c9-f510-3633e8c5f122"
      },
      "source": [
        "#  전체(Windows+Other) 접속자 수의 상위 10개 ---> 파생 변수 \n",
        "tz_os_counts['Total'] = tz_os_counts['Other'] + tz_os_counts['Windows']\n",
        "tz_os_counts"
      ],
      "execution_count": 67,
      "outputs": [
        {
          "output_type": "execute_result",
          "data": {
            "text/html": [
              "<div>\n",
              "<style scoped>\n",
              "    .dataframe tbody tr th:only-of-type {\n",
              "        vertical-align: middle;\n",
              "    }\n",
              "\n",
              "    .dataframe tbody tr th {\n",
              "        vertical-align: top;\n",
              "    }\n",
              "\n",
              "    .dataframe thead th {\n",
              "        text-align: right;\n",
              "    }\n",
              "</style>\n",
              "<table border=\"1\" class=\"dataframe\">\n",
              "  <thead>\n",
              "    <tr style=\"text-align: right;\">\n",
              "      <th>os</th>\n",
              "      <th>Other</th>\n",
              "      <th>Windows</th>\n",
              "      <th>Total</th>\n",
              "    </tr>\n",
              "    <tr>\n",
              "      <th>tz</th>\n",
              "      <th></th>\n",
              "      <th></th>\n",
              "      <th></th>\n",
              "    </tr>\n",
              "  </thead>\n",
              "  <tbody>\n",
              "    <tr>\n",
              "      <th></th>\n",
              "      <td>245.0</td>\n",
              "      <td>276.0</td>\n",
              "      <td>521.0</td>\n",
              "    </tr>\n",
              "    <tr>\n",
              "      <th>Africa/Cairo</th>\n",
              "      <td>0.0</td>\n",
              "      <td>3.0</td>\n",
              "      <td>3.0</td>\n",
              "    </tr>\n",
              "    <tr>\n",
              "      <th>Africa/Casablanca</th>\n",
              "      <td>0.0</td>\n",
              "      <td>1.0</td>\n",
              "      <td>1.0</td>\n",
              "    </tr>\n",
              "    <tr>\n",
              "      <th>Africa/Ceuta</th>\n",
              "      <td>0.0</td>\n",
              "      <td>2.0</td>\n",
              "      <td>2.0</td>\n",
              "    </tr>\n",
              "    <tr>\n",
              "      <th>Africa/Johannesburg</th>\n",
              "      <td>0.0</td>\n",
              "      <td>1.0</td>\n",
              "      <td>1.0</td>\n",
              "    </tr>\n",
              "    <tr>\n",
              "      <th>...</th>\n",
              "      <td>...</td>\n",
              "      <td>...</td>\n",
              "      <td>...</td>\n",
              "    </tr>\n",
              "    <tr>\n",
              "      <th>Europe/Volgograd</th>\n",
              "      <td>0.0</td>\n",
              "      <td>1.0</td>\n",
              "      <td>1.0</td>\n",
              "    </tr>\n",
              "    <tr>\n",
              "      <th>Europe/Warsaw</th>\n",
              "      <td>1.0</td>\n",
              "      <td>15.0</td>\n",
              "      <td>16.0</td>\n",
              "    </tr>\n",
              "    <tr>\n",
              "      <th>Europe/Zurich</th>\n",
              "      <td>4.0</td>\n",
              "      <td>0.0</td>\n",
              "      <td>4.0</td>\n",
              "    </tr>\n",
              "    <tr>\n",
              "      <th>Pacific/Auckland</th>\n",
              "      <td>3.0</td>\n",
              "      <td>8.0</td>\n",
              "      <td>11.0</td>\n",
              "    </tr>\n",
              "    <tr>\n",
              "      <th>Pacific/Honolulu</th>\n",
              "      <td>0.0</td>\n",
              "      <td>36.0</td>\n",
              "      <td>36.0</td>\n",
              "    </tr>\n",
              "  </tbody>\n",
              "</table>\n",
              "<p>97 rows × 3 columns</p>\n",
              "</div>"
            ],
            "text/plain": [
              "os                   Other  Windows  Total\n",
              "tz                                        \n",
              "                     245.0    276.0  521.0\n",
              "Africa/Cairo           0.0      3.0    3.0\n",
              "Africa/Casablanca      0.0      1.0    1.0\n",
              "Africa/Ceuta           0.0      2.0    2.0\n",
              "Africa/Johannesburg    0.0      1.0    1.0\n",
              "...                    ...      ...    ...\n",
              "Europe/Volgograd       0.0      1.0    1.0\n",
              "Europe/Warsaw          1.0     15.0   16.0\n",
              "Europe/Zurich          4.0      0.0    4.0\n",
              "Pacific/Auckland       3.0      8.0   11.0\n",
              "Pacific/Honolulu       0.0     36.0   36.0\n",
              "\n",
              "[97 rows x 3 columns]"
            ]
          },
          "metadata": {},
          "execution_count": 67
        }
      ]
    },
    {
      "cell_type": "code",
      "metadata": {
        "colab": {
          "base_uri": "https://localhost:8080/",
          "height": 450
        },
        "id": "MdWYRZS2pXON",
        "outputId": "fa096393-f3f1-4ef3-f9da-857e99b776ef"
      },
      "source": [
        "tz_os_counts.sort_values(by = 'Total')"
      ],
      "execution_count": 68,
      "outputs": [
        {
          "output_type": "execute_result",
          "data": {
            "text/html": [
              "<div>\n",
              "<style scoped>\n",
              "    .dataframe tbody tr th:only-of-type {\n",
              "        vertical-align: middle;\n",
              "    }\n",
              "\n",
              "    .dataframe tbody tr th {\n",
              "        vertical-align: top;\n",
              "    }\n",
              "\n",
              "    .dataframe thead th {\n",
              "        text-align: right;\n",
              "    }\n",
              "</style>\n",
              "<table border=\"1\" class=\"dataframe\">\n",
              "  <thead>\n",
              "    <tr style=\"text-align: right;\">\n",
              "      <th>os</th>\n",
              "      <th>Other</th>\n",
              "      <th>Windows</th>\n",
              "      <th>Total</th>\n",
              "    </tr>\n",
              "    <tr>\n",
              "      <th>tz</th>\n",
              "      <th></th>\n",
              "      <th></th>\n",
              "      <th></th>\n",
              "    </tr>\n",
              "  </thead>\n",
              "  <tbody>\n",
              "    <tr>\n",
              "      <th>America/Mazatlan</th>\n",
              "      <td>1.0</td>\n",
              "      <td>0.0</td>\n",
              "      <td>1.0</td>\n",
              "    </tr>\n",
              "    <tr>\n",
              "      <th>America/La_Paz</th>\n",
              "      <td>0.0</td>\n",
              "      <td>1.0</td>\n",
              "      <td>1.0</td>\n",
              "    </tr>\n",
              "    <tr>\n",
              "      <th>America/Lima</th>\n",
              "      <td>0.0</td>\n",
              "      <td>1.0</td>\n",
              "      <td>1.0</td>\n",
              "    </tr>\n",
              "    <tr>\n",
              "      <th>Europe/Volgograd</th>\n",
              "      <td>0.0</td>\n",
              "      <td>1.0</td>\n",
              "      <td>1.0</td>\n",
              "    </tr>\n",
              "    <tr>\n",
              "      <th>Europe/Sofia</th>\n",
              "      <td>0.0</td>\n",
              "      <td>1.0</td>\n",
              "      <td>1.0</td>\n",
              "    </tr>\n",
              "    <tr>\n",
              "      <th>...</th>\n",
              "      <td>...</td>\n",
              "      <td>...</td>\n",
              "      <td>...</td>\n",
              "    </tr>\n",
              "    <tr>\n",
              "      <th>America/Denver</th>\n",
              "      <td>132.0</td>\n",
              "      <td>59.0</td>\n",
              "      <td>191.0</td>\n",
              "    </tr>\n",
              "    <tr>\n",
              "      <th>America/Los_Angeles</th>\n",
              "      <td>130.0</td>\n",
              "      <td>252.0</td>\n",
              "      <td>382.0</td>\n",
              "    </tr>\n",
              "    <tr>\n",
              "      <th>America/Chicago</th>\n",
              "      <td>115.0</td>\n",
              "      <td>285.0</td>\n",
              "      <td>400.0</td>\n",
              "    </tr>\n",
              "    <tr>\n",
              "      <th></th>\n",
              "      <td>245.0</td>\n",
              "      <td>276.0</td>\n",
              "      <td>521.0</td>\n",
              "    </tr>\n",
              "    <tr>\n",
              "      <th>America/New_York</th>\n",
              "      <td>339.0</td>\n",
              "      <td>912.0</td>\n",
              "      <td>1251.0</td>\n",
              "    </tr>\n",
              "  </tbody>\n",
              "</table>\n",
              "<p>97 rows × 3 columns</p>\n",
              "</div>"
            ],
            "text/plain": [
              "os                   Other  Windows   Total\n",
              "tz                                         \n",
              "America/Mazatlan       1.0      0.0     1.0\n",
              "America/La_Paz         0.0      1.0     1.0\n",
              "America/Lima           0.0      1.0     1.0\n",
              "Europe/Volgograd       0.0      1.0     1.0\n",
              "Europe/Sofia           0.0      1.0     1.0\n",
              "...                    ...      ...     ...\n",
              "America/Denver       132.0     59.0   191.0\n",
              "America/Los_Angeles  130.0    252.0   382.0\n",
              "America/Chicago      115.0    285.0   400.0\n",
              "                     245.0    276.0   521.0\n",
              "America/New_York     339.0    912.0  1251.0\n",
              "\n",
              "[97 rows x 3 columns]"
            ]
          },
          "metadata": {},
          "execution_count": 68
        }
      ]
    },
    {
      "cell_type": "code",
      "metadata": {
        "id": "spxaEIt_pede"
      },
      "source": [
        "top10 = tz_os_counts.sort_values(by = 'Total', ascending=False).head(n=10)"
      ],
      "execution_count": 70,
      "outputs": []
    },
    {
      "cell_type": "code",
      "metadata": {
        "colab": {
          "base_uri": "https://localhost:8080/",
          "height": 390
        },
        "id": "10ayeQkHpztN",
        "outputId": "f49203f3-50a8-4f18-c4dc-1ce1f371fcff"
      },
      "source": [
        "top10"
      ],
      "execution_count": 71,
      "outputs": [
        {
          "output_type": "execute_result",
          "data": {
            "text/html": [
              "<div>\n",
              "<style scoped>\n",
              "    .dataframe tbody tr th:only-of-type {\n",
              "        vertical-align: middle;\n",
              "    }\n",
              "\n",
              "    .dataframe tbody tr th {\n",
              "        vertical-align: top;\n",
              "    }\n",
              "\n",
              "    .dataframe thead th {\n",
              "        text-align: right;\n",
              "    }\n",
              "</style>\n",
              "<table border=\"1\" class=\"dataframe\">\n",
              "  <thead>\n",
              "    <tr style=\"text-align: right;\">\n",
              "      <th>os</th>\n",
              "      <th>Other</th>\n",
              "      <th>Windows</th>\n",
              "      <th>Total</th>\n",
              "    </tr>\n",
              "    <tr>\n",
              "      <th>tz</th>\n",
              "      <th></th>\n",
              "      <th></th>\n",
              "      <th></th>\n",
              "    </tr>\n",
              "  </thead>\n",
              "  <tbody>\n",
              "    <tr>\n",
              "      <th>America/New_York</th>\n",
              "      <td>339.0</td>\n",
              "      <td>912.0</td>\n",
              "      <td>1251.0</td>\n",
              "    </tr>\n",
              "    <tr>\n",
              "      <th></th>\n",
              "      <td>245.0</td>\n",
              "      <td>276.0</td>\n",
              "      <td>521.0</td>\n",
              "    </tr>\n",
              "    <tr>\n",
              "      <th>America/Chicago</th>\n",
              "      <td>115.0</td>\n",
              "      <td>285.0</td>\n",
              "      <td>400.0</td>\n",
              "    </tr>\n",
              "    <tr>\n",
              "      <th>America/Los_Angeles</th>\n",
              "      <td>130.0</td>\n",
              "      <td>252.0</td>\n",
              "      <td>382.0</td>\n",
              "    </tr>\n",
              "    <tr>\n",
              "      <th>America/Denver</th>\n",
              "      <td>132.0</td>\n",
              "      <td>59.0</td>\n",
              "      <td>191.0</td>\n",
              "    </tr>\n",
              "    <tr>\n",
              "      <th>Europe/London</th>\n",
              "      <td>43.0</td>\n",
              "      <td>31.0</td>\n",
              "      <td>74.0</td>\n",
              "    </tr>\n",
              "    <tr>\n",
              "      <th>Asia/Tokyo</th>\n",
              "      <td>2.0</td>\n",
              "      <td>35.0</td>\n",
              "      <td>37.0</td>\n",
              "    </tr>\n",
              "    <tr>\n",
              "      <th>Pacific/Honolulu</th>\n",
              "      <td>0.0</td>\n",
              "      <td>36.0</td>\n",
              "      <td>36.0</td>\n",
              "    </tr>\n",
              "    <tr>\n",
              "      <th>Europe/Madrid</th>\n",
              "      <td>16.0</td>\n",
              "      <td>19.0</td>\n",
              "      <td>35.0</td>\n",
              "    </tr>\n",
              "    <tr>\n",
              "      <th>America/Sao_Paulo</th>\n",
              "      <td>13.0</td>\n",
              "      <td>20.0</td>\n",
              "      <td>33.0</td>\n",
              "    </tr>\n",
              "  </tbody>\n",
              "</table>\n",
              "</div>"
            ],
            "text/plain": [
              "os                   Other  Windows   Total\n",
              "tz                                         \n",
              "America/New_York     339.0    912.0  1251.0\n",
              "                     245.0    276.0   521.0\n",
              "America/Chicago      115.0    285.0   400.0\n",
              "America/Los_Angeles  130.0    252.0   382.0\n",
              "America/Denver       132.0     59.0   191.0\n",
              "Europe/London         43.0     31.0    74.0\n",
              "Asia/Tokyo             2.0     35.0    37.0\n",
              "Pacific/Honolulu       0.0     36.0    36.0\n",
              "Europe/Madrid         16.0     19.0    35.0\n",
              "America/Sao_Paulo     13.0     20.0    33.0"
            ]
          },
          "metadata": {},
          "execution_count": 71
        }
      ]
    }
  ]
}