{
  "nbformat": 4,
  "nbformat_minor": 0,
  "metadata": {
    "colab": {
      "name": "da16_datetime.ipynb",
      "provenance": [],
      "collapsed_sections": [],
      "authorship_tag": "ABX9TyMuMLO/UMyvTCU3sk9U2nE8",
      "include_colab_link": true
    },
    "kernelspec": {
      "name": "python3",
      "display_name": "Python 3"
    },
    "language_info": {
      "name": "python"
    }
  },
  "cells": [
    {
      "cell_type": "markdown",
      "metadata": {
        "id": "view-in-github",
        "colab_type": "text"
      },
      "source": [
        "<a href=\"https://colab.research.google.com/github/bomnism/DA/blob/main/da16_datetime.ipynb\" target=\"_parent\"><img src=\"https://colab.research.google.com/assets/colab-badge.svg\" alt=\"Open In Colab\"/></a>"
      ]
    },
    {
      "cell_type": "markdown",
      "metadata": {
        "id": "ESYLJLoJNgBi"
      },
      "source": [
        "* Python datetime 모듈\n",
        "    * datetime 클래스: 날짜(date), 시간(time)과 관련된 정보들을 저장, 표현할 수 있는 기능(메서드)들을 가지고 있는 데이터 타입.\n",
        "\n",
        "`python.org - documentation - Library Reference - datetime에서 자세하게 볼 수 있음.` "
      ]
    },
    {
      "cell_type": "code",
      "metadata": {
        "id": "G1Tx3huGLdlE"
      },
      "source": [
        "import datetime     # datatime 모듈을 import"
      ],
      "execution_count": 293,
      "outputs": []
    },
    {
      "cell_type": "code",
      "metadata": {
        "colab": {
          "base_uri": "https://localhost:8080/"
        },
        "id": "YH-eWrdYOt9m",
        "outputId": "f01a9777-7d88-42d0-cd45-022a433b7386"
      },
      "source": [
        "datetime.datetime.now()\n",
        "# datetime 모듈에 있는 dateteme 클래스에 있는 now() 메서드 호출 "
      ],
      "execution_count": 294,
      "outputs": [
        {
          "output_type": "execute_result",
          "data": {
            "text/plain": [
              "datetime.datetime(2021, 8, 19, 6, 52, 22, 329446)"
            ]
          },
          "metadata": {},
          "execution_count": 294
        }
      ]
    },
    {
      "cell_type": "code",
      "metadata": {
        "id": "WrFF2lt1O-Nv"
      },
      "source": [
        "from datetime import datetime    #datetime 모듈에서 datetime 클래스를 import"
      ],
      "execution_count": 295,
      "outputs": []
    },
    {
      "cell_type": "code",
      "metadata": {
        "colab": {
          "base_uri": "https://localhost:8080/"
        },
        "id": "yR6elx26Qgbc",
        "outputId": "4127ac4d-ed50-4a99-c03e-add4bca4d0a5"
      },
      "source": [
        "datetime.now()\n",
        "# datetime클래스의 now()메서드 호출"
      ],
      "execution_count": 296,
      "outputs": [
        {
          "output_type": "execute_result",
          "data": {
            "text/plain": [
              "datetime.datetime(2021, 8, 19, 6, 52, 22, 379904)"
            ]
          },
          "metadata": {},
          "execution_count": 296
        }
      ]
    },
    {
      "cell_type": "markdown",
      "metadata": {
        "id": "TuBrCT1qQ_QW"
      },
      "source": [
        "* `datetime` 클래스의 메서드 "
      ]
    },
    {
      "cell_type": "code",
      "metadata": {
        "id": "Ih3sChgfQlGs"
      },
      "source": [
        "# datetime.now(): 코드가 실행되는 컴퓨터 os 시간대의 현재 시간을 리턴\n",
        "curr_dt = datetime.now()"
      ],
      "execution_count": 297,
      "outputs": []
    },
    {
      "cell_type": "code",
      "metadata": {
        "colab": {
          "base_uri": "https://localhost:8080/"
        },
        "id": "AIee8U3oRlE9",
        "outputId": "d50ba4a5-bb1c-4e77-8530-599d164c0510"
      },
      "source": [
        "curr_dt   # expression을 출력 "
      ],
      "execution_count": 298,
      "outputs": [
        {
          "output_type": "execute_result",
          "data": {
            "text/plain": [
              "datetime.datetime(2021, 8, 19, 6, 52, 22, 402141)"
            ]
          },
          "metadata": {},
          "execution_count": 298
        }
      ]
    },
    {
      "cell_type": "code",
      "metadata": {
        "colab": {
          "base_uri": "https://localhost:8080/"
        },
        "id": "GrwdLlPsRnyZ",
        "outputId": "8917f1db-4f81-4940-bed9-24529a730e22"
      },
      "source": [
        "print(curr_dt)     # statement"
      ],
      "execution_count": 299,
      "outputs": [
        {
          "output_type": "stream",
          "text": [
            "2021-08-19 06:52:22.402141\n"
          ],
          "name": "stdout"
        }
      ]
    },
    {
      "cell_type": "markdown",
      "metadata": {
        "id": "r1thW24LSZdm"
      },
      "source": [
        "* UTC(Coordinates Universal Timezone): 그리니치 천문대 기준 시간 \n",
        "* KST(Korean Standard Timezone): 한국 표준시.  UTC+09:00"
      ]
    },
    {
      "cell_type": "code",
      "metadata": {
        "colab": {
          "base_uri": "https://localhost:8080/"
        },
        "id": "vqNZ9ROlR-mP",
        "outputId": "00fa2c0d-b17b-43a2-9c06-33c326c880bd"
      },
      "source": [
        "#  datetime.datetime 클래스의 속성들 : year, month, day, hour, minute, second\n",
        "print(type(curr_dt))\n",
        "print(curr_dt.year)\n",
        "print(curr_dt.month)\n",
        "print(curr_dt.day)\n",
        "print(f'{curr_dt.hour}:{curr_dt.minute}:{curr_dt.second}')"
      ],
      "execution_count": 300,
      "outputs": [
        {
          "output_type": "stream",
          "text": [
            "<class 'datetime.datetime'>\n",
            "2021\n",
            "8\n",
            "19\n",
            "6:52:22\n"
          ],
          "name": "stdout"
        }
      ]
    },
    {
      "cell_type": "code",
      "metadata": {
        "colab": {
          "base_uri": "https://localhost:8080/"
        },
        "id": "jDZWrIMrUEcq",
        "outputId": "64850f86-0189-4a87-bad7-dce2ccafcce8"
      },
      "source": [
        "# datetime.datetime() 생성자 함수 \n",
        "yesterday = datetime(2021, 8, 17)\n",
        "print(yesterday)"
      ],
      "execution_count": 301,
      "outputs": [
        {
          "output_type": "stream",
          "text": [
            "2021-08-17 00:00:00\n"
          ],
          "name": "stdout"
        }
      ]
    },
    {
      "cell_type": "code",
      "metadata": {
        "colab": {
          "base_uri": "https://localhost:8080/"
        },
        "id": "emxYQLLtVfQR",
        "outputId": "65970af4-9199-4c3c-96cb-5366a5754734"
      },
      "source": [
        "tomorrow = datetime(2021, 8, 19, 17, 20)\n",
        "print(tomorrow)"
      ],
      "execution_count": 302,
      "outputs": [
        {
          "output_type": "stream",
          "text": [
            "2021-08-19 17:20:00\n"
          ],
          "name": "stdout"
        }
      ]
    },
    {
      "cell_type": "code",
      "metadata": {
        "colab": {
          "base_uri": "https://localhost:8080/"
        },
        "id": "CwB1I27RWVnl",
        "outputId": "05d45eea-810a-4f05-d600-e6bea3d8d5ef"
      },
      "source": [
        "tomorrow - yesterday            # datetime 타입의 변수들의 뺄셈 결과는 time delta 클래스 타입"
      ],
      "execution_count": 303,
      "outputs": [
        {
          "output_type": "execute_result",
          "data": {
            "text/plain": [
              "datetime.timedelta(days=2, seconds=62400)"
            ]
          },
          "metadata": {},
          "execution_count": 303
        }
      ]
    },
    {
      "cell_type": "markdown",
      "metadata": {
        "id": "W2IXDZV3bN9p"
      },
      "source": [
        "\n",
        "* `datetime` (날짜/시간) 객체 <---> `str` (문자열) 객체 \n",
        "    * `datetime.strftime(포맷문자열)`  :  `datetime` 객체를 포맷 문자열 형식으로  formatting된 문자열로 변환해서 리턴. \n",
        "    * `datetime.strptime(문자열, 포맷문자열)` : 문자열(str)을 `datetime` 객체로 변환(parsing).   \n",
        "\n",
        "* 날짜 포맷 문자열\n",
        "    * 연도(year): %Y(4자리 연도), %y(2자리 연도) \n",
        "    * 월(month): %m(2자리 숫자), %B(월 이름), %b(월 이름의 약자)\n",
        "    * 일(day): %d(2자리 숫자)\n",
        "    * 시(hour): %H(24시간 형식. 0 ~ 23), %I(12시간 형식. 1 ~ 12) \n",
        "    * 분(minute) : %M(2자리 숫자. 00 ~ 59)\n",
        "    * 초(second) : %S(2자리 숫자. 00 ~ 59) "
      ]
    },
    {
      "cell_type": "code",
      "metadata": {
        "colab": {
          "base_uri": "https://localhost:8080/"
        },
        "id": "-BBmYWxNWuZ4",
        "outputId": "e42f710f-1fb1-4837-d755-162d27dfb77a"
      },
      "source": [
        "curr_dt = datetime.now()\n",
        "print(curr_dt)"
      ],
      "execution_count": 304,
      "outputs": [
        {
          "output_type": "stream",
          "text": [
            "2021-08-19 06:52:22.478209\n"
          ],
          "name": "stdout"
        }
      ]
    },
    {
      "cell_type": "code",
      "metadata": {
        "colab": {
          "base_uri": "https://localhost:8080/",
          "height": 35
        },
        "id": "rc90Z5DEeFwm",
        "outputId": "20596b0b-b062-47e4-d019-4de687b6bc75"
      },
      "source": [
        "curr_dt.strftime('%Y/%m/%d')"
      ],
      "execution_count": 305,
      "outputs": [
        {
          "output_type": "execute_result",
          "data": {
            "application/vnd.google.colaboratory.intrinsic+json": {
              "type": "string"
            },
            "text/plain": [
              "'2021/08/19'"
            ]
          },
          "metadata": {},
          "execution_count": 305
        }
      ]
    },
    {
      "cell_type": "code",
      "metadata": {
        "colab": {
          "base_uri": "https://localhost:8080/",
          "height": 35
        },
        "id": "yyFmVaDkeKZZ",
        "outputId": "595bc10d-025d-4f03-dc9e-f8b9768b04f0"
      },
      "source": [
        "curr_dt.strftime('%b-%d-%y')"
      ],
      "execution_count": 306,
      "outputs": [
        {
          "output_type": "execute_result",
          "data": {
            "application/vnd.google.colaboratory.intrinsic+json": {
              "type": "string"
            },
            "text/plain": [
              "'Aug-19-21'"
            ]
          },
          "metadata": {},
          "execution_count": 306
        }
      ]
    },
    {
      "cell_type": "code",
      "metadata": {
        "colab": {
          "base_uri": "https://localhost:8080/",
          "height": 35
        },
        "id": "PESW1PYAe3Ew",
        "outputId": "05836e20-4b33-4d4a-ba88-938d24cf378b"
      },
      "source": [
        "curr_dt.strftime('%I:%M:%S %p')   # %p: AM/PM(오전/오후) 표시"
      ],
      "execution_count": 307,
      "outputs": [
        {
          "output_type": "execute_result",
          "data": {
            "application/vnd.google.colaboratory.intrinsic+json": {
              "type": "string"
            },
            "text/plain": [
              "'06:52:22 AM'"
            ]
          },
          "metadata": {},
          "execution_count": 307
        }
      ]
    },
    {
      "cell_type": "markdown",
      "metadata": {
        "id": "YmkMLrKpgP9_"
      },
      "source": [
        "str ---> datetime 객체"
      ]
    },
    {
      "cell_type": "code",
      "metadata": {
        "colab": {
          "base_uri": "https://localhost:8080/"
        },
        "id": "j1cjVwi9gO95",
        "outputId": "f5641250-d7ab-4cb4-946d-52adf7aaf42d"
      },
      "source": [
        "# datetime.strptime(string, format): format 형식의 문자열 string을 datetime 객체로 변환 리턴. \n",
        "datetime.strptime('2021-08-18 18:04:30', '%Y-%m-%d %H:%M:%S')"
      ],
      "execution_count": 308,
      "outputs": [
        {
          "output_type": "execute_result",
          "data": {
            "text/plain": [
              "datetime.datetime(2021, 8, 18, 18, 4, 30)"
            ]
          },
          "metadata": {},
          "execution_count": 308
        }
      ]
    },
    {
      "cell_type": "code",
      "metadata": {
        "colab": {
          "base_uri": "https://localhost:8080/"
        },
        "id": "s753TaHmgZPR",
        "outputId": "fe78632d-6ccb-4db3-eb3e-db0ce9ee9aed"
      },
      "source": [
        "datetime.strptime('08-18-21', '%m-%d-%y')     # 우리나라 방식(년-월-일)"
      ],
      "execution_count": 309,
      "outputs": [
        {
          "output_type": "execute_result",
          "data": {
            "text/plain": [
              "datetime.datetime(2021, 8, 18, 0, 0)"
            ]
          },
          "metadata": {},
          "execution_count": 309
        }
      ]
    },
    {
      "cell_type": "code",
      "metadata": {
        "colab": {
          "base_uri": "https://localhost:8080/"
        },
        "id": "e4mlXAZ0hJO1",
        "outputId": "c8df5bc7-9651-4a4b-de43-dba6cdfaeee7"
      },
      "source": [
        "datetime.strptime('18-08-21', '%d-%m-%y')    # 영국 방식(일-월-년)"
      ],
      "execution_count": 310,
      "outputs": [
        {
          "output_type": "execute_result",
          "data": {
            "text/plain": [
              "datetime.datetime(2021, 8, 18, 0, 0)"
            ]
          },
          "metadata": {},
          "execution_count": 310
        }
      ]
    },
    {
      "cell_type": "markdown",
      "metadata": {
        "id": "LSZWqizT4bDS"
      },
      "source": [
        "* timestamp(UNIX time, POSIX time, epoch time, ...): 1970년 1월 1일 0시 0분 0초를 시작으로 해서 1초마다 1씩 증가하는 숫자. \n",
        "* `datetime.timestamp` 메서드: `datetime`객체 ---> timestamp(숫자) \n",
        "* `datetime.fromtimestamp` 메서드 : `timestamp`(숫자) ---> `datetime` 객체"
      ]
    },
    {
      "cell_type": "code",
      "metadata": {
        "colab": {
          "base_uri": "https://localhost:8080/"
        },
        "id": "GHjVY7xU5pxn",
        "outputId": "a184021e-03e9-482d-ff46-a795e8805b4b"
      },
      "source": [
        "curr_dt=datetime.now()\n",
        "print(curr_dt)"
      ],
      "execution_count": 311,
      "outputs": [
        {
          "output_type": "stream",
          "text": [
            "2021-08-19 06:52:22.558178\n"
          ],
          "name": "stdout"
        }
      ]
    },
    {
      "cell_type": "code",
      "metadata": {
        "colab": {
          "base_uri": "https://localhost:8080/"
        },
        "id": "GlRNJzmj5rsX",
        "outputId": "1dc80cb2-d543-4cdb-817f-cfdf9a1568f3"
      },
      "source": [
        "ts = curr_dt.timestamp()\n",
        "print(ts)\n",
        "print(type(ts))"
      ],
      "execution_count": 312,
      "outputs": [
        {
          "output_type": "stream",
          "text": [
            "1629355942.558178\n",
            "<class 'float'>\n"
          ],
          "name": "stdout"
        }
      ]
    },
    {
      "cell_type": "code",
      "metadata": {
        "colab": {
          "base_uri": "https://localhost:8080/"
        },
        "id": "gMA2PTvS6BkE",
        "outputId": "ae0148fe-39df-43d9-e101-b7df38e6453b"
      },
      "source": [
        "dt = datetime.fromtimestamp(1629334501)\n",
        "print(dt)\n",
        "print(type(dt))"
      ],
      "execution_count": 313,
      "outputs": [
        {
          "output_type": "stream",
          "text": [
            "2021-08-19 00:55:01\n",
            "<class 'datetime.datetime'>\n"
          ],
          "name": "stdout"
        }
      ]
    },
    {
      "cell_type": "code",
      "metadata": {
        "id": "B6d3jaOm60Z7"
      },
      "source": [
        "ratings_file = 'https://github.com/wesm/pydata-book/raw/2nd-edition/datasets/movielens/ratings.dat'"
      ],
      "execution_count": 314,
      "outputs": []
    },
    {
      "cell_type": "code",
      "metadata": {
        "id": "8Wh40lFr7nTW"
      },
      "source": [
        "import pandas as pd "
      ],
      "execution_count": 315,
      "outputs": []
    },
    {
      "cell_type": "code",
      "metadata": {
        "id": "XyNpCbDq7ona"
      },
      "source": [
        "ratings = pd.read_csv(ratings_file, sep='::', engine='python', \n",
        "                                        names=['user_id', 'movie_id', 'rating', 'ts'],\n",
        "                                        nrows=10)   # 파일에서 10개 행만 읽음"
      ],
      "execution_count": 316,
      "outputs": []
    },
    {
      "cell_type": "code",
      "metadata": {
        "colab": {
          "base_uri": "https://localhost:8080/",
          "height": 359
        },
        "id": "OB9IiImA8GZA",
        "outputId": "f123a15e-eadd-49a8-b8f4-b7a61edb2e52"
      },
      "source": [
        "ratings"
      ],
      "execution_count": 317,
      "outputs": [
        {
          "output_type": "execute_result",
          "data": {
            "text/html": [
              "<div>\n",
              "<style scoped>\n",
              "    .dataframe tbody tr th:only-of-type {\n",
              "        vertical-align: middle;\n",
              "    }\n",
              "\n",
              "    .dataframe tbody tr th {\n",
              "        vertical-align: top;\n",
              "    }\n",
              "\n",
              "    .dataframe thead th {\n",
              "        text-align: right;\n",
              "    }\n",
              "</style>\n",
              "<table border=\"1\" class=\"dataframe\">\n",
              "  <thead>\n",
              "    <tr style=\"text-align: right;\">\n",
              "      <th></th>\n",
              "      <th>user_id</th>\n",
              "      <th>movie_id</th>\n",
              "      <th>rating</th>\n",
              "      <th>ts</th>\n",
              "    </tr>\n",
              "  </thead>\n",
              "  <tbody>\n",
              "    <tr>\n",
              "      <th>0</th>\n",
              "      <td>1</td>\n",
              "      <td>1193</td>\n",
              "      <td>5</td>\n",
              "      <td>978300760</td>\n",
              "    </tr>\n",
              "    <tr>\n",
              "      <th>1</th>\n",
              "      <td>1</td>\n",
              "      <td>661</td>\n",
              "      <td>3</td>\n",
              "      <td>978302109</td>\n",
              "    </tr>\n",
              "    <tr>\n",
              "      <th>2</th>\n",
              "      <td>1</td>\n",
              "      <td>914</td>\n",
              "      <td>3</td>\n",
              "      <td>978301968</td>\n",
              "    </tr>\n",
              "    <tr>\n",
              "      <th>3</th>\n",
              "      <td>1</td>\n",
              "      <td>3408</td>\n",
              "      <td>4</td>\n",
              "      <td>978300275</td>\n",
              "    </tr>\n",
              "    <tr>\n",
              "      <th>4</th>\n",
              "      <td>1</td>\n",
              "      <td>2355</td>\n",
              "      <td>5</td>\n",
              "      <td>978824291</td>\n",
              "    </tr>\n",
              "    <tr>\n",
              "      <th>5</th>\n",
              "      <td>1</td>\n",
              "      <td>1197</td>\n",
              "      <td>3</td>\n",
              "      <td>978302268</td>\n",
              "    </tr>\n",
              "    <tr>\n",
              "      <th>6</th>\n",
              "      <td>1</td>\n",
              "      <td>1287</td>\n",
              "      <td>5</td>\n",
              "      <td>978302039</td>\n",
              "    </tr>\n",
              "    <tr>\n",
              "      <th>7</th>\n",
              "      <td>1</td>\n",
              "      <td>2804</td>\n",
              "      <td>5</td>\n",
              "      <td>978300719</td>\n",
              "    </tr>\n",
              "    <tr>\n",
              "      <th>8</th>\n",
              "      <td>1</td>\n",
              "      <td>594</td>\n",
              "      <td>4</td>\n",
              "      <td>978302268</td>\n",
              "    </tr>\n",
              "    <tr>\n",
              "      <th>9</th>\n",
              "      <td>1</td>\n",
              "      <td>919</td>\n",
              "      <td>4</td>\n",
              "      <td>978301368</td>\n",
              "    </tr>\n",
              "  </tbody>\n",
              "</table>\n",
              "</div>"
            ],
            "text/plain": [
              "   user_id  movie_id  rating         ts\n",
              "0        1      1193       5  978300760\n",
              "1        1       661       3  978302109\n",
              "2        1       914       3  978301968\n",
              "3        1      3408       4  978300275\n",
              "4        1      2355       5  978824291\n",
              "5        1      1197       3  978302268\n",
              "6        1      1287       5  978302039\n",
              "7        1      2804       5  978300719\n",
              "8        1       594       4  978302268\n",
              "9        1       919       4  978301368"
            ]
          },
          "metadata": {},
          "execution_count": 317
        }
      ]
    },
    {
      "cell_type": "code",
      "metadata": {
        "colab": {
          "base_uri": "https://localhost:8080/"
        },
        "id": "Acqdxxjm8HQa",
        "outputId": "855946f9-6dfd-4e21-e99b-2e6c3f75b40a"
      },
      "source": [
        "dates = []     # ratings 데이터프레임의 ts 값(timestamp)을 datetime 객체로 변환한 값들을 저장하기 위한 리스트 \n",
        "for ts in ratings['ts']:       # ts 컬럼의 갑슬을 처음부터 끝까지 반복하면서 \n",
        "    dates.append(datetime.fromtimestamp(ts))     # 숫자를 datetime으로 변환 후 리스트에 추가 \n",
        "print(dates)\n",
        "print(pd.Series(dates))\n",
        "# dates에 저장된 값들을 파생변수로 데이터프레임에 추가 \n",
        "ratings['dt'] = pd.Series(dates)"
      ],
      "execution_count": 318,
      "outputs": [
        {
          "output_type": "stream",
          "text": [
            "[datetime.datetime(2000, 12, 31, 22, 12, 40), datetime.datetime(2000, 12, 31, 22, 35, 9), datetime.datetime(2000, 12, 31, 22, 32, 48), datetime.datetime(2000, 12, 31, 22, 4, 35), datetime.datetime(2001, 1, 6, 23, 38, 11), datetime.datetime(2000, 12, 31, 22, 37, 48), datetime.datetime(2000, 12, 31, 22, 33, 59), datetime.datetime(2000, 12, 31, 22, 11, 59), datetime.datetime(2000, 12, 31, 22, 37, 48), datetime.datetime(2000, 12, 31, 22, 22, 48)]\n",
            "0   2000-12-31 22:12:40\n",
            "1   2000-12-31 22:35:09\n",
            "2   2000-12-31 22:32:48\n",
            "3   2000-12-31 22:04:35\n",
            "4   2001-01-06 23:38:11\n",
            "5   2000-12-31 22:37:48\n",
            "6   2000-12-31 22:33:59\n",
            "7   2000-12-31 22:11:59\n",
            "8   2000-12-31 22:37:48\n",
            "9   2000-12-31 22:22:48\n",
            "dtype: datetime64[ns]\n"
          ],
          "name": "stdout"
        }
      ]
    },
    {
      "cell_type": "code",
      "metadata": {
        "colab": {
          "base_uri": "https://localhost:8080/",
          "height": 359
        },
        "id": "mYpRK_S_9gBW",
        "outputId": "43d6615a-6aaa-48c5-bd1d-f045f77e1eca"
      },
      "source": [
        "ratings"
      ],
      "execution_count": 319,
      "outputs": [
        {
          "output_type": "execute_result",
          "data": {
            "text/html": [
              "<div>\n",
              "<style scoped>\n",
              "    .dataframe tbody tr th:only-of-type {\n",
              "        vertical-align: middle;\n",
              "    }\n",
              "\n",
              "    .dataframe tbody tr th {\n",
              "        vertical-align: top;\n",
              "    }\n",
              "\n",
              "    .dataframe thead th {\n",
              "        text-align: right;\n",
              "    }\n",
              "</style>\n",
              "<table border=\"1\" class=\"dataframe\">\n",
              "  <thead>\n",
              "    <tr style=\"text-align: right;\">\n",
              "      <th></th>\n",
              "      <th>user_id</th>\n",
              "      <th>movie_id</th>\n",
              "      <th>rating</th>\n",
              "      <th>ts</th>\n",
              "      <th>dt</th>\n",
              "    </tr>\n",
              "  </thead>\n",
              "  <tbody>\n",
              "    <tr>\n",
              "      <th>0</th>\n",
              "      <td>1</td>\n",
              "      <td>1193</td>\n",
              "      <td>5</td>\n",
              "      <td>978300760</td>\n",
              "      <td>2000-12-31 22:12:40</td>\n",
              "    </tr>\n",
              "    <tr>\n",
              "      <th>1</th>\n",
              "      <td>1</td>\n",
              "      <td>661</td>\n",
              "      <td>3</td>\n",
              "      <td>978302109</td>\n",
              "      <td>2000-12-31 22:35:09</td>\n",
              "    </tr>\n",
              "    <tr>\n",
              "      <th>2</th>\n",
              "      <td>1</td>\n",
              "      <td>914</td>\n",
              "      <td>3</td>\n",
              "      <td>978301968</td>\n",
              "      <td>2000-12-31 22:32:48</td>\n",
              "    </tr>\n",
              "    <tr>\n",
              "      <th>3</th>\n",
              "      <td>1</td>\n",
              "      <td>3408</td>\n",
              "      <td>4</td>\n",
              "      <td>978300275</td>\n",
              "      <td>2000-12-31 22:04:35</td>\n",
              "    </tr>\n",
              "    <tr>\n",
              "      <th>4</th>\n",
              "      <td>1</td>\n",
              "      <td>2355</td>\n",
              "      <td>5</td>\n",
              "      <td>978824291</td>\n",
              "      <td>2001-01-06 23:38:11</td>\n",
              "    </tr>\n",
              "    <tr>\n",
              "      <th>5</th>\n",
              "      <td>1</td>\n",
              "      <td>1197</td>\n",
              "      <td>3</td>\n",
              "      <td>978302268</td>\n",
              "      <td>2000-12-31 22:37:48</td>\n",
              "    </tr>\n",
              "    <tr>\n",
              "      <th>6</th>\n",
              "      <td>1</td>\n",
              "      <td>1287</td>\n",
              "      <td>5</td>\n",
              "      <td>978302039</td>\n",
              "      <td>2000-12-31 22:33:59</td>\n",
              "    </tr>\n",
              "    <tr>\n",
              "      <th>7</th>\n",
              "      <td>1</td>\n",
              "      <td>2804</td>\n",
              "      <td>5</td>\n",
              "      <td>978300719</td>\n",
              "      <td>2000-12-31 22:11:59</td>\n",
              "    </tr>\n",
              "    <tr>\n",
              "      <th>8</th>\n",
              "      <td>1</td>\n",
              "      <td>594</td>\n",
              "      <td>4</td>\n",
              "      <td>978302268</td>\n",
              "      <td>2000-12-31 22:37:48</td>\n",
              "    </tr>\n",
              "    <tr>\n",
              "      <th>9</th>\n",
              "      <td>1</td>\n",
              "      <td>919</td>\n",
              "      <td>4</td>\n",
              "      <td>978301368</td>\n",
              "      <td>2000-12-31 22:22:48</td>\n",
              "    </tr>\n",
              "  </tbody>\n",
              "</table>\n",
              "</div>"
            ],
            "text/plain": [
              "   user_id  movie_id  rating         ts                  dt\n",
              "0        1      1193       5  978300760 2000-12-31 22:12:40\n",
              "1        1       661       3  978302109 2000-12-31 22:35:09\n",
              "2        1       914       3  978301968 2000-12-31 22:32:48\n",
              "3        1      3408       4  978300275 2000-12-31 22:04:35\n",
              "4        1      2355       5  978824291 2001-01-06 23:38:11\n",
              "5        1      1197       3  978302268 2000-12-31 22:37:48\n",
              "6        1      1287       5  978302039 2000-12-31 22:33:59\n",
              "7        1      2804       5  978300719 2000-12-31 22:11:59\n",
              "8        1       594       4  978302268 2000-12-31 22:37:48\n",
              "9        1       919       4  978301368 2000-12-31 22:22:48"
            ]
          },
          "metadata": {},
          "execution_count": 319
        }
      ]
    },
    {
      "cell_type": "code",
      "metadata": {
        "colab": {
          "base_uri": "https://localhost:8080/",
          "height": 359
        },
        "id": "rS2PUQVV9oUI",
        "outputId": "7cca5767-a615-4613-ca19-ec94ee3add90"
      },
      "source": [
        "# pd.to_datetime() 함수 : 문자열 Series 또는 숫자 Sereis를 datetime Series로 변환 \n",
        "ratings['dt2'] = pd.to_datetime(ratings['ts'], unit='s')\n",
        "#> unit: timestamp(숫자)가 저장하고 있는 시간의 단위(s: 초, ms: milli-second, us: micro-second)\n",
        "ratings"
      ],
      "execution_count": 320,
      "outputs": [
        {
          "output_type": "execute_result",
          "data": {
            "text/html": [
              "<div>\n",
              "<style scoped>\n",
              "    .dataframe tbody tr th:only-of-type {\n",
              "        vertical-align: middle;\n",
              "    }\n",
              "\n",
              "    .dataframe tbody tr th {\n",
              "        vertical-align: top;\n",
              "    }\n",
              "\n",
              "    .dataframe thead th {\n",
              "        text-align: right;\n",
              "    }\n",
              "</style>\n",
              "<table border=\"1\" class=\"dataframe\">\n",
              "  <thead>\n",
              "    <tr style=\"text-align: right;\">\n",
              "      <th></th>\n",
              "      <th>user_id</th>\n",
              "      <th>movie_id</th>\n",
              "      <th>rating</th>\n",
              "      <th>ts</th>\n",
              "      <th>dt</th>\n",
              "      <th>dt2</th>\n",
              "    </tr>\n",
              "  </thead>\n",
              "  <tbody>\n",
              "    <tr>\n",
              "      <th>0</th>\n",
              "      <td>1</td>\n",
              "      <td>1193</td>\n",
              "      <td>5</td>\n",
              "      <td>978300760</td>\n",
              "      <td>2000-12-31 22:12:40</td>\n",
              "      <td>2000-12-31 22:12:40</td>\n",
              "    </tr>\n",
              "    <tr>\n",
              "      <th>1</th>\n",
              "      <td>1</td>\n",
              "      <td>661</td>\n",
              "      <td>3</td>\n",
              "      <td>978302109</td>\n",
              "      <td>2000-12-31 22:35:09</td>\n",
              "      <td>2000-12-31 22:35:09</td>\n",
              "    </tr>\n",
              "    <tr>\n",
              "      <th>2</th>\n",
              "      <td>1</td>\n",
              "      <td>914</td>\n",
              "      <td>3</td>\n",
              "      <td>978301968</td>\n",
              "      <td>2000-12-31 22:32:48</td>\n",
              "      <td>2000-12-31 22:32:48</td>\n",
              "    </tr>\n",
              "    <tr>\n",
              "      <th>3</th>\n",
              "      <td>1</td>\n",
              "      <td>3408</td>\n",
              "      <td>4</td>\n",
              "      <td>978300275</td>\n",
              "      <td>2000-12-31 22:04:35</td>\n",
              "      <td>2000-12-31 22:04:35</td>\n",
              "    </tr>\n",
              "    <tr>\n",
              "      <th>4</th>\n",
              "      <td>1</td>\n",
              "      <td>2355</td>\n",
              "      <td>5</td>\n",
              "      <td>978824291</td>\n",
              "      <td>2001-01-06 23:38:11</td>\n",
              "      <td>2001-01-06 23:38:11</td>\n",
              "    </tr>\n",
              "    <tr>\n",
              "      <th>5</th>\n",
              "      <td>1</td>\n",
              "      <td>1197</td>\n",
              "      <td>3</td>\n",
              "      <td>978302268</td>\n",
              "      <td>2000-12-31 22:37:48</td>\n",
              "      <td>2000-12-31 22:37:48</td>\n",
              "    </tr>\n",
              "    <tr>\n",
              "      <th>6</th>\n",
              "      <td>1</td>\n",
              "      <td>1287</td>\n",
              "      <td>5</td>\n",
              "      <td>978302039</td>\n",
              "      <td>2000-12-31 22:33:59</td>\n",
              "      <td>2000-12-31 22:33:59</td>\n",
              "    </tr>\n",
              "    <tr>\n",
              "      <th>7</th>\n",
              "      <td>1</td>\n",
              "      <td>2804</td>\n",
              "      <td>5</td>\n",
              "      <td>978300719</td>\n",
              "      <td>2000-12-31 22:11:59</td>\n",
              "      <td>2000-12-31 22:11:59</td>\n",
              "    </tr>\n",
              "    <tr>\n",
              "      <th>8</th>\n",
              "      <td>1</td>\n",
              "      <td>594</td>\n",
              "      <td>4</td>\n",
              "      <td>978302268</td>\n",
              "      <td>2000-12-31 22:37:48</td>\n",
              "      <td>2000-12-31 22:37:48</td>\n",
              "    </tr>\n",
              "    <tr>\n",
              "      <th>9</th>\n",
              "      <td>1</td>\n",
              "      <td>919</td>\n",
              "      <td>4</td>\n",
              "      <td>978301368</td>\n",
              "      <td>2000-12-31 22:22:48</td>\n",
              "      <td>2000-12-31 22:22:48</td>\n",
              "    </tr>\n",
              "  </tbody>\n",
              "</table>\n",
              "</div>"
            ],
            "text/plain": [
              "   user_id  movie_id  rating         ts                  dt                 dt2\n",
              "0        1      1193       5  978300760 2000-12-31 22:12:40 2000-12-31 22:12:40\n",
              "1        1       661       3  978302109 2000-12-31 22:35:09 2000-12-31 22:35:09\n",
              "2        1       914       3  978301968 2000-12-31 22:32:48 2000-12-31 22:32:48\n",
              "3        1      3408       4  978300275 2000-12-31 22:04:35 2000-12-31 22:04:35\n",
              "4        1      2355       5  978824291 2001-01-06 23:38:11 2001-01-06 23:38:11\n",
              "5        1      1197       3  978302268 2000-12-31 22:37:48 2000-12-31 22:37:48\n",
              "6        1      1287       5  978302039 2000-12-31 22:33:59 2000-12-31 22:33:59\n",
              "7        1      2804       5  978300719 2000-12-31 22:11:59 2000-12-31 22:11:59\n",
              "8        1       594       4  978302268 2000-12-31 22:37:48 2000-12-31 22:37:48\n",
              "9        1       919       4  978301368 2000-12-31 22:22:48 2000-12-31 22:22:48"
            ]
          },
          "metadata": {},
          "execution_count": 320
        }
      ]
    },
    {
      "cell_type": "markdown",
      "metadata": {
        "id": "aWwwTWkTEe8n"
      },
      "source": [
        "CSV 파일 날짜/시간 처리"
      ]
    },
    {
      "cell_type": "code",
      "metadata": {
        "id": "rxNRpdH8AhO0"
      },
      "source": [
        "file_path = 'https://github.com/wesm/pydata-book/raw/2nd-edition/examples/spx.csv'"
      ],
      "execution_count": 321,
      "outputs": []
    },
    {
      "cell_type": "code",
      "metadata": {
        "id": "MU0Sj2yGFGc9"
      },
      "source": [
        "df = pd.read_csv(file_path)"
      ],
      "execution_count": 322,
      "outputs": []
    },
    {
      "cell_type": "code",
      "metadata": {
        "colab": {
          "base_uri": "https://localhost:8080/",
          "height": 204
        },
        "id": "azo4mD9MFYsi",
        "outputId": "071cf48e-2a5a-449a-9a16-8fb15d6a7ce4"
      },
      "source": [
        "df.head()"
      ],
      "execution_count": 323,
      "outputs": [
        {
          "output_type": "execute_result",
          "data": {
            "text/html": [
              "<div>\n",
              "<style scoped>\n",
              "    .dataframe tbody tr th:only-of-type {\n",
              "        vertical-align: middle;\n",
              "    }\n",
              "\n",
              "    .dataframe tbody tr th {\n",
              "        vertical-align: top;\n",
              "    }\n",
              "\n",
              "    .dataframe thead th {\n",
              "        text-align: right;\n",
              "    }\n",
              "</style>\n",
              "<table border=\"1\" class=\"dataframe\">\n",
              "  <thead>\n",
              "    <tr style=\"text-align: right;\">\n",
              "      <th></th>\n",
              "      <th>Date</th>\n",
              "      <th>SPX</th>\n",
              "    </tr>\n",
              "  </thead>\n",
              "  <tbody>\n",
              "    <tr>\n",
              "      <th>0</th>\n",
              "      <td>1990-02-01 00:00:00</td>\n",
              "      <td>328.79</td>\n",
              "    </tr>\n",
              "    <tr>\n",
              "      <th>1</th>\n",
              "      <td>1990-02-02 00:00:00</td>\n",
              "      <td>330.92</td>\n",
              "    </tr>\n",
              "    <tr>\n",
              "      <th>2</th>\n",
              "      <td>1990-02-05 00:00:00</td>\n",
              "      <td>331.85</td>\n",
              "    </tr>\n",
              "    <tr>\n",
              "      <th>3</th>\n",
              "      <td>1990-02-06 00:00:00</td>\n",
              "      <td>329.66</td>\n",
              "    </tr>\n",
              "    <tr>\n",
              "      <th>4</th>\n",
              "      <td>1990-02-07 00:00:00</td>\n",
              "      <td>333.75</td>\n",
              "    </tr>\n",
              "  </tbody>\n",
              "</table>\n",
              "</div>"
            ],
            "text/plain": [
              "                  Date     SPX\n",
              "0  1990-02-01 00:00:00  328.79\n",
              "1  1990-02-02 00:00:00  330.92\n",
              "2  1990-02-05 00:00:00  331.85\n",
              "3  1990-02-06 00:00:00  329.66\n",
              "4  1990-02-07 00:00:00  333.75"
            ]
          },
          "metadata": {},
          "execution_count": 323
        }
      ]
    },
    {
      "cell_type": "code",
      "metadata": {
        "colab": {
          "base_uri": "https://localhost:8080/",
          "height": 204
        },
        "id": "1_Xel-sAFd9M",
        "outputId": "973f5667-95fb-4b5f-9ef3-c9aa492cbcec"
      },
      "source": [
        "df.tail()"
      ],
      "execution_count": 324,
      "outputs": [
        {
          "output_type": "execute_result",
          "data": {
            "text/html": [
              "<div>\n",
              "<style scoped>\n",
              "    .dataframe tbody tr th:only-of-type {\n",
              "        vertical-align: middle;\n",
              "    }\n",
              "\n",
              "    .dataframe tbody tr th {\n",
              "        vertical-align: top;\n",
              "    }\n",
              "\n",
              "    .dataframe thead th {\n",
              "        text-align: right;\n",
              "    }\n",
              "</style>\n",
              "<table border=\"1\" class=\"dataframe\">\n",
              "  <thead>\n",
              "    <tr style=\"text-align: right;\">\n",
              "      <th></th>\n",
              "      <th>Date</th>\n",
              "      <th>SPX</th>\n",
              "    </tr>\n",
              "  </thead>\n",
              "  <tbody>\n",
              "    <tr>\n",
              "      <th>5467</th>\n",
              "      <td>2011-10-10 00:00:00</td>\n",
              "      <td>1194.89</td>\n",
              "    </tr>\n",
              "    <tr>\n",
              "      <th>5468</th>\n",
              "      <td>2011-10-11 00:00:00</td>\n",
              "      <td>1195.54</td>\n",
              "    </tr>\n",
              "    <tr>\n",
              "      <th>5469</th>\n",
              "      <td>2011-10-12 00:00:00</td>\n",
              "      <td>1207.25</td>\n",
              "    </tr>\n",
              "    <tr>\n",
              "      <th>5470</th>\n",
              "      <td>2011-10-13 00:00:00</td>\n",
              "      <td>1203.66</td>\n",
              "    </tr>\n",
              "    <tr>\n",
              "      <th>5471</th>\n",
              "      <td>2011-10-14 00:00:00</td>\n",
              "      <td>1224.58</td>\n",
              "    </tr>\n",
              "  </tbody>\n",
              "</table>\n",
              "</div>"
            ],
            "text/plain": [
              "                     Date      SPX\n",
              "5467  2011-10-10 00:00:00  1194.89\n",
              "5468  2011-10-11 00:00:00  1195.54\n",
              "5469  2011-10-12 00:00:00  1207.25\n",
              "5470  2011-10-13 00:00:00  1203.66\n",
              "5471  2011-10-14 00:00:00  1224.58"
            ]
          },
          "metadata": {},
          "execution_count": 324
        }
      ]
    },
    {
      "cell_type": "markdown",
      "metadata": {
        "id": "PdK0ZSJzFsm5"
      },
      "source": [
        "데이터프레임의 Date컬럼의 데이터 타입"
      ]
    },
    {
      "cell_type": "code",
      "metadata": {
        "colab": {
          "base_uri": "https://localhost:8080/"
        },
        "id": "vIg-9W05Fg-P",
        "outputId": "b844deab-8f54-4e9d-9f28-d67dbac8a520"
      },
      "source": [
        "df.info()      # Date컬럼은 데이터 타입은 object -> 문자열(str)"
      ],
      "execution_count": 325,
      "outputs": [
        {
          "output_type": "stream",
          "text": [
            "<class 'pandas.core.frame.DataFrame'>\n",
            "RangeIndex: 5472 entries, 0 to 5471\n",
            "Data columns (total 2 columns):\n",
            " #   Column  Non-Null Count  Dtype  \n",
            "---  ------  --------------  -----  \n",
            " 0   Date    5472 non-null   object \n",
            " 1   SPX     5472 non-null   float64\n",
            "dtypes: float64(1), object(1)\n",
            "memory usage: 85.6+ KB\n"
          ],
          "name": "stdout"
        }
      ]
    },
    {
      "cell_type": "code",
      "metadata": {
        "id": "cdyA1SilF5o-"
      },
      "source": [
        "# 연도별 주식 가격의 평균, 최소, 최대\n",
        "df['year'] = df['Date'].str[:4].astype('int')"
      ],
      "execution_count": 326,
      "outputs": []
    },
    {
      "cell_type": "code",
      "metadata": {
        "colab": {
          "base_uri": "https://localhost:8080/",
          "height": 204
        },
        "id": "dDW_Sg-4G0P9",
        "outputId": "19de78ed-7bd1-47d8-ac42-6bef4a7968c4"
      },
      "source": [
        "df.head()"
      ],
      "execution_count": 327,
      "outputs": [
        {
          "output_type": "execute_result",
          "data": {
            "text/html": [
              "<div>\n",
              "<style scoped>\n",
              "    .dataframe tbody tr th:only-of-type {\n",
              "        vertical-align: middle;\n",
              "    }\n",
              "\n",
              "    .dataframe tbody tr th {\n",
              "        vertical-align: top;\n",
              "    }\n",
              "\n",
              "    .dataframe thead th {\n",
              "        text-align: right;\n",
              "    }\n",
              "</style>\n",
              "<table border=\"1\" class=\"dataframe\">\n",
              "  <thead>\n",
              "    <tr style=\"text-align: right;\">\n",
              "      <th></th>\n",
              "      <th>Date</th>\n",
              "      <th>SPX</th>\n",
              "      <th>year</th>\n",
              "    </tr>\n",
              "  </thead>\n",
              "  <tbody>\n",
              "    <tr>\n",
              "      <th>0</th>\n",
              "      <td>1990-02-01 00:00:00</td>\n",
              "      <td>328.79</td>\n",
              "      <td>1990</td>\n",
              "    </tr>\n",
              "    <tr>\n",
              "      <th>1</th>\n",
              "      <td>1990-02-02 00:00:00</td>\n",
              "      <td>330.92</td>\n",
              "      <td>1990</td>\n",
              "    </tr>\n",
              "    <tr>\n",
              "      <th>2</th>\n",
              "      <td>1990-02-05 00:00:00</td>\n",
              "      <td>331.85</td>\n",
              "      <td>1990</td>\n",
              "    </tr>\n",
              "    <tr>\n",
              "      <th>3</th>\n",
              "      <td>1990-02-06 00:00:00</td>\n",
              "      <td>329.66</td>\n",
              "      <td>1990</td>\n",
              "    </tr>\n",
              "    <tr>\n",
              "      <th>4</th>\n",
              "      <td>1990-02-07 00:00:00</td>\n",
              "      <td>333.75</td>\n",
              "      <td>1990</td>\n",
              "    </tr>\n",
              "  </tbody>\n",
              "</table>\n",
              "</div>"
            ],
            "text/plain": [
              "                  Date     SPX  year\n",
              "0  1990-02-01 00:00:00  328.79  1990\n",
              "1  1990-02-02 00:00:00  330.92  1990\n",
              "2  1990-02-05 00:00:00  331.85  1990\n",
              "3  1990-02-06 00:00:00  329.66  1990\n",
              "4  1990-02-07 00:00:00  333.75  1990"
            ]
          },
          "metadata": {},
          "execution_count": 327
        }
      ]
    },
    {
      "cell_type": "code",
      "metadata": {
        "colab": {
          "base_uri": "https://localhost:8080/",
          "height": 762
        },
        "id": "BEESwdQVG1X-",
        "outputId": "dcd1ae57-87f4-4f4a-de4b-5a53e188d520"
      },
      "source": [
        "df.groupby('year')['SPX'].agg(['mean', 'min', 'max'])"
      ],
      "execution_count": 328,
      "outputs": [
        {
          "output_type": "execute_result",
          "data": {
            "text/html": [
              "<div>\n",
              "<style scoped>\n",
              "    .dataframe tbody tr th:only-of-type {\n",
              "        vertical-align: middle;\n",
              "    }\n",
              "\n",
              "    .dataframe tbody tr th {\n",
              "        vertical-align: top;\n",
              "    }\n",
              "\n",
              "    .dataframe thead th {\n",
              "        text-align: right;\n",
              "    }\n",
              "</style>\n",
              "<table border=\"1\" class=\"dataframe\">\n",
              "  <thead>\n",
              "    <tr style=\"text-align: right;\">\n",
              "      <th></th>\n",
              "      <th>mean</th>\n",
              "      <th>min</th>\n",
              "      <th>max</th>\n",
              "    </tr>\n",
              "    <tr>\n",
              "      <th>year</th>\n",
              "      <th></th>\n",
              "      <th></th>\n",
              "      <th></th>\n",
              "    </tr>\n",
              "  </thead>\n",
              "  <tbody>\n",
              "    <tr>\n",
              "      <th>1990</th>\n",
              "      <td>334.123506</td>\n",
              "      <td>295.46</td>\n",
              "      <td>368.95</td>\n",
              "    </tr>\n",
              "    <tr>\n",
              "      <th>1991</th>\n",
              "      <td>376.186324</td>\n",
              "      <td>311.49</td>\n",
              "      <td>417.09</td>\n",
              "    </tr>\n",
              "    <tr>\n",
              "      <th>1992</th>\n",
              "      <td>415.747008</td>\n",
              "      <td>394.50</td>\n",
              "      <td>441.28</td>\n",
              "    </tr>\n",
              "    <tr>\n",
              "      <th>1993</th>\n",
              "      <td>451.614822</td>\n",
              "      <td>429.05</td>\n",
              "      <td>470.94</td>\n",
              "    </tr>\n",
              "    <tr>\n",
              "      <th>1994</th>\n",
              "      <td>460.416508</td>\n",
              "      <td>438.92</td>\n",
              "      <td>482.00</td>\n",
              "    </tr>\n",
              "    <tr>\n",
              "      <th>1995</th>\n",
              "      <td>541.719087</td>\n",
              "      <td>459.11</td>\n",
              "      <td>621.69</td>\n",
              "    </tr>\n",
              "    <tr>\n",
              "      <th>1996</th>\n",
              "      <td>670.494843</td>\n",
              "      <td>598.48</td>\n",
              "      <td>757.03</td>\n",
              "    </tr>\n",
              "    <tr>\n",
              "      <th>1997</th>\n",
              "      <td>873.427787</td>\n",
              "      <td>737.01</td>\n",
              "      <td>983.79</td>\n",
              "    </tr>\n",
              "    <tr>\n",
              "      <th>1998</th>\n",
              "      <td>1085.503254</td>\n",
              "      <td>927.69</td>\n",
              "      <td>1241.81</td>\n",
              "    </tr>\n",
              "    <tr>\n",
              "      <th>1999</th>\n",
              "      <td>1327.329563</td>\n",
              "      <td>1212.19</td>\n",
              "      <td>1469.25</td>\n",
              "    </tr>\n",
              "    <tr>\n",
              "      <th>2000</th>\n",
              "      <td>1427.221071</td>\n",
              "      <td>1264.74</td>\n",
              "      <td>1527.46</td>\n",
              "    </tr>\n",
              "    <tr>\n",
              "      <th>2001</th>\n",
              "      <td>1194.178992</td>\n",
              "      <td>965.80</td>\n",
              "      <td>1373.73</td>\n",
              "    </tr>\n",
              "    <tr>\n",
              "      <th>2002</th>\n",
              "      <td>993.934802</td>\n",
              "      <td>776.76</td>\n",
              "      <td>1172.51</td>\n",
              "    </tr>\n",
              "    <tr>\n",
              "      <th>2003</th>\n",
              "      <td>965.227540</td>\n",
              "      <td>800.73</td>\n",
              "      <td>1111.92</td>\n",
              "    </tr>\n",
              "    <tr>\n",
              "      <th>2004</th>\n",
              "      <td>1130.649444</td>\n",
              "      <td>1063.23</td>\n",
              "      <td>1213.55</td>\n",
              "    </tr>\n",
              "    <tr>\n",
              "      <th>2005</th>\n",
              "      <td>1207.229444</td>\n",
              "      <td>1137.50</td>\n",
              "      <td>1272.74</td>\n",
              "    </tr>\n",
              "    <tr>\n",
              "      <th>2006</th>\n",
              "      <td>1310.461633</td>\n",
              "      <td>1223.69</td>\n",
              "      <td>1427.09</td>\n",
              "    </tr>\n",
              "    <tr>\n",
              "      <th>2007</th>\n",
              "      <td>1477.184343</td>\n",
              "      <td>1374.12</td>\n",
              "      <td>1565.15</td>\n",
              "    </tr>\n",
              "    <tr>\n",
              "      <th>2008</th>\n",
              "      <td>1220.042055</td>\n",
              "      <td>752.44</td>\n",
              "      <td>1447.16</td>\n",
              "    </tr>\n",
              "    <tr>\n",
              "      <th>2009</th>\n",
              "      <td>948.046389</td>\n",
              "      <td>676.53</td>\n",
              "      <td>1127.78</td>\n",
              "    </tr>\n",
              "    <tr>\n",
              "      <th>2010</th>\n",
              "      <td>1139.965516</td>\n",
              "      <td>1022.58</td>\n",
              "      <td>1259.78</td>\n",
              "    </tr>\n",
              "    <tr>\n",
              "      <th>2011</th>\n",
              "      <td>1276.093015</td>\n",
              "      <td>1099.23</td>\n",
              "      <td>1363.61</td>\n",
              "    </tr>\n",
              "  </tbody>\n",
              "</table>\n",
              "</div>"
            ],
            "text/plain": [
              "             mean      min      max\n",
              "year                               \n",
              "1990   334.123506   295.46   368.95\n",
              "1991   376.186324   311.49   417.09\n",
              "1992   415.747008   394.50   441.28\n",
              "1993   451.614822   429.05   470.94\n",
              "1994   460.416508   438.92   482.00\n",
              "1995   541.719087   459.11   621.69\n",
              "1996   670.494843   598.48   757.03\n",
              "1997   873.427787   737.01   983.79\n",
              "1998  1085.503254   927.69  1241.81\n",
              "1999  1327.329563  1212.19  1469.25\n",
              "2000  1427.221071  1264.74  1527.46\n",
              "2001  1194.178992   965.80  1373.73\n",
              "2002   993.934802   776.76  1172.51\n",
              "2003   965.227540   800.73  1111.92\n",
              "2004  1130.649444  1063.23  1213.55\n",
              "2005  1207.229444  1137.50  1272.74\n",
              "2006  1310.461633  1223.69  1427.09\n",
              "2007  1477.184343  1374.12  1565.15\n",
              "2008  1220.042055   752.44  1447.16\n",
              "2009   948.046389   676.53  1127.78\n",
              "2010  1139.965516  1022.58  1259.78\n",
              "2011  1276.093015  1099.23  1363.61"
            ]
          },
          "metadata": {},
          "execution_count": 328
        }
      ]
    },
    {
      "cell_type": "markdown",
      "metadata": {
        "id": "Dq7aswATI7Bv"
      },
      "source": [
        "Date 컬럼의 타입이 문자열인 경우, 주기별(연도별, 분기별, 월별, ...) 통계를 계산하기 위해서는 문자열을 parsing해서 파생변수를 추가하고 group by 계산을 해야함. \n",
        "Date 컬럼의 타입이 datetime인 경우, 그런 계싼들을 간단히 수행할 수 있음. "
      ]
    },
    {
      "cell_type": "code",
      "metadata": {
        "colab": {
          "base_uri": "https://localhost:8080/"
        },
        "id": "2JBETIeLHHGw",
        "outputId": "419734e1-44d1-4537-c713-38c84e273126"
      },
      "source": [
        "df.info()"
      ],
      "execution_count": 329,
      "outputs": [
        {
          "output_type": "stream",
          "text": [
            "<class 'pandas.core.frame.DataFrame'>\n",
            "RangeIndex: 5472 entries, 0 to 5471\n",
            "Data columns (total 3 columns):\n",
            " #   Column  Non-Null Count  Dtype  \n",
            "---  ------  --------------  -----  \n",
            " 0   Date    5472 non-null   object \n",
            " 1   SPX     5472 non-null   float64\n",
            " 2   year    5472 non-null   int64  \n",
            "dtypes: float64(1), int64(1), object(1)\n",
            "memory usage: 128.4+ KB\n"
          ],
          "name": "stdout"
        }
      ]
    },
    {
      "cell_type": "code",
      "metadata": {
        "id": "LBOOdyGBJZdT"
      },
      "source": [
        "df['dt'] = pd.to_datetime(df['Date'])"
      ],
      "execution_count": 330,
      "outputs": []
    },
    {
      "cell_type": "code",
      "metadata": {
        "colab": {
          "base_uri": "https://localhost:8080/",
          "height": 419
        },
        "id": "KqfZ1g6QJp8i",
        "outputId": "8749fb20-9a30-4e94-aa4c-10e4e7180d80"
      },
      "source": [
        "df"
      ],
      "execution_count": 331,
      "outputs": [
        {
          "output_type": "execute_result",
          "data": {
            "text/html": [
              "<div>\n",
              "<style scoped>\n",
              "    .dataframe tbody tr th:only-of-type {\n",
              "        vertical-align: middle;\n",
              "    }\n",
              "\n",
              "    .dataframe tbody tr th {\n",
              "        vertical-align: top;\n",
              "    }\n",
              "\n",
              "    .dataframe thead th {\n",
              "        text-align: right;\n",
              "    }\n",
              "</style>\n",
              "<table border=\"1\" class=\"dataframe\">\n",
              "  <thead>\n",
              "    <tr style=\"text-align: right;\">\n",
              "      <th></th>\n",
              "      <th>Date</th>\n",
              "      <th>SPX</th>\n",
              "      <th>year</th>\n",
              "      <th>dt</th>\n",
              "    </tr>\n",
              "  </thead>\n",
              "  <tbody>\n",
              "    <tr>\n",
              "      <th>0</th>\n",
              "      <td>1990-02-01 00:00:00</td>\n",
              "      <td>328.79</td>\n",
              "      <td>1990</td>\n",
              "      <td>1990-02-01</td>\n",
              "    </tr>\n",
              "    <tr>\n",
              "      <th>1</th>\n",
              "      <td>1990-02-02 00:00:00</td>\n",
              "      <td>330.92</td>\n",
              "      <td>1990</td>\n",
              "      <td>1990-02-02</td>\n",
              "    </tr>\n",
              "    <tr>\n",
              "      <th>2</th>\n",
              "      <td>1990-02-05 00:00:00</td>\n",
              "      <td>331.85</td>\n",
              "      <td>1990</td>\n",
              "      <td>1990-02-05</td>\n",
              "    </tr>\n",
              "    <tr>\n",
              "      <th>3</th>\n",
              "      <td>1990-02-06 00:00:00</td>\n",
              "      <td>329.66</td>\n",
              "      <td>1990</td>\n",
              "      <td>1990-02-06</td>\n",
              "    </tr>\n",
              "    <tr>\n",
              "      <th>4</th>\n",
              "      <td>1990-02-07 00:00:00</td>\n",
              "      <td>333.75</td>\n",
              "      <td>1990</td>\n",
              "      <td>1990-02-07</td>\n",
              "    </tr>\n",
              "    <tr>\n",
              "      <th>...</th>\n",
              "      <td>...</td>\n",
              "      <td>...</td>\n",
              "      <td>...</td>\n",
              "      <td>...</td>\n",
              "    </tr>\n",
              "    <tr>\n",
              "      <th>5467</th>\n",
              "      <td>2011-10-10 00:00:00</td>\n",
              "      <td>1194.89</td>\n",
              "      <td>2011</td>\n",
              "      <td>2011-10-10</td>\n",
              "    </tr>\n",
              "    <tr>\n",
              "      <th>5468</th>\n",
              "      <td>2011-10-11 00:00:00</td>\n",
              "      <td>1195.54</td>\n",
              "      <td>2011</td>\n",
              "      <td>2011-10-11</td>\n",
              "    </tr>\n",
              "    <tr>\n",
              "      <th>5469</th>\n",
              "      <td>2011-10-12 00:00:00</td>\n",
              "      <td>1207.25</td>\n",
              "      <td>2011</td>\n",
              "      <td>2011-10-12</td>\n",
              "    </tr>\n",
              "    <tr>\n",
              "      <th>5470</th>\n",
              "      <td>2011-10-13 00:00:00</td>\n",
              "      <td>1203.66</td>\n",
              "      <td>2011</td>\n",
              "      <td>2011-10-13</td>\n",
              "    </tr>\n",
              "    <tr>\n",
              "      <th>5471</th>\n",
              "      <td>2011-10-14 00:00:00</td>\n",
              "      <td>1224.58</td>\n",
              "      <td>2011</td>\n",
              "      <td>2011-10-14</td>\n",
              "    </tr>\n",
              "  </tbody>\n",
              "</table>\n",
              "<p>5472 rows × 4 columns</p>\n",
              "</div>"
            ],
            "text/plain": [
              "                     Date      SPX  year         dt\n",
              "0     1990-02-01 00:00:00   328.79  1990 1990-02-01\n",
              "1     1990-02-02 00:00:00   330.92  1990 1990-02-02\n",
              "2     1990-02-05 00:00:00   331.85  1990 1990-02-05\n",
              "3     1990-02-06 00:00:00   329.66  1990 1990-02-06\n",
              "4     1990-02-07 00:00:00   333.75  1990 1990-02-07\n",
              "...                   ...      ...   ...        ...\n",
              "5467  2011-10-10 00:00:00  1194.89  2011 2011-10-10\n",
              "5468  2011-10-11 00:00:00  1195.54  2011 2011-10-11\n",
              "5469  2011-10-12 00:00:00  1207.25  2011 2011-10-12\n",
              "5470  2011-10-13 00:00:00  1203.66  2011 2011-10-13\n",
              "5471  2011-10-14 00:00:00  1224.58  2011 2011-10-14\n",
              "\n",
              "[5472 rows x 4 columns]"
            ]
          },
          "metadata": {},
          "execution_count": 331
        }
      ]
    },
    {
      "cell_type": "code",
      "metadata": {
        "colab": {
          "base_uri": "https://localhost:8080/"
        },
        "id": "ep8sKWNLJqYV",
        "outputId": "00983ab2-5457-4d79-8452-7149386c2073"
      },
      "source": [
        "df.info()"
      ],
      "execution_count": 332,
      "outputs": [
        {
          "output_type": "stream",
          "text": [
            "<class 'pandas.core.frame.DataFrame'>\n",
            "RangeIndex: 5472 entries, 0 to 5471\n",
            "Data columns (total 4 columns):\n",
            " #   Column  Non-Null Count  Dtype         \n",
            "---  ------  --------------  -----         \n",
            " 0   Date    5472 non-null   object        \n",
            " 1   SPX     5472 non-null   float64       \n",
            " 2   year    5472 non-null   int64         \n",
            " 3   dt      5472 non-null   datetime64[ns]\n",
            "dtypes: datetime64[ns](1), float64(1), int64(1), object(1)\n",
            "memory usage: 171.1+ KB\n"
          ],
          "name": "stdout"
        }
      ]
    },
    {
      "cell_type": "code",
      "metadata": {
        "id": "b6cjlvoUJys2"
      },
      "source": [
        "# 날짜를 인덱스로 \n",
        "df = df.set_index('dt')"
      ],
      "execution_count": 333,
      "outputs": []
    },
    {
      "cell_type": "code",
      "metadata": {
        "colab": {
          "base_uri": "https://localhost:8080/",
          "height": 235
        },
        "id": "vWprvoMwKH8b",
        "outputId": "9cfbc3d1-42f4-48bf-8451-5f26186146a1"
      },
      "source": [
        "df.head()"
      ],
      "execution_count": 334,
      "outputs": [
        {
          "output_type": "execute_result",
          "data": {
            "text/html": [
              "<div>\n",
              "<style scoped>\n",
              "    .dataframe tbody tr th:only-of-type {\n",
              "        vertical-align: middle;\n",
              "    }\n",
              "\n",
              "    .dataframe tbody tr th {\n",
              "        vertical-align: top;\n",
              "    }\n",
              "\n",
              "    .dataframe thead th {\n",
              "        text-align: right;\n",
              "    }\n",
              "</style>\n",
              "<table border=\"1\" class=\"dataframe\">\n",
              "  <thead>\n",
              "    <tr style=\"text-align: right;\">\n",
              "      <th></th>\n",
              "      <th>Date</th>\n",
              "      <th>SPX</th>\n",
              "      <th>year</th>\n",
              "    </tr>\n",
              "    <tr>\n",
              "      <th>dt</th>\n",
              "      <th></th>\n",
              "      <th></th>\n",
              "      <th></th>\n",
              "    </tr>\n",
              "  </thead>\n",
              "  <tbody>\n",
              "    <tr>\n",
              "      <th>1990-02-01</th>\n",
              "      <td>1990-02-01 00:00:00</td>\n",
              "      <td>328.79</td>\n",
              "      <td>1990</td>\n",
              "    </tr>\n",
              "    <tr>\n",
              "      <th>1990-02-02</th>\n",
              "      <td>1990-02-02 00:00:00</td>\n",
              "      <td>330.92</td>\n",
              "      <td>1990</td>\n",
              "    </tr>\n",
              "    <tr>\n",
              "      <th>1990-02-05</th>\n",
              "      <td>1990-02-05 00:00:00</td>\n",
              "      <td>331.85</td>\n",
              "      <td>1990</td>\n",
              "    </tr>\n",
              "    <tr>\n",
              "      <th>1990-02-06</th>\n",
              "      <td>1990-02-06 00:00:00</td>\n",
              "      <td>329.66</td>\n",
              "      <td>1990</td>\n",
              "    </tr>\n",
              "    <tr>\n",
              "      <th>1990-02-07</th>\n",
              "      <td>1990-02-07 00:00:00</td>\n",
              "      <td>333.75</td>\n",
              "      <td>1990</td>\n",
              "    </tr>\n",
              "  </tbody>\n",
              "</table>\n",
              "</div>"
            ],
            "text/plain": [
              "                           Date     SPX  year\n",
              "dt                                           \n",
              "1990-02-01  1990-02-01 00:00:00  328.79  1990\n",
              "1990-02-02  1990-02-02 00:00:00  330.92  1990\n",
              "1990-02-05  1990-02-05 00:00:00  331.85  1990\n",
              "1990-02-06  1990-02-06 00:00:00  329.66  1990\n",
              "1990-02-07  1990-02-07 00:00:00  333.75  1990"
            ]
          },
          "metadata": {},
          "execution_count": 334
        }
      ]
    },
    {
      "cell_type": "code",
      "metadata": {
        "colab": {
          "base_uri": "https://localhost:8080/"
        },
        "id": "Rrdw9KxEKJRm",
        "outputId": "a976e964-c3f1-4ad7-c384-4fc3768e864c"
      },
      "source": [
        "df.resample('Y')"
      ],
      "execution_count": 335,
      "outputs": [
        {
          "output_type": "execute_result",
          "data": {
            "text/plain": [
              "<pandas.core.resample.DatetimeIndexResampler object at 0x7f6a0dcdf410>"
            ]
          },
          "metadata": {},
          "execution_count": 335
        }
      ]
    },
    {
      "cell_type": "code",
      "metadata": {
        "colab": {
          "base_uri": "https://localhost:8080/",
          "height": 762
        },
        "id": "mdKmmXTKKkN3",
        "outputId": "207b498c-e74f-4c6d-deac-15cc2da0544e"
      },
      "source": [
        "# df에서 datetime 타입의 인덱스를 사용해서 연도별 SPX 컬럼의 평균, 최솟값, 최댓값을 계산 \n",
        "# df.resample('Y')['SPX'].mean()\n",
        "df.resample('Y')['SPX'].agg(['mean', 'min', 'max'])"
      ],
      "execution_count": 336,
      "outputs": [
        {
          "output_type": "execute_result",
          "data": {
            "text/html": [
              "<div>\n",
              "<style scoped>\n",
              "    .dataframe tbody tr th:only-of-type {\n",
              "        vertical-align: middle;\n",
              "    }\n",
              "\n",
              "    .dataframe tbody tr th {\n",
              "        vertical-align: top;\n",
              "    }\n",
              "\n",
              "    .dataframe thead th {\n",
              "        text-align: right;\n",
              "    }\n",
              "</style>\n",
              "<table border=\"1\" class=\"dataframe\">\n",
              "  <thead>\n",
              "    <tr style=\"text-align: right;\">\n",
              "      <th></th>\n",
              "      <th>mean</th>\n",
              "      <th>min</th>\n",
              "      <th>max</th>\n",
              "    </tr>\n",
              "    <tr>\n",
              "      <th>dt</th>\n",
              "      <th></th>\n",
              "      <th></th>\n",
              "      <th></th>\n",
              "    </tr>\n",
              "  </thead>\n",
              "  <tbody>\n",
              "    <tr>\n",
              "      <th>1990-12-31</th>\n",
              "      <td>334.123506</td>\n",
              "      <td>295.46</td>\n",
              "      <td>368.95</td>\n",
              "    </tr>\n",
              "    <tr>\n",
              "      <th>1991-12-31</th>\n",
              "      <td>376.186324</td>\n",
              "      <td>311.49</td>\n",
              "      <td>417.09</td>\n",
              "    </tr>\n",
              "    <tr>\n",
              "      <th>1992-12-31</th>\n",
              "      <td>415.747008</td>\n",
              "      <td>394.50</td>\n",
              "      <td>441.28</td>\n",
              "    </tr>\n",
              "    <tr>\n",
              "      <th>1993-12-31</th>\n",
              "      <td>451.614822</td>\n",
              "      <td>429.05</td>\n",
              "      <td>470.94</td>\n",
              "    </tr>\n",
              "    <tr>\n",
              "      <th>1994-12-31</th>\n",
              "      <td>460.416508</td>\n",
              "      <td>438.92</td>\n",
              "      <td>482.00</td>\n",
              "    </tr>\n",
              "    <tr>\n",
              "      <th>1995-12-31</th>\n",
              "      <td>541.719087</td>\n",
              "      <td>459.11</td>\n",
              "      <td>621.69</td>\n",
              "    </tr>\n",
              "    <tr>\n",
              "      <th>1996-12-31</th>\n",
              "      <td>670.494843</td>\n",
              "      <td>598.48</td>\n",
              "      <td>757.03</td>\n",
              "    </tr>\n",
              "    <tr>\n",
              "      <th>1997-12-31</th>\n",
              "      <td>873.427787</td>\n",
              "      <td>737.01</td>\n",
              "      <td>983.79</td>\n",
              "    </tr>\n",
              "    <tr>\n",
              "      <th>1998-12-31</th>\n",
              "      <td>1085.503254</td>\n",
              "      <td>927.69</td>\n",
              "      <td>1241.81</td>\n",
              "    </tr>\n",
              "    <tr>\n",
              "      <th>1999-12-31</th>\n",
              "      <td>1327.329563</td>\n",
              "      <td>1212.19</td>\n",
              "      <td>1469.25</td>\n",
              "    </tr>\n",
              "    <tr>\n",
              "      <th>2000-12-31</th>\n",
              "      <td>1427.221071</td>\n",
              "      <td>1264.74</td>\n",
              "      <td>1527.46</td>\n",
              "    </tr>\n",
              "    <tr>\n",
              "      <th>2001-12-31</th>\n",
              "      <td>1194.178992</td>\n",
              "      <td>965.80</td>\n",
              "      <td>1373.73</td>\n",
              "    </tr>\n",
              "    <tr>\n",
              "      <th>2002-12-31</th>\n",
              "      <td>993.934802</td>\n",
              "      <td>776.76</td>\n",
              "      <td>1172.51</td>\n",
              "    </tr>\n",
              "    <tr>\n",
              "      <th>2003-12-31</th>\n",
              "      <td>965.227540</td>\n",
              "      <td>800.73</td>\n",
              "      <td>1111.92</td>\n",
              "    </tr>\n",
              "    <tr>\n",
              "      <th>2004-12-31</th>\n",
              "      <td>1130.649444</td>\n",
              "      <td>1063.23</td>\n",
              "      <td>1213.55</td>\n",
              "    </tr>\n",
              "    <tr>\n",
              "      <th>2005-12-31</th>\n",
              "      <td>1207.229444</td>\n",
              "      <td>1137.50</td>\n",
              "      <td>1272.74</td>\n",
              "    </tr>\n",
              "    <tr>\n",
              "      <th>2006-12-31</th>\n",
              "      <td>1310.461633</td>\n",
              "      <td>1223.69</td>\n",
              "      <td>1427.09</td>\n",
              "    </tr>\n",
              "    <tr>\n",
              "      <th>2007-12-31</th>\n",
              "      <td>1477.184343</td>\n",
              "      <td>1374.12</td>\n",
              "      <td>1565.15</td>\n",
              "    </tr>\n",
              "    <tr>\n",
              "      <th>2008-12-31</th>\n",
              "      <td>1220.042055</td>\n",
              "      <td>752.44</td>\n",
              "      <td>1447.16</td>\n",
              "    </tr>\n",
              "    <tr>\n",
              "      <th>2009-12-31</th>\n",
              "      <td>948.046389</td>\n",
              "      <td>676.53</td>\n",
              "      <td>1127.78</td>\n",
              "    </tr>\n",
              "    <tr>\n",
              "      <th>2010-12-31</th>\n",
              "      <td>1139.965516</td>\n",
              "      <td>1022.58</td>\n",
              "      <td>1259.78</td>\n",
              "    </tr>\n",
              "    <tr>\n",
              "      <th>2011-12-31</th>\n",
              "      <td>1276.093015</td>\n",
              "      <td>1099.23</td>\n",
              "      <td>1363.61</td>\n",
              "    </tr>\n",
              "  </tbody>\n",
              "</table>\n",
              "</div>"
            ],
            "text/plain": [
              "                   mean      min      max\n",
              "dt                                       \n",
              "1990-12-31   334.123506   295.46   368.95\n",
              "1991-12-31   376.186324   311.49   417.09\n",
              "1992-12-31   415.747008   394.50   441.28\n",
              "1993-12-31   451.614822   429.05   470.94\n",
              "1994-12-31   460.416508   438.92   482.00\n",
              "1995-12-31   541.719087   459.11   621.69\n",
              "1996-12-31   670.494843   598.48   757.03\n",
              "1997-12-31   873.427787   737.01   983.79\n",
              "1998-12-31  1085.503254   927.69  1241.81\n",
              "1999-12-31  1327.329563  1212.19  1469.25\n",
              "2000-12-31  1427.221071  1264.74  1527.46\n",
              "2001-12-31  1194.178992   965.80  1373.73\n",
              "2002-12-31   993.934802   776.76  1172.51\n",
              "2003-12-31   965.227540   800.73  1111.92\n",
              "2004-12-31  1130.649444  1063.23  1213.55\n",
              "2005-12-31  1207.229444  1137.50  1272.74\n",
              "2006-12-31  1310.461633  1223.69  1427.09\n",
              "2007-12-31  1477.184343  1374.12  1565.15\n",
              "2008-12-31  1220.042055   752.44  1447.16\n",
              "2009-12-31   948.046389   676.53  1127.78\n",
              "2010-12-31  1139.965516  1022.58  1259.78\n",
              "2011-12-31  1276.093015  1099.23  1363.61"
            ]
          },
          "metadata": {},
          "execution_count": 336
        }
      ]
    },
    {
      "cell_type": "code",
      "metadata": {
        "colab": {
          "base_uri": "https://localhost:8080/",
          "height": 450
        },
        "id": "YckyTOXIKtmH",
        "outputId": "7bd9cfe7-461c-41e1-9d14-148fa4f825eb"
      },
      "source": [
        "# 분기(Quarter)별 통계\n",
        "df.resample('Q')['SPX'].agg(['mean', 'min', 'max'])"
      ],
      "execution_count": 337,
      "outputs": [
        {
          "output_type": "execute_result",
          "data": {
            "text/html": [
              "<div>\n",
              "<style scoped>\n",
              "    .dataframe tbody tr th:only-of-type {\n",
              "        vertical-align: middle;\n",
              "    }\n",
              "\n",
              "    .dataframe tbody tr th {\n",
              "        vertical-align: top;\n",
              "    }\n",
              "\n",
              "    .dataframe thead th {\n",
              "        text-align: right;\n",
              "    }\n",
              "</style>\n",
              "<table border=\"1\" class=\"dataframe\">\n",
              "  <thead>\n",
              "    <tr style=\"text-align: right;\">\n",
              "      <th></th>\n",
              "      <th>mean</th>\n",
              "      <th>min</th>\n",
              "      <th>max</th>\n",
              "    </tr>\n",
              "    <tr>\n",
              "      <th>dt</th>\n",
              "      <th></th>\n",
              "      <th></th>\n",
              "      <th></th>\n",
              "    </tr>\n",
              "  </thead>\n",
              "  <tbody>\n",
              "    <tr>\n",
              "      <th>1990-03-31</th>\n",
              "      <td>334.751951</td>\n",
              "      <td>324.15</td>\n",
              "      <td>343.53</td>\n",
              "    </tr>\n",
              "    <tr>\n",
              "      <th>1990-06-30</th>\n",
              "      <td>349.796508</td>\n",
              "      <td>329.11</td>\n",
              "      <td>367.40</td>\n",
              "    </tr>\n",
              "    <tr>\n",
              "      <th>1990-09-30</th>\n",
              "      <td>335.881746</td>\n",
              "      <td>300.97</td>\n",
              "      <td>368.95</td>\n",
              "    </tr>\n",
              "    <tr>\n",
              "      <th>1990-12-31</th>\n",
              "      <td>316.562031</td>\n",
              "      <td>295.46</td>\n",
              "      <td>331.75</td>\n",
              "    </tr>\n",
              "    <tr>\n",
              "      <th>1991-03-31</th>\n",
              "      <td>352.282951</td>\n",
              "      <td>311.49</td>\n",
              "      <td>376.72</td>\n",
              "    </tr>\n",
              "    <tr>\n",
              "      <th>...</th>\n",
              "      <td>...</td>\n",
              "      <td>...</td>\n",
              "      <td>...</td>\n",
              "    </tr>\n",
              "    <tr>\n",
              "      <th>2010-12-31</th>\n",
              "      <td>1204.585625</td>\n",
              "      <td>1137.03</td>\n",
              "      <td>1259.78</td>\n",
              "    </tr>\n",
              "    <tr>\n",
              "      <th>2011-03-31</th>\n",
              "      <td>1302.529032</td>\n",
              "      <td>1256.88</td>\n",
              "      <td>1343.01</td>\n",
              "    </tr>\n",
              "    <tr>\n",
              "      <th>2011-06-30</th>\n",
              "      <td>1318.332857</td>\n",
              "      <td>1265.42</td>\n",
              "      <td>1363.61</td>\n",
              "    </tr>\n",
              "    <tr>\n",
              "      <th>2011-09-30</th>\n",
              "      <td>1225.268437</td>\n",
              "      <td>1119.46</td>\n",
              "      <td>1353.22</td>\n",
              "    </tr>\n",
              "    <tr>\n",
              "      <th>2011-12-31</th>\n",
              "      <td>1171.356000</td>\n",
              "      <td>1099.23</td>\n",
              "      <td>1224.58</td>\n",
              "    </tr>\n",
              "  </tbody>\n",
              "</table>\n",
              "<p>88 rows × 3 columns</p>\n",
              "</div>"
            ],
            "text/plain": [
              "                   mean      min      max\n",
              "dt                                       \n",
              "1990-03-31   334.751951   324.15   343.53\n",
              "1990-06-30   349.796508   329.11   367.40\n",
              "1990-09-30   335.881746   300.97   368.95\n",
              "1990-12-31   316.562031   295.46   331.75\n",
              "1991-03-31   352.282951   311.49   376.72\n",
              "...                 ...      ...      ...\n",
              "2010-12-31  1204.585625  1137.03  1259.78\n",
              "2011-03-31  1302.529032  1256.88  1343.01\n",
              "2011-06-30  1318.332857  1265.42  1363.61\n",
              "2011-09-30  1225.268437  1119.46  1353.22\n",
              "2011-12-31  1171.356000  1099.23  1224.58\n",
              "\n",
              "[88 rows x 3 columns]"
            ]
          },
          "metadata": {},
          "execution_count": 337
        }
      ]
    },
    {
      "cell_type": "code",
      "metadata": {
        "colab": {
          "base_uri": "https://localhost:8080/",
          "height": 450
        },
        "id": "DWvZr-8cL75T",
        "outputId": "08ed05d0-66c0-417a-fdb0-ab65e1e9865a"
      },
      "source": [
        "# 월(month)별 통계 \n",
        "df.resample('M')['SPX'].agg(['mean', 'min', 'max'])"
      ],
      "execution_count": 338,
      "outputs": [
        {
          "output_type": "execute_result",
          "data": {
            "text/html": [
              "<div>\n",
              "<style scoped>\n",
              "    .dataframe tbody tr th:only-of-type {\n",
              "        vertical-align: middle;\n",
              "    }\n",
              "\n",
              "    .dataframe tbody tr th {\n",
              "        vertical-align: top;\n",
              "    }\n",
              "\n",
              "    .dataframe thead th {\n",
              "        text-align: right;\n",
              "    }\n",
              "</style>\n",
              "<table border=\"1\" class=\"dataframe\">\n",
              "  <thead>\n",
              "    <tr style=\"text-align: right;\">\n",
              "      <th></th>\n",
              "      <th>mean</th>\n",
              "      <th>min</th>\n",
              "      <th>max</th>\n",
              "    </tr>\n",
              "    <tr>\n",
              "      <th>dt</th>\n",
              "      <th></th>\n",
              "      <th></th>\n",
              "      <th></th>\n",
              "    </tr>\n",
              "  </thead>\n",
              "  <tbody>\n",
              "    <tr>\n",
              "      <th>1990-02-28</th>\n",
              "      <td>330.452632</td>\n",
              "      <td>324.15</td>\n",
              "      <td>334.89</td>\n",
              "    </tr>\n",
              "    <tr>\n",
              "      <th>1990-03-31</th>\n",
              "      <td>338.465000</td>\n",
              "      <td>332.74</td>\n",
              "      <td>343.53</td>\n",
              "    </tr>\n",
              "    <tr>\n",
              "      <th>1990-04-30</th>\n",
              "      <td>338.178000</td>\n",
              "      <td>329.11</td>\n",
              "      <td>344.74</td>\n",
              "    </tr>\n",
              "    <tr>\n",
              "      <th>1990-05-31</th>\n",
              "      <td>350.250000</td>\n",
              "      <td>332.25</td>\n",
              "      <td>361.23</td>\n",
              "    </tr>\n",
              "    <tr>\n",
              "      <th>1990-06-30</th>\n",
              "      <td>360.386667</td>\n",
              "      <td>352.06</td>\n",
              "      <td>367.40</td>\n",
              "    </tr>\n",
              "    <tr>\n",
              "      <th>...</th>\n",
              "      <td>...</td>\n",
              "      <td>...</td>\n",
              "      <td>...</td>\n",
              "    </tr>\n",
              "    <tr>\n",
              "      <th>2011-06-30</th>\n",
              "      <td>1287.288636</td>\n",
              "      <td>1265.42</td>\n",
              "      <td>1320.64</td>\n",
              "    </tr>\n",
              "    <tr>\n",
              "      <th>2011-07-31</th>\n",
              "      <td>1325.184500</td>\n",
              "      <td>1292.28</td>\n",
              "      <td>1353.22</td>\n",
              "    </tr>\n",
              "    <tr>\n",
              "      <th>2011-08-31</th>\n",
              "      <td>1185.305652</td>\n",
              "      <td>1119.46</td>\n",
              "      <td>1286.94</td>\n",
              "    </tr>\n",
              "    <tr>\n",
              "      <th>2011-09-30</th>\n",
              "      <td>1173.879048</td>\n",
              "      <td>1129.56</td>\n",
              "      <td>1216.01</td>\n",
              "    </tr>\n",
              "    <tr>\n",
              "      <th>2011-10-31</th>\n",
              "      <td>1171.356000</td>\n",
              "      <td>1099.23</td>\n",
              "      <td>1224.58</td>\n",
              "    </tr>\n",
              "  </tbody>\n",
              "</table>\n",
              "<p>261 rows × 3 columns</p>\n",
              "</div>"
            ],
            "text/plain": [
              "                   mean      min      max\n",
              "dt                                       \n",
              "1990-02-28   330.452632   324.15   334.89\n",
              "1990-03-31   338.465000   332.74   343.53\n",
              "1990-04-30   338.178000   329.11   344.74\n",
              "1990-05-31   350.250000   332.25   361.23\n",
              "1990-06-30   360.386667   352.06   367.40\n",
              "...                 ...      ...      ...\n",
              "2011-06-30  1287.288636  1265.42  1320.64\n",
              "2011-07-31  1325.184500  1292.28  1353.22\n",
              "2011-08-31  1185.305652  1119.46  1286.94\n",
              "2011-09-30  1173.879048  1129.56  1216.01\n",
              "2011-10-31  1171.356000  1099.23  1224.58\n",
              "\n",
              "[261 rows x 3 columns]"
            ]
          },
          "metadata": {},
          "execution_count": 338
        }
      ]
    },
    {
      "cell_type": "code",
      "metadata": {
        "id": "qw7b2oRTMiXC"
      },
      "source": [
        "# CSV파일을 읽을 때, 날짜/시간 포맷의 문자열을 datetime객체로 자동 변환 \n",
        "df2 = pd.read_csv(file_path, parse_dates=['Date'])\n",
        "#> parse_dates: datetime 객체로 변환할 컬럼 이름들의 리스트 \n",
        "#> parse_dates의 기본값은 FALSE. - 문자열을 datetime으로 자동 변환하지 않음. "
      ],
      "execution_count": 339,
      "outputs": []
    },
    {
      "cell_type": "code",
      "metadata": {
        "colab": {
          "base_uri": "https://localhost:8080/",
          "height": 204
        },
        "id": "JihCf-osN79H",
        "outputId": "79b0956d-12bd-47b1-a4c2-354f99339e0c"
      },
      "source": [
        "df2.head()"
      ],
      "execution_count": 340,
      "outputs": [
        {
          "output_type": "execute_result",
          "data": {
            "text/html": [
              "<div>\n",
              "<style scoped>\n",
              "    .dataframe tbody tr th:only-of-type {\n",
              "        vertical-align: middle;\n",
              "    }\n",
              "\n",
              "    .dataframe tbody tr th {\n",
              "        vertical-align: top;\n",
              "    }\n",
              "\n",
              "    .dataframe thead th {\n",
              "        text-align: right;\n",
              "    }\n",
              "</style>\n",
              "<table border=\"1\" class=\"dataframe\">\n",
              "  <thead>\n",
              "    <tr style=\"text-align: right;\">\n",
              "      <th></th>\n",
              "      <th>Date</th>\n",
              "      <th>SPX</th>\n",
              "    </tr>\n",
              "  </thead>\n",
              "  <tbody>\n",
              "    <tr>\n",
              "      <th>0</th>\n",
              "      <td>1990-02-01</td>\n",
              "      <td>328.79</td>\n",
              "    </tr>\n",
              "    <tr>\n",
              "      <th>1</th>\n",
              "      <td>1990-02-02</td>\n",
              "      <td>330.92</td>\n",
              "    </tr>\n",
              "    <tr>\n",
              "      <th>2</th>\n",
              "      <td>1990-02-05</td>\n",
              "      <td>331.85</td>\n",
              "    </tr>\n",
              "    <tr>\n",
              "      <th>3</th>\n",
              "      <td>1990-02-06</td>\n",
              "      <td>329.66</td>\n",
              "    </tr>\n",
              "    <tr>\n",
              "      <th>4</th>\n",
              "      <td>1990-02-07</td>\n",
              "      <td>333.75</td>\n",
              "    </tr>\n",
              "  </tbody>\n",
              "</table>\n",
              "</div>"
            ],
            "text/plain": [
              "        Date     SPX\n",
              "0 1990-02-01  328.79\n",
              "1 1990-02-02  330.92\n",
              "2 1990-02-05  331.85\n",
              "3 1990-02-06  329.66\n",
              "4 1990-02-07  333.75"
            ]
          },
          "metadata": {},
          "execution_count": 340
        }
      ]
    },
    {
      "cell_type": "code",
      "metadata": {
        "colab": {
          "base_uri": "https://localhost:8080/"
        },
        "id": "SL2D7dGCN9R8",
        "outputId": "07940dd3-dd62-4ae2-f671-460cad91933c"
      },
      "source": [
        "df.info()"
      ],
      "execution_count": 341,
      "outputs": [
        {
          "output_type": "stream",
          "text": [
            "<class 'pandas.core.frame.DataFrame'>\n",
            "DatetimeIndex: 5472 entries, 1990-02-01 to 2011-10-14\n",
            "Data columns (total 3 columns):\n",
            " #   Column  Non-Null Count  Dtype  \n",
            "---  ------  --------------  -----  \n",
            " 0   Date    5472 non-null   object \n",
            " 1   SPX     5472 non-null   float64\n",
            " 2   year    5472 non-null   int64  \n",
            "dtypes: float64(1), int64(1), object(1)\n",
            "memory usage: 171.0+ KB\n"
          ],
          "name": "stdout"
        }
      ]
    },
    {
      "cell_type": "code",
      "metadata": {
        "colab": {
          "base_uri": "https://localhost:8080/",
          "height": 235
        },
        "id": "ATxna_sNN_b1",
        "outputId": "cf7f34d0-75ea-44ba-d202-f063b4eb1e78"
      },
      "source": [
        "# datetime 객체를 저장하는 컬럼을 (row) index로 설정 -> resample 메서드를 사용하기 위해서 \n",
        "df2 = df2.set_index('Date')\n",
        "df2.head()"
      ],
      "execution_count": 342,
      "outputs": [
        {
          "output_type": "execute_result",
          "data": {
            "text/html": [
              "<div>\n",
              "<style scoped>\n",
              "    .dataframe tbody tr th:only-of-type {\n",
              "        vertical-align: middle;\n",
              "    }\n",
              "\n",
              "    .dataframe tbody tr th {\n",
              "        vertical-align: top;\n",
              "    }\n",
              "\n",
              "    .dataframe thead th {\n",
              "        text-align: right;\n",
              "    }\n",
              "</style>\n",
              "<table border=\"1\" class=\"dataframe\">\n",
              "  <thead>\n",
              "    <tr style=\"text-align: right;\">\n",
              "      <th></th>\n",
              "      <th>SPX</th>\n",
              "    </tr>\n",
              "    <tr>\n",
              "      <th>Date</th>\n",
              "      <th></th>\n",
              "    </tr>\n",
              "  </thead>\n",
              "  <tbody>\n",
              "    <tr>\n",
              "      <th>1990-02-01</th>\n",
              "      <td>328.79</td>\n",
              "    </tr>\n",
              "    <tr>\n",
              "      <th>1990-02-02</th>\n",
              "      <td>330.92</td>\n",
              "    </tr>\n",
              "    <tr>\n",
              "      <th>1990-02-05</th>\n",
              "      <td>331.85</td>\n",
              "    </tr>\n",
              "    <tr>\n",
              "      <th>1990-02-06</th>\n",
              "      <td>329.66</td>\n",
              "    </tr>\n",
              "    <tr>\n",
              "      <th>1990-02-07</th>\n",
              "      <td>333.75</td>\n",
              "    </tr>\n",
              "  </tbody>\n",
              "</table>\n",
              "</div>"
            ],
            "text/plain": [
              "               SPX\n",
              "Date              \n",
              "1990-02-01  328.79\n",
              "1990-02-02  330.92\n",
              "1990-02-05  331.85\n",
              "1990-02-06  329.66\n",
              "1990-02-07  333.75"
            ]
          },
          "metadata": {},
          "execution_count": 342
        }
      ]
    },
    {
      "cell_type": "code",
      "metadata": {
        "id": "yIGoq-_EOi4f"
      },
      "source": [
        "df3 = pd.read_csv(file_path, parse_dates=['Date'], index_col=['Date'])\n",
        "#> parse_dates: datetime 객체로 변환할 컬럼들의 리스트 \n",
        "# parse_dates 파라미터를 사용하는 대신에, pd.to_datetime() 함수를 이용할 수도 있음. \n",
        "#> index_col: (row)  index로 만들 컬럼들의 리스트 \n",
        "# index_col 파라미터를 사용하는 대신에, pd.DataFrame.set_index() 메서드를 이용할 수도 있음. "
      ],
      "execution_count": 343,
      "outputs": []
    },
    {
      "cell_type": "code",
      "metadata": {
        "colab": {
          "base_uri": "https://localhost:8080/",
          "height": 235
        },
        "id": "G7QkbQfLSenW",
        "outputId": "7532aa82-4c5b-4c5d-a3fa-f219cf7a9b08"
      },
      "source": [
        "df3.head()"
      ],
      "execution_count": 344,
      "outputs": [
        {
          "output_type": "execute_result",
          "data": {
            "text/html": [
              "<div>\n",
              "<style scoped>\n",
              "    .dataframe tbody tr th:only-of-type {\n",
              "        vertical-align: middle;\n",
              "    }\n",
              "\n",
              "    .dataframe tbody tr th {\n",
              "        vertical-align: top;\n",
              "    }\n",
              "\n",
              "    .dataframe thead th {\n",
              "        text-align: right;\n",
              "    }\n",
              "</style>\n",
              "<table border=\"1\" class=\"dataframe\">\n",
              "  <thead>\n",
              "    <tr style=\"text-align: right;\">\n",
              "      <th></th>\n",
              "      <th>SPX</th>\n",
              "    </tr>\n",
              "    <tr>\n",
              "      <th>Date</th>\n",
              "      <th></th>\n",
              "    </tr>\n",
              "  </thead>\n",
              "  <tbody>\n",
              "    <tr>\n",
              "      <th>1990-02-01</th>\n",
              "      <td>328.79</td>\n",
              "    </tr>\n",
              "    <tr>\n",
              "      <th>1990-02-02</th>\n",
              "      <td>330.92</td>\n",
              "    </tr>\n",
              "    <tr>\n",
              "      <th>1990-02-05</th>\n",
              "      <td>331.85</td>\n",
              "    </tr>\n",
              "    <tr>\n",
              "      <th>1990-02-06</th>\n",
              "      <td>329.66</td>\n",
              "    </tr>\n",
              "    <tr>\n",
              "      <th>1990-02-07</th>\n",
              "      <td>333.75</td>\n",
              "    </tr>\n",
              "  </tbody>\n",
              "</table>\n",
              "</div>"
            ],
            "text/plain": [
              "               SPX\n",
              "Date              \n",
              "1990-02-01  328.79\n",
              "1990-02-02  330.92\n",
              "1990-02-05  331.85\n",
              "1990-02-06  329.66\n",
              "1990-02-07  333.75"
            ]
          },
          "metadata": {},
          "execution_count": 344
        }
      ]
    },
    {
      "cell_type": "code",
      "metadata": {
        "colab": {
          "base_uri": "https://localhost:8080/"
        },
        "id": "VEDMXtDzSfab",
        "outputId": "b908e30f-fcec-46f2-fbac-c433fdcebcd1"
      },
      "source": [
        "df3.info()"
      ],
      "execution_count": 345,
      "outputs": [
        {
          "output_type": "stream",
          "text": [
            "<class 'pandas.core.frame.DataFrame'>\n",
            "DatetimeIndex: 5472 entries, 1990-02-01 to 2011-10-14\n",
            "Data columns (total 1 columns):\n",
            " #   Column  Non-Null Count  Dtype  \n",
            "---  ------  --------------  -----  \n",
            " 0   SPX     5472 non-null   float64\n",
            "dtypes: float64(1)\n",
            "memory usage: 85.5 KB\n"
          ],
          "name": "stdout"
        }
      ]
    },
    {
      "cell_type": "markdown",
      "metadata": {
        "id": "l0V_db5iVdFf"
      },
      "source": [
        "* github에 저장된 banklist.csv 파일을 읽고, 데이터 프레임을 생성 \n",
        "* datetime 타입으로 변환할 수 있는 컬럼(들)을 타입 변환 \n",
        "* 연도별 파산한 은행 숫자를 찾고, 시각화 \n",
        "* 분기별 파산한 은행 숫자를 찾고, 시각화 \n",
        "    * 어떤 컬럼 하나를 index로 만드는 과정이 필요(resample method) "
      ]
    },
    {
      "cell_type": "code",
      "metadata": {
        "id": "iMbERkqEV9mG"
      },
      "source": [
        "import matplotlib.pyplot as plt\n",
        "import pandas as pd\n",
        "import seaborn as sns"
      ],
      "execution_count": 346,
      "outputs": []
    },
    {
      "cell_type": "code",
      "metadata": {
        "id": "UF_aVkatSk42"
      },
      "source": [
        "bank_file = 'https://github.com/JakeOh/202105_itw_bd26/raw/main/datasets/banklist.csv'"
      ],
      "execution_count": 347,
      "outputs": []
    },
    {
      "cell_type": "code",
      "metadata": {
        "id": "eJJB8QXbUCYR"
      },
      "source": [
        "banks = pd.read_csv(bank_file)"
      ],
      "execution_count": 348,
      "outputs": []
    },
    {
      "cell_type": "code",
      "metadata": {
        "colab": {
          "base_uri": "https://localhost:8080/",
          "height": 204
        },
        "id": "yD-0iFg1X8tv",
        "outputId": "90ace839-8a42-4453-915a-10b81b886a86"
      },
      "source": [
        "banks.head()"
      ],
      "execution_count": 349,
      "outputs": [
        {
          "output_type": "execute_result",
          "data": {
            "text/html": [
              "<div>\n",
              "<style scoped>\n",
              "    .dataframe tbody tr th:only-of-type {\n",
              "        vertical-align: middle;\n",
              "    }\n",
              "\n",
              "    .dataframe tbody tr th {\n",
              "        vertical-align: top;\n",
              "    }\n",
              "\n",
              "    .dataframe thead th {\n",
              "        text-align: right;\n",
              "    }\n",
              "</style>\n",
              "<table border=\"1\" class=\"dataframe\">\n",
              "  <thead>\n",
              "    <tr style=\"text-align: right;\">\n",
              "      <th></th>\n",
              "      <th>Bank Name</th>\n",
              "      <th>City</th>\n",
              "      <th>ST</th>\n",
              "      <th>CERT</th>\n",
              "      <th>Acquiring Institution</th>\n",
              "      <th>Closing Date</th>\n",
              "      <th>Updated Date</th>\n",
              "    </tr>\n",
              "  </thead>\n",
              "  <tbody>\n",
              "    <tr>\n",
              "      <th>0</th>\n",
              "      <td>Washington Federal Bank for Savings</td>\n",
              "      <td>Chicago</td>\n",
              "      <td>IL</td>\n",
              "      <td>30570</td>\n",
              "      <td>Royal Savings Bank</td>\n",
              "      <td>15-Dec-17</td>\n",
              "      <td>20-Dec-17</td>\n",
              "    </tr>\n",
              "    <tr>\n",
              "      <th>1</th>\n",
              "      <td>The Farmers and Merchants State Bank of Argonia</td>\n",
              "      <td>Argonia</td>\n",
              "      <td>KS</td>\n",
              "      <td>17719</td>\n",
              "      <td>Conway Bank</td>\n",
              "      <td>13-Oct-17</td>\n",
              "      <td>20-Oct-17</td>\n",
              "    </tr>\n",
              "    <tr>\n",
              "      <th>2</th>\n",
              "      <td>Fayette County Bank</td>\n",
              "      <td>Saint Elmo</td>\n",
              "      <td>IL</td>\n",
              "      <td>1802</td>\n",
              "      <td>United Fidelity Bank, fsb</td>\n",
              "      <td>26-May-17</td>\n",
              "      <td>26-Jul-17</td>\n",
              "    </tr>\n",
              "    <tr>\n",
              "      <th>3</th>\n",
              "      <td>Guaranty Bank, (d/b/a BestBank in Georgia &amp; Mi...</td>\n",
              "      <td>Milwaukee</td>\n",
              "      <td>WI</td>\n",
              "      <td>30003</td>\n",
              "      <td>First-Citizens Bank &amp; Trust Company</td>\n",
              "      <td>5-May-17</td>\n",
              "      <td>26-Jul-17</td>\n",
              "    </tr>\n",
              "    <tr>\n",
              "      <th>4</th>\n",
              "      <td>First NBC Bank</td>\n",
              "      <td>New Orleans</td>\n",
              "      <td>LA</td>\n",
              "      <td>58302</td>\n",
              "      <td>Whitney Bank</td>\n",
              "      <td>28-Apr-17</td>\n",
              "      <td>5-Dec-17</td>\n",
              "    </tr>\n",
              "  </tbody>\n",
              "</table>\n",
              "</div>"
            ],
            "text/plain": [
              "                                           Bank Name  ... Updated Date\n",
              "0                Washington Federal Bank for Savings  ...    20-Dec-17\n",
              "1    The Farmers and Merchants State Bank of Argonia  ...    20-Oct-17\n",
              "2                                Fayette County Bank  ...    26-Jul-17\n",
              "3  Guaranty Bank, (d/b/a BestBank in Georgia & Mi...  ...    26-Jul-17\n",
              "4                                     First NBC Bank  ...     5-Dec-17\n",
              "\n",
              "[5 rows x 7 columns]"
            ]
          },
          "metadata": {},
          "execution_count": 349
        }
      ]
    },
    {
      "cell_type": "code",
      "metadata": {
        "colab": {
          "base_uri": "https://localhost:8080/"
        },
        "id": "qeUypDJSX-Dy",
        "outputId": "4b93c23f-d442-45be-ee63-ad3c5b506711"
      },
      "source": [
        "banks.info()"
      ],
      "execution_count": 350,
      "outputs": [
        {
          "output_type": "stream",
          "text": [
            "<class 'pandas.core.frame.DataFrame'>\n",
            "RangeIndex: 555 entries, 0 to 554\n",
            "Data columns (total 7 columns):\n",
            " #   Column                 Non-Null Count  Dtype \n",
            "---  ------                 --------------  ----- \n",
            " 0   Bank Name              555 non-null    object\n",
            " 1   City                   555 non-null    object\n",
            " 2   ST                     555 non-null    object\n",
            " 3   CERT                   555 non-null    int64 \n",
            " 4   Acquiring Institution  555 non-null    object\n",
            " 5   Closing Date           555 non-null    object\n",
            " 6   Updated Date           555 non-null    object\n",
            "dtypes: int64(1), object(6)\n",
            "memory usage: 30.5+ KB\n"
          ],
          "name": "stdout"
        }
      ]
    },
    {
      "cell_type": "code",
      "metadata": {
        "id": "UgqwhNDQuuxz"
      },
      "source": [
        "# 'Closing Date', 'Updated Date' 컬럼을 datetime 타입으로 변환 \n",
        "banks['Closing Date'] = pd.to_datetime(banks['Closing Date'])"
      ],
      "execution_count": 351,
      "outputs": []
    },
    {
      "cell_type": "code",
      "metadata": {
        "colab": {
          "base_uri": "https://localhost:8080/"
        },
        "id": "kAr1Nmlnu5Zc",
        "outputId": "0f2e19de-b843-4630-8895-bafdbc33d240"
      },
      "source": [
        "banks.info()"
      ],
      "execution_count": 352,
      "outputs": [
        {
          "output_type": "stream",
          "text": [
            "<class 'pandas.core.frame.DataFrame'>\n",
            "RangeIndex: 555 entries, 0 to 554\n",
            "Data columns (total 7 columns):\n",
            " #   Column                 Non-Null Count  Dtype         \n",
            "---  ------                 --------------  -----         \n",
            " 0   Bank Name              555 non-null    object        \n",
            " 1   City                   555 non-null    object        \n",
            " 2   ST                     555 non-null    object        \n",
            " 3   CERT                   555 non-null    int64         \n",
            " 4   Acquiring Institution  555 non-null    object        \n",
            " 5   Closing Date           555 non-null    datetime64[ns]\n",
            " 6   Updated Date           555 non-null    object        \n",
            "dtypes: datetime64[ns](1), int64(1), object(5)\n",
            "memory usage: 30.5+ KB\n"
          ],
          "name": "stdout"
        }
      ]
    },
    {
      "cell_type": "code",
      "metadata": {
        "colab": {
          "base_uri": "https://localhost:8080/",
          "height": 204
        },
        "id": "eU0s03LVvFJB",
        "outputId": "8156ce62-e415-4be5-b336-c92b79ed7e3e"
      },
      "source": [
        "banks.head()"
      ],
      "execution_count": 353,
      "outputs": [
        {
          "output_type": "execute_result",
          "data": {
            "text/html": [
              "<div>\n",
              "<style scoped>\n",
              "    .dataframe tbody tr th:only-of-type {\n",
              "        vertical-align: middle;\n",
              "    }\n",
              "\n",
              "    .dataframe tbody tr th {\n",
              "        vertical-align: top;\n",
              "    }\n",
              "\n",
              "    .dataframe thead th {\n",
              "        text-align: right;\n",
              "    }\n",
              "</style>\n",
              "<table border=\"1\" class=\"dataframe\">\n",
              "  <thead>\n",
              "    <tr style=\"text-align: right;\">\n",
              "      <th></th>\n",
              "      <th>Bank Name</th>\n",
              "      <th>City</th>\n",
              "      <th>ST</th>\n",
              "      <th>CERT</th>\n",
              "      <th>Acquiring Institution</th>\n",
              "      <th>Closing Date</th>\n",
              "      <th>Updated Date</th>\n",
              "    </tr>\n",
              "  </thead>\n",
              "  <tbody>\n",
              "    <tr>\n",
              "      <th>0</th>\n",
              "      <td>Washington Federal Bank for Savings</td>\n",
              "      <td>Chicago</td>\n",
              "      <td>IL</td>\n",
              "      <td>30570</td>\n",
              "      <td>Royal Savings Bank</td>\n",
              "      <td>2017-12-15</td>\n",
              "      <td>20-Dec-17</td>\n",
              "    </tr>\n",
              "    <tr>\n",
              "      <th>1</th>\n",
              "      <td>The Farmers and Merchants State Bank of Argonia</td>\n",
              "      <td>Argonia</td>\n",
              "      <td>KS</td>\n",
              "      <td>17719</td>\n",
              "      <td>Conway Bank</td>\n",
              "      <td>2017-10-13</td>\n",
              "      <td>20-Oct-17</td>\n",
              "    </tr>\n",
              "    <tr>\n",
              "      <th>2</th>\n",
              "      <td>Fayette County Bank</td>\n",
              "      <td>Saint Elmo</td>\n",
              "      <td>IL</td>\n",
              "      <td>1802</td>\n",
              "      <td>United Fidelity Bank, fsb</td>\n",
              "      <td>2017-05-26</td>\n",
              "      <td>26-Jul-17</td>\n",
              "    </tr>\n",
              "    <tr>\n",
              "      <th>3</th>\n",
              "      <td>Guaranty Bank, (d/b/a BestBank in Georgia &amp; Mi...</td>\n",
              "      <td>Milwaukee</td>\n",
              "      <td>WI</td>\n",
              "      <td>30003</td>\n",
              "      <td>First-Citizens Bank &amp; Trust Company</td>\n",
              "      <td>2017-05-05</td>\n",
              "      <td>26-Jul-17</td>\n",
              "    </tr>\n",
              "    <tr>\n",
              "      <th>4</th>\n",
              "      <td>First NBC Bank</td>\n",
              "      <td>New Orleans</td>\n",
              "      <td>LA</td>\n",
              "      <td>58302</td>\n",
              "      <td>Whitney Bank</td>\n",
              "      <td>2017-04-28</td>\n",
              "      <td>5-Dec-17</td>\n",
              "    </tr>\n",
              "  </tbody>\n",
              "</table>\n",
              "</div>"
            ],
            "text/plain": [
              "                                           Bank Name  ... Updated Date\n",
              "0                Washington Federal Bank for Savings  ...    20-Dec-17\n",
              "1    The Farmers and Merchants State Bank of Argonia  ...    20-Oct-17\n",
              "2                                Fayette County Bank  ...    26-Jul-17\n",
              "3  Guaranty Bank, (d/b/a BestBank in Georgia & Mi...  ...    26-Jul-17\n",
              "4                                     First NBC Bank  ...     5-Dec-17\n",
              "\n",
              "[5 rows x 7 columns]"
            ]
          },
          "metadata": {},
          "execution_count": 353
        }
      ]
    },
    {
      "cell_type": "code",
      "metadata": {
        "id": "eoEg7T_IwMaz"
      },
      "source": [
        "# Updated Date 컬럼을 datetime 타입으로 변환 \n",
        "banks['Updated Date'] = pd.to_datetime(banks['Updated Date'], dayfirst=True)"
      ],
      "execution_count": 354,
      "outputs": []
    },
    {
      "cell_type": "code",
      "metadata": {
        "colab": {
          "base_uri": "https://localhost:8080/"
        },
        "id": "emM8uXvZwanU",
        "outputId": "e7587795-b939-45d0-fd41-ce1169bee3ab"
      },
      "source": [
        "banks.info"
      ],
      "execution_count": 355,
      "outputs": [
        {
          "output_type": "execute_result",
          "data": {
            "text/plain": [
              "<bound method DataFrame.info of                                              Bank Name  ... Updated Date\n",
              "0                  Washington Federal Bank for Savings  ...   2017-12-20\n",
              "1      The Farmers and Merchants State Bank of Argonia  ...   2017-10-20\n",
              "2                                  Fayette County Bank  ...   2017-07-26\n",
              "3    Guaranty Bank, (d/b/a BestBank in Georgia & Mi...  ...   2017-07-26\n",
              "4                                       First NBC Bank  ...   2017-12-05\n",
              "..                                                 ...  ...          ...\n",
              "550                                 Superior Bank, FSB  ...   2014-08-19\n",
              "551                                Malta National Bank  ...   2002-11-18\n",
              "552                    First Alliance Bank & Trust Co.  ...   2003-02-18\n",
              "553                  National State Bank of Metropolis  ...   2005-03-17\n",
              "554                                   Bank of Honolulu  ...   2005-03-17\n",
              "\n",
              "[555 rows x 7 columns]>"
            ]
          },
          "metadata": {},
          "execution_count": 355
        }
      ]
    },
    {
      "cell_type": "code",
      "metadata": {
        "colab": {
          "base_uri": "https://localhost:8080/",
          "height": 204
        },
        "id": "AxDrpt2Dwb5q",
        "outputId": "61005936-7167-48a4-fa64-a77a1888d4b8"
      },
      "source": [
        "banks.head()"
      ],
      "execution_count": 356,
      "outputs": [
        {
          "output_type": "execute_result",
          "data": {
            "text/html": [
              "<div>\n",
              "<style scoped>\n",
              "    .dataframe tbody tr th:only-of-type {\n",
              "        vertical-align: middle;\n",
              "    }\n",
              "\n",
              "    .dataframe tbody tr th {\n",
              "        vertical-align: top;\n",
              "    }\n",
              "\n",
              "    .dataframe thead th {\n",
              "        text-align: right;\n",
              "    }\n",
              "</style>\n",
              "<table border=\"1\" class=\"dataframe\">\n",
              "  <thead>\n",
              "    <tr style=\"text-align: right;\">\n",
              "      <th></th>\n",
              "      <th>Bank Name</th>\n",
              "      <th>City</th>\n",
              "      <th>ST</th>\n",
              "      <th>CERT</th>\n",
              "      <th>Acquiring Institution</th>\n",
              "      <th>Closing Date</th>\n",
              "      <th>Updated Date</th>\n",
              "    </tr>\n",
              "  </thead>\n",
              "  <tbody>\n",
              "    <tr>\n",
              "      <th>0</th>\n",
              "      <td>Washington Federal Bank for Savings</td>\n",
              "      <td>Chicago</td>\n",
              "      <td>IL</td>\n",
              "      <td>30570</td>\n",
              "      <td>Royal Savings Bank</td>\n",
              "      <td>2017-12-15</td>\n",
              "      <td>2017-12-20</td>\n",
              "    </tr>\n",
              "    <tr>\n",
              "      <th>1</th>\n",
              "      <td>The Farmers and Merchants State Bank of Argonia</td>\n",
              "      <td>Argonia</td>\n",
              "      <td>KS</td>\n",
              "      <td>17719</td>\n",
              "      <td>Conway Bank</td>\n",
              "      <td>2017-10-13</td>\n",
              "      <td>2017-10-20</td>\n",
              "    </tr>\n",
              "    <tr>\n",
              "      <th>2</th>\n",
              "      <td>Fayette County Bank</td>\n",
              "      <td>Saint Elmo</td>\n",
              "      <td>IL</td>\n",
              "      <td>1802</td>\n",
              "      <td>United Fidelity Bank, fsb</td>\n",
              "      <td>2017-05-26</td>\n",
              "      <td>2017-07-26</td>\n",
              "    </tr>\n",
              "    <tr>\n",
              "      <th>3</th>\n",
              "      <td>Guaranty Bank, (d/b/a BestBank in Georgia &amp; Mi...</td>\n",
              "      <td>Milwaukee</td>\n",
              "      <td>WI</td>\n",
              "      <td>30003</td>\n",
              "      <td>First-Citizens Bank &amp; Trust Company</td>\n",
              "      <td>2017-05-05</td>\n",
              "      <td>2017-07-26</td>\n",
              "    </tr>\n",
              "    <tr>\n",
              "      <th>4</th>\n",
              "      <td>First NBC Bank</td>\n",
              "      <td>New Orleans</td>\n",
              "      <td>LA</td>\n",
              "      <td>58302</td>\n",
              "      <td>Whitney Bank</td>\n",
              "      <td>2017-04-28</td>\n",
              "      <td>2017-12-05</td>\n",
              "    </tr>\n",
              "  </tbody>\n",
              "</table>\n",
              "</div>"
            ],
            "text/plain": [
              "                                           Bank Name  ... Updated Date\n",
              "0                Washington Federal Bank for Savings  ...   2017-12-20\n",
              "1    The Farmers and Merchants State Bank of Argonia  ...   2017-10-20\n",
              "2                                Fayette County Bank  ...   2017-07-26\n",
              "3  Guaranty Bank, (d/b/a BestBank in Georgia & Mi...  ...   2017-07-26\n",
              "4                                     First NBC Bank  ...   2017-12-05\n",
              "\n",
              "[5 rows x 7 columns]"
            ]
          },
          "metadata": {},
          "execution_count": 356
        }
      ]
    },
    {
      "cell_type": "code",
      "metadata": {
        "id": "3rUCr7RiwdoB"
      },
      "source": [
        "# 'Closing Date' 컬럼을 index로 변환\n",
        "banks = banks.set_index('Closing Date')"
      ],
      "execution_count": 357,
      "outputs": []
    },
    {
      "cell_type": "code",
      "metadata": {
        "colab": {
          "base_uri": "https://localhost:8080/",
          "height": 235
        },
        "id": "bgKrLYgZwv9k",
        "outputId": "5feeb506-a270-4696-8f1c-ffc1a03fd3dd"
      },
      "source": [
        "banks.head()"
      ],
      "execution_count": 358,
      "outputs": [
        {
          "output_type": "execute_result",
          "data": {
            "text/html": [
              "<div>\n",
              "<style scoped>\n",
              "    .dataframe tbody tr th:only-of-type {\n",
              "        vertical-align: middle;\n",
              "    }\n",
              "\n",
              "    .dataframe tbody tr th {\n",
              "        vertical-align: top;\n",
              "    }\n",
              "\n",
              "    .dataframe thead th {\n",
              "        text-align: right;\n",
              "    }\n",
              "</style>\n",
              "<table border=\"1\" class=\"dataframe\">\n",
              "  <thead>\n",
              "    <tr style=\"text-align: right;\">\n",
              "      <th></th>\n",
              "      <th>Bank Name</th>\n",
              "      <th>City</th>\n",
              "      <th>ST</th>\n",
              "      <th>CERT</th>\n",
              "      <th>Acquiring Institution</th>\n",
              "      <th>Updated Date</th>\n",
              "    </tr>\n",
              "    <tr>\n",
              "      <th>Closing Date</th>\n",
              "      <th></th>\n",
              "      <th></th>\n",
              "      <th></th>\n",
              "      <th></th>\n",
              "      <th></th>\n",
              "      <th></th>\n",
              "    </tr>\n",
              "  </thead>\n",
              "  <tbody>\n",
              "    <tr>\n",
              "      <th>2017-12-15</th>\n",
              "      <td>Washington Federal Bank for Savings</td>\n",
              "      <td>Chicago</td>\n",
              "      <td>IL</td>\n",
              "      <td>30570</td>\n",
              "      <td>Royal Savings Bank</td>\n",
              "      <td>2017-12-20</td>\n",
              "    </tr>\n",
              "    <tr>\n",
              "      <th>2017-10-13</th>\n",
              "      <td>The Farmers and Merchants State Bank of Argonia</td>\n",
              "      <td>Argonia</td>\n",
              "      <td>KS</td>\n",
              "      <td>17719</td>\n",
              "      <td>Conway Bank</td>\n",
              "      <td>2017-10-20</td>\n",
              "    </tr>\n",
              "    <tr>\n",
              "      <th>2017-05-26</th>\n",
              "      <td>Fayette County Bank</td>\n",
              "      <td>Saint Elmo</td>\n",
              "      <td>IL</td>\n",
              "      <td>1802</td>\n",
              "      <td>United Fidelity Bank, fsb</td>\n",
              "      <td>2017-07-26</td>\n",
              "    </tr>\n",
              "    <tr>\n",
              "      <th>2017-05-05</th>\n",
              "      <td>Guaranty Bank, (d/b/a BestBank in Georgia &amp; Mi...</td>\n",
              "      <td>Milwaukee</td>\n",
              "      <td>WI</td>\n",
              "      <td>30003</td>\n",
              "      <td>First-Citizens Bank &amp; Trust Company</td>\n",
              "      <td>2017-07-26</td>\n",
              "    </tr>\n",
              "    <tr>\n",
              "      <th>2017-04-28</th>\n",
              "      <td>First NBC Bank</td>\n",
              "      <td>New Orleans</td>\n",
              "      <td>LA</td>\n",
              "      <td>58302</td>\n",
              "      <td>Whitney Bank</td>\n",
              "      <td>2017-12-05</td>\n",
              "    </tr>\n",
              "  </tbody>\n",
              "</table>\n",
              "</div>"
            ],
            "text/plain": [
              "                                                      Bank Name  ... Updated Date\n",
              "Closing Date                                                     ...             \n",
              "2017-12-15                  Washington Federal Bank for Savings  ...   2017-12-20\n",
              "2017-10-13      The Farmers and Merchants State Bank of Argonia  ...   2017-10-20\n",
              "2017-05-26                                  Fayette County Bank  ...   2017-07-26\n",
              "2017-05-05    Guaranty Bank, (d/b/a BestBank in Georgia & Mi...  ...   2017-07-26\n",
              "2017-04-28                                       First NBC Bank  ...   2017-12-05\n",
              "\n",
              "[5 rows x 6 columns]"
            ]
          },
          "metadata": {},
          "execution_count": 358
        }
      ]
    },
    {
      "cell_type": "code",
      "metadata": {
        "colab": {
          "base_uri": "https://localhost:8080/"
        },
        "id": "O0n6Nda3wxMA",
        "outputId": "f28652ce-b0df-4e68-cbc9-b5ab2111dbe7"
      },
      "source": [
        "banks.info()"
      ],
      "execution_count": 359,
      "outputs": [
        {
          "output_type": "stream",
          "text": [
            "<class 'pandas.core.frame.DataFrame'>\n",
            "DatetimeIndex: 555 entries, 2017-12-15 to 2000-10-13\n",
            "Data columns (total 6 columns):\n",
            " #   Column                 Non-Null Count  Dtype         \n",
            "---  ------                 --------------  -----         \n",
            " 0   Bank Name              555 non-null    object        \n",
            " 1   City                   555 non-null    object        \n",
            " 2   ST                     555 non-null    object        \n",
            " 3   CERT                   555 non-null    int64         \n",
            " 4   Acquiring Institution  555 non-null    object        \n",
            " 5   Updated Date           555 non-null    datetime64[ns]\n",
            "dtypes: datetime64[ns](1), int64(1), object(4)\n",
            "memory usage: 30.4+ KB\n"
          ],
          "name": "stdout"
        }
      ]
    },
    {
      "cell_type": "code",
      "metadata": {
        "colab": {
          "base_uri": "https://localhost:8080/"
        },
        "id": "N36RE9naw_Z9",
        "outputId": "d56852e2-6b50-4546-9e35-321a233454c2"
      },
      "source": [
        "# 연도별 파산한 은행 숫자 \n",
        "by_year = banks.resample(rule='Y').size()\n",
        "by_year"
      ],
      "execution_count": 360,
      "outputs": [
        {
          "output_type": "execute_result",
          "data": {
            "text/plain": [
              "Closing Date\n",
              "2000-12-31      2\n",
              "2001-12-31      4\n",
              "2002-12-31     11\n",
              "2003-12-31      3\n",
              "2004-12-31      4\n",
              "2005-12-31      0\n",
              "2006-12-31      0\n",
              "2007-12-31      3\n",
              "2008-12-31     25\n",
              "2009-12-31    140\n",
              "2010-12-31    157\n",
              "2011-12-31     92\n",
              "2012-12-31     51\n",
              "2013-12-31     24\n",
              "2014-12-31     18\n",
              "2015-12-31      8\n",
              "2016-12-31      5\n",
              "2017-12-31      8\n",
              "Freq: A-DEC, dtype: int64"
            ]
          },
          "metadata": {},
          "execution_count": 360
        }
      ]
    },
    {
      "cell_type": "code",
      "metadata": {
        "colab": {
          "base_uri": "https://localhost:8080/",
          "height": 265
        },
        "id": "vwBihUftxgSi",
        "outputId": "e4a526e4-c819-4b34-8317-78f45db8109f"
      },
      "source": [
        "plt.plot(by_year, marker='o')\n",
        "plt.grid()\n",
        "plt.show()"
      ],
      "execution_count": 361,
      "outputs": [
        {
          "output_type": "display_data",
          "data": {
            "image/png": "[encoded data removed]",
            "text/plain": [
              "<Figure size 432x288 with 1 Axes>"
            ]
          },
          "metadata": {
            "needs_background": "light"
          }
        }
      ]
    },
    {
      "cell_type": "code",
      "metadata": {
        "colab": {
          "base_uri": "https://localhost:8080/"
        },
        "id": "QuiSWG3sx8wv",
        "outputId": "678ca553-72b6-45f4-d1d9-43403e1fa010"
      },
      "source": [
        "# 분기별 파산한 은행 숫자 \n",
        "by_quarter = banks.resample(rule='Q').size()\n",
        "by_quarter"
      ],
      "execution_count": 362,
      "outputs": [
        {
          "output_type": "execute_result",
          "data": {
            "text/plain": [
              "Closing Date\n",
              "2000-12-31    2\n",
              "2001-03-31    1\n",
              "2001-06-30    1\n",
              "2001-09-30    2\n",
              "2001-12-31    0\n",
              "             ..\n",
              "2016-12-31    0\n",
              "2017-03-31    3\n",
              "2017-06-30    3\n",
              "2017-09-30    0\n",
              "2017-12-31    2\n",
              "Freq: Q-DEC, Length: 69, dtype: int64"
            ]
          },
          "metadata": {},
          "execution_count": 362
        }
      ]
    },
    {
      "cell_type": "code",
      "metadata": {
        "colab": {
          "base_uri": "https://localhost:8080/",
          "height": 265
        },
        "id": "K4XNHEBKyvu9",
        "outputId": "2e147850-29b4-4b24-9538-b1b51d9252bc"
      },
      "source": [
        "plt.plot(by_quarter, marker = 'o')\n",
        "plt.grid()\n",
        "plt.show()"
      ],
      "execution_count": 363,
      "outputs": [
        {
          "output_type": "display_data",
          "data": {
            "image/png": "[encoded data removed]",
            "text/plain": [
              "<Figure size 432x288 with 1 Axes>"
            ]
          },
          "metadata": {
            "needs_background": "light"
          }
        }
      ]
    },
    {
      "cell_type": "code",
      "metadata": {
        "colab": {
          "base_uri": "https://localhost:8080/"
        },
        "id": "ucc1Nh3X01Jp",
        "outputId": "5bd04941-b6c4-43b3-b98a-4f12f860762f"
      },
      "source": [
        "by_month = banks.resample(rule = 'M').size()\n",
        "by_month"
      ],
      "execution_count": 364,
      "outputs": [
        {
          "output_type": "execute_result",
          "data": {
            "text/plain": [
              "Closing Date\n",
              "2000-10-31    1\n",
              "2000-11-30    0\n",
              "2000-12-31    1\n",
              "2001-01-31    0\n",
              "2001-02-28    1\n",
              "             ..\n",
              "2017-08-31    0\n",
              "2017-09-30    0\n",
              "2017-10-31    1\n",
              "2017-11-30    0\n",
              "2017-12-31    1\n",
              "Freq: M, Length: 207, dtype: int64"
            ]
          },
          "metadata": {},
          "execution_count": 364
        }
      ]
    },
    {
      "cell_type": "code",
      "metadata": {
        "colab": {
          "base_uri": "https://localhost:8080/",
          "height": 268
        },
        "id": "80-Djifk1JlO",
        "outputId": "7bc0a82f-d243-42a5-a521-a33d15a1d9e8"
      },
      "source": [
        "plt.plot(by_month)\n",
        "plt.grid()\n",
        "plt.show()"
      ],
      "execution_count": 365,
      "outputs": [
        {
          "output_type": "display_data",
          "data": {
            "image/png": "[encoded data removed]",
            "text/plain": [
              "<Figure size 432x288 with 1 Axes>"
            ]
          },
          "metadata": {
            "needs_background": "light"
          }
        }
      ]
    },
    {
      "cell_type": "markdown",
      "metadata": {
        "id": "RBGCSf782TSU"
      },
      "source": [
        "대기 중 NO2  농도 측정 데이터 "
      ]
    },
    {
      "cell_type": "code",
      "metadata": {
        "id": "ghB2osu01kqn"
      },
      "source": [
        "no2_file = 'https://github.com/pandas-dev/pandas/raw/master/doc/data/air_quality_no2_long.csv'"
      ],
      "execution_count": 366,
      "outputs": []
    },
    {
      "cell_type": "markdown",
      "metadata": {
        "id": "jtMS3dOA2cMk"
      },
      "source": [
        "* csv 파일을 읽고 DataFrame을 생성 \n",
        "* datetime 타입으로 변환할 수 있는 컬럼을 변환 \n",
        "* DatetimeIndex를 생성"
      ]
    },
    {
      "cell_type": "code",
      "metadata": {
        "id": "wYGUMNoS2PHp"
      },
      "source": [
        "air_quality= pd.read_csv(no2_file)"
      ],
      "execution_count": 367,
      "outputs": []
    },
    {
      "cell_type": "code",
      "metadata": {
        "colab": {
          "base_uri": "https://localhost:8080/",
          "height": 204
        },
        "id": "JE7ozwVW7qkf",
        "outputId": "b72cdb05-8bcf-498b-a43b-0871b7314861"
      },
      "source": [
        "air_quality.head()"
      ],
      "execution_count": 368,
      "outputs": [
        {
          "output_type": "execute_result",
          "data": {
            "text/html": [
              "<div>\n",
              "<style scoped>\n",
              "    .dataframe tbody tr th:only-of-type {\n",
              "        vertical-align: middle;\n",
              "    }\n",
              "\n",
              "    .dataframe tbody tr th {\n",
              "        vertical-align: top;\n",
              "    }\n",
              "\n",
              "    .dataframe thead th {\n",
              "        text-align: right;\n",
              "    }\n",
              "</style>\n",
              "<table border=\"1\" class=\"dataframe\">\n",
              "  <thead>\n",
              "    <tr style=\"text-align: right;\">\n",
              "      <th></th>\n",
              "      <th>city</th>\n",
              "      <th>country</th>\n",
              "      <th>date.utc</th>\n",
              "      <th>location</th>\n",
              "      <th>parameter</th>\n",
              "      <th>value</th>\n",
              "      <th>unit</th>\n",
              "    </tr>\n",
              "  </thead>\n",
              "  <tbody>\n",
              "    <tr>\n",
              "      <th>0</th>\n",
              "      <td>Paris</td>\n",
              "      <td>FR</td>\n",
              "      <td>2019-06-21 00:00:00+00:00</td>\n",
              "      <td>FR04014</td>\n",
              "      <td>no2</td>\n",
              "      <td>20.0</td>\n",
              "      <td>µg/m³</td>\n",
              "    </tr>\n",
              "    <tr>\n",
              "      <th>1</th>\n",
              "      <td>Paris</td>\n",
              "      <td>FR</td>\n",
              "      <td>2019-06-20 23:00:00+00:00</td>\n",
              "      <td>FR04014</td>\n",
              "      <td>no2</td>\n",
              "      <td>21.8</td>\n",
              "      <td>µg/m³</td>\n",
              "    </tr>\n",
              "    <tr>\n",
              "      <th>2</th>\n",
              "      <td>Paris</td>\n",
              "      <td>FR</td>\n",
              "      <td>2019-06-20 22:00:00+00:00</td>\n",
              "      <td>FR04014</td>\n",
              "      <td>no2</td>\n",
              "      <td>26.5</td>\n",
              "      <td>µg/m³</td>\n",
              "    </tr>\n",
              "    <tr>\n",
              "      <th>3</th>\n",
              "      <td>Paris</td>\n",
              "      <td>FR</td>\n",
              "      <td>2019-06-20 21:00:00+00:00</td>\n",
              "      <td>FR04014</td>\n",
              "      <td>no2</td>\n",
              "      <td>24.9</td>\n",
              "      <td>µg/m³</td>\n",
              "    </tr>\n",
              "    <tr>\n",
              "      <th>4</th>\n",
              "      <td>Paris</td>\n",
              "      <td>FR</td>\n",
              "      <td>2019-06-20 20:00:00+00:00</td>\n",
              "      <td>FR04014</td>\n",
              "      <td>no2</td>\n",
              "      <td>21.4</td>\n",
              "      <td>µg/m³</td>\n",
              "    </tr>\n",
              "  </tbody>\n",
              "</table>\n",
              "</div>"
            ],
            "text/plain": [
              "    city country                   date.utc location parameter  value   unit\n",
              "0  Paris      FR  2019-06-21 00:00:00+00:00  FR04014       no2   20.0  µg/m³\n",
              "1  Paris      FR  2019-06-20 23:00:00+00:00  FR04014       no2   21.8  µg/m³\n",
              "2  Paris      FR  2019-06-20 22:00:00+00:00  FR04014       no2   26.5  µg/m³\n",
              "3  Paris      FR  2019-06-20 21:00:00+00:00  FR04014       no2   24.9  µg/m³\n",
              "4  Paris      FR  2019-06-20 20:00:00+00:00  FR04014       no2   21.4  µg/m³"
            ]
          },
          "metadata": {},
          "execution_count": 368
        }
      ]
    },
    {
      "cell_type": "code",
      "metadata": {
        "colab": {
          "base_uri": "https://localhost:8080/"
        },
        "id": "IrGJbr_47sUm",
        "outputId": "71ebd65e-9389-4217-c8a3-f12c2066f76a"
      },
      "source": [
        "air_quality.info()   # date.utc 컬럼의 타입은 문자열 "
      ],
      "execution_count": 369,
      "outputs": [
        {
          "output_type": "stream",
          "text": [
            "<class 'pandas.core.frame.DataFrame'>\n",
            "RangeIndex: 2068 entries, 0 to 2067\n",
            "Data columns (total 7 columns):\n",
            " #   Column     Non-Null Count  Dtype  \n",
            "---  ------     --------------  -----  \n",
            " 0   city       2068 non-null   object \n",
            " 1   country    2068 non-null   object \n",
            " 2   date.utc   2068 non-null   object \n",
            " 3   location   2068 non-null   object \n",
            " 4   parameter  2068 non-null   object \n",
            " 5   value      2068 non-null   float64\n",
            " 6   unit       2068 non-null   object \n",
            "dtypes: float64(1), object(6)\n",
            "memory usage: 113.2+ KB\n"
          ],
          "name": "stdout"
        }
      ]
    },
    {
      "cell_type": "code",
      "metadata": {
        "id": "HewnDWhp8ZC7"
      },
      "source": [
        "# date.utc 컬럼의 타입을 datetime 타입으로 변환\n",
        "air_quality['date.utc'] = pd.to_datetime(air_quality['date.utc'])"
      ],
      "execution_count": 370,
      "outputs": []
    },
    {
      "cell_type": "code",
      "metadata": {
        "colab": {
          "base_uri": "https://localhost:8080/"
        },
        "id": "EwFzC9AO81zR",
        "outputId": "da04fe27-91cd-46ff-df9d-e6423c8ddb10"
      },
      "source": [
        "air_quality.info()    #> date.utc 컬럼의 타입은 datetime64"
      ],
      "execution_count": 371,
      "outputs": [
        {
          "output_type": "stream",
          "text": [
            "<class 'pandas.core.frame.DataFrame'>\n",
            "RangeIndex: 2068 entries, 0 to 2067\n",
            "Data columns (total 7 columns):\n",
            " #   Column     Non-Null Count  Dtype              \n",
            "---  ------     --------------  -----              \n",
            " 0   city       2068 non-null   object             \n",
            " 1   country    2068 non-null   object             \n",
            " 2   date.utc   2068 non-null   datetime64[ns, UTC]\n",
            " 3   location   2068 non-null   object             \n",
            " 4   parameter  2068 non-null   object             \n",
            " 5   value      2068 non-null   float64            \n",
            " 6   unit       2068 non-null   object             \n",
            "dtypes: datetime64[ns, UTC](1), float64(1), object(5)\n",
            "memory usage: 113.2+ KB\n"
          ],
          "name": "stdout"
        }
      ]
    },
    {
      "cell_type": "code",
      "metadata": {
        "colab": {
          "base_uri": "https://localhost:8080/",
          "height": 204
        },
        "id": "BxzBcr0H83wh",
        "outputId": "ba0af266-cede-4813-8f5d-6ddea77761a1"
      },
      "source": [
        "air_quality.head()"
      ],
      "execution_count": 372,
      "outputs": [
        {
          "output_type": "execute_result",
          "data": {
            "text/html": [
              "<div>\n",
              "<style scoped>\n",
              "    .dataframe tbody tr th:only-of-type {\n",
              "        vertical-align: middle;\n",
              "    }\n",
              "\n",
              "    .dataframe tbody tr th {\n",
              "        vertical-align: top;\n",
              "    }\n",
              "\n",
              "    .dataframe thead th {\n",
              "        text-align: right;\n",
              "    }\n",
              "</style>\n",
              "<table border=\"1\" class=\"dataframe\">\n",
              "  <thead>\n",
              "    <tr style=\"text-align: right;\">\n",
              "      <th></th>\n",
              "      <th>city</th>\n",
              "      <th>country</th>\n",
              "      <th>date.utc</th>\n",
              "      <th>location</th>\n",
              "      <th>parameter</th>\n",
              "      <th>value</th>\n",
              "      <th>unit</th>\n",
              "    </tr>\n",
              "  </thead>\n",
              "  <tbody>\n",
              "    <tr>\n",
              "      <th>0</th>\n",
              "      <td>Paris</td>\n",
              "      <td>FR</td>\n",
              "      <td>2019-06-21 00:00:00+00:00</td>\n",
              "      <td>FR04014</td>\n",
              "      <td>no2</td>\n",
              "      <td>20.0</td>\n",
              "      <td>µg/m³</td>\n",
              "    </tr>\n",
              "    <tr>\n",
              "      <th>1</th>\n",
              "      <td>Paris</td>\n",
              "      <td>FR</td>\n",
              "      <td>2019-06-20 23:00:00+00:00</td>\n",
              "      <td>FR04014</td>\n",
              "      <td>no2</td>\n",
              "      <td>21.8</td>\n",
              "      <td>µg/m³</td>\n",
              "    </tr>\n",
              "    <tr>\n",
              "      <th>2</th>\n",
              "      <td>Paris</td>\n",
              "      <td>FR</td>\n",
              "      <td>2019-06-20 22:00:00+00:00</td>\n",
              "      <td>FR04014</td>\n",
              "      <td>no2</td>\n",
              "      <td>26.5</td>\n",
              "      <td>µg/m³</td>\n",
              "    </tr>\n",
              "    <tr>\n",
              "      <th>3</th>\n",
              "      <td>Paris</td>\n",
              "      <td>FR</td>\n",
              "      <td>2019-06-20 21:00:00+00:00</td>\n",
              "      <td>FR04014</td>\n",
              "      <td>no2</td>\n",
              "      <td>24.9</td>\n",
              "      <td>µg/m³</td>\n",
              "    </tr>\n",
              "    <tr>\n",
              "      <th>4</th>\n",
              "      <td>Paris</td>\n",
              "      <td>FR</td>\n",
              "      <td>2019-06-20 20:00:00+00:00</td>\n",
              "      <td>FR04014</td>\n",
              "      <td>no2</td>\n",
              "      <td>21.4</td>\n",
              "      <td>µg/m³</td>\n",
              "    </tr>\n",
              "  </tbody>\n",
              "</table>\n",
              "</div>"
            ],
            "text/plain": [
              "    city country                  date.utc location parameter  value   unit\n",
              "0  Paris      FR 2019-06-21 00:00:00+00:00  FR04014       no2   20.0  µg/m³\n",
              "1  Paris      FR 2019-06-20 23:00:00+00:00  FR04014       no2   21.8  µg/m³\n",
              "2  Paris      FR 2019-06-20 22:00:00+00:00  FR04014       no2   26.5  µg/m³\n",
              "3  Paris      FR 2019-06-20 21:00:00+00:00  FR04014       no2   24.9  µg/m³\n",
              "4  Paris      FR 2019-06-20 20:00:00+00:00  FR04014       no2   21.4  µg/m³"
            ]
          },
          "metadata": {},
          "execution_count": 372
        }
      ]
    },
    {
      "cell_type": "code",
      "metadata": {
        "colab": {
          "base_uri": "https://localhost:8080/",
          "height": 297
        },
        "id": "fUyVBbxN9D1r",
        "outputId": "2c96dfc0-ca97-43ba-eef3-28110a6cb24c"
      },
      "source": [
        "air_quality.describe()          # datetime 타입의 컬럼은 평균, 최솟값, 최댓값 등을 요약하지 않음. "
      ],
      "execution_count": 373,
      "outputs": [
        {
          "output_type": "execute_result",
          "data": {
            "text/html": [
              "<div>\n",
              "<style scoped>\n",
              "    .dataframe tbody tr th:only-of-type {\n",
              "        vertical-align: middle;\n",
              "    }\n",
              "\n",
              "    .dataframe tbody tr th {\n",
              "        vertical-align: top;\n",
              "    }\n",
              "\n",
              "    .dataframe thead th {\n",
              "        text-align: right;\n",
              "    }\n",
              "</style>\n",
              "<table border=\"1\" class=\"dataframe\">\n",
              "  <thead>\n",
              "    <tr style=\"text-align: right;\">\n",
              "      <th></th>\n",
              "      <th>value</th>\n",
              "    </tr>\n",
              "  </thead>\n",
              "  <tbody>\n",
              "    <tr>\n",
              "      <th>count</th>\n",
              "      <td>2068.000000</td>\n",
              "    </tr>\n",
              "    <tr>\n",
              "      <th>mean</th>\n",
              "      <td>26.261847</td>\n",
              "    </tr>\n",
              "    <tr>\n",
              "      <th>std</th>\n",
              "      <td>13.479451</td>\n",
              "    </tr>\n",
              "    <tr>\n",
              "      <th>min</th>\n",
              "      <td>0.000000</td>\n",
              "    </tr>\n",
              "    <tr>\n",
              "      <th>25%</th>\n",
              "      <td>17.000000</td>\n",
              "    </tr>\n",
              "    <tr>\n",
              "      <th>50%</th>\n",
              "      <td>25.000000</td>\n",
              "    </tr>\n",
              "    <tr>\n",
              "      <th>75%</th>\n",
              "      <td>33.000000</td>\n",
              "    </tr>\n",
              "    <tr>\n",
              "      <th>max</th>\n",
              "      <td>97.000000</td>\n",
              "    </tr>\n",
              "  </tbody>\n",
              "</table>\n",
              "</div>"
            ],
            "text/plain": [
              "             value\n",
              "count  2068.000000\n",
              "mean     26.261847\n",
              "std      13.479451\n",
              "min       0.000000\n",
              "25%      17.000000\n",
              "50%      25.000000\n",
              "75%      33.000000\n",
              "max      97.000000"
            ]
          },
          "metadata": {},
          "execution_count": 373
        }
      ]
    },
    {
      "cell_type": "markdown",
      "metadata": {
        "id": "dW2DMd_Q9pHP"
      },
      "source": [
        "datetime64 타입의 컬럼에서도 min, max 메서드를 사용할 수 있음. "
      ]
    },
    {
      "cell_type": "code",
      "metadata": {
        "colab": {
          "base_uri": "https://localhost:8080/"
        },
        "id": "rwHlWZPD9JnJ",
        "outputId": "f8383155-5207-4d70-eda5-65778634fa16"
      },
      "source": [
        "air_quality['date.utc'].min()"
      ],
      "execution_count": 374,
      "outputs": [
        {
          "output_type": "execute_result",
          "data": {
            "text/plain": [
              "Timestamp('2019-05-07 01:00:00+0000', tz='UTC')"
            ]
          },
          "metadata": {},
          "execution_count": 374
        }
      ]
    },
    {
      "cell_type": "code",
      "metadata": {
        "colab": {
          "base_uri": "https://localhost:8080/"
        },
        "id": "ptJROmcd9hpR",
        "outputId": "b5222390-c3d8-4ba9-e5a0-3ff35e916762"
      },
      "source": [
        "air_quality['date.utc'].max()"
      ],
      "execution_count": 375,
      "outputs": [
        {
          "output_type": "execute_result",
          "data": {
            "text/plain": [
              "Timestamp('2019-06-21 00:00:00+0000', tz='UTC')"
            ]
          },
          "metadata": {},
          "execution_count": 375
        }
      ]
    },
    {
      "cell_type": "markdown",
      "metadata": {
        "id": "0s11cbjS-0wa"
      },
      "source": [
        "datetime64 타입의 컬럼에서 년/월/일/시/분/초/요일 등의 정보 추출 - dt 속성을 사용"
      ]
    },
    {
      "cell_type": "code",
      "metadata": {
        "colab": {
          "base_uri": "https://localhost:8080/"
        },
        "id": "YBsazlwu9k0b",
        "outputId": "1daad587-1b74-4ee7-e685-8e1a84d22a1d"
      },
      "source": [
        "air_quality['date.utc'].dt.year"
      ],
      "execution_count": 376,
      "outputs": [
        {
          "output_type": "execute_result",
          "data": {
            "text/plain": [
              "0       2019\n",
              "1       2019\n",
              "2       2019\n",
              "3       2019\n",
              "4       2019\n",
              "        ... \n",
              "2063    2019\n",
              "2064    2019\n",
              "2065    2019\n",
              "2066    2019\n",
              "2067    2019\n",
              "Name: date.utc, Length: 2068, dtype: int64"
            ]
          },
          "metadata": {},
          "execution_count": 376
        }
      ]
    },
    {
      "cell_type": "code",
      "metadata": {
        "colab": {
          "base_uri": "https://localhost:8080/"
        },
        "id": "HK2LiP9w_Rxl",
        "outputId": "c661e5c8-0306-4126-c567-4941818af506"
      },
      "source": [
        "air_quality['country'].str.lower()"
      ],
      "execution_count": 377,
      "outputs": [
        {
          "output_type": "execute_result",
          "data": {
            "text/plain": [
              "0       fr\n",
              "1       fr\n",
              "2       fr\n",
              "3       fr\n",
              "4       fr\n",
              "        ..\n",
              "2063    gb\n",
              "2064    gb\n",
              "2065    gb\n",
              "2066    gb\n",
              "2067    gb\n",
              "Name: country, Length: 2068, dtype: object"
            ]
          },
          "metadata": {},
          "execution_count": 377
        }
      ]
    },
    {
      "cell_type": "code",
      "metadata": {
        "colab": {
          "base_uri": "https://localhost:8080/"
        },
        "id": "uEGEoXUn_WaL",
        "outputId": "634e5a1f-83e8-4a35-c9c7-807ecf471ed0"
      },
      "source": [
        "air_quality['date.utc'].dt.year"
      ],
      "execution_count": 378,
      "outputs": [
        {
          "output_type": "execute_result",
          "data": {
            "text/plain": [
              "0       2019\n",
              "1       2019\n",
              "2       2019\n",
              "3       2019\n",
              "4       2019\n",
              "        ... \n",
              "2063    2019\n",
              "2064    2019\n",
              "2065    2019\n",
              "2066    2019\n",
              "2067    2019\n",
              "Name: date.utc, Length: 2068, dtype: int64"
            ]
          },
          "metadata": {},
          "execution_count": 378
        }
      ]
    },
    {
      "cell_type": "code",
      "metadata": {
        "colab": {
          "base_uri": "https://localhost:8080/"
        },
        "id": "58VwOSe-_nox",
        "outputId": "6c2bd58b-a3d7-423d-b41e-b0558625bbb0"
      },
      "source": [
        "air_quality['date.utc'].dt.month"
      ],
      "execution_count": 379,
      "outputs": [
        {
          "output_type": "execute_result",
          "data": {
            "text/plain": [
              "0       6\n",
              "1       6\n",
              "2       6\n",
              "3       6\n",
              "4       6\n",
              "       ..\n",
              "2063    5\n",
              "2064    5\n",
              "2065    5\n",
              "2066    5\n",
              "2067    5\n",
              "Name: date.utc, Length: 2068, dtype: int64"
            ]
          },
          "metadata": {},
          "execution_count": 379
        }
      ]
    },
    {
      "cell_type": "code",
      "metadata": {
        "colab": {
          "base_uri": "https://localhost:8080/"
        },
        "id": "05PomIfM_udQ",
        "outputId": "29440191-99f3-4529-98aa-fe660263426d"
      },
      "source": [
        "air_quality['date.utc'].dt.weekday     # datetime에서 요일 정보 추출 \n",
        "# 0(월), 1(화), ..., 5(토), 6(일)"
      ],
      "execution_count": 380,
      "outputs": [
        {
          "output_type": "execute_result",
          "data": {
            "text/plain": [
              "0       4\n",
              "1       3\n",
              "2       3\n",
              "3       3\n",
              "4       3\n",
              "       ..\n",
              "2063    1\n",
              "2064    1\n",
              "2065    1\n",
              "2066    1\n",
              "2067    1\n",
              "Name: date.utc, Length: 2068, dtype: int64"
            ]
          },
          "metadata": {},
          "execution_count": 380
        }
      ]
    },
    {
      "cell_type": "markdown",
      "metadata": {
        "id": "fYxipf4KAtpq"
      },
      "source": [
        "하루 중 언제 No2의 농도가 가장 높을까? \n",
        "* 시간대별 도시별 No2의 평균을 계산, 시각화 "
      ]
    },
    {
      "cell_type": "code",
      "metadata": {
        "id": "EAaET-BqAEfq"
      },
      "source": [
        "result = air_quality.groupby([air_quality['date.utc'].dt.hour, 'city'])['value'].mean()"
      ],
      "execution_count": 381,
      "outputs": []
    },
    {
      "cell_type": "code",
      "metadata": {
        "id": "fP4CZr_cCncS"
      },
      "source": [
        "result = result.reset_index()    # 모든 인덱스를 컬럼으로 변환 (Series -> DataFrame으로)"
      ],
      "execution_count": 382,
      "outputs": []
    },
    {
      "cell_type": "code",
      "metadata": {
        "colab": {
          "base_uri": "https://localhost:8080/",
          "height": 419
        },
        "id": "XHJ4CJtWDVSt",
        "outputId": "5c132ee4-f83d-4870-9868-d4bca5ab8154"
      },
      "source": [
        "result"
      ],
      "execution_count": 383,
      "outputs": [
        {
          "output_type": "execute_result",
          "data": {
            "text/html": [
              "<div>\n",
              "<style scoped>\n",
              "    .dataframe tbody tr th:only-of-type {\n",
              "        vertical-align: middle;\n",
              "    }\n",
              "\n",
              "    .dataframe tbody tr th {\n",
              "        vertical-align: top;\n",
              "    }\n",
              "\n",
              "    .dataframe thead th {\n",
              "        text-align: right;\n",
              "    }\n",
              "</style>\n",
              "<table border=\"1\" class=\"dataframe\">\n",
              "  <thead>\n",
              "    <tr style=\"text-align: right;\">\n",
              "      <th></th>\n",
              "      <th>date.utc</th>\n",
              "      <th>city</th>\n",
              "      <th>value</th>\n",
              "    </tr>\n",
              "  </thead>\n",
              "  <tbody>\n",
              "    <tr>\n",
              "      <th>0</th>\n",
              "      <td>0</td>\n",
              "      <td>Antwerpen</td>\n",
              "      <td>24.750000</td>\n",
              "    </tr>\n",
              "    <tr>\n",
              "      <th>1</th>\n",
              "      <td>0</td>\n",
              "      <td>London</td>\n",
              "      <td>24.292683</td>\n",
              "    </tr>\n",
              "    <tr>\n",
              "      <th>2</th>\n",
              "      <td>0</td>\n",
              "      <td>Paris</td>\n",
              "      <td>31.683333</td>\n",
              "    </tr>\n",
              "    <tr>\n",
              "      <th>3</th>\n",
              "      <td>1</td>\n",
              "      <td>Antwerpen</td>\n",
              "      <td>25.838235</td>\n",
              "    </tr>\n",
              "    <tr>\n",
              "      <th>4</th>\n",
              "      <td>1</td>\n",
              "      <td>London</td>\n",
              "      <td>24.757576</td>\n",
              "    </tr>\n",
              "    <tr>\n",
              "      <th>...</th>\n",
              "      <td>...</td>\n",
              "      <td>...</td>\n",
              "      <td>...</td>\n",
              "    </tr>\n",
              "    <tr>\n",
              "      <th>67</th>\n",
              "      <td>22</td>\n",
              "      <td>London</td>\n",
              "      <td>28.969697</td>\n",
              "    </tr>\n",
              "    <tr>\n",
              "      <th>68</th>\n",
              "      <td>22</td>\n",
              "      <td>Paris</td>\n",
              "      <td>35.400000</td>\n",
              "    </tr>\n",
              "    <tr>\n",
              "      <th>69</th>\n",
              "      <td>23</td>\n",
              "      <td>Antwerpen</td>\n",
              "      <td>23.000000</td>\n",
              "    </tr>\n",
              "    <tr>\n",
              "      <th>70</th>\n",
              "      <td>23</td>\n",
              "      <td>London</td>\n",
              "      <td>28.414634</td>\n",
              "    </tr>\n",
              "    <tr>\n",
              "      <th>71</th>\n",
              "      <td>23</td>\n",
              "      <td>Paris</td>\n",
              "      <td>34.288095</td>\n",
              "    </tr>\n",
              "  </tbody>\n",
              "</table>\n",
              "<p>72 rows × 3 columns</p>\n",
              "</div>"
            ],
            "text/plain": [
              "    date.utc       city      value\n",
              "0          0  Antwerpen  24.750000\n",
              "1          0     London  24.292683\n",
              "2          0      Paris  31.683333\n",
              "3          1  Antwerpen  25.838235\n",
              "4          1     London  24.757576\n",
              "..       ...        ...        ...\n",
              "67        22     London  28.969697\n",
              "68        22      Paris  35.400000\n",
              "69        23  Antwerpen  23.000000\n",
              "70        23     London  28.414634\n",
              "71        23      Paris  34.288095\n",
              "\n",
              "[72 rows x 3 columns]"
            ]
          },
          "metadata": {},
          "execution_count": 383
        }
      ]
    },
    {
      "cell_type": "code",
      "metadata": {
        "colab": {
          "base_uri": "https://localhost:8080/",
          "height": 279
        },
        "id": "6q9_aE95Dca2",
        "outputId": "6f8cdaa7-3df8-446a-80b8-824f4277acc6"
      },
      "source": [
        "sns.lineplot(data=result, x = 'date.utc', y = 'value', hue = 'city', style = 'city', marker = 'o')\n",
        "plt.show()"
      ],
      "execution_count": 384,
      "outputs": [
        {
          "output_type": "display_data",
          "data": {
            "image/png": "[encoded data removed]",
            "text/plain": [
              "<Figure size 432x288 with 1 Axes>"
            ]
          },
          "metadata": {
            "needs_background": "light"
          }
        }
      ]
    },
    {
      "cell_type": "code",
      "metadata": {
        "id": "B4213U7zDtpN"
      },
      "source": [
        "# result = air_quality.pivot_table(values='value', index='date.utc', columns='city')\n",
        "\n",
        "result = air_quality.groupby([air_quality['date.utc'].dt.hour, 'city'])['value'].mean()"
      ],
      "execution_count": 385,
      "outputs": []
    },
    {
      "cell_type": "code",
      "metadata": {
        "colab": {
          "base_uri": "https://localhost:8080/",
          "height": 419
        },
        "id": "VZ03mRhjEsnd",
        "outputId": "d314aa4b-cfb8-46a4-fe90-7f86f93ba7fb"
      },
      "source": [
        "result = result.reset_index()  # 모든 인덱스를 컬럼으로 변환(Seris -> DataFrame)\n",
        "result"
      ],
      "execution_count": 386,
      "outputs": [
        {
          "output_type": "execute_result",
          "data": {
            "text/html": [
              "<div>\n",
              "<style scoped>\n",
              "    .dataframe tbody tr th:only-of-type {\n",
              "        vertical-align: middle;\n",
              "    }\n",
              "\n",
              "    .dataframe tbody tr th {\n",
              "        vertical-align: top;\n",
              "    }\n",
              "\n",
              "    .dataframe thead th {\n",
              "        text-align: right;\n",
              "    }\n",
              "</style>\n",
              "<table border=\"1\" class=\"dataframe\">\n",
              "  <thead>\n",
              "    <tr style=\"text-align: right;\">\n",
              "      <th></th>\n",
              "      <th>date.utc</th>\n",
              "      <th>city</th>\n",
              "      <th>value</th>\n",
              "    </tr>\n",
              "  </thead>\n",
              "  <tbody>\n",
              "    <tr>\n",
              "      <th>0</th>\n",
              "      <td>0</td>\n",
              "      <td>Antwerpen</td>\n",
              "      <td>24.750000</td>\n",
              "    </tr>\n",
              "    <tr>\n",
              "      <th>1</th>\n",
              "      <td>0</td>\n",
              "      <td>London</td>\n",
              "      <td>24.292683</td>\n",
              "    </tr>\n",
              "    <tr>\n",
              "      <th>2</th>\n",
              "      <td>0</td>\n",
              "      <td>Paris</td>\n",
              "      <td>31.683333</td>\n",
              "    </tr>\n",
              "    <tr>\n",
              "      <th>3</th>\n",
              "      <td>1</td>\n",
              "      <td>Antwerpen</td>\n",
              "      <td>25.838235</td>\n",
              "    </tr>\n",
              "    <tr>\n",
              "      <th>4</th>\n",
              "      <td>1</td>\n",
              "      <td>London</td>\n",
              "      <td>24.757576</td>\n",
              "    </tr>\n",
              "    <tr>\n",
              "      <th>...</th>\n",
              "      <td>...</td>\n",
              "      <td>...</td>\n",
              "      <td>...</td>\n",
              "    </tr>\n",
              "    <tr>\n",
              "      <th>67</th>\n",
              "      <td>22</td>\n",
              "      <td>London</td>\n",
              "      <td>28.969697</td>\n",
              "    </tr>\n",
              "    <tr>\n",
              "      <th>68</th>\n",
              "      <td>22</td>\n",
              "      <td>Paris</td>\n",
              "      <td>35.400000</td>\n",
              "    </tr>\n",
              "    <tr>\n",
              "      <th>69</th>\n",
              "      <td>23</td>\n",
              "      <td>Antwerpen</td>\n",
              "      <td>23.000000</td>\n",
              "    </tr>\n",
              "    <tr>\n",
              "      <th>70</th>\n",
              "      <td>23</td>\n",
              "      <td>London</td>\n",
              "      <td>28.414634</td>\n",
              "    </tr>\n",
              "    <tr>\n",
              "      <th>71</th>\n",
              "      <td>23</td>\n",
              "      <td>Paris</td>\n",
              "      <td>34.288095</td>\n",
              "    </tr>\n",
              "  </tbody>\n",
              "</table>\n",
              "<p>72 rows × 3 columns</p>\n",
              "</div>"
            ],
            "text/plain": [
              "    date.utc       city      value\n",
              "0          0  Antwerpen  24.750000\n",
              "1          0     London  24.292683\n",
              "2          0      Paris  31.683333\n",
              "3          1  Antwerpen  25.838235\n",
              "4          1     London  24.757576\n",
              "..       ...        ...        ...\n",
              "67        22     London  28.969697\n",
              "68        22      Paris  35.400000\n",
              "69        23  Antwerpen  23.000000\n",
              "70        23     London  28.414634\n",
              "71        23      Paris  34.288095\n",
              "\n",
              "[72 rows x 3 columns]"
            ]
          },
          "metadata": {},
          "execution_count": 386
        }
      ]
    },
    {
      "cell_type": "code",
      "metadata": {
        "colab": {
          "base_uri": "https://localhost:8080/",
          "height": 279
        },
        "id": "8UhkquixGvyM",
        "outputId": "9933f3aa-144e-4b01-b740-5c2568e54a15"
      },
      "source": [
        "sns.lineplot(data=result, x='date.utc', y='value', hue='city', style='city', marker='o')\n",
        "plt.show()"
      ],
      "execution_count": 387,
      "outputs": [
        {
          "output_type": "display_data",
          "data": {
            "image/png": "[encoded data removed]",
            "text/plain": [
              "<Figure size 432x288 with 1 Axes>"
            ]
          },
          "metadata": {
            "needs_background": "light"
          }
        }
      ]
    },
    {
      "cell_type": "code",
      "metadata": {
        "id": "6GotroeIJLlh"
      },
      "source": [
        "result = air_quality.pivot_table(values='value', index=air_quality['date.utc'].dt.hour, columns='city')"
      ],
      "execution_count": 388,
      "outputs": []
    },
    {
      "cell_type": "code",
      "metadata": {
        "colab": {
          "base_uri": "https://localhost:8080/",
          "height": 265
        },
        "id": "VDtYdMbRG2LD",
        "outputId": "6316c226-9ec0-4eb5-db19-10a1fbb195d9"
      },
      "source": [
        "plt.plot(result['Antwerpen'], linestyle='-', marker='o', label='Antwerpen')\n",
        "plt.plot(result['Paris'], linestyle='--', marker='o', label='Paris')\n",
        "plt.plot(result['London'], linestyle=':', marker='o', label='London')\n",
        "plt.legend()\n",
        "plt.show()"
      ],
      "execution_count": 389,
      "outputs": [
        {
          "output_type": "display_data",
          "data": {
            "image/png": "[encoded data removed]",
            "text/plain": [
              "<Figure size 432x288 with 1 Axes>"
            ]
          },
          "metadata": {
            "needs_background": "light"
          }
        }
      ]
    },
    {
      "cell_type": "markdown",
      "metadata": {
        "id": "wNSQ0HWFJNsG"
      },
      "source": [
        "일주일 중 어느 요일에 No2 농도가 가장 높을까? \n",
        "* 요일별 도시별 No1 평균 계산 "
      ]
    },
    {
      "cell_type": "code",
      "metadata": {
        "id": "UC3w56tNJFMa"
      },
      "source": [
        "# air_quality.groupby([air_quality['date.utc'].dt.weekday, 'city'])['value']mean()\n",
        "result2 = air_quality.groupby([air_quality['date.utc'].dt.weekday, 'city'])['value'].mean()"
      ],
      "execution_count": 405,
      "outputs": []
    },
    {
      "cell_type": "code",
      "metadata": {
        "colab": {
          "base_uri": "https://localhost:8080/"
        },
        "id": "XZRQTzIxJ2JU",
        "outputId": "27913317-8a26-4f54-b628-abdfffb7f0a4"
      },
      "source": [
        "result2"
      ],
      "execution_count": 406,
      "outputs": [
        {
          "output_type": "execute_result",
          "data": {
            "text/plain": [
              "date.utc  city     \n",
              "0         Antwerpen    27.875000\n",
              "          London       23.969697\n",
              "          Paris        24.856250\n",
              "1         Antwerpen    22.214286\n",
              "          London       24.885714\n",
              "          Paris        30.999359\n",
              "2         Antwerpen    21.125000\n",
              "          London       23.460432\n",
              "          Paris        29.165753\n",
              "3         Antwerpen    27.500000\n",
              "          London       24.780142\n",
              "          Paris        28.600690\n",
              "4         Antwerpen    28.400000\n",
              "          London       26.446809\n",
              "          Paris        31.617986\n",
              "5         Antwerpen    33.500000\n",
              "          London       24.977612\n",
              "          Paris        25.266154\n",
              "6         Antwerpen    21.896552\n",
              "          London       24.859155\n",
              "          Paris        23.274306\n",
              "Name: value, dtype: float64"
            ]
          },
          "metadata": {},
          "execution_count": 406
        }
      ]
    },
    {
      "cell_type": "code",
      "metadata": {
        "colab": {
          "base_uri": "https://localhost:8080/",
          "height": 281
        },
        "id": "QkDZivQbNSLE",
        "outputId": "daa9a6a8-f2f6-4615-8108-2ba4ef5db7f9"
      },
      "source": [
        "# Series에서 바로 그래프 그리기 \n",
        "sns.lineplot(data = result2, x = 'date.utc', y = result2.values, hue='city')\n",
        "plt.show()"
      ],
      "execution_count": 408,
      "outputs": [
        {
          "output_type": "display_data",
          "data": {
            "image/png": "[encoded data removed]",
            "text/plain": [
              "<Figure size 432x288 with 1 Axes>"
            ]
          },
          "metadata": {
            "needs_background": "light"
          }
        }
      ]
    },
    {
      "cell_type": "code",
      "metadata": {
        "id": "l3gPTolmJ3I6"
      },
      "source": [
        "#reset_index : 인덱스를 컬럼으로\n",
        "result2 = result2.reset_index()"
      ],
      "execution_count": 402,
      "outputs": []
    },
    {
      "cell_type": "code",
      "metadata": {
        "colab": {
          "base_uri": "https://localhost:8080/",
          "height": 701
        },
        "id": "9ZZHpHnoLDno",
        "outputId": "0dc76a2f-23b4-495a-b0aa-2a8472f6fa58"
      },
      "source": [
        "result2"
      ],
      "execution_count": 403,
      "outputs": [
        {
          "output_type": "execute_result",
          "data": {
            "text/html": [
              "<div>\n",
              "<style scoped>\n",
              "    .dataframe tbody tr th:only-of-type {\n",
              "        vertical-align: middle;\n",
              "    }\n",
              "\n",
              "    .dataframe tbody tr th {\n",
              "        vertical-align: top;\n",
              "    }\n",
              "\n",
              "    .dataframe thead th {\n",
              "        text-align: right;\n",
              "    }\n",
              "</style>\n",
              "<table border=\"1\" class=\"dataframe\">\n",
              "  <thead>\n",
              "    <tr style=\"text-align: right;\">\n",
              "      <th></th>\n",
              "      <th>date.utc</th>\n",
              "      <th>city</th>\n",
              "      <th>value</th>\n",
              "    </tr>\n",
              "  </thead>\n",
              "  <tbody>\n",
              "    <tr>\n",
              "      <th>0</th>\n",
              "      <td>0</td>\n",
              "      <td>Antwerpen</td>\n",
              "      <td>27.875000</td>\n",
              "    </tr>\n",
              "    <tr>\n",
              "      <th>1</th>\n",
              "      <td>0</td>\n",
              "      <td>London</td>\n",
              "      <td>23.969697</td>\n",
              "    </tr>\n",
              "    <tr>\n",
              "      <th>2</th>\n",
              "      <td>0</td>\n",
              "      <td>Paris</td>\n",
              "      <td>24.856250</td>\n",
              "    </tr>\n",
              "    <tr>\n",
              "      <th>3</th>\n",
              "      <td>1</td>\n",
              "      <td>Antwerpen</td>\n",
              "      <td>22.214286</td>\n",
              "    </tr>\n",
              "    <tr>\n",
              "      <th>4</th>\n",
              "      <td>1</td>\n",
              "      <td>London</td>\n",
              "      <td>24.885714</td>\n",
              "    </tr>\n",
              "    <tr>\n",
              "      <th>5</th>\n",
              "      <td>1</td>\n",
              "      <td>Paris</td>\n",
              "      <td>30.999359</td>\n",
              "    </tr>\n",
              "    <tr>\n",
              "      <th>6</th>\n",
              "      <td>2</td>\n",
              "      <td>Antwerpen</td>\n",
              "      <td>21.125000</td>\n",
              "    </tr>\n",
              "    <tr>\n",
              "      <th>7</th>\n",
              "      <td>2</td>\n",
              "      <td>London</td>\n",
              "      <td>23.460432</td>\n",
              "    </tr>\n",
              "    <tr>\n",
              "      <th>8</th>\n",
              "      <td>2</td>\n",
              "      <td>Paris</td>\n",
              "      <td>29.165753</td>\n",
              "    </tr>\n",
              "    <tr>\n",
              "      <th>9</th>\n",
              "      <td>3</td>\n",
              "      <td>Antwerpen</td>\n",
              "      <td>27.500000</td>\n",
              "    </tr>\n",
              "    <tr>\n",
              "      <th>10</th>\n",
              "      <td>3</td>\n",
              "      <td>London</td>\n",
              "      <td>24.780142</td>\n",
              "    </tr>\n",
              "    <tr>\n",
              "      <th>11</th>\n",
              "      <td>3</td>\n",
              "      <td>Paris</td>\n",
              "      <td>28.600690</td>\n",
              "    </tr>\n",
              "    <tr>\n",
              "      <th>12</th>\n",
              "      <td>4</td>\n",
              "      <td>Antwerpen</td>\n",
              "      <td>28.400000</td>\n",
              "    </tr>\n",
              "    <tr>\n",
              "      <th>13</th>\n",
              "      <td>4</td>\n",
              "      <td>London</td>\n",
              "      <td>26.446809</td>\n",
              "    </tr>\n",
              "    <tr>\n",
              "      <th>14</th>\n",
              "      <td>4</td>\n",
              "      <td>Paris</td>\n",
              "      <td>31.617986</td>\n",
              "    </tr>\n",
              "    <tr>\n",
              "      <th>15</th>\n",
              "      <td>5</td>\n",
              "      <td>Antwerpen</td>\n",
              "      <td>33.500000</td>\n",
              "    </tr>\n",
              "    <tr>\n",
              "      <th>16</th>\n",
              "      <td>5</td>\n",
              "      <td>London</td>\n",
              "      <td>24.977612</td>\n",
              "    </tr>\n",
              "    <tr>\n",
              "      <th>17</th>\n",
              "      <td>5</td>\n",
              "      <td>Paris</td>\n",
              "      <td>25.266154</td>\n",
              "    </tr>\n",
              "    <tr>\n",
              "      <th>18</th>\n",
              "      <td>6</td>\n",
              "      <td>Antwerpen</td>\n",
              "      <td>21.896552</td>\n",
              "    </tr>\n",
              "    <tr>\n",
              "      <th>19</th>\n",
              "      <td>6</td>\n",
              "      <td>London</td>\n",
              "      <td>24.859155</td>\n",
              "    </tr>\n",
              "    <tr>\n",
              "      <th>20</th>\n",
              "      <td>6</td>\n",
              "      <td>Paris</td>\n",
              "      <td>23.274306</td>\n",
              "    </tr>\n",
              "  </tbody>\n",
              "</table>\n",
              "</div>"
            ],
            "text/plain": [
              "    date.utc       city      value\n",
              "0          0  Antwerpen  27.875000\n",
              "1          0     London  23.969697\n",
              "2          0      Paris  24.856250\n",
              "3          1  Antwerpen  22.214286\n",
              "4          1     London  24.885714\n",
              "5          1      Paris  30.999359\n",
              "6          2  Antwerpen  21.125000\n",
              "7          2     London  23.460432\n",
              "8          2      Paris  29.165753\n",
              "9          3  Antwerpen  27.500000\n",
              "10         3     London  24.780142\n",
              "11         3      Paris  28.600690\n",
              "12         4  Antwerpen  28.400000\n",
              "13         4     London  26.446809\n",
              "14         4      Paris  31.617986\n",
              "15         5  Antwerpen  33.500000\n",
              "16         5     London  24.977612\n",
              "17         5      Paris  25.266154\n",
              "18         6  Antwerpen  21.896552\n",
              "19         6     London  24.859155\n",
              "20         6      Paris  23.274306"
            ]
          },
          "metadata": {},
          "execution_count": 403
        }
      ]
    },
    {
      "cell_type": "code",
      "metadata": {
        "colab": {
          "base_uri": "https://localhost:8080/",
          "height": 281
        },
        "id": "Vv4JYujTLEdT",
        "outputId": "95ddcd91-913e-4ae9-abc9-6429547acfa4"
      },
      "source": [
        "sns.lineplot(data=result2,  x ='date.utc', y = 'value', hue='city', style='city', marker='o')\n",
        "plt.show()"
      ],
      "execution_count": 404,
      "outputs": [
        {
          "output_type": "display_data",
          "data": {
            "image/png": "[encoded data removed]",
            "text/plain": [
              "<Figure size 432x288 with 1 Axes>"
            ]
          },
          "metadata": {
            "needs_background": "light"
          }
        }
      ]
    },
    {
      "cell_type": "code",
      "metadata": {
        "id": "DK-viiVMLU1h"
      },
      "source": [
        "result = air_quality.pivot_table(values='value', \n",
        "                                                            index=air_quality['date.utc'].dt.weekday, \n",
        "                                                            columns='city')"
      ],
      "execution_count": 409,
      "outputs": []
    },
    {
      "cell_type": "code",
      "metadata": {
        "colab": {
          "base_uri": "https://localhost:8080/",
          "height": 297
        },
        "id": "AxK_3L72OrLi",
        "outputId": "f87e6699-c452-40ca-802c-62e8481515e2"
      },
      "source": [
        "result"
      ],
      "execution_count": 410,
      "outputs": [
        {
          "output_type": "execute_result",
          "data": {
            "text/html": [
              "<div>\n",
              "<style scoped>\n",
              "    .dataframe tbody tr th:only-of-type {\n",
              "        vertical-align: middle;\n",
              "    }\n",
              "\n",
              "    .dataframe tbody tr th {\n",
              "        vertical-align: top;\n",
              "    }\n",
              "\n",
              "    .dataframe thead th {\n",
              "        text-align: right;\n",
              "    }\n",
              "</style>\n",
              "<table border=\"1\" class=\"dataframe\">\n",
              "  <thead>\n",
              "    <tr style=\"text-align: right;\">\n",
              "      <th>city</th>\n",
              "      <th>Antwerpen</th>\n",
              "      <th>London</th>\n",
              "      <th>Paris</th>\n",
              "    </tr>\n",
              "    <tr>\n",
              "      <th>date.utc</th>\n",
              "      <th></th>\n",
              "      <th></th>\n",
              "      <th></th>\n",
              "    </tr>\n",
              "  </thead>\n",
              "  <tbody>\n",
              "    <tr>\n",
              "      <th>0</th>\n",
              "      <td>27.875000</td>\n",
              "      <td>23.969697</td>\n",
              "      <td>24.856250</td>\n",
              "    </tr>\n",
              "    <tr>\n",
              "      <th>1</th>\n",
              "      <td>22.214286</td>\n",
              "      <td>24.885714</td>\n",
              "      <td>30.999359</td>\n",
              "    </tr>\n",
              "    <tr>\n",
              "      <th>2</th>\n",
              "      <td>21.125000</td>\n",
              "      <td>23.460432</td>\n",
              "      <td>29.165753</td>\n",
              "    </tr>\n",
              "    <tr>\n",
              "      <th>3</th>\n",
              "      <td>27.500000</td>\n",
              "      <td>24.780142</td>\n",
              "      <td>28.600690</td>\n",
              "    </tr>\n",
              "    <tr>\n",
              "      <th>4</th>\n",
              "      <td>28.400000</td>\n",
              "      <td>26.446809</td>\n",
              "      <td>31.617986</td>\n",
              "    </tr>\n",
              "    <tr>\n",
              "      <th>5</th>\n",
              "      <td>33.500000</td>\n",
              "      <td>24.977612</td>\n",
              "      <td>25.266154</td>\n",
              "    </tr>\n",
              "    <tr>\n",
              "      <th>6</th>\n",
              "      <td>21.896552</td>\n",
              "      <td>24.859155</td>\n",
              "      <td>23.274306</td>\n",
              "    </tr>\n",
              "  </tbody>\n",
              "</table>\n",
              "</div>"
            ],
            "text/plain": [
              "city      Antwerpen     London      Paris\n",
              "date.utc                                 \n",
              "0         27.875000  23.969697  24.856250\n",
              "1         22.214286  24.885714  30.999359\n",
              "2         21.125000  23.460432  29.165753\n",
              "3         27.500000  24.780142  28.600690\n",
              "4         28.400000  26.446809  31.617986\n",
              "5         33.500000  24.977612  25.266154\n",
              "6         21.896552  24.859155  23.274306"
            ]
          },
          "metadata": {},
          "execution_count": 410
        }
      ]
    },
    {
      "cell_type": "code",
      "metadata": {
        "colab": {
          "base_uri": "https://localhost:8080/",
          "height": 267
        },
        "id": "-uY9iiagOrtp",
        "outputId": "3b3de3c1-f056-430c-8d79-9422c71f79ed"
      },
      "source": [
        "plt.plot(result.Antwerpen, 'o-', label = 'Antwerpen')    #result['Antwerpen']\n",
        "plt.plot(result['London'], 'o--', label='London')\n",
        "plt.plot(result['Paris'], 'o--', label = 'Paris')\n",
        "\n",
        "plt.legend()\n",
        "plt.show()"
      ],
      "execution_count": 411,
      "outputs": [
        {
          "output_type": "display_data",
          "data": {
            "image/png": "[encoded data removed]",
            "text/plain": [
              "<Figure size 432x288 with 1 Axes>"
            ]
          },
          "metadata": {
            "needs_background": "light"
          }
        }
      ]
    },
    {
      "cell_type": "markdown",
      "metadata": {
        "id": "Q6BKV1jaPt-1"
      },
      "source": [
        "# DatetimeIndex를 사용한 slicing"
      ]
    },
    {
      "cell_type": "code",
      "metadata": {
        "colab": {
          "base_uri": "https://localhost:8080/",
          "height": 204
        },
        "id": "IMLgr6q_PSup",
        "outputId": "7daf86ee-3331-403e-c5bc-786755e97b70"
      },
      "source": [
        "air_quality.head()"
      ],
      "execution_count": 412,
      "outputs": [
        {
          "output_type": "execute_result",
          "data": {
            "text/html": [
              "<div>\n",
              "<style scoped>\n",
              "    .dataframe tbody tr th:only-of-type {\n",
              "        vertical-align: middle;\n",
              "    }\n",
              "\n",
              "    .dataframe tbody tr th {\n",
              "        vertical-align: top;\n",
              "    }\n",
              "\n",
              "    .dataframe thead th {\n",
              "        text-align: right;\n",
              "    }\n",
              "</style>\n",
              "<table border=\"1\" class=\"dataframe\">\n",
              "  <thead>\n",
              "    <tr style=\"text-align: right;\">\n",
              "      <th></th>\n",
              "      <th>city</th>\n",
              "      <th>country</th>\n",
              "      <th>date.utc</th>\n",
              "      <th>location</th>\n",
              "      <th>parameter</th>\n",
              "      <th>value</th>\n",
              "      <th>unit</th>\n",
              "    </tr>\n",
              "  </thead>\n",
              "  <tbody>\n",
              "    <tr>\n",
              "      <th>0</th>\n",
              "      <td>Paris</td>\n",
              "      <td>FR</td>\n",
              "      <td>2019-06-21 00:00:00+00:00</td>\n",
              "      <td>FR04014</td>\n",
              "      <td>no2</td>\n",
              "      <td>20.0</td>\n",
              "      <td>µg/m³</td>\n",
              "    </tr>\n",
              "    <tr>\n",
              "      <th>1</th>\n",
              "      <td>Paris</td>\n",
              "      <td>FR</td>\n",
              "      <td>2019-06-20 23:00:00+00:00</td>\n",
              "      <td>FR04014</td>\n",
              "      <td>no2</td>\n",
              "      <td>21.8</td>\n",
              "      <td>µg/m³</td>\n",
              "    </tr>\n",
              "    <tr>\n",
              "      <th>2</th>\n",
              "      <td>Paris</td>\n",
              "      <td>FR</td>\n",
              "      <td>2019-06-20 22:00:00+00:00</td>\n",
              "      <td>FR04014</td>\n",
              "      <td>no2</td>\n",
              "      <td>26.5</td>\n",
              "      <td>µg/m³</td>\n",
              "    </tr>\n",
              "    <tr>\n",
              "      <th>3</th>\n",
              "      <td>Paris</td>\n",
              "      <td>FR</td>\n",
              "      <td>2019-06-20 21:00:00+00:00</td>\n",
              "      <td>FR04014</td>\n",
              "      <td>no2</td>\n",
              "      <td>24.9</td>\n",
              "      <td>µg/m³</td>\n",
              "    </tr>\n",
              "    <tr>\n",
              "      <th>4</th>\n",
              "      <td>Paris</td>\n",
              "      <td>FR</td>\n",
              "      <td>2019-06-20 20:00:00+00:00</td>\n",
              "      <td>FR04014</td>\n",
              "      <td>no2</td>\n",
              "      <td>21.4</td>\n",
              "      <td>µg/m³</td>\n",
              "    </tr>\n",
              "  </tbody>\n",
              "</table>\n",
              "</div>"
            ],
            "text/plain": [
              "    city country                  date.utc location parameter  value   unit\n",
              "0  Paris      FR 2019-06-21 00:00:00+00:00  FR04014       no2   20.0  µg/m³\n",
              "1  Paris      FR 2019-06-20 23:00:00+00:00  FR04014       no2   21.8  µg/m³\n",
              "2  Paris      FR 2019-06-20 22:00:00+00:00  FR04014       no2   26.5  µg/m³\n",
              "3  Paris      FR 2019-06-20 21:00:00+00:00  FR04014       no2   24.9  µg/m³\n",
              "4  Paris      FR 2019-06-20 20:00:00+00:00  FR04014       no2   21.4  µg/m³"
            ]
          },
          "metadata": {},
          "execution_count": 412
        }
      ]
    },
    {
      "cell_type": "code",
      "metadata": {
        "id": "izWr6W1QPzuv"
      },
      "source": [
        "# 'date.utc' 컬럼을 인덱스로 변환 \n",
        "air_quality = air_quality.set_index('date.utc')"
      ],
      "execution_count": 413,
      "outputs": []
    },
    {
      "cell_type": "code",
      "metadata": {
        "colab": {
          "base_uri": "https://localhost:8080/",
          "height": 235
        },
        "id": "KXFseLTSQSR5",
        "outputId": "e631e2e0-a6e5-4f1c-cf04-baee1d706fef"
      },
      "source": [
        "air_quality.head()"
      ],
      "execution_count": 414,
      "outputs": [
        {
          "output_type": "execute_result",
          "data": {
            "text/html": [
              "<div>\n",
              "<style scoped>\n",
              "    .dataframe tbody tr th:only-of-type {\n",
              "        vertical-align: middle;\n",
              "    }\n",
              "\n",
              "    .dataframe tbody tr th {\n",
              "        vertical-align: top;\n",
              "    }\n",
              "\n",
              "    .dataframe thead th {\n",
              "        text-align: right;\n",
              "    }\n",
              "</style>\n",
              "<table border=\"1\" class=\"dataframe\">\n",
              "  <thead>\n",
              "    <tr style=\"text-align: right;\">\n",
              "      <th></th>\n",
              "      <th>city</th>\n",
              "      <th>country</th>\n",
              "      <th>location</th>\n",
              "      <th>parameter</th>\n",
              "      <th>value</th>\n",
              "      <th>unit</th>\n",
              "    </tr>\n",
              "    <tr>\n",
              "      <th>date.utc</th>\n",
              "      <th></th>\n",
              "      <th></th>\n",
              "      <th></th>\n",
              "      <th></th>\n",
              "      <th></th>\n",
              "      <th></th>\n",
              "    </tr>\n",
              "  </thead>\n",
              "  <tbody>\n",
              "    <tr>\n",
              "      <th>2019-06-21 00:00:00+00:00</th>\n",
              "      <td>Paris</td>\n",
              "      <td>FR</td>\n",
              "      <td>FR04014</td>\n",
              "      <td>no2</td>\n",
              "      <td>20.0</td>\n",
              "      <td>µg/m³</td>\n",
              "    </tr>\n",
              "    <tr>\n",
              "      <th>2019-06-20 23:00:00+00:00</th>\n",
              "      <td>Paris</td>\n",
              "      <td>FR</td>\n",
              "      <td>FR04014</td>\n",
              "      <td>no2</td>\n",
              "      <td>21.8</td>\n",
              "      <td>µg/m³</td>\n",
              "    </tr>\n",
              "    <tr>\n",
              "      <th>2019-06-20 22:00:00+00:00</th>\n",
              "      <td>Paris</td>\n",
              "      <td>FR</td>\n",
              "      <td>FR04014</td>\n",
              "      <td>no2</td>\n",
              "      <td>26.5</td>\n",
              "      <td>µg/m³</td>\n",
              "    </tr>\n",
              "    <tr>\n",
              "      <th>2019-06-20 21:00:00+00:00</th>\n",
              "      <td>Paris</td>\n",
              "      <td>FR</td>\n",
              "      <td>FR04014</td>\n",
              "      <td>no2</td>\n",
              "      <td>24.9</td>\n",
              "      <td>µg/m³</td>\n",
              "    </tr>\n",
              "    <tr>\n",
              "      <th>2019-06-20 20:00:00+00:00</th>\n",
              "      <td>Paris</td>\n",
              "      <td>FR</td>\n",
              "      <td>FR04014</td>\n",
              "      <td>no2</td>\n",
              "      <td>21.4</td>\n",
              "      <td>µg/m³</td>\n",
              "    </tr>\n",
              "  </tbody>\n",
              "</table>\n",
              "</div>"
            ],
            "text/plain": [
              "                            city country location parameter  value   unit\n",
              "date.utc                                                                 \n",
              "2019-06-21 00:00:00+00:00  Paris      FR  FR04014       no2   20.0  µg/m³\n",
              "2019-06-20 23:00:00+00:00  Paris      FR  FR04014       no2   21.8  µg/m³\n",
              "2019-06-20 22:00:00+00:00  Paris      FR  FR04014       no2   26.5  µg/m³\n",
              "2019-06-20 21:00:00+00:00  Paris      FR  FR04014       no2   24.9  µg/m³\n",
              "2019-06-20 20:00:00+00:00  Paris      FR  FR04014       no2   21.4  µg/m³"
            ]
          },
          "metadata": {},
          "execution_count": 414
        }
      ]
    },
    {
      "cell_type": "code",
      "metadata": {
        "colab": {
          "base_uri": "https://localhost:8080/"
        },
        "id": "uO1Oh8hhQT2Z",
        "outputId": "143130b3-4c56-4829-8ed5-94eba7d89368"
      },
      "source": [
        "air_quality.info()"
      ],
      "execution_count": 415,
      "outputs": [
        {
          "output_type": "stream",
          "text": [
            "<class 'pandas.core.frame.DataFrame'>\n",
            "DatetimeIndex: 2068 entries, 2019-06-21 00:00:00+00:00 to 2019-05-07 01:00:00+00:00\n",
            "Data columns (total 6 columns):\n",
            " #   Column     Non-Null Count  Dtype  \n",
            "---  ------     --------------  -----  \n",
            " 0   city       2068 non-null   object \n",
            " 1   country    2068 non-null   object \n",
            " 2   location   2068 non-null   object \n",
            " 3   parameter  2068 non-null   object \n",
            " 4   value      2068 non-null   float64\n",
            " 5   unit       2068 non-null   object \n",
            "dtypes: float64(1), object(5)\n",
            "memory usage: 113.1+ KB\n"
          ],
          "name": "stdout"
        }
      ]
    },
    {
      "cell_type": "code",
      "metadata": {
        "colab": {
          "base_uri": "https://localhost:8080/",
          "height": 1000
        },
        "id": "HHnYi0UEQhzY",
        "outputId": "96e3fb23-31dd-4fc1-e4c4-07d96f522a1c"
      },
      "source": [
        "# 2019-06-01 데이터(2019-06-01 00:00:00 ~ 2019-06-02 00:00:00) 추출\n",
        "air_quality.loc['2019-06-01' ] "
      ],
      "execution_count": 418,
      "outputs": [
        {
          "output_type": "execute_result",
          "data": {
            "text/html": [
              "<div>\n",
              "<style scoped>\n",
              "    .dataframe tbody tr th:only-of-type {\n",
              "        vertical-align: middle;\n",
              "    }\n",
              "\n",
              "    .dataframe tbody tr th {\n",
              "        vertical-align: top;\n",
              "    }\n",
              "\n",
              "    .dataframe thead th {\n",
              "        text-align: right;\n",
              "    }\n",
              "</style>\n",
              "<table border=\"1\" class=\"dataframe\">\n",
              "  <thead>\n",
              "    <tr style=\"text-align: right;\">\n",
              "      <th></th>\n",
              "      <th>city</th>\n",
              "      <th>country</th>\n",
              "      <th>location</th>\n",
              "      <th>parameter</th>\n",
              "      <th>value</th>\n",
              "      <th>unit</th>\n",
              "    </tr>\n",
              "    <tr>\n",
              "      <th>date.utc</th>\n",
              "      <th></th>\n",
              "      <th></th>\n",
              "      <th></th>\n",
              "      <th></th>\n",
              "      <th></th>\n",
              "      <th></th>\n",
              "    </tr>\n",
              "  </thead>\n",
              "  <tbody>\n",
              "    <tr>\n",
              "      <th>2019-06-01 23:00:00+00:00</th>\n",
              "      <td>Paris</td>\n",
              "      <td>FR</td>\n",
              "      <td>FR04014</td>\n",
              "      <td>no2</td>\n",
              "      <td>32.7</td>\n",
              "      <td>µg/m³</td>\n",
              "    </tr>\n",
              "    <tr>\n",
              "      <th>2019-06-01 22:00:00+00:00</th>\n",
              "      <td>Paris</td>\n",
              "      <td>FR</td>\n",
              "      <td>FR04014</td>\n",
              "      <td>no2</td>\n",
              "      <td>48.1</td>\n",
              "      <td>µg/m³</td>\n",
              "    </tr>\n",
              "    <tr>\n",
              "      <th>2019-06-01 21:00:00+00:00</th>\n",
              "      <td>Paris</td>\n",
              "      <td>FR</td>\n",
              "      <td>FR04014</td>\n",
              "      <td>no2</td>\n",
              "      <td>49.4</td>\n",
              "      <td>µg/m³</td>\n",
              "    </tr>\n",
              "    <tr>\n",
              "      <th>2019-06-01 20:00:00+00:00</th>\n",
              "      <td>Paris</td>\n",
              "      <td>FR</td>\n",
              "      <td>FR04014</td>\n",
              "      <td>no2</td>\n",
              "      <td>43.6</td>\n",
              "      <td>µg/m³</td>\n",
              "    </tr>\n",
              "    <tr>\n",
              "      <th>2019-06-01 19:00:00+00:00</th>\n",
              "      <td>Paris</td>\n",
              "      <td>FR</td>\n",
              "      <td>FR04014</td>\n",
              "      <td>no2</td>\n",
              "      <td>24.6</td>\n",
              "      <td>µg/m³</td>\n",
              "    </tr>\n",
              "    <tr>\n",
              "      <th>2019-06-01 18:00:00+00:00</th>\n",
              "      <td>Paris</td>\n",
              "      <td>FR</td>\n",
              "      <td>FR04014</td>\n",
              "      <td>no2</td>\n",
              "      <td>14.5</td>\n",
              "      <td>µg/m³</td>\n",
              "    </tr>\n",
              "    <tr>\n",
              "      <th>2019-06-01 17:00:00+00:00</th>\n",
              "      <td>Paris</td>\n",
              "      <td>FR</td>\n",
              "      <td>FR04014</td>\n",
              "      <td>no2</td>\n",
              "      <td>11.8</td>\n",
              "      <td>µg/m³</td>\n",
              "    </tr>\n",
              "    <tr>\n",
              "      <th>2019-06-01 16:00:00+00:00</th>\n",
              "      <td>Paris</td>\n",
              "      <td>FR</td>\n",
              "      <td>FR04014</td>\n",
              "      <td>no2</td>\n",
              "      <td>11.8</td>\n",
              "      <td>µg/m³</td>\n",
              "    </tr>\n",
              "    <tr>\n",
              "      <th>2019-06-01 15:00:00+00:00</th>\n",
              "      <td>Paris</td>\n",
              "      <td>FR</td>\n",
              "      <td>FR04014</td>\n",
              "      <td>no2</td>\n",
              "      <td>10.2</td>\n",
              "      <td>µg/m³</td>\n",
              "    </tr>\n",
              "    <tr>\n",
              "      <th>2019-06-01 14:00:00+00:00</th>\n",
              "      <td>Paris</td>\n",
              "      <td>FR</td>\n",
              "      <td>FR04014</td>\n",
              "      <td>no2</td>\n",
              "      <td>10.0</td>\n",
              "      <td>µg/m³</td>\n",
              "    </tr>\n",
              "    <tr>\n",
              "      <th>2019-06-01 13:00:00+00:00</th>\n",
              "      <td>Paris</td>\n",
              "      <td>FR</td>\n",
              "      <td>FR04014</td>\n",
              "      <td>no2</td>\n",
              "      <td>10.2</td>\n",
              "      <td>µg/m³</td>\n",
              "    </tr>\n",
              "    <tr>\n",
              "      <th>2019-06-01 12:00:00+00:00</th>\n",
              "      <td>Paris</td>\n",
              "      <td>FR</td>\n",
              "      <td>FR04014</td>\n",
              "      <td>no2</td>\n",
              "      <td>10.4</td>\n",
              "      <td>µg/m³</td>\n",
              "    </tr>\n",
              "    <tr>\n",
              "      <th>2019-06-01 11:00:00+00:00</th>\n",
              "      <td>Paris</td>\n",
              "      <td>FR</td>\n",
              "      <td>FR04014</td>\n",
              "      <td>no2</td>\n",
              "      <td>12.2</td>\n",
              "      <td>µg/m³</td>\n",
              "    </tr>\n",
              "    <tr>\n",
              "      <th>2019-06-01 10:00:00+00:00</th>\n",
              "      <td>Paris</td>\n",
              "      <td>FR</td>\n",
              "      <td>FR04014</td>\n",
              "      <td>no2</td>\n",
              "      <td>13.8</td>\n",
              "      <td>µg/m³</td>\n",
              "    </tr>\n",
              "    <tr>\n",
              "      <th>2019-06-01 09:00:00+00:00</th>\n",
              "      <td>Paris</td>\n",
              "      <td>FR</td>\n",
              "      <td>FR04014</td>\n",
              "      <td>no2</td>\n",
              "      <td>23.9</td>\n",
              "      <td>µg/m³</td>\n",
              "    </tr>\n",
              "    <tr>\n",
              "      <th>2019-06-01 08:00:00+00:00</th>\n",
              "      <td>Paris</td>\n",
              "      <td>FR</td>\n",
              "      <td>FR04014</td>\n",
              "      <td>no2</td>\n",
              "      <td>33.3</td>\n",
              "      <td>µg/m³</td>\n",
              "    </tr>\n",
              "    <tr>\n",
              "      <th>2019-06-01 07:00:00+00:00</th>\n",
              "      <td>Paris</td>\n",
              "      <td>FR</td>\n",
              "      <td>FR04014</td>\n",
              "      <td>no2</td>\n",
              "      <td>46.4</td>\n",
              "      <td>µg/m³</td>\n",
              "    </tr>\n",
              "    <tr>\n",
              "      <th>2019-06-01 06:00:00+00:00</th>\n",
              "      <td>Paris</td>\n",
              "      <td>FR</td>\n",
              "      <td>FR04014</td>\n",
              "      <td>no2</td>\n",
              "      <td>44.6</td>\n",
              "      <td>µg/m³</td>\n",
              "    </tr>\n",
              "    <tr>\n",
              "      <th>2019-06-01 02:00:00+00:00</th>\n",
              "      <td>Paris</td>\n",
              "      <td>FR</td>\n",
              "      <td>FR04014</td>\n",
              "      <td>no2</td>\n",
              "      <td>68.1</td>\n",
              "      <td>µg/m³</td>\n",
              "    </tr>\n",
              "    <tr>\n",
              "      <th>2019-06-01 01:00:00+00:00</th>\n",
              "      <td>Paris</td>\n",
              "      <td>FR</td>\n",
              "      <td>FR04014</td>\n",
              "      <td>no2</td>\n",
              "      <td>74.8</td>\n",
              "      <td>µg/m³</td>\n",
              "    </tr>\n",
              "    <tr>\n",
              "      <th>2019-06-01 00:00:00+00:00</th>\n",
              "      <td>Paris</td>\n",
              "      <td>FR</td>\n",
              "      <td>FR04014</td>\n",
              "      <td>no2</td>\n",
              "      <td>84.7</td>\n",
              "      <td>µg/m³</td>\n",
              "    </tr>\n",
              "    <tr>\n",
              "      <th>2019-06-01 01:00:00+00:00</th>\n",
              "      <td>Antwerpen</td>\n",
              "      <td>BE</td>\n",
              "      <td>BETR801</td>\n",
              "      <td>no2</td>\n",
              "      <td>52.5</td>\n",
              "      <td>µg/m³</td>\n",
              "    </tr>\n",
              "    <tr>\n",
              "      <th>2019-06-01 23:00:00+00:00</th>\n",
              "      <td>London</td>\n",
              "      <td>GB</td>\n",
              "      <td>London Westminster</td>\n",
              "      <td>no2</td>\n",
              "      <td>52.0</td>\n",
              "      <td>µg/m³</td>\n",
              "    </tr>\n",
              "    <tr>\n",
              "      <th>2019-06-01 22:00:00+00:00</th>\n",
              "      <td>London</td>\n",
              "      <td>GB</td>\n",
              "      <td>London Westminster</td>\n",
              "      <td>no2</td>\n",
              "      <td>52.0</td>\n",
              "      <td>µg/m³</td>\n",
              "    </tr>\n",
              "    <tr>\n",
              "      <th>2019-06-01 21:00:00+00:00</th>\n",
              "      <td>London</td>\n",
              "      <td>GB</td>\n",
              "      <td>London Westminster</td>\n",
              "      <td>no2</td>\n",
              "      <td>44.0</td>\n",
              "      <td>µg/m³</td>\n",
              "    </tr>\n",
              "    <tr>\n",
              "      <th>2019-06-01 20:00:00+00:00</th>\n",
              "      <td>London</td>\n",
              "      <td>GB</td>\n",
              "      <td>London Westminster</td>\n",
              "      <td>no2</td>\n",
              "      <td>41.0</td>\n",
              "      <td>µg/m³</td>\n",
              "    </tr>\n",
              "    <tr>\n",
              "      <th>2019-06-01 19:00:00+00:00</th>\n",
              "      <td>London</td>\n",
              "      <td>GB</td>\n",
              "      <td>London Westminster</td>\n",
              "      <td>no2</td>\n",
              "      <td>38.0</td>\n",
              "      <td>µg/m³</td>\n",
              "    </tr>\n",
              "    <tr>\n",
              "      <th>2019-06-01 18:00:00+00:00</th>\n",
              "      <td>London</td>\n",
              "      <td>GB</td>\n",
              "      <td>London Westminster</td>\n",
              "      <td>no2</td>\n",
              "      <td>36.0</td>\n",
              "      <td>µg/m³</td>\n",
              "    </tr>\n",
              "    <tr>\n",
              "      <th>2019-06-01 17:00:00+00:00</th>\n",
              "      <td>London</td>\n",
              "      <td>GB</td>\n",
              "      <td>London Westminster</td>\n",
              "      <td>no2</td>\n",
              "      <td>32.0</td>\n",
              "      <td>µg/m³</td>\n",
              "    </tr>\n",
              "    <tr>\n",
              "      <th>2019-06-01 16:00:00+00:00</th>\n",
              "      <td>London</td>\n",
              "      <td>GB</td>\n",
              "      <td>London Westminster</td>\n",
              "      <td>no2</td>\n",
              "      <td>31.0</td>\n",
              "      <td>µg/m³</td>\n",
              "    </tr>\n",
              "    <tr>\n",
              "      <th>2019-06-01 15:00:00+00:00</th>\n",
              "      <td>London</td>\n",
              "      <td>GB</td>\n",
              "      <td>London Westminster</td>\n",
              "      <td>no2</td>\n",
              "      <td>33.0</td>\n",
              "      <td>µg/m³</td>\n",
              "    </tr>\n",
              "    <tr>\n",
              "      <th>2019-06-01 14:00:00+00:00</th>\n",
              "      <td>London</td>\n",
              "      <td>GB</td>\n",
              "      <td>London Westminster</td>\n",
              "      <td>no2</td>\n",
              "      <td>36.0</td>\n",
              "      <td>µg/m³</td>\n",
              "    </tr>\n",
              "    <tr>\n",
              "      <th>2019-06-01 13:00:00+00:00</th>\n",
              "      <td>London</td>\n",
              "      <td>GB</td>\n",
              "      <td>London Westminster</td>\n",
              "      <td>no2</td>\n",
              "      <td>33.0</td>\n",
              "      <td>µg/m³</td>\n",
              "    </tr>\n",
              "    <tr>\n",
              "      <th>2019-06-01 12:00:00+00:00</th>\n",
              "      <td>London</td>\n",
              "      <td>GB</td>\n",
              "      <td>London Westminster</td>\n",
              "      <td>no2</td>\n",
              "      <td>28.0</td>\n",
              "      <td>µg/m³</td>\n",
              "    </tr>\n",
              "    <tr>\n",
              "      <th>2019-06-01 11:00:00+00:00</th>\n",
              "      <td>London</td>\n",
              "      <td>GB</td>\n",
              "      <td>London Westminster</td>\n",
              "      <td>no2</td>\n",
              "      <td>19.0</td>\n",
              "      <td>µg/m³</td>\n",
              "    </tr>\n",
              "    <tr>\n",
              "      <th>2019-06-01 10:00:00+00:00</th>\n",
              "      <td>London</td>\n",
              "      <td>GB</td>\n",
              "      <td>London Westminster</td>\n",
              "      <td>no2</td>\n",
              "      <td>12.0</td>\n",
              "      <td>µg/m³</td>\n",
              "    </tr>\n",
              "    <tr>\n",
              "      <th>2019-06-01 09:00:00+00:00</th>\n",
              "      <td>London</td>\n",
              "      <td>GB</td>\n",
              "      <td>London Westminster</td>\n",
              "      <td>no2</td>\n",
              "      <td>9.0</td>\n",
              "      <td>µg/m³</td>\n",
              "    </tr>\n",
              "    <tr>\n",
              "      <th>2019-06-01 08:00:00+00:00</th>\n",
              "      <td>London</td>\n",
              "      <td>GB</td>\n",
              "      <td>London Westminster</td>\n",
              "      <td>no2</td>\n",
              "      <td>8.0</td>\n",
              "      <td>µg/m³</td>\n",
              "    </tr>\n",
              "    <tr>\n",
              "      <th>2019-06-01 07:00:00+00:00</th>\n",
              "      <td>London</td>\n",
              "      <td>GB</td>\n",
              "      <td>London Westminster</td>\n",
              "      <td>no2</td>\n",
              "      <td>2.0</td>\n",
              "      <td>µg/m³</td>\n",
              "    </tr>\n",
              "    <tr>\n",
              "      <th>2019-06-01 06:00:00+00:00</th>\n",
              "      <td>London</td>\n",
              "      <td>GB</td>\n",
              "      <td>London Westminster</td>\n",
              "      <td>no2</td>\n",
              "      <td>4.0</td>\n",
              "      <td>µg/m³</td>\n",
              "    </tr>\n",
              "    <tr>\n",
              "      <th>2019-06-01 05:00:00+00:00</th>\n",
              "      <td>London</td>\n",
              "      <td>GB</td>\n",
              "      <td>London Westminster</td>\n",
              "      <td>no2</td>\n",
              "      <td>11.0</td>\n",
              "      <td>µg/m³</td>\n",
              "    </tr>\n",
              "    <tr>\n",
              "      <th>2019-06-01 04:00:00+00:00</th>\n",
              "      <td>London</td>\n",
              "      <td>GB</td>\n",
              "      <td>London Westminster</td>\n",
              "      <td>no2</td>\n",
              "      <td>11.0</td>\n",
              "      <td>µg/m³</td>\n",
              "    </tr>\n",
              "    <tr>\n",
              "      <th>2019-06-01 03:00:00+00:00</th>\n",
              "      <td>London</td>\n",
              "      <td>GB</td>\n",
              "      <td>London Westminster</td>\n",
              "      <td>no2</td>\n",
              "      <td>16.0</td>\n",
              "      <td>µg/m³</td>\n",
              "    </tr>\n",
              "    <tr>\n",
              "      <th>2019-06-01 02:00:00+00:00</th>\n",
              "      <td>London</td>\n",
              "      <td>GB</td>\n",
              "      <td>London Westminster</td>\n",
              "      <td>no2</td>\n",
              "      <td>16.0</td>\n",
              "      <td>µg/m³</td>\n",
              "    </tr>\n",
              "    <tr>\n",
              "      <th>2019-06-01 01:00:00+00:00</th>\n",
              "      <td>London</td>\n",
              "      <td>GB</td>\n",
              "      <td>London Westminster</td>\n",
              "      <td>no2</td>\n",
              "      <td>22.0</td>\n",
              "      <td>µg/m³</td>\n",
              "    </tr>\n",
              "    <tr>\n",
              "      <th>2019-06-01 00:00:00+00:00</th>\n",
              "      <td>London</td>\n",
              "      <td>GB</td>\n",
              "      <td>London Westminster</td>\n",
              "      <td>no2</td>\n",
              "      <td>22.0</td>\n",
              "      <td>µg/m³</td>\n",
              "    </tr>\n",
              "  </tbody>\n",
              "</table>\n",
              "</div>"
            ],
            "text/plain": [
              "                                city country  ... value   unit\n",
              "date.utc                                      ...             \n",
              "2019-06-01 23:00:00+00:00      Paris      FR  ...  32.7  µg/m³\n",
              "2019-06-01 22:00:00+00:00      Paris      FR  ...  48.1  µg/m³\n",
              "2019-06-01 21:00:00+00:00      Paris      FR  ...  49.4  µg/m³\n",
              "2019-06-01 20:00:00+00:00      Paris      FR  ...  43.6  µg/m³\n",
              "2019-06-01 19:00:00+00:00      Paris      FR  ...  24.6  µg/m³\n",
              "2019-06-01 18:00:00+00:00      Paris      FR  ...  14.5  µg/m³\n",
              "2019-06-01 17:00:00+00:00      Paris      FR  ...  11.8  µg/m³\n",
              "2019-06-01 16:00:00+00:00      Paris      FR  ...  11.8  µg/m³\n",
              "2019-06-01 15:00:00+00:00      Paris      FR  ...  10.2  µg/m³\n",
              "2019-06-01 14:00:00+00:00      Paris      FR  ...  10.0  µg/m³\n",
              "2019-06-01 13:00:00+00:00      Paris      FR  ...  10.2  µg/m³\n",
              "2019-06-01 12:00:00+00:00      Paris      FR  ...  10.4  µg/m³\n",
              "2019-06-01 11:00:00+00:00      Paris      FR  ...  12.2  µg/m³\n",
              "2019-06-01 10:00:00+00:00      Paris      FR  ...  13.8  µg/m³\n",
              "2019-06-01 09:00:00+00:00      Paris      FR  ...  23.9  µg/m³\n",
              "2019-06-01 08:00:00+00:00      Paris      FR  ...  33.3  µg/m³\n",
              "2019-06-01 07:00:00+00:00      Paris      FR  ...  46.4  µg/m³\n",
              "2019-06-01 06:00:00+00:00      Paris      FR  ...  44.6  µg/m³\n",
              "2019-06-01 02:00:00+00:00      Paris      FR  ...  68.1  µg/m³\n",
              "2019-06-01 01:00:00+00:00      Paris      FR  ...  74.8  µg/m³\n",
              "2019-06-01 00:00:00+00:00      Paris      FR  ...  84.7  µg/m³\n",
              "2019-06-01 01:00:00+00:00  Antwerpen      BE  ...  52.5  µg/m³\n",
              "2019-06-01 23:00:00+00:00     London      GB  ...  52.0  µg/m³\n",
              "2019-06-01 22:00:00+00:00     London      GB  ...  52.0  µg/m³\n",
              "2019-06-01 21:00:00+00:00     London      GB  ...  44.0  µg/m³\n",
              "2019-06-01 20:00:00+00:00     London      GB  ...  41.0  µg/m³\n",
              "2019-06-01 19:00:00+00:00     London      GB  ...  38.0  µg/m³\n",
              "2019-06-01 18:00:00+00:00     London      GB  ...  36.0  µg/m³\n",
              "2019-06-01 17:00:00+00:00     London      GB  ...  32.0  µg/m³\n",
              "2019-06-01 16:00:00+00:00     London      GB  ...  31.0  µg/m³\n",
              "2019-06-01 15:00:00+00:00     London      GB  ...  33.0  µg/m³\n",
              "2019-06-01 14:00:00+00:00     London      GB  ...  36.0  µg/m³\n",
              "2019-06-01 13:00:00+00:00     London      GB  ...  33.0  µg/m³\n",
              "2019-06-01 12:00:00+00:00     London      GB  ...  28.0  µg/m³\n",
              "2019-06-01 11:00:00+00:00     London      GB  ...  19.0  µg/m³\n",
              "2019-06-01 10:00:00+00:00     London      GB  ...  12.0  µg/m³\n",
              "2019-06-01 09:00:00+00:00     London      GB  ...   9.0  µg/m³\n",
              "2019-06-01 08:00:00+00:00     London      GB  ...   8.0  µg/m³\n",
              "2019-06-01 07:00:00+00:00     London      GB  ...   2.0  µg/m³\n",
              "2019-06-01 06:00:00+00:00     London      GB  ...   4.0  µg/m³\n",
              "2019-06-01 05:00:00+00:00     London      GB  ...  11.0  µg/m³\n",
              "2019-06-01 04:00:00+00:00     London      GB  ...  11.0  µg/m³\n",
              "2019-06-01 03:00:00+00:00     London      GB  ...  16.0  µg/m³\n",
              "2019-06-01 02:00:00+00:00     London      GB  ...  16.0  µg/m³\n",
              "2019-06-01 01:00:00+00:00     London      GB  ...  22.0  µg/m³\n",
              "2019-06-01 00:00:00+00:00     London      GB  ...  22.0  µg/m³\n",
              "\n",
              "[46 rows x 6 columns]"
            ]
          },
          "metadata": {},
          "execution_count": 418
        }
      ]
    },
    {
      "cell_type": "code",
      "metadata": {
        "colab": {
          "base_uri": "https://localhost:8080/",
          "height": 450
        },
        "id": "YAOfxR2DRVB4",
        "outputId": "14d7bbec-5cb3-4472-8e42-46e0f35796ab"
      },
      "source": [
        "# 2019-06-15 ~ 2019-06-16 데이터 \n",
        "air_quality.loc['2019-06-15' : '2019-06-16']"
      ],
      "execution_count": 422,
      "outputs": [
        {
          "output_type": "execute_result",
          "data": {
            "text/html": [
              "<div>\n",
              "<style scoped>\n",
              "    .dataframe tbody tr th:only-of-type {\n",
              "        vertical-align: middle;\n",
              "    }\n",
              "\n",
              "    .dataframe tbody tr th {\n",
              "        vertical-align: top;\n",
              "    }\n",
              "\n",
              "    .dataframe thead th {\n",
              "        text-align: right;\n",
              "    }\n",
              "</style>\n",
              "<table border=\"1\" class=\"dataframe\">\n",
              "  <thead>\n",
              "    <tr style=\"text-align: right;\">\n",
              "      <th></th>\n",
              "      <th>city</th>\n",
              "      <th>country</th>\n",
              "      <th>location</th>\n",
              "      <th>parameter</th>\n",
              "      <th>value</th>\n",
              "      <th>unit</th>\n",
              "    </tr>\n",
              "    <tr>\n",
              "      <th>date.utc</th>\n",
              "      <th></th>\n",
              "      <th></th>\n",
              "      <th></th>\n",
              "      <th></th>\n",
              "      <th></th>\n",
              "      <th></th>\n",
              "    </tr>\n",
              "  </thead>\n",
              "  <tbody>\n",
              "    <tr>\n",
              "      <th>2019-06-16 23:00:00+00:00</th>\n",
              "      <td>Paris</td>\n",
              "      <td>FR</td>\n",
              "      <td>FR04014</td>\n",
              "      <td>no2</td>\n",
              "      <td>67.3</td>\n",
              "      <td>µg/m³</td>\n",
              "    </tr>\n",
              "    <tr>\n",
              "      <th>2019-06-16 22:00:00+00:00</th>\n",
              "      <td>Paris</td>\n",
              "      <td>FR</td>\n",
              "      <td>FR04014</td>\n",
              "      <td>no2</td>\n",
              "      <td>56.6</td>\n",
              "      <td>µg/m³</td>\n",
              "    </tr>\n",
              "    <tr>\n",
              "      <th>2019-06-16 21:00:00+00:00</th>\n",
              "      <td>Paris</td>\n",
              "      <td>FR</td>\n",
              "      <td>FR04014</td>\n",
              "      <td>no2</td>\n",
              "      <td>42.7</td>\n",
              "      <td>µg/m³</td>\n",
              "    </tr>\n",
              "    <tr>\n",
              "      <th>2019-06-16 20:00:00+00:00</th>\n",
              "      <td>Paris</td>\n",
              "      <td>FR</td>\n",
              "      <td>FR04014</td>\n",
              "      <td>no2</td>\n",
              "      <td>23.3</td>\n",
              "      <td>µg/m³</td>\n",
              "    </tr>\n",
              "    <tr>\n",
              "      <th>2019-06-16 19:00:00+00:00</th>\n",
              "      <td>Paris</td>\n",
              "      <td>FR</td>\n",
              "      <td>FR04014</td>\n",
              "      <td>no2</td>\n",
              "      <td>14.4</td>\n",
              "      <td>µg/m³</td>\n",
              "    </tr>\n",
              "    <tr>\n",
              "      <th>...</th>\n",
              "      <td>...</td>\n",
              "      <td>...</td>\n",
              "      <td>...</td>\n",
              "      <td>...</td>\n",
              "      <td>...</td>\n",
              "      <td>...</td>\n",
              "    </tr>\n",
              "    <tr>\n",
              "      <th>2019-06-15 07:00:00+00:00</th>\n",
              "      <td>London</td>\n",
              "      <td>GB</td>\n",
              "      <td>London Westminster</td>\n",
              "      <td>no2</td>\n",
              "      <td>13.0</td>\n",
              "      <td>µg/m³</td>\n",
              "    </tr>\n",
              "    <tr>\n",
              "      <th>2019-06-15 06:00:00+00:00</th>\n",
              "      <td>London</td>\n",
              "      <td>GB</td>\n",
              "      <td>London Westminster</td>\n",
              "      <td>no2</td>\n",
              "      <td>13.0</td>\n",
              "      <td>µg/m³</td>\n",
              "    </tr>\n",
              "    <tr>\n",
              "      <th>2019-06-15 05:00:00+00:00</th>\n",
              "      <td>London</td>\n",
              "      <td>GB</td>\n",
              "      <td>London Westminster</td>\n",
              "      <td>no2</td>\n",
              "      <td>10.0</td>\n",
              "      <td>µg/m³</td>\n",
              "    </tr>\n",
              "    <tr>\n",
              "      <th>2019-06-15 04:00:00+00:00</th>\n",
              "      <td>London</td>\n",
              "      <td>GB</td>\n",
              "      <td>London Westminster</td>\n",
              "      <td>no2</td>\n",
              "      <td>10.0</td>\n",
              "      <td>µg/m³</td>\n",
              "    </tr>\n",
              "    <tr>\n",
              "      <th>2019-06-15 00:00:00+00:00</th>\n",
              "      <td>London</td>\n",
              "      <td>GB</td>\n",
              "      <td>London Westminster</td>\n",
              "      <td>no2</td>\n",
              "      <td>26.0</td>\n",
              "      <td>µg/m³</td>\n",
              "    </tr>\n",
              "  </tbody>\n",
              "</table>\n",
              "<p>91 rows × 6 columns</p>\n",
              "</div>"
            ],
            "text/plain": [
              "                             city country  ... value   unit\n",
              "date.utc                                   ...             \n",
              "2019-06-16 23:00:00+00:00   Paris      FR  ...  67.3  µg/m³\n",
              "2019-06-16 22:00:00+00:00   Paris      FR  ...  56.6  µg/m³\n",
              "2019-06-16 21:00:00+00:00   Paris      FR  ...  42.7  µg/m³\n",
              "2019-06-16 20:00:00+00:00   Paris      FR  ...  23.3  µg/m³\n",
              "2019-06-16 19:00:00+00:00   Paris      FR  ...  14.4  µg/m³\n",
              "...                           ...     ...  ...   ...    ...\n",
              "2019-06-15 07:00:00+00:00  London      GB  ...  13.0  µg/m³\n",
              "2019-06-15 06:00:00+00:00  London      GB  ...  13.0  µg/m³\n",
              "2019-06-15 05:00:00+00:00  London      GB  ...  10.0  µg/m³\n",
              "2019-06-15 04:00:00+00:00  London      GB  ...  10.0  µg/m³\n",
              "2019-06-15 00:00:00+00:00  London      GB  ...  26.0  µg/m³\n",
              "\n",
              "[91 rows x 6 columns]"
            ]
          },
          "metadata": {},
          "execution_count": 422
        }
      ]
    },
    {
      "cell_type": "code",
      "metadata": {
        "id": "A9BmSXsrSV1p"
      },
      "source": [
        "# 2019-05 데이터 추출 \n",
        "air_may = air_quality.loc['2019-05-20' : '2019-05-21']"
      ],
      "execution_count": 426,
      "outputs": []
    },
    {
      "cell_type": "code",
      "metadata": {
        "colab": {
          "base_uri": "https://localhost:8080/",
          "height": 279
        },
        "id": "R1oI19sUSnjI",
        "outputId": "61cf7782-7726-4ce4-b4b1-14d6012b8c90"
      },
      "source": [
        "# 2019-05-20 0시 ~ 2019-05-21 23시 No2 농도 변화를 도시별로 선 그래프 \n",
        "plt.figure(figsize=(8, 4))\n",
        "sns.lineplot(data = air_may, x='date.utc', y = 'value', hue = 'city', style = 'city')\n",
        "plt.show()"
      ],
      "execution_count": 430,
      "outputs": [
        {
          "output_type": "display_data",
          "data": {
            "image/png": "[encoded data removed]",
            "text/plain": [
              "<Figure size 576x288 with 1 Axes>"
            ]
          },
          "metadata": {
            "needs_background": "light"
          }
        }
      ]
    }
  ]
}