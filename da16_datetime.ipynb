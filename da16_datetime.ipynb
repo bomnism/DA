{
  "nbformat": 4,
  "nbformat_minor": 0,
  "metadata": {
    "colab": {
      "name": "da16_datetime.ipynb",
      "provenance": [],
      "collapsed_sections": [],
      "authorship_tag": "ABX9TyPmZnfpM6V8vJw4RxMmykTt",
      "include_colab_link": true
    },
    "kernelspec": {
      "name": "python3",
      "display_name": "Python 3"
    },
    "language_info": {
      "name": "python"
    }
  },
  "cells": [
    {
      "cell_type": "markdown",
      "metadata": {
        "id": "view-in-github",
        "colab_type": "text"
      },
      "source": [
        "<a href=\"https://colab.research.google.com/github/bomnism/DA/blob/main/da16_datetime.ipynb\" target=\"_parent\"><img src=\"https://colab.research.google.com/assets/colab-badge.svg\" alt=\"Open In Colab\"/></a>"
      ]
    },
    {
      "cell_type": "markdown",
      "metadata": {
        "id": "ESYLJLoJNgBi"
      },
      "source": [
        "* Python datetime 모듈\n",
        "    * datetime 클래스: 날짜(date), 시간(time)과 관련된 정보들을 저장, 표현할 수 있는 기능(메서드)들을 가지고 있는 데이터 타입.\n",
        "\n",
        "`python.org - documentation - Library Reference - datetime에서 자세하게 볼 수 있음.` "
      ]
    },
    {
      "cell_type": "code",
      "metadata": {
        "id": "G1Tx3huGLdlE"
      },
      "source": [
        "import datetime     # datatime 모듈을 import"
      ],
      "execution_count": 1,
      "outputs": []
    },
    {
      "cell_type": "code",
      "metadata": {
        "colab": {
          "base_uri": "https://localhost:8080/"
        },
        "id": "YH-eWrdYOt9m",
        "outputId": "0c8a3ba9-4e39-400f-caba-49e554f6d7d1"
      },
      "source": [
        "datetime.datetime.now()\n",
        "# datetime 모듈에 있는 dateteme 클래스에 있는 now() 메서드 호출 "
      ],
      "execution_count": 3,
      "outputs": [
        {
          "output_type": "execute_result",
          "data": {
            "text/plain": [
              "datetime.datetime(2021, 8, 18, 7, 50, 18, 555922)"
            ]
          },
          "metadata": {
            "tags": []
          },
          "execution_count": 3
        }
      ]
    },
    {
      "cell_type": "code",
      "metadata": {
        "id": "WrFF2lt1O-Nv"
      },
      "source": [
        "from datetime import datetime    #datetime 모듈에서 datetime 클래스를 import"
      ],
      "execution_count": 6,
      "outputs": []
    },
    {
      "cell_type": "code",
      "metadata": {
        "colab": {
          "base_uri": "https://localhost:8080/"
        },
        "id": "yR6elx26Qgbc",
        "outputId": "feda94a5-5678-4238-f376-c1f64ee23366"
      },
      "source": [
        "datetime.now()\n",
        "# datetime클래스의 now()메서드 호출"
      ],
      "execution_count": 7,
      "outputs": [
        {
          "output_type": "execute_result",
          "data": {
            "text/plain": [
              "datetime.datetime(2021, 8, 18, 7, 57, 27, 616247)"
            ]
          },
          "metadata": {
            "tags": []
          },
          "execution_count": 7
        }
      ]
    },
    {
      "cell_type": "markdown",
      "metadata": {
        "id": "TuBrCT1qQ_QW"
      },
      "source": [
        "* `datetime` 클래스의 메서드 "
      ]
    },
    {
      "cell_type": "code",
      "metadata": {
        "id": "Ih3sChgfQlGs"
      },
      "source": [
        "# datetime.now(): 코드가 실행되는 컴퓨터 os 시간대의 현재 시간을 리턴\n",
        "curr_dt = datetime.now()"
      ],
      "execution_count": 12,
      "outputs": []
    },
    {
      "cell_type": "code",
      "metadata": {
        "colab": {
          "base_uri": "https://localhost:8080/"
        },
        "id": "AIee8U3oRlE9",
        "outputId": "0ee0e79a-dec9-4c7e-ff4d-a9182fcffde8"
      },
      "source": [
        "curr_dt   # expression을 출력 "
      ],
      "execution_count": 13,
      "outputs": [
        {
          "output_type": "execute_result",
          "data": {
            "text/plain": [
              "datetime.datetime(2021, 8, 18, 8, 12, 0, 683335)"
            ]
          },
          "metadata": {
            "tags": []
          },
          "execution_count": 13
        }
      ]
    },
    {
      "cell_type": "code",
      "metadata": {
        "colab": {
          "base_uri": "https://localhost:8080/"
        },
        "id": "GrwdLlPsRnyZ",
        "outputId": "6741d8f8-6bb7-4a75-87fb-cbdc261d1a2a"
      },
      "source": [
        "print(curr_dt)     # statement"
      ],
      "execution_count": 14,
      "outputs": [
        {
          "output_type": "stream",
          "text": [
            "2021-08-18 08:12:00.683335\n"
          ],
          "name": "stdout"
        }
      ]
    },
    {
      "cell_type": "markdown",
      "metadata": {
        "id": "r1thW24LSZdm"
      },
      "source": [
        "* UTC(Coordinates Universal Timezone): 그리니치 천문대 기준 시간 \n",
        "* KST(Korean Standard Timezone): 한국 표준시.  UTC+09:00"
      ]
    },
    {
      "cell_type": "code",
      "metadata": {
        "colab": {
          "base_uri": "https://localhost:8080/"
        },
        "id": "vqNZ9ROlR-mP",
        "outputId": "5f20e996-7784-4b63-dfa7-723b875bd3c1"
      },
      "source": [
        "#  datetime.datetime 클래스의 속성들 : year, month, day, hour, minute, second\n",
        "print(type(curr_dt))\n",
        "print(curr_dt.year)\n",
        "print(curr_dt.month)\n",
        "print(curr_dt.day)\n",
        "print(f'{curr_dt.hour}:{curr_dt.minute}:{curr_dt.second}')"
      ],
      "execution_count": 18,
      "outputs": [
        {
          "output_type": "stream",
          "text": [
            "<class 'datetime.datetime'>\n",
            "2021\n",
            "8\n",
            "18\n",
            "8:12:0\n"
          ],
          "name": "stdout"
        }
      ]
    },
    {
      "cell_type": "code",
      "metadata": {
        "colab": {
          "base_uri": "https://localhost:8080/"
        },
        "id": "jDZWrIMrUEcq",
        "outputId": "957ad314-a8b5-4be8-b9a3-7e4aced1454c"
      },
      "source": [
        "# datetime.datetime() 생성자 함수 \n",
        "yesterday = datetime(2021, 8, 17)\n",
        "print(yesterday)"
      ],
      "execution_count": 20,
      "outputs": [
        {
          "output_type": "stream",
          "text": [
            "2021-08-17 00:00:00\n"
          ],
          "name": "stdout"
        }
      ]
    },
    {
      "cell_type": "code",
      "metadata": {
        "colab": {
          "base_uri": "https://localhost:8080/"
        },
        "id": "emxYQLLtVfQR",
        "outputId": "86c045b0-3949-420e-f0d8-c4aa3d195ce6"
      },
      "source": [
        "tomorrow = datetime(2021, 8, 19, 17, 20)\n",
        "print(tomorrow)"
      ],
      "execution_count": 21,
      "outputs": [
        {
          "output_type": "stream",
          "text": [
            "2021-08-19 17:20:00\n"
          ],
          "name": "stdout"
        }
      ]
    },
    {
      "cell_type": "code",
      "metadata": {
        "colab": {
          "base_uri": "https://localhost:8080/"
        },
        "id": "CwB1I27RWVnl",
        "outputId": "fc6b1d62-2139-48ca-c1de-267c30c275c5"
      },
      "source": [
        "tomorrow - yesterday            # datetime 타입의 변수들의 뺄셈 결과는 time delta 클래스 타입"
      ],
      "execution_count": 24,
      "outputs": [
        {
          "output_type": "execute_result",
          "data": {
            "text/plain": [
              "datetime.timedelta(days=2, seconds=62400)"
            ]
          },
          "metadata": {
            "tags": []
          },
          "execution_count": 24
        }
      ]
    },
    {
      "cell_type": "markdown",
      "metadata": {
        "id": "W2IXDZV3bN9p"
      },
      "source": [
        "\n",
        "* `datetime` (날짜/시간) 객체 <---> `str` (문자열) 객체 \n",
        "    * `datetime.strftime(포맷문자열)`  :  `datetime` 객체를 포맷 문자열 형식으로  formatting된 문자열로 변환해서 리턴. \n",
        "    * `datetime.strptime(문자열, 포맷문자열)` : 문자열(str)을 `datetime` 객체로 변환(parsing).   \n",
        "\n",
        "* 날짜 포맷 문자열\n",
        "    * 연도(year): %Y(4자리 연도), %y(2자리 연도) \n",
        "    * 월(month): %m(2자리 숫자), %B(월 이름), %b(월 이름의 약자)\n",
        "    * 일(day): %d(2자리 숫자)\n",
        "    * 시(hour): %H(24시간 형식. 0 ~ 23), %I(12시간 형식. 1 ~ 12) \n",
        "    * 분(minute) : %M(2자리 숫자. 00 ~ 59)\n",
        "    * 초(second) : %S(2자리 숫자. 00 ~ 59) "
      ]
    },
    {
      "cell_type": "code",
      "metadata": {
        "colab": {
          "base_uri": "https://localhost:8080/"
        },
        "id": "-BBmYWxNWuZ4",
        "outputId": "e1162bb6-f8d1-4e7b-9391-8c22f4637836"
      },
      "source": [
        "curr_dt = datetime.now()\n",
        "print(curr_dt)"
      ],
      "execution_count": 25,
      "outputs": [
        {
          "output_type": "stream",
          "text": [
            "2021-08-18 08:54:48.023394\n"
          ],
          "name": "stdout"
        }
      ]
    },
    {
      "cell_type": "code",
      "metadata": {
        "colab": {
          "base_uri": "https://localhost:8080/",
          "height": 35
        },
        "id": "rc90Z5DEeFwm",
        "outputId": "c7b4716d-cdba-49f6-ca21-2105059027c0"
      },
      "source": [
        "curr_dt.strftime('%Y/%m/%d')"
      ],
      "execution_count": 26,
      "outputs": [
        {
          "output_type": "execute_result",
          "data": {
            "application/vnd.google.colaboratory.intrinsic+json": {
              "type": "string"
            },
            "text/plain": [
              "'2021/08/18'"
            ]
          },
          "metadata": {
            "tags": []
          },
          "execution_count": 26
        }
      ]
    },
    {
      "cell_type": "code",
      "metadata": {
        "colab": {
          "base_uri": "https://localhost:8080/",
          "height": 35
        },
        "id": "yyFmVaDkeKZZ",
        "outputId": "41719247-dc0f-4681-ed38-c4362cbd5041"
      },
      "source": [
        "curr_dt.strftime('%b-%d-%y')"
      ],
      "execution_count": 27,
      "outputs": [
        {
          "output_type": "execute_result",
          "data": {
            "application/vnd.google.colaboratory.intrinsic+json": {
              "type": "string"
            },
            "text/plain": [
              "'Aug-18-21'"
            ]
          },
          "metadata": {
            "tags": []
          },
          "execution_count": 27
        }
      ]
    },
    {
      "cell_type": "code",
      "metadata": {
        "colab": {
          "base_uri": "https://localhost:8080/",
          "height": 35
        },
        "id": "PESW1PYAe3Ew",
        "outputId": "e06c57e1-c8b6-4734-8ae4-e783e8487c5f"
      },
      "source": [
        "curr_dt.strftime('%I:%M:%S %p')   # %p: AM/PM(오전/오후) 표시"
      ],
      "execution_count": 28,
      "outputs": [
        {
          "output_type": "execute_result",
          "data": {
            "application/vnd.google.colaboratory.intrinsic+json": {
              "type": "string"
            },
            "text/plain": [
              "'08:54:48 AM'"
            ]
          },
          "metadata": {
            "tags": []
          },
          "execution_count": 28
        }
      ]
    },
    {
      "cell_type": "markdown",
      "metadata": {
        "id": "YmkMLrKpgP9_"
      },
      "source": [
        "str ---> datetime 객체"
      ]
    },
    {
      "cell_type": "code",
      "metadata": {
        "colab": {
          "base_uri": "https://localhost:8080/"
        },
        "id": "j1cjVwi9gO95",
        "outputId": "25afda08-f8aa-43f4-ee68-a3e312a8913a"
      },
      "source": [
        "# datetime.strptime(string, format): format 형식의 문자열 string을 datetime 객체로 변환 리턴. \n",
        "datetime.strptime('2021-08-18 18:04:30', '%Y-%m-%d %H:%M:%S')"
      ],
      "execution_count": 31,
      "outputs": [
        {
          "output_type": "execute_result",
          "data": {
            "text/plain": [
              "datetime.datetime(2021, 8, 18, 18, 4, 30)"
            ]
          },
          "metadata": {
            "tags": []
          },
          "execution_count": 31
        }
      ]
    },
    {
      "cell_type": "code",
      "metadata": {
        "colab": {
          "base_uri": "https://localhost:8080/"
        },
        "id": "s753TaHmgZPR",
        "outputId": "b55d2118-2f17-4c7d-be81-a3c39958cc7b"
      },
      "source": [
        "datetime.strptime('08-18-21', '%m-%d-%y')"
      ],
      "execution_count": 33,
      "outputs": [
        {
          "output_type": "execute_result",
          "data": {
            "text/plain": [
              "datetime.datetime(2021, 8, 18, 0, 0)"
            ]
          },
          "metadata": {
            "tags": []
          },
          "execution_count": 33
        }
      ]
    },
    {
      "cell_type": "code",
      "metadata": {
        "colab": {
          "base_uri": "https://localhost:8080/"
        },
        "id": "e4mlXAZ0hJO1",
        "outputId": "0d94376c-9bea-4531-ec6d-e51bc2eeec02"
      },
      "source": [
        "datetime.strptime('18-08-21', '%d-%m-%y')"
      ],
      "execution_count": 36,
      "outputs": [
        {
          "output_type": "execute_result",
          "data": {
            "text/plain": [
              "datetime.datetime(2021, 8, 18, 0, 0)"
            ]
          },
          "metadata": {
            "tags": []
          },
          "execution_count": 36
        }
      ]
    },
    {
      "cell_type": "code",
      "metadata": {
        "id": "TeM3cNMDhu5I"
      },
      "source": [
        ""
      ],
      "execution_count": null,
      "outputs": []
    }
  ]
}