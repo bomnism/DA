{
  "nbformat": 4,
  "nbformat_minor": 0,
  "metadata": {
    "colab": {
      "name": "da01_intro.ipynb",
      "provenance": [],
      "collapsed_sections": [],
      "authorship_tag": "ABX9TyMO+tv0wKdtnKWXd7tu6uNA",
      "include_colab_link": true
    },
    "kernelspec": {
      "name": "python3",
      "display_name": "Python 3"
    },
    "language_info": {
      "name": "python"
    }
  },
  "cells": [
    {
      "cell_type": "markdown",
      "metadata": {
        "id": "view-in-github",
        "colab_type": "text"
      },
      "source": [
        "<a href=\"https://colab.research.google.com/github/bomnism/DA/blob/main/da01_intro.ipynb\" target=\"_parent\"><img src=\"https://colab.research.google.com/assets/colab-badge.svg\" alt=\"Open In Colab\"/></a>"
      ]
    },
    {
      "cell_type": "markdown",
      "metadata": {
        "id": "dfnDIiBxNHwR"
      },
      "source": [
        "\n",
        "* Numpy: 다차원 배열을 다루는 패키지. 머신러닝 패키지(scikit-learn)에서 중요하게 사용됨. \n",
        "* pandas: 데이터프레임(DataFrame)과 시리즈(Series)를 다루는 패키지. 데이터 분석. \n",
        "* matplotlib: 데이터 시각화. \n",
        "* Google Colab에는 필요한 패키지들이 이미 설치되어 있음. \n",
        "    * import문을 사용해서 모듈과 모듈의 함수, 클래스들을 사용할 수 있음.\n",
        "    *  "
      ]
    },
    {
      "cell_type": "code",
      "metadata": {
        "id": "l1-VcivPNBkc"
      },
      "source": [
        "import numpy as np\n",
        "import pandas as pd\n",
        "import matplotlib.pyplot as plt\n",
        "import matplotlib"
      ],
      "execution_count": null,
      "outputs": []
    },
    {
      "cell_type": "code",
      "metadata": {
        "colab": {
          "base_uri": "https://localhost:8080/"
        },
        "id": "VV_x1LU0PJGd",
        "outputId": "f53333c1-4db2-4612-b8eb-425a0b535557"
      },
      "source": [
        "#  Google Colab에 설치된 패키지 버전 확인  -> 가장 최근 버전은 아님! \n",
        "print('NumPy version:', np.__version__)\n",
        "print('pandas version:', pd.__version__)\n",
        "print('matplotlib version:', matplotlib.__version__)"
      ],
      "execution_count": null,
      "outputs": [
        {
          "output_type": "stream",
          "text": [
            "NumPy version: 1.19.5\n",
            "pandas version: 1.1.5\n",
            "matplotlib version: 3.2.2\n"
          ],
          "name": "stdout"
        }
      ]
    },
    {
      "cell_type": "markdown",
      "metadata": {
        "id": "Bn5zsIOnBpSR"
      },
      "source": [
        "# Python list\n",
        "\n",
        "* 여러개의 값들을 저장할 수 있는 데이터 타입\n",
        "* 인덱스를 기반으로 값들을 저장하는 데이터 타입 \n",
        "    * indexing : 인덱스로 원하는 위치의 값을 참조\n",
        "    * slicing: start <= index < end 범위의 값들의 부분집합(list)을 만듦\n",
        "* list + list: extend 메서드와 비슷한 기능. 두 리스트를 이어붙여서 하나의 리스트로 만듦\n",
        "* list * int, int * list: list의 원소들을 정수 개수만큼 반복해서 추가  \n"
      ]
    },
    {
      "cell_type": "code",
      "metadata": {
        "id": "_yk5vOoHP_BP"
      },
      "source": [
        "num_list1 = [1, 2, 3]\n",
        "num_list2 = [10, 20, 30]"
      ],
      "execution_count": null,
      "outputs": []
    },
    {
      "cell_type": "code",
      "metadata": {
        "colab": {
          "base_uri": "https://localhost:8080/"
        },
        "id": "HUf1288hI2Ww",
        "outputId": "d506f607-cfb3-4f5d-bfd0-c51be4c8c1b2"
      },
      "source": [
        "num_list1"
      ],
      "execution_count": null,
      "outputs": [
        {
          "output_type": "execute_result",
          "data": {
            "text/plain": [
              "[1, 2, 3]"
            ]
          },
          "metadata": {
            "tags": []
          },
          "execution_count": 51
        }
      ]
    },
    {
      "cell_type": "code",
      "metadata": {
        "colab": {
          "base_uri": "https://localhost:8080/"
        },
        "id": "mlmwBy53I6-p",
        "outputId": "1cd52d71-4e74-4e9a-8b01-6a610deb44fa"
      },
      "source": [
        "print(num_list1[0])\n",
        "print(num_list1[:1])"
      ],
      "execution_count": null,
      "outputs": [
        {
          "output_type": "stream",
          "text": [
            "1\n",
            "[1]\n"
          ],
          "name": "stdout"
        }
      ]
    },
    {
      "cell_type": "code",
      "metadata": {
        "colab": {
          "base_uri": "https://localhost:8080/"
        },
        "id": "gxxIgHsUJNjj",
        "outputId": "b340548b-379c-4cbb-c49b-a299a84b1b9d"
      },
      "source": [
        "num_list1 + num_list2"
      ],
      "execution_count": null,
      "outputs": [
        {
          "output_type": "execute_result",
          "data": {
            "text/plain": [
              "[1, 2, 3, 10, 20, 30]"
            ]
          },
          "metadata": {
            "tags": []
          },
          "execution_count": 53
        }
      ]
    },
    {
      "cell_type": "code",
      "metadata": {
        "colab": {
          "base_uri": "https://localhost:8080/"
        },
        "id": "Ag0lbqmuJR11",
        "outputId": "5899a1c4-ef13-440f-930e-edf6685e2fb2"
      },
      "source": [
        "num_list1.extend(num_list2)\n",
        "num_list1"
      ],
      "execution_count": null,
      "outputs": [
        {
          "output_type": "execute_result",
          "data": {
            "text/plain": [
              "[1, 2, 3, 10, 20, 30]"
            ]
          },
          "metadata": {
            "tags": []
          },
          "execution_count": 54
        }
      ]
    },
    {
      "cell_type": "code",
      "metadata": {
        "colab": {
          "base_uri": "https://localhost:8080/"
        },
        "id": "jJMiq7PwJZro",
        "outputId": "b877eac9-28bb-4ff3-de5f-00408536a30f"
      },
      "source": [
        "num_list2 * 3"
      ],
      "execution_count": null,
      "outputs": [
        {
          "output_type": "execute_result",
          "data": {
            "text/plain": [
              "[10, 20, 30, 10, 20, 30, 10, 20, 30]"
            ]
          },
          "metadata": {
            "tags": []
          },
          "execution_count": 55
        }
      ]
    },
    {
      "cell_type": "markdown",
      "metadata": {
        "id": "W_wzHOhPEYje"
      },
      "source": [
        "# NumPy(Numerical Python)\n",
        "\n",
        "* 배열(array)을 쉽고 빠르게 연산(+, -, *, /, ...)하기 위한 라이브러리 \n",
        "* NumPy 패키지의 대부분의 기능(함수, 메서드)들은 반복문의 기능을 가지고 있음. \n",
        "    * 같은 인덱스의 원소들끼리(element-wise) 연산을 수행. \n",
        "* np.ndarray 클래스: Numpy 패키지의 기본 데이터 타입. n-dimensional array(n차원 배열) \n"
      ]
    },
    {
      "cell_type": "code",
      "metadata": {
        "colab": {
          "base_uri": "https://localhost:8080/"
        },
        "id": "Q10Nr81wFqmG",
        "outputId": "c6e0aaca-e850-4831-928d-d1c1a5988732"
      },
      "source": [
        "num_list1 = [1, 2, 3]\n",
        "num_list2 = [10, 20, 30]\n",
        "#  같은 인덱스의 원소들끼리 더하기한 결과 \n",
        "add = [x+y for x, y in zip(num_list1, num_list2)]\n",
        "add"
      ],
      "execution_count": null,
      "outputs": [
        {
          "output_type": "execute_result",
          "data": {
            "text/plain": [
              "[11, 22, 33]"
            ]
          },
          "metadata": {
            "tags": []
          },
          "execution_count": 56
        }
      ]
    },
    {
      "cell_type": "code",
      "metadata": {
        "colab": {
          "base_uri": "https://localhost:8080/"
        },
        "id": "Va1vRWEiGLuw",
        "outputId": "2382c0ca-6a0c-4a8d-ab25-66ddf71da555"
      },
      "source": [
        "num_arr1 = np.array([1, 2, 3])\n",
        "print(type(num_arr1))\n",
        "print(num_arr1)"
      ],
      "execution_count": null,
      "outputs": [
        {
          "output_type": "stream",
          "text": [
            "<class 'numpy.ndarray'>\n",
            "[1 2 3]\n"
          ],
          "name": "stdout"
        }
      ]
    },
    {
      "cell_type": "code",
      "metadata": {
        "colab": {
          "base_uri": "https://localhost:8080/"
        },
        "id": "yz76_EPwHTzC",
        "outputId": "40302a55-118a-4f25-cbf7-b6f4601e247c"
      },
      "source": [
        "num_arr2 = np.array([10, 20, 30])\n",
        "print(num_arr2)"
      ],
      "execution_count": null,
      "outputs": [
        {
          "output_type": "stream",
          "text": [
            "[10 20 30]\n"
          ],
          "name": "stdout"
        }
      ]
    },
    {
      "cell_type": "code",
      "metadata": {
        "colab": {
          "base_uri": "https://localhost:8080/"
        },
        "id": "_dufYA-jHZff",
        "outputId": "17ec60ca-954c-4510-97fc-41334b936174"
      },
      "source": [
        "num_arr1 + num_arr2"
      ],
      "execution_count": null,
      "outputs": [
        {
          "output_type": "execute_result",
          "data": {
            "text/plain": [
              "array([11, 22, 33])"
            ]
          },
          "metadata": {
            "tags": []
          },
          "execution_count": 59
        }
      ]
    },
    {
      "cell_type": "code",
      "metadata": {
        "colab": {
          "base_uri": "https://localhost:8080/"
        },
        "id": "suOPVbpxHcV1",
        "outputId": "9e61be69-e197-4c31-af1f-1b1f5fba7346"
      },
      "source": [
        "num_arr1 + num_list2    # 암묵적으로 list를 array로 변환한 다음에 계산 "
      ],
      "execution_count": null,
      "outputs": [
        {
          "output_type": "execute_result",
          "data": {
            "text/plain": [
              "array([11, 22, 33])"
            ]
          },
          "metadata": {
            "tags": []
          },
          "execution_count": 60
        }
      ]
    },
    {
      "cell_type": "markdown",
      "metadata": {
        "id": "9nHdKWz9Mesi"
      },
      "source": [
        "scalar multiplication: `np.ndarray * number`, `number * np.ndarray`"
      ]
    },
    {
      "cell_type": "code",
      "metadata": {
        "colab": {
          "base_uri": "https://localhost:8080/"
        },
        "id": "Uc_UIdwYMdD_",
        "outputId": "69e04f5e-2564-4754-9080-dd02376d2407"
      },
      "source": [
        "num_arr1 * 3        # element-wise 연산 수행 "
      ],
      "execution_count": null,
      "outputs": [
        {
          "output_type": "execute_result",
          "data": {
            "text/plain": [
              "array([3, 6, 9])"
            ]
          },
          "metadata": {
            "tags": []
          },
          "execution_count": 61
        }
      ]
    },
    {
      "cell_type": "code",
      "metadata": {
        "colab": {
          "base_uri": "https://localhost:8080/"
        },
        "id": "hhOxbw7tNc2Z",
        "outputId": "d1d791c5-6ecd-4292-c41e-ed173aaa30ff"
      },
      "source": [
        "print(num_arr1, num_arr2)\n",
        "# np.dot() 함수 \n",
        "np.dot(num_arr1, num_arr2)    # dot product = 1* 10 + 2 * 20 + 3 * 30"
      ],
      "execution_count": null,
      "outputs": [
        {
          "output_type": "stream",
          "text": [
            "[1 2 3] [10 20 30]\n"
          ],
          "name": "stdout"
        },
        {
          "output_type": "execute_result",
          "data": {
            "text/plain": [
              "140"
            ]
          },
          "metadata": {
            "tags": []
          },
          "execution_count": 62
        }
      ]
    },
    {
      "cell_type": "code",
      "metadata": {
        "colab": {
          "base_uri": "https://localhost:8080/"
        },
        "id": "YNPakKCQOVsl",
        "outputId": "b11a8038-0316-41c9-85b7-81b6b105c3e2"
      },
      "source": [
        "# np.ndarray.dot() 매서드\n",
        "num_arr1.dot(num_arr2)"
      ],
      "execution_count": null,
      "outputs": [
        {
          "output_type": "execute_result",
          "data": {
            "text/plain": [
              "140"
            ]
          },
          "metadata": {
            "tags": []
          },
          "execution_count": 63
        }
      ]
    },
    {
      "cell_type": "markdown",
      "metadata": {
        "id": "9jc1TnjjPq-m"
      },
      "source": [
        "np.ndarray 클래스의 속성들(attributes)"
      ]
    },
    {
      "cell_type": "code",
      "metadata": {
        "colab": {
          "base_uri": "https://localhost:8080/"
        },
        "id": "545e6YTKPqqV",
        "outputId": "a1293f09-3c39-4b49-ec54-bf699fb3d223"
      },
      "source": [
        "print(num_arr1)\n",
        "print('ndim =', num_arr1.ndim)        # 차원(dimension)\n",
        "print('size =', num_arr1.size)            # size : 원소의 개수\n",
        "print('shape', num_arr1.shape)       # shape : 각 차원에서의 원소의 개수 \n",
        "print('dtype =', num_arr1.dtype)     # dtype : 배열의 원소들의 데이터 타입 "
      ],
      "execution_count": null,
      "outputs": [
        {
          "output_type": "stream",
          "text": [
            "[1 2 3]\n",
            "ndim = 1\n",
            "size = 3\n",
            "shape (3,)\n",
            "dtype = int64\n"
          ],
          "name": "stdout"
        }
      ]
    },
    {
      "cell_type": "markdown",
      "metadata": {
        "id": "DVmgql9BRYE9"
      },
      "source": [
        "\n",
        "* Python 숫자 타입\n",
        "    * `int` : 정수\n",
        "    * `float` : 실수\n",
        "* NumPy 숫자 타입\n",
        "    * 정수 : `int8`, `int16`, `int32`, `int64`, ... \n",
        "    * 실수 : `float16`, `float32`, `float64`, ..."
      ]
    },
    {
      "cell_type": "markdown",
      "metadata": {
        "id": "CCGnvANhTUmf"
      },
      "source": [
        "# 2차원 배열"
      ]
    },
    {
      "cell_type": "code",
      "metadata": {
        "colab": {
          "base_uri": "https://localhost:8080/"
        },
        "id": "Aw4skbAyRWqi",
        "outputId": "86079739-dd7d-4870-fc58-24474ad37b5c"
      },
      "source": [
        "arr_2d = np.array([[1, 2, 3], [4, 5, 6]])\n",
        "print(arr_2d)"
      ],
      "execution_count": null,
      "outputs": [
        {
          "output_type": "stream",
          "text": [
            "[[1 2 3]\n",
            " [4 5 6]]\n"
          ],
          "name": "stdout"
        }
      ]
    },
    {
      "cell_type": "code",
      "metadata": {
        "colab": {
          "base_uri": "https://localhost:8080/"
        },
        "id": "ijDVI-YeTqDT",
        "outputId": "f31ed897-d391-401c-93fa-d1339ab2ab41"
      },
      "source": [
        "print('nim =', arr_2d.ndim)\n",
        "print('size=', arr_2d.size)\n",
        "print('shape =', arr_2d.shape)\n",
        "print('dtype =', arr_2d.dtype)"
      ],
      "execution_count": null,
      "outputs": [
        {
          "output_type": "stream",
          "text": [
            "nim = 2\n",
            "size= 6\n",
            "shape = (2, 3)\n",
            "dtype = int64\n"
          ],
          "name": "stdout"
        }
      ]
    },
    {
      "cell_type": "code",
      "metadata": {
        "colab": {
          "base_uri": "https://localhost:8080/"
        },
        "id": "QxASXNgaPiXG",
        "outputId": "e413572a-a9f0-42e0-ac01-8229127c2a90"
      },
      "source": [
        "arr_2d_2 = np.array([[1, 1, 1], [2, 2, 2]])\n",
        "print(arr_2d_2)"
      ],
      "execution_count": null,
      "outputs": [
        {
          "output_type": "stream",
          "text": [
            "[[1 1 1]\n",
            " [2 2 2]]\n"
          ],
          "name": "stdout"
        }
      ]
    },
    {
      "cell_type": "code",
      "metadata": {
        "colab": {
          "base_uri": "https://localhost:8080/"
        },
        "id": "7J0w_MVHPi6B",
        "outputId": "f76c525f-d1d1-451d-9347-f028695a40de"
      },
      "source": [
        "print(arr_2d + arr_2d_2)"
      ],
      "execution_count": null,
      "outputs": [
        {
          "output_type": "stream",
          "text": [
            "[[2 3 4]\n",
            " [6 7 8]]\n"
          ],
          "name": "stdout"
        }
      ]
    },
    {
      "cell_type": "markdown",
      "metadata": {
        "id": "KgvY20rPRnML"
      },
      "source": [
        "2차원 ndarray의 dot product\n",
        "\n",
        "    * (n, m) @ (m, k) = (n, k)"
      ]
    },
    {
      "cell_type": "code",
      "metadata": {
        "colab": {
          "base_uri": "https://localhost:8080/"
        },
        "id": "m0s14rfzRsge",
        "outputId": "74ae7be1-d0bd-417a-ccec-c96b2bd6255c"
      },
      "source": [
        "arr1 = np.array([[1, 2, 3], \n",
        "                               [4, 5, 6]])\n",
        "arr2 = np.array([[1, 2],\n",
        "                               [3, 4], \n",
        "                               [5, 6]])\n",
        "print (np.dot(arr1, arr2))"
      ],
      "execution_count": null,
      "outputs": [
        {
          "output_type": "stream",
          "text": [
            "[[22 28]\n",
            " [49 64]]\n"
          ],
          "name": "stdout"
        }
      ]
    },
    {
      "cell_type": "code",
      "metadata": {
        "colab": {
          "base_uri": "https://localhost:8080/"
        },
        "id": "sO_0T_9xS5aP",
        "outputId": "b8391c22-f51a-4c92-eaa0-3e3b4402ae1b"
      },
      "source": [
        "print(np.dot(arr2, arr1))"
      ],
      "execution_count": null,
      "outputs": [
        {
          "output_type": "stream",
          "text": [
            "[[ 9 12 15]\n",
            " [19 26 33]\n",
            " [29 40 51]]\n"
          ],
          "name": "stdout"
        }
      ]
    },
    {
      "cell_type": "markdown",
      "metadata": {
        "id": "UDasvUM0TR3A"
      },
      "source": [
        "# np.ndarray 객체 생성 함수\n",
        "np.array(object)\n",
        "\n",
        "*       object: 배열과 비슷한 객체. list, tuple, ndarray, ..."
      ]
    },
    {
      "cell_type": "code",
      "metadata": {
        "colab": {
          "base_uri": "https://localhost:8080/"
        },
        "id": "i1riGU-4TdY4",
        "outputId": "3d926de6-a5f1-42cc-f106-6ce51f48715f"
      },
      "source": [
        "# 0 이상 10 이하의 짝수들로 이루어진 ndarray\n",
        "evens = np.array([2 * x for x in range(6)])\n",
        "print(evens)"
      ],
      "execution_count": null,
      "outputs": [
        {
          "output_type": "stream",
          "text": [
            "[ 0  2  4  6  8 10]\n"
          ],
          "name": "stdout"
        }
      ]
    },
    {
      "cell_type": "markdown",
      "metadata": {
        "id": "TjIPnn96ULCm"
      },
      "source": [
        "np.arange(start, end, step) \n",
        "\n",
        "*    range(start, end, step)사용 방법과 동일\n",
        "*    1차원 ndarray를 생성"
      ]
    },
    {
      "cell_type": "code",
      "metadata": {
        "colab": {
          "base_uri": "https://localhost:8080/"
        },
        "id": "pOifIDmOUUhS",
        "outputId": "8e83b659-d4a4-4388-8bb5-dcccdaf38935"
      },
      "source": [
        "odds = np.arange(1, 11, 2)\n",
        "print(odds)"
      ],
      "execution_count": null,
      "outputs": [
        {
          "output_type": "stream",
          "text": [
            "[1 3 5 7 9]\n"
          ],
          "name": "stdout"
        }
      ]
    },
    {
      "cell_type": "markdown",
      "metadata": {
        "id": "x7VcI7RbUboD"
      },
      "source": [
        "np.ndarray.reshape(shape) 메서드\n",
        "\n",
        "np.reshape(array, newshape) 함수"
      ]
    },
    {
      "cell_type": "code",
      "metadata": {
        "colab": {
          "base_uri": "https://localhost:8080/"
        },
        "id": "9Jhb4klvUhlV",
        "outputId": "4d4dccb8-e2fc-4277-ed75-ad636d8ec728"
      },
      "source": [
        "# 메서드\n",
        "arr = np.arange(12).reshape((3,4))      #shape은 1차원인 경우 정수, 2차원 이상인 경우 tuple로 전달\n",
        "print(arr)"
      ],
      "execution_count": null,
      "outputs": [
        {
          "output_type": "stream",
          "text": [
            "[[ 0  1  2  3]\n",
            " [ 4  5  6  7]\n",
            " [ 8  9 10 11]]\n"
          ],
          "name": "stdout"
        }
      ]
    },
    {
      "cell_type": "code",
      "metadata": {
        "colab": {
          "base_uri": "https://localhost:8080/"
        },
        "id": "JrBLzirgUwQ9",
        "outputId": "eb6e2b59-6825-4801-a777-fda0e77fff8d"
      },
      "source": [
        "arr_1d = np.arange(12)\n",
        "arr_2d = np.reshape(arr_1d, (4, 3))     # 함수\n",
        "print(arr_2d)"
      ],
      "execution_count": null,
      "outputs": [
        {
          "output_type": "stream",
          "text": [
            "[[ 0  1  2]\n",
            " [ 3  4  5]\n",
            " [ 6  7  8]\n",
            " [ 9 10 11]]\n"
          ],
          "name": "stdout"
        }
      ]
    },
    {
      "cell_type": "markdown",
      "metadata": {
        "id": "LIn9qA9QVE0u"
      },
      "source": [
        "np.random.rand(d0, d1, d2, ...)함수\n",
        "\n",
        "*   [0, 1) 범위의 균등분포(uniform distribution)을 따르는 난수들로 이루어진 ndarray를 생성\n",
        "*   d0, d1, d2, ...: ndarray의 각 차원의 원소의 개수"
      ]
    },
    {
      "cell_type": "code",
      "metadata": {
        "colab": {
          "base_uri": "https://localhost:8080/"
        },
        "id": "qgF543qfVVLb",
        "outputId": "c7f452c0-939b-4e50-8cbd-c7a3543ac36b"
      },
      "source": [
        "arr = np.random.rand(5)\n",
        "print(arr)"
      ],
      "execution_count": null,
      "outputs": [
        {
          "output_type": "stream",
          "text": [
            "[0.83396618 0.74141267 0.42122943 0.5441249  0.01102849]\n"
          ],
          "name": "stdout"
        }
      ]
    },
    {
      "cell_type": "code",
      "metadata": {
        "colab": {
          "base_uri": "https://localhost:8080/"
        },
        "id": "l321ypu9VsOt",
        "outputId": "2cbadff9-6546-46c9-b83a-584efeac2b94"
      },
      "source": [
        "arr = np.random.rand(3, 2)\n",
        "print(arr)"
      ],
      "execution_count": null,
      "outputs": [
        {
          "output_type": "stream",
          "text": [
            "[[0.44870271 0.48935744]\n",
            " [0.20705255 0.58667586]\n",
            " [0.65584031 0.76556051]]\n"
          ],
          "name": "stdout"
        }
      ]
    },
    {
      "cell_type": "markdown",
      "metadata": {
        "id": "70xovpm6V_w-"
      },
      "source": [
        "np.random.randn(d0, d1, ...)함수\n",
        "*     평균이 0이고 표준편차가 1인 표준정규분포(standard normal distribution)을 따르는 난수들의 배열을 생성\n",
        "*      d0, d1, ...: 배열의 각 차원의 원소의 개수"
      ]
    },
    {
      "cell_type": "code",
      "metadata": {
        "colab": {
          "base_uri": "https://localhost:8080/"
        },
        "id": "b4yZSAEQV1S9",
        "outputId": "d881a5cd-a397-4ff8-f29f-cf51abfbbc44"
      },
      "source": [
        "arr = np.random.randn(10)\n",
        "print(arr)"
      ],
      "execution_count": null,
      "outputs": [
        {
          "output_type": "stream",
          "text": [
            "[ 0.30894368 -0.69891863  0.56710481 -0.45829534  0.12875303  1.72188939\n",
            " -1.61277573  0.4288537   2.11822753 -0.5742162 ]\n"
          ],
          "name": "stdout"
        }
      ]
    },
    {
      "cell_type": "code",
      "metadata": {
        "colab": {
          "base_uri": "https://localhost:8080/"
        },
        "id": "Z2godZMKWakv",
        "outputId": "ae928ad4-c2c9-4527-b2cf-cd27f28062b0"
      },
      "source": [
        "arr = np.random.randn(2,3)\n",
        "print(arr)"
      ],
      "execution_count": null,
      "outputs": [
        {
          "output_type": "stream",
          "text": [
            "[[ 0.6994434   0.62024689  0.45460074]\n",
            " [-1.23015038  1.45281972  0.33765164]]\n"
          ],
          "name": "stdout"
        }
      ]
    },
    {
      "cell_type": "markdown",
      "metadata": {
        "id": "EKOicUWfWfT1"
      },
      "source": [
        "np.random.randint(low, high, size, dtype)함수\n",
        "*   [low, high) 범위의 균등분포를 따르는 정수 난수들의 배열을 생성\n",
        "*   size 파라미터는 ndarray의 shape을 정수 또는 tuple로 전달\n",
        "*   dtype: int8, int16, ..."
      ]
    },
    {
      "cell_type": "code",
      "metadata": {
        "colab": {
          "base_uri": "https://localhost:8080/"
        },
        "id": "a3y1PSo27ix9",
        "outputId": "821819ac-1dff-4e64-ca53-343509b07989"
      },
      "source": [
        "arr = np.random.randint(0, 10, size = 5)\n",
        "print(arr)"
      ],
      "execution_count": null,
      "outputs": [
        {
          "output_type": "stream",
          "text": [
            "[2 3 5 4 1]\n"
          ],
          "name": "stdout"
        }
      ]
    },
    {
      "cell_type": "code",
      "metadata": {
        "colab": {
          "base_uri": "https://localhost:8080/"
        },
        "id": "Y2B64cU87Tjz",
        "outputId": "98b951dc-0e02-41e2-aff3-9030001d17a8"
      },
      "source": [
        "np.random.seed(1)\n",
        "arr = np.random.randint(10, size=(2, 3))\n",
        "print(arr)"
      ],
      "execution_count": null,
      "outputs": [
        {
          "output_type": "stream",
          "text": [
            "[[5 8 9]\n",
            " [5 0 0]]\n"
          ],
          "name": "stdout"
        }
      ]
    },
    {
      "cell_type": "markdown",
      "metadata": {
        "id": "oHOjg8Rb79JC"
      },
      "source": [
        "# ndarray를 사용한 함수 그리기 "
      ]
    },
    {
      "cell_type": "code",
      "metadata": {
        "colab": {
          "base_uri": "https://localhost:8080/"
        },
        "id": "bFx_Ov0e7_R_",
        "outputId": "11b529c3-4600-4a00-bd03-127213f9a60c"
      },
      "source": [
        "x_points = np.arange(-5, 6) \n",
        "y_points = x_points ** 2       #(y = x **2)\n",
        "\n",
        "print(x_points)\n",
        "print(y_points)"
      ],
      "execution_count": null,
      "outputs": [
        {
          "output_type": "stream",
          "text": [
            "[-5 -4 -3 -2 -1  0  1  2  3  4  5]\n",
            "[25 16  9  4  1  0  1  4  9 16 25]\n"
          ],
          "name": "stdout"
        }
      ]
    },
    {
      "cell_type": "code",
      "metadata": {
        "colab": {
          "base_uri": "https://localhost:8080/",
          "height": 265
        },
        "id": "DClRvmxpW0B8",
        "outputId": "6bed41e9-323f-43b5-c765-eca2420b2143"
      },
      "source": [
        "plt.plot(x, y)\n",
        "plt.grid()\n",
        "plt.show()"
      ],
      "execution_count": null,
      "outputs": [
        {
          "output_type": "display_data",
          "data": {
            "image/png": "[encoded data removed]",
            "text/plain": [
              "<Figure size 432x288 with 1 Axes>"
            ]
          },
          "metadata": {
            "tags": [],
            "needs_background": "light"
          }
        }
      ]
    },
    {
      "cell_type": "code",
      "metadata": {
        "colab": {
          "base_uri": "https://localhost:8080/",
          "height": 265
        },
        "id": "CQXxaMilXUgY",
        "outputId": "edf2ccf9-8ce8-4a63-b49c-b98c8ee37d95"
      },
      "source": [
        "x = np.arange(-5, 5, 0.001)  # [-5, -4.999, -4.998, ..., 4.998, 4.999]\n",
        "y = x ** 2\n",
        "plt.plot(x, y)\n",
        "plt.grid()\n",
        "plt.show()"
      ],
      "execution_count": null,
      "outputs": [
        {
          "output_type": "display_data",
          "data": {
            "image/png": "[encoded data removed]",
            "text/plain": [
              "<Figure size 432x288 with 1 Axes>"
            ]
          },
          "metadata": {
            "tags": [],
            "needs_background": "light"
          }
        }
      ]
    },
    {
      "cell_type": "code",
      "metadata": {
        "colab": {
          "base_uri": "https://localhost:8080/",
          "height": 265
        },
        "id": "s55S9FDxXfmG",
        "outputId": "a70b7c4a-1db8-4154-d3bf-aeaea539d4a8"
      },
      "source": [
        "x = np.arange(-1.2, 1.2, 0.001)\n",
        "y = x ** 3 - x\n",
        "plt.plot(x, y)\n",
        "plt.grid()\n",
        "plt.show()"
      ],
      "execution_count": null,
      "outputs": [
        {
          "output_type": "display_data",
          "data": {
            "image/png": "[encoded data removed]",
            "text/plain": [
              "<Figure size 432x288 with 1 Axes>"
            ]
          },
          "metadata": {
            "tags": [],
            "needs_background": "light"
          }
        }
      ]
    }
  ]
}